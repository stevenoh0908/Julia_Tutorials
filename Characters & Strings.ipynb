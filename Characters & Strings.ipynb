{
 "cells": [
  {
   "cell_type": "markdown",
   "id": "bae64ed2",
   "metadata": {},
   "source": [
    "# Characters & Strings in Julia\n",
    "---\n",
    "* Created on 28 Aug 2023\n",
    "* Created by Yooshin Oh (stevenoh0908@snu.ac.kr)\n",
    "---\n",
    "* <span class=\"mark\">Documentation: https://docs.julialang.org/en/v1/manual/strings/</span>"
   ]
  },
  {
   "cell_type": "markdown",
   "id": "2339fe4e",
   "metadata": {},
   "source": [
    "## Introduction to Character Encoding"
   ]
  },
  {
   "cell_type": "markdown",
   "id": "e3572b3b",
   "metadata": {},
   "source": [
    "* C에서는 0 ~ 127의 1-byte Integer로 문자들을 Encoding하는 **ASCII** 규약이 있지만, ASCII 코드는 Non-english 문자들과 기타 여러 특수문자들을 표현하지 못하는 문제점이 있다.\n",
    "* 그래서 특수문자를 포함하여 전 세계의 모든 문자들을 표현하는 Encoding 체계인 [**Unicode**](https://en.wikipedia.org/wiki/Unicode) 표준이 있다."
   ]
  },
  {
   "cell_type": "markdown",
   "id": "f0dc0120",
   "metadata": {},
   "source": [
    "* Julia는 Traditional ASCII 코드는 물론, Unicode 표준도 Simple & Efficient하게 다룰 수 있도록 설계되어 있다.\n",
    "* Julia에서 C-프로그래밍을 하는 것처럼 ASCII 코드만을 고려하여 코드를 짜더라도, Non-ASCII 문자를 만나면 Silently Corrupting Result보다는 명확한 Error Message를 띄워주므로 편리하다."
   ]
  },
  {
   "cell_type": "markdown",
   "id": "907d2859",
   "metadata": {},
   "source": [
    "### Unicode 표준"
   ]
  },
  {
   "cell_type": "markdown",
   "id": "a2ef4f87",
   "metadata": {},
   "source": [
    "<img src=\"https://upload.wikimedia.org/wikipedia/commons/thumb/0/09/New_Unicode_logo.svg/375px-New_Unicode_logo.svg.png\" width=\"150\"/>"
   ]
  },
  {
   "cell_type": "markdown",
   "id": "33e70bba",
   "metadata": {},
   "source": [
    "* Unicode Consortium에서 제정한 전 세계 모든 언어들을 컴퓨터 내에서 표현하기 위한 Encoding 표준."
   ]
  },
  {
   "cell_type": "markdown",
   "id": "cab53e11",
   "metadata": {},
   "source": [
    "* 일반적인 언어들에서 사용되는 문자들은 물론, 최근에는 Emoji들도 Encoding한다."
   ]
  },
  {
   "cell_type": "markdown",
   "id": "ec9fcb2a",
   "metadata": {},
   "source": [
    "* Unicode Standard는 다음 3개의 Encoding을 주요 Encoding으로 제시한다.\n",
    "    * [UTF-8](https://en.wikipedia.org/wiki/UTF-8)\n",
    "    * [UTF-16](https://en.wikipedia.org/wiki/UTF-16)\n",
    "    * [UTF-32](https://en.wikipedia.org/wiki/UTF-32)\n",
    "\n",
    "이하에서는 주요 Format인 UTF-8 Encoding을 주로 정리해둔다."
   ]
  },
  {
   "cell_type": "markdown",
   "id": "918907c2",
   "metadata": {},
   "source": [
    "#### UTF-8 Encoding"
   ]
  },
  {
   "cell_type": "markdown",
   "id": "ee025ade",
   "metadata": {},
   "source": [
    "* **UTF-8 (Unicode Transformation Format - 8-bit)**은 Unicode 표준에서 정의된 Encoding Format으로, 흔히 ASCII Encoding을 Extend한 Format으로 널리 이용된다."
   ]
  },
  {
   "cell_type": "markdown",
   "id": "21f81535",
   "metadata": {},
   "source": [
    "* UTF-8 Encoding은 문자를 표현하는데 있어 고정된 byte 수를 사용하는 것이 아닌, 문자 범위에 따라 그 표현에 서로 다른 길이의 byte를 사용하는 **Variable-Length Character Encoding**을 채택하고 있다."
   ]
  },
  {
   "cell_type": "markdown",
   "id": "bb4541c9",
   "metadata": {},
   "source": [
    "* UTF-8 Encoding은 문자들을 표현하는데 있어, 1 ~ 4 byte를 사용한다. (Variable-Length Character Encoding)\n",
    "* UTF-8 Encoding은 ASCII Encoding과의 호환성을 염두에 두고 만들어졌기 때문에, 초기 128개 문자(First 128 Characters of Unicode)가 정확히 ASCII의 128개 문자(0 ~ 127)와 1:1 대응된다. 따라서 Valid ASCII Text는 자동으로 Valid UTF-8 Encoded Unicode Text가 된다."
   ]
  },
  {
   "cell_type": "markdown",
   "id": "79a9192c",
   "metadata": {},
   "source": [
    "**UTF-8 Encoding 방법**\n",
    "\n",
    "* UTF-8 표준에서는 문자의 고유 번호(Code-Point)의 범우에 따라, 각 문자를 1 ~ 4 byte로 다음과 같은 방식으로 Encoding한다.\n",
    "\n",
    "> **Code Point <-> UTF-8 Conversion**\n",
    ">\n",
    "> |First Code Point|Last Code Point|Byte 1|Byte 2|Byte 3|Byte 4|\n",
    "> |:----:|:----:|:---:|:---:|:---:|:---:|\n",
    "> |U+0000|U+007F|0xxxxxxx|None|None|None|\n",
    "> |U+0080|U+07FF|110xxxxx|10xxxxxx|None|None|\n",
    "> |U+0800|U+FFFF|1110xxxx|10xxxxxx|10xxxxxx|None|\n",
    "> |U+10000|U+10FFFF|11110xxx|10xxxxxx|10xxxxxx|10xxxxxx|\n",
    "\n",
    "* Code-Point에서 처음 128개 문자는 ASCII 문자들로, 1-byte로 Encoding된다.\n",
    "* 다음 1,920개의 문자들은 2-byte로 Encoding되며, Latin-script Alphabet, IPA(International Phonetic Alphabet) extensions, Greek, Cyrillic, Coptic, Armenian, Hebrew, Arabic, Syriac, Thaana, N'Ko Alphabets들을 다루고 있다.\n",
    "* 다음 61,440개의 문자들은 3-byte로 Encoding되며, Chinese, Japanese, Korean Character들이 다루어지고 있다.\n",
    "* 그 이외의 1,048,576 Code Point에 대응하는 Emoji들의 문자들이나 Mathematical Symbol등의 문자들은 4-byte로 Encoding된다.\n",
    "<br/><br/>\n",
    "* UTF-8은 임의의 Code-Point에 상응하는 문자를 다음과 같은 방식으로 Encoding한다.\n",
    "    1. Code-Point의 범위를 확인하고, Encoding에 이용할 byte-수를 결정한다.\n",
    "    2. 다음 규칙에 따라 Leading-bits를 결정한다.\n",
    "        * 1-byte Encoded인 경우 `0`\n",
    "        * 2-byte Encoded인 경우 `110`\n",
    "        * 3-byte Encoded인 경우 `1110`\n",
    "        * 4-byte Encoded인 경우 `11110`\n",
    "    3. Byte 2, 3, 4에서는 처음 2개 bit는 Continuing이라는 의미에서 `10`으로 시작한다.\n",
    "    3. Code-Point를 이진수로 표현한다. 앞에서 Leading-bits와 Continuing bits를 제외하고 남은 자리들의 개수에 맞도록 앞에 0을 붙인다.\n",
    "    4. Code-Point를 앞쪽 byte부터 순차대로 자리에 맞게 잘라서 집어넣는다.\n",
    "\n",
    "> **Encoding 예시**\n",
    ">\n",
    "> 1. Euro Sign 문자 `€`의 Unicode Code Point는 `U+20AC`이다.\n",
    "> 2. `U+20AC`는 `U+0800` ~ `U+FFFF` 사이에 있으므로, 3-byte Encoded Character이다.\n",
    "> 3. 따라서 Byte 1의 Leading-bits는 `1110`이 되고, byte 1에는 4자리가 남는다.\n",
    "> 4. Byte 2, 3의 경우 Continuing bits `10`을 제외하고 각 6자리가 남으므로, $4 + 6 + 6 = 16$ bit 자리가 있다. 따라서 `20AC`를 Binary Format으로 표현하되, 총 16자리가 되도록 표현하면 `0010 0000 1011 1101`이므로, 앞에서부터 각각 4자리, 6자리, 6자리 씩을 잘라서 다음과 같이 Encoding한다: `1110 0010 / 10 000010 / 10 111101` -> `1110 0010 1000 0010 1011 1101`"
   ]
  },
  {
   "cell_type": "markdown",
   "id": "64a176f2",
   "metadata": {},
   "source": [
    "## Julia의 문자열에 대한 주요 High-Level Feature"
   ]
  },
  {
   "cell_type": "markdown",
   "id": "e04f1a1c",
   "metadata": {},
   "source": [
    "* Julia는 Python과 유사하게 문자열이나 문자열 상수를 다루는데 있어서 Built-in Type인 `String` Type을 사용한다. 이 `String` 자료형은 모든 Unicode 문자를 `UTF-8` Encoding에 의해 기본적으로 처리한다. (`transcode` 내장함수를 이용하면 다른 Unicode Encoding (`UTF-16` or `UTF-32`) 으로 된 문자열들의 Encoding을 변경할 수 있다.\n",
    "* Julia에서의 String Type은 모두 `AbstractString`의 Child Type이다. 그리고 다른 Package에서 String을 다루는 경우, `AbstractString`을 Implement하는 경우가 대부분이므로 임의의 문자열을 처리하는 Function을 만들고자 하는 경우, 그 인자의 Type을 `AbstractString`으로 정의해주는 것이 훨씬 좋다.\n",
    "* C 계열 언어들과 유사하게, Julia는 Single Character를 표현하는 추상 자료형인 `AbstractChar`를 먼저 가지며, 그 밑에 Built-in Character Type인 `Char` 자료형이 있다. 이 `Char` 자료형은 UTF-8 인코딩에 따라 Unicode Character 1개를 표현하는 32-bit Primitive Type이다.\n",
    "* Java에서와 마찬가지로, Julia에서 String은 Immutable이다. 즉, `AbstractString` 객체들은 모두 Immutable하여, 그 값을 바꿀 수 없다. 따라서 다른 String Value를 가지도록 한다면, '새로 만들어서' 할당해야 한다."
   ]
  },
  {
   "cell_type": "markdown",
   "id": "cb7988d2",
   "metadata": {},
   "source": [
    "## Characters in Julia"
   ]
  },
  {
   "cell_type": "markdown",
   "id": "b26b0f87",
   "metadata": {},
   "source": [
    "* Julia의 `Char`는 UTF-8 Encoding에 따라 문자를 표현하는 4-byte Primitive Type으로, Special Leteral Representation과 Appropriate Arithmetic Behavior를 가지는 자료형으로, Unicode Code Point의 값(Numeric Value)로 Convert될 수 있는 자료형이다.\n",
    "    * 그러나 위에서 설명했듯, Julia Package는 `AbstractChar`의 다른 sub-type들을 정의하여 다른 Text-Encoding에 따른 Operation을 Optimization 시킬 수 있다.\n",
    "* 4-byte Fixed임에 주의하자. UTF-8 Encoding은 Variable-Length Encoding을 채택했지만, Julia의 `Char`는 4-byte를 이용한다. 즉, 1, 2, 3-byte Encoded인 경우 Leading bytes들을 모두 Zero로 채운다."
   ]
  },
  {
   "cell_type": "markdown",
   "id": "8426d5a6",
   "metadata": {},
   "source": [
    "* **Julia에서 문자 상수의 표현은 C 문법을 따른다. 즉, 문자고 문자열이고 모두 `''`, `\"\"`, `'''`나 `\"\"\"`를 사용하여 표현했던 Python과는 달리 문자 상수는 단따옴표 `''`로, 문자열 상수는 쌍따옴표 `\"\"`로 표현한다.**"
   ]
  },
  {
   "cell_type": "code",
   "execution_count": 1,
   "id": "534beb53",
   "metadata": {
    "ExecuteTime": {
     "end_time": "2023-08-28T23:32:39.921000+09:00",
     "start_time": "2023-08-28T14:32:37.431Z"
    }
   },
   "outputs": [
    {
     "data": {
      "text/plain": [
       "'x': ASCII/Unicode U+0078 (category Ll: Letter, lowercase)"
      ]
     },
     "execution_count": 1,
     "metadata": {},
     "output_type": "execute_result"
    }
   ],
   "source": [
    "c = 'x'"
   ]
  },
  {
   "cell_type": "code",
   "execution_count": 2,
   "id": "9fb3d4aa",
   "metadata": {
    "ExecuteTime": {
     "end_time": "2023-08-28T23:32:48.267000+09:00",
     "start_time": "2023-08-28T14:32:47.355Z"
    }
   },
   "outputs": [
    {
     "data": {
      "text/plain": [
       "Char"
      ]
     },
     "execution_count": 2,
     "metadata": {},
     "output_type": "execute_result"
    }
   ],
   "source": [
    "typeof(c)"
   ]
  },
  {
   "cell_type": "markdown",
   "id": "a2a4b6d3",
   "metadata": {},
   "source": [
    "* 위에서 설명한 대로, Julia의 `Char` Type은 그 Unicode Code Point에 상응하는 정수값으로 바꿀 수 있다."
   ]
  },
  {
   "cell_type": "code",
   "execution_count": 3,
   "id": "db173e04",
   "metadata": {
    "ExecuteTime": {
     "end_time": "2023-08-28T23:33:13.958000+09:00",
     "start_time": "2023-08-28T14:33:13.131Z"
    }
   },
   "outputs": [
    {
     "data": {
      "text/plain": [
       "120"
      ]
     },
     "execution_count": 3,
     "metadata": {},
     "output_type": "execute_result"
    }
   ],
   "source": [
    "c = Int('x')"
   ]
  },
  {
   "cell_type": "code",
   "execution_count": 4,
   "id": "ff3be4cd",
   "metadata": {
    "ExecuteTime": {
     "end_time": "2023-08-28T23:33:16.183000+09:00",
     "start_time": "2023-08-28T14:33:15.540Z"
    }
   },
   "outputs": [
    {
     "data": {
      "text/plain": [
       "Int64"
      ]
     },
     "execution_count": 4,
     "metadata": {},
     "output_type": "execute_result"
    }
   ],
   "source": [
    "typeof(c)"
   ]
  },
  {
   "cell_type": "markdown",
   "id": "ca8fd790",
   "metadata": {},
   "source": [
    "* 자명히 위 결과는 이 시스템이 64-bit Arch여서 `Int`의 기본 자료형이 `Int64`이기 때문에 `Int` 변환 결과가 `Int64`인 것이다. 32-bit Arch에서는 당연히 `Int32`로 될 것이다."
   ]
  },
  {
   "cell_type": "markdown",
   "id": "f496b4e2",
   "metadata": {},
   "source": [
    "* 모든 Integer Value가 Unicode Format에서 Valid한 것은 아니다. 그러나 Julia는 Performance를 위해 Int -> Char Conversion에서 Every Character가 Valid한지 확인하지는 않는다. 변환 이후 그 문자가 Valid한지 확인하기 위해서는, `isvalid(T, x)` 내장함수를 사용해야 한다."
   ]
  },
  {
   "cell_type": "code",
   "execution_count": 5,
   "id": "1cd6faf5",
   "metadata": {
    "ExecuteTime": {
     "end_time": "2023-08-28T23:35:08.226000+09:00",
     "start_time": "2023-08-28T14:35:07.541Z"
    }
   },
   "outputs": [
    {
     "data": {
      "text/plain": [
       "'x': ASCII/Unicode U+0078 (category Ll: Letter, lowercase)"
      ]
     },
     "execution_count": 5,
     "metadata": {},
     "output_type": "execute_result"
    }
   ],
   "source": [
    "Char(120)"
   ]
  },
  {
   "cell_type": "code",
   "execution_count": 6,
   "id": "4377d2a7",
   "metadata": {
    "ExecuteTime": {
     "end_time": "2023-08-28T23:35:12.921000+09:00",
     "start_time": "2023-08-28T14:35:12.216Z"
    }
   },
   "outputs": [
    {
     "data": {
      "text/plain": [
       "'\\U110000': Unicode U+110000 (category In: Invalid, too high)"
      ]
     },
     "execution_count": 6,
     "metadata": {},
     "output_type": "execute_result"
    }
   ],
   "source": [
    "Char(0x110000)"
   ]
  },
  {
   "cell_type": "code",
   "execution_count": 7,
   "id": "5fd00852",
   "metadata": {
    "ExecuteTime": {
     "end_time": "2023-08-28T23:35:21.395000+09:00",
     "start_time": "2023-08-28T14:35:20.567Z"
    }
   },
   "outputs": [
    {
     "data": {
      "text/plain": [
       "false"
      ]
     },
     "execution_count": 7,
     "metadata": {},
     "output_type": "execute_result"
    }
   ],
   "source": [
    "isvalid(Char, 0x110000)"
   ]
  },
  {
   "cell_type": "markdown",
   "id": "db173b67",
   "metadata": {},
   "source": [
    "* 문자 상수를 입력할 때, `\\u` Escape Sequence 뒤에 Unicode Code Point를 16진수로 입력하여 특정 문자를 지시할 수 있다. 소문자 `\\u` 뒤에는 최대 4개의 16진수 문자를, 대문자로 한 `\\U` 뒤에는 최대 8개의 16진수 문자를 쓸 수 있다. (그러나 UTF-8 Encoding에서 Valid한 Unicode 문자는 최대 6개의 16진수 문자로 표시됨: \\U10FFFF`에 주의하자)"
   ]
  },
  {
   "cell_type": "code",
   "execution_count": 8,
   "id": "ee588a60",
   "metadata": {
    "ExecuteTime": {
     "end_time": "2023-08-28T23:37:50.912000+09:00",
     "start_time": "2023-08-28T14:37:50.247Z"
    }
   },
   "outputs": [
    {
     "data": {
      "text/plain": [
       "'\\0': ASCII/Unicode U+0000 (category Cc: Other, control)"
      ]
     },
     "execution_count": 8,
     "metadata": {},
     "output_type": "execute_result"
    }
   ],
   "source": [
    "'\\u0' # U+0000"
   ]
  },
  {
   "cell_type": "code",
   "execution_count": 9,
   "id": "d973489b",
   "metadata": {
    "ExecuteTime": {
     "end_time": "2023-08-28T23:37:58.131000+09:00",
     "start_time": "2023-08-28T14:37:57.487Z"
    }
   },
   "outputs": [
    {
     "data": {
      "text/plain": [
       "'x': ASCII/Unicode U+0078 (category Ll: Letter, lowercase)"
      ]
     },
     "execution_count": 9,
     "metadata": {},
     "output_type": "execute_result"
    }
   ],
   "source": [
    "'\\u78' # U+0078"
   ]
  },
  {
   "cell_type": "code",
   "execution_count": 10,
   "id": "cede6941",
   "metadata": {
    "ExecuteTime": {
     "end_time": "2023-08-28T23:38:06.770000+09:00",
     "start_time": "2023-08-28T14:38:06.127Z"
    }
   },
   "outputs": [
    {
     "data": {
      "text/plain": [
       "'∀': Unicode U+2200 (category Sm: Symbol, math)"
      ]
     },
     "execution_count": 10,
     "metadata": {},
     "output_type": "execute_result"
    }
   ],
   "source": [
    "'\\u2200' # U+2200"
   ]
  },
  {
   "cell_type": "code",
   "execution_count": 11,
   "id": "2aee2e27",
   "metadata": {
    "ExecuteTime": {
     "end_time": "2023-08-28T23:38:18.499000+09:00",
     "start_time": "2023-08-28T14:38:17.392Z"
    }
   },
   "outputs": [
    {
     "data": {
      "text/plain": [
       "'\\U10ffff': Unicode U+10FFFF (category Cn: Other, not assigned)"
      ]
     },
     "execution_count": 11,
     "metadata": {},
     "output_type": "execute_result"
    }
   ],
   "source": [
    "'\\U10ffff' # U+10FFFF"
   ]
  },
  {
   "cell_type": "markdown",
   "id": "58b24bb6",
   "metadata": {},
   "source": [
    "* Unicode Escape Form 외에도, C에서 사용하던 Traditional Escape Sequence들을 그대로 사용할 수 있다."
   ]
  },
  {
   "cell_type": "code",
   "execution_count": 12,
   "id": "888f7983",
   "metadata": {
    "ExecuteTime": {
     "end_time": "2023-08-28T23:39:04.673000+09:00",
     "start_time": "2023-08-28T14:39:04.012Z"
    }
   },
   "outputs": [
    {
     "data": {
      "text/plain": [
       "0"
      ]
     },
     "execution_count": 12,
     "metadata": {},
     "output_type": "execute_result"
    }
   ],
   "source": [
    "Int('\\0') # Null Char (U+0000)"
   ]
  },
  {
   "cell_type": "code",
   "execution_count": 13,
   "id": "47d0427c",
   "metadata": {
    "ExecuteTime": {
     "end_time": "2023-08-28T23:39:13.161000+09:00",
     "start_time": "2023-08-28T14:39:12.516Z"
    }
   },
   "outputs": [
    {
     "data": {
      "text/plain": [
       "9"
      ]
     },
     "execution_count": 13,
     "metadata": {},
     "output_type": "execute_result"
    }
   ],
   "source": [
    "Int('\\t') # Tab Char"
   ]
  },
  {
   "cell_type": "code",
   "execution_count": 14,
   "id": "3b08d3f9",
   "metadata": {
    "ExecuteTime": {
     "end_time": "2023-08-28T23:39:19.154000+09:00",
     "start_time": "2023-08-28T14:39:18.509Z"
    }
   },
   "outputs": [
    {
     "data": {
      "text/plain": [
       "10"
      ]
     },
     "execution_count": 14,
     "metadata": {},
     "output_type": "execute_result"
    }
   ],
   "source": [
    "Int('\\n') # New Line"
   ]
  },
  {
   "cell_type": "code",
   "execution_count": 15,
   "id": "81b9b4c4",
   "metadata": {
    "ExecuteTime": {
     "end_time": "2023-08-28T23:39:27.682000+09:00",
     "start_time": "2023-08-28T14:39:27.036Z"
    }
   },
   "outputs": [
    {
     "data": {
      "text/plain": [
       "27"
      ]
     },
     "execution_count": 15,
     "metadata": {},
     "output_type": "execute_result"
    }
   ],
   "source": [
    "Int('\\e')"
   ]
  },
  {
   "cell_type": "code",
   "execution_count": 16,
   "id": "d9512b4f",
   "metadata": {
    "ExecuteTime": {
     "end_time": "2023-08-28T23:39:44.638000+09:00",
     "start_time": "2023-08-28T14:39:43.993Z"
    }
   },
   "outputs": [
    {
     "data": {
      "text/plain": [
       "127"
      ]
     },
     "execution_count": 16,
     "metadata": {},
     "output_type": "execute_result"
    }
   ],
   "source": [
    "Int('\\x7f') # hexadecimal format expression"
   ]
  },
  {
   "cell_type": "code",
   "execution_count": 17,
   "id": "997d8581",
   "metadata": {
    "ExecuteTime": {
     "end_time": "2023-08-28T23:39:55.500000+09:00",
     "start_time": "2023-08-28T14:39:54.853Z"
    }
   },
   "outputs": [
    {
     "data": {
      "text/plain": [
       "127"
      ]
     },
     "execution_count": 17,
     "metadata": {},
     "output_type": "execute_result"
    }
   ],
   "source": [
    "Int('\\177') # octal format expression"
   ]
  },
  {
   "cell_type": "markdown",
   "id": "57e8e16d",
   "metadata": {},
   "source": [
    "* C에서 ASCII 코드에 따라 그러했던 것처럼, Julia의 경우도 `Char` type의 모든 문자들은 UTF-8 Encoding을 따르는 문자들이므로 정수형 자료라, 그 값을 비교할 수 있으며 동시에 정수와 연산할 수 있다."
   ]
  },
  {
   "cell_type": "code",
   "execution_count": 18,
   "id": "cbb71691",
   "metadata": {
    "ExecuteTime": {
     "end_time": "2023-08-28T23:40:32.950000+09:00",
     "start_time": "2023-08-28T14:40:32.300Z"
    }
   },
   "outputs": [
    {
     "data": {
      "text/plain": [
       "true"
      ]
     },
     "execution_count": 18,
     "metadata": {},
     "output_type": "execute_result"
    }
   ],
   "source": [
    "'A' < 'a'"
   ]
  },
  {
   "cell_type": "code",
   "execution_count": 19,
   "id": "ae2a2c01",
   "metadata": {
    "ExecuteTime": {
     "end_time": "2023-08-28T23:40:37.724000+09:00",
     "start_time": "2023-08-28T14:40:37.018Z"
    }
   },
   "outputs": [
    {
     "data": {
      "text/plain": [
       "false"
      ]
     },
     "execution_count": 19,
     "metadata": {},
     "output_type": "execute_result"
    }
   ],
   "source": [
    "'A' <= 'a' <= 'Z'"
   ]
  },
  {
   "cell_type": "code",
   "execution_count": 20,
   "id": "d538c948",
   "metadata": {
    "ExecuteTime": {
     "end_time": "2023-08-28T23:40:42.823000+09:00",
     "start_time": "2023-08-28T14:40:42.177Z"
    }
   },
   "outputs": [
    {
     "data": {
      "text/plain": [
       "true"
      ]
     },
     "execution_count": 20,
     "metadata": {},
     "output_type": "execute_result"
    }
   ],
   "source": [
    "'A' <= 'X' <= 'Z'"
   ]
  },
  {
   "cell_type": "code",
   "execution_count": 21,
   "id": "503ed2b9",
   "metadata": {
    "ExecuteTime": {
     "end_time": "2023-08-28T23:40:45.242000+09:00",
     "start_time": "2023-08-28T14:40:44.594Z"
    }
   },
   "outputs": [
    {
     "data": {
      "text/plain": [
       "23"
      ]
     },
     "execution_count": 21,
     "metadata": {},
     "output_type": "execute_result"
    }
   ],
   "source": [
    "'x' - 'a'"
   ]
  },
  {
   "cell_type": "code",
   "execution_count": 22,
   "id": "9a87b134",
   "metadata": {
    "ExecuteTime": {
     "end_time": "2023-08-28T23:40:47.496000+09:00",
     "start_time": "2023-08-28T14:40:46.846Z"
    }
   },
   "outputs": [
    {
     "data": {
      "text/plain": [
       "'B': ASCII/Unicode U+0042 (category Lu: Letter, uppercase)"
      ]
     },
     "execution_count": 22,
     "metadata": {},
     "output_type": "execute_result"
    }
   ],
   "source": [
    "'A' + 1"
   ]
  },
  {
   "cell_type": "markdown",
   "id": "15d79fe3",
   "metadata": {},
   "source": [
    "## Strings in Julia"
   ]
  },
  {
   "cell_type": "markdown",
   "id": "5fc7e9dd",
   "metadata": {},
   "source": [
    "### String Basics"
   ]
  },
  {
   "cell_type": "markdown",
   "id": "3957df05",
   "metadata": {},
   "source": [
    "* Julia에서 **문자열 상수(String literals)는 Double Quote(`\"\"`)나 Triple Double Quote(`\"\"\"`)로 표현된다.**"
   ]
  },
  {
   "cell_type": "code",
   "execution_count": 23,
   "id": "8f0f9e56",
   "metadata": {
    "ExecuteTime": {
     "end_time": "2023-08-28T23:42:33.774000+09:00",
     "start_time": "2023-08-28T14:42:32.900Z"
    }
   },
   "outputs": [
    {
     "data": {
      "text/plain": [
       "\"Hello, world.\\n\""
      ]
     },
     "execution_count": 23,
     "metadata": {},
     "output_type": "execute_result"
    }
   ],
   "source": [
    "str = \"Hello, world.\\n\""
   ]
  },
  {
   "cell_type": "code",
   "execution_count": 24,
   "id": "81a6d2df",
   "metadata": {
    "ExecuteTime": {
     "end_time": "2023-08-28T23:42:41.366000+09:00",
     "start_time": "2023-08-28T14:42:40.698Z"
    }
   },
   "outputs": [
    {
     "data": {
      "text/plain": [
       "\"Contains \\\"quote\\\" characters\""
      ]
     },
     "execution_count": 24,
     "metadata": {},
     "output_type": "execute_result"
    }
   ],
   "source": [
    "\"\"\"Contains \"quote\" characters\"\"\""
   ]
  },
  {
   "cell_type": "markdown",
   "id": "1edf3090",
   "metadata": {},
   "source": [
    "* 위와 같이 Python에서처럼 내부의 Double quote를 유지시키기 위해 Triple Double Quote를 사용하여 문자열 상수를 표현할 수 ㅣㅇㅆ다."
   ]
  },
  {
   "cell_type": "markdown",
   "id": "0c515685",
   "metadata": {},
   "source": [
    "* 긴 문자열의 경우 Backslash(`\\`) 뒤에 줄을 바꿈으로서 계속 이어나갈 수 있다. (단, 이 기능은 IJulia에서는 지원하지 않는다.)"
   ]
  },
  {
   "cell_type": "code",
   "execution_count": 29,
   "id": "62cce5ff",
   "metadata": {
    "ExecuteTime": {
     "end_time": "2023-08-28T23:44:11.817000+09:00",
     "start_time": "2023-08-28T14:44:11.169Z"
    },
    "scrolled": true
   },
   "outputs": [
    {
     "ename": "LoadError",
     "evalue": "\u001b[91msyntax: invalid escape sequence\u001b[39m",
     "output_type": "error",
     "traceback": [
      "\u001b[91msyntax: invalid escape sequence\u001b[39m",
      ""
     ]
    }
   ],
   "source": [
    "\"This is a long \\\n",
    "line\""
   ]
  },
  {
   "cell_type": "markdown",
   "id": "8a132e27",
   "metadata": {},
   "source": [
    "### String Indexing"
   ]
  },
  {
   "cell_type": "markdown",
   "id": "37322916",
   "metadata": {},
   "source": [
    "* Python이나 C와 마찬가지로, String의 각 위치의 Character에 `[]`를 사용한 Indexing으로 접근할 수 있다. **단, Matlab과 같이 Julia에서 Index는 1로 시작함에 주의한다.**"
   ]
  },
  {
   "cell_type": "markdown",
   "id": "03b84743",
   "metadata": {},
   "source": [
    "* Python과는 달리, Julia에서는 처음 Index와 마지막 Index를 지시하기 위해 `begin` 키워드와 `end` 키워드를 사용할 수 있다."
   ]
  },
  {
   "cell_type": "code",
   "execution_count": 31,
   "id": "e6449062",
   "metadata": {
    "ExecuteTime": {
     "end_time": "2023-08-28T23:49:46.986000+09:00",
     "start_time": "2023-08-28T14:49:46.334Z"
    }
   },
   "outputs": [
    {
     "data": {
      "text/plain": [
       "'H': ASCII/Unicode U+0048 (category Lu: Letter, uppercase)"
      ]
     },
     "execution_count": 31,
     "metadata": {},
     "output_type": "execute_result"
    }
   ],
   "source": [
    "str = \"Hello, World.\\n\"\n",
    "str[begin]"
   ]
  },
  {
   "cell_type": "code",
   "execution_count": 32,
   "id": "951d2e5c",
   "metadata": {
    "ExecuteTime": {
     "end_time": "2023-08-28T23:50:11.179000+09:00",
     "start_time": "2023-08-28T14:50:10.527Z"
    }
   },
   "outputs": [
    {
     "data": {
      "text/plain": [
       "'H': ASCII/Unicode U+0048 (category Lu: Letter, uppercase)"
      ]
     },
     "execution_count": 32,
     "metadata": {},
     "output_type": "execute_result"
    }
   ],
   "source": [
    "str = \"Hello, World.\\n\"\n",
    "str[1] # <=> str[begin]. Note that the index is starting from 1 in Julia, not zero."
   ]
  },
  {
   "cell_type": "code",
   "execution_count": 33,
   "id": "da3d08e9",
   "metadata": {
    "ExecuteTime": {
     "end_time": "2023-08-28T23:50:27.142000+09:00",
     "start_time": "2023-08-28T14:50:26.489Z"
    }
   },
   "outputs": [
    {
     "data": {
      "text/plain": [
       "',': ASCII/Unicode U+002C (category Po: Punctuation, other)"
      ]
     },
     "execution_count": 33,
     "metadata": {},
     "output_type": "execute_result"
    }
   ],
   "source": [
    "str = \"Hello, World.\\n\"\n",
    "str[6]"
   ]
  },
  {
   "cell_type": "code",
   "execution_count": 34,
   "id": "5ffe0223",
   "metadata": {
    "ExecuteTime": {
     "end_time": "2023-08-28T23:51:05.928000+09:00",
     "start_time": "2023-08-28T14:51:05.274Z"
    }
   },
   "outputs": [
    {
     "data": {
      "text/plain": [
       "'\\n': ASCII/Unicode U+000A (category Cc: Other, control)"
      ]
     },
     "execution_count": 34,
     "metadata": {},
     "output_type": "execute_result"
    }
   ],
   "source": [
    "str = \"Hello, World.\\n\"\n",
    "str[end]"
   ]
  },
  {
   "cell_type": "markdown",
   "id": "65fb856d",
   "metadata": {},
   "source": [
    "* String이나 배열 등 Integer로 Indexing 가능한 Julia Object들은 내장함수 `firstindex(indexable)`이나 `lastindex(indexable)`로 First Element Index나 Last Element Index를 Get할 수 있다.\n",
    "* C와는 달리 `String` 자료형은 Last Index가 NULL Char가 아니다."
   ]
  },
  {
   "cell_type": "code",
   "execution_count": 35,
   "id": "30ac15cd",
   "metadata": {
    "ExecuteTime": {
     "end_time": "2023-08-28T23:52:33.400000+09:00",
     "start_time": "2023-08-28T14:52:32.746Z"
    }
   },
   "outputs": [
    {
     "data": {
      "text/plain": [
       "1"
      ]
     },
     "execution_count": 35,
     "metadata": {},
     "output_type": "execute_result"
    }
   ],
   "source": [
    "str = \"Hello, World.\\n\"\n",
    "firstindex(str)"
   ]
  },
  {
   "cell_type": "code",
   "execution_count": 36,
   "id": "f5287149",
   "metadata": {
    "ExecuteTime": {
     "end_time": "2023-08-28T23:52:54.268000+09:00",
     "start_time": "2023-08-28T14:52:53.613Z"
    }
   },
   "outputs": [
    {
     "data": {
      "text/plain": [
       "14"
      ]
     },
     "execution_count": 36,
     "metadata": {},
     "output_type": "execute_result"
    }
   ],
   "source": [
    "str = \"Hello, World.\\n\"\n",
    "lastindex(str)"
   ]
  },
  {
   "cell_type": "markdown",
   "id": "a0a5387a",
   "metadata": {},
   "source": [
    "* `length` 내장함수를 이용하여 문자열의 길이를 측정할 수 있다. 당연히 결과는 1부터 Indexing이 시작하는 Julia의 특성상 `lastindex`의 실행 결과와 대부분 같다. 물론 Code Unit들을 여러 개 차지하는 Unicode 문자들이 있을 수 있어, 이들까지 고려한 `length` 내장함수로 문자열의 길이를 측정해주는 것이 훨씬 낫다."
   ]
  },
  {
   "cell_type": "code",
   "execution_count": 38,
   "id": "de98d4cc",
   "metadata": {
    "ExecuteTime": {
     "end_time": "2023-08-28T23:55:20.725000+09:00",
     "start_time": "2023-08-28T14:55:20.069Z"
    }
   },
   "outputs": [
    {
     "data": {
      "text/plain": [
       "14"
      ]
     },
     "execution_count": 38,
     "metadata": {},
     "output_type": "execute_result"
    }
   ],
   "source": [
    "str = \"Hello, World.\\n\"\n",
    "length(str)"
   ]
  },
  {
   "cell_type": "markdown",
   "id": "a72c382b",
   "metadata": {},
   "source": [
    "* Julia에서 Indexable한 Object에서 Indexing에 사용하는 `begin`, `end` 키워드는 마치 상수처럼 동작하기 때문에, Indexing Operator `[]` 내부에서 연산할 수 있다."
   ]
  },
  {
   "cell_type": "code",
   "execution_count": 39,
   "id": "4ecb59f5",
   "metadata": {
    "ExecuteTime": {
     "end_time": "2023-08-28T23:56:22.659000+09:00",
     "start_time": "2023-08-28T14:56:21.986Z"
    }
   },
   "outputs": [
    {
     "data": {
      "text/plain": [
       "'.': ASCII/Unicode U+002E (category Po: Punctuation, other)"
      ]
     },
     "execution_count": 39,
     "metadata": {},
     "output_type": "execute_result"
    }
   ],
   "source": [
    "str = \"Hello, World.\\n\"\n",
    "str[end-1]"
   ]
  },
  {
   "cell_type": "code",
   "execution_count": 40,
   "id": "fd048aec",
   "metadata": {
    "ExecuteTime": {
     "end_time": "2023-08-28T23:56:37.479000+09:00",
     "start_time": "2023-08-28T14:56:36.821Z"
    }
   },
   "outputs": [
    {
     "data": {
      "text/plain": [
       "' ': ASCII/Unicode U+0020 (category Zs: Separator, space)"
      ]
     },
     "execution_count": 40,
     "metadata": {},
     "output_type": "execute_result"
    }
   ],
   "source": [
    "str = \"Hello, World.\\n\"\n",
    "str[end÷2]"
   ]
  },
  {
   "cell_type": "markdown",
   "id": "8c2f25e9",
   "metadata": {},
   "source": [
    "* 범위를 벗어나는 Indexing을 시도하면 (begin보다 작거나, end보다 큰 index를 사용한 Indexing을 시도하면) `BoundsError`가 raise된다."
   ]
  },
  {
   "cell_type": "code",
   "execution_count": 41,
   "id": "e887dbd2",
   "metadata": {
    "ExecuteTime": {
     "end_time": "2023-08-28T23:57:24.601000+09:00",
     "start_time": "2023-08-28T14:57:23.351Z"
    }
   },
   "outputs": [
    {
     "ename": "BoundsError",
     "evalue": "\u001b[91mBoundsError: attempt to access String\u001b[39m\n\u001b[91m  at index [0]\u001b[39m",
     "output_type": "error",
     "traceback": [
      "\u001b[91mBoundsError: attempt to access String\u001b[39m\n\u001b[91m  at index [0]\u001b[39m",
      "",
      "Stacktrace:",
      " [1] checkbounds at ./strings/basic.jl:194 [inlined]",
      " [2] codeunit at ./strings/string.jl:89 [inlined]",
      " [3] getindex(::String, ::Int64) at ./strings/string.jl:210",
      " [4] top-level scope at In[41]:2"
     ]
    }
   ],
   "source": [
    "str = \"Hello, World.\\n\"\n",
    "str[begin-1]"
   ]
  },
  {
   "cell_type": "code",
   "execution_count": 42,
   "id": "cb0cc0ba",
   "metadata": {
    "ExecuteTime": {
     "end_time": "2023-08-28T23:57:33.751000+09:00",
     "start_time": "2023-08-28T14:57:33.086Z"
    }
   },
   "outputs": [
    {
     "ename": "BoundsError",
     "evalue": "\u001b[91mBoundsError: attempt to access String\u001b[39m\n\u001b[91m  at index [15]\u001b[39m",
     "output_type": "error",
     "traceback": [
      "\u001b[91mBoundsError: attempt to access String\u001b[39m\n\u001b[91m  at index [15]\u001b[39m",
      "",
      "Stacktrace:",
      " [1] checkbounds at ./strings/basic.jl:194 [inlined]",
      " [2] codeunit at ./strings/string.jl:89 [inlined]",
      " [3] getindex(::String, ::Int64) at ./strings/string.jl:210",
      " [4] top-level scope at In[42]:2"
     ]
    }
   ],
   "source": [
    "str = \"Hello, World.\\n\"\n",
    "str[end+1]"
   ]
  },
  {
   "cell_type": "markdown",
   "id": "945e3706",
   "metadata": {},
   "source": [
    "### String Slicing"
   ]
  },
  {
   "cell_type": "markdown",
   "id": "693e5375",
   "metadata": {},
   "source": [
    "* Python의 문법과 유사하게, Julia에서도 String을 Slicing할 수 있다. 그러나 Index가 Julia에서는 1부터 시작함에 주의한다.\n",
    "* 단, **Python의 Slicing과는 달리, 끝 부분도 Slicing에 들어간다.**"
   ]
  },
  {
   "cell_type": "code",
   "execution_count": 43,
   "id": "b8164dfe",
   "metadata": {
    "ExecuteTime": {
     "end_time": "2023-08-29T19:17:42.138000+09:00",
     "start_time": "2023-08-29T10:17:38.786Z"
    }
   },
   "outputs": [
    {
     "data": {
      "text/plain": [
       "\"lo, Wo\""
      ]
     },
     "execution_count": 43,
     "metadata": {},
     "output_type": "execute_result"
    }
   ],
   "source": [
    "str = \"Hello, World.\\n\"\n",
    "str[4:9] # Substring from 4th char to 9-th char"
   ]
  },
  {
   "cell_type": "markdown",
   "id": "44b6ff3f",
   "metadata": {},
   "source": [
    "* Julia에서 `String` 자료형을 Indexing하면 `Char`로 문자 1개가 반환되지만, `String` 자료형을 Slicing하면 `String`이 반환됨에 주의."
   ]
  },
  {
   "cell_type": "code",
   "execution_count": 44,
   "id": "02d3e7b5",
   "metadata": {
    "ExecuteTime": {
     "end_time": "2023-08-29T19:19:06.444000+09:00",
     "start_time": "2023-08-29T10:19:04.914Z"
    }
   },
   "outputs": [
    {
     "data": {
      "text/plain": [
       "',': ASCII/Unicode U+002C (category Po: Punctuation, other)"
      ]
     },
     "execution_count": 44,
     "metadata": {},
     "output_type": "execute_result"
    }
   ],
   "source": [
    "str = \"Hello, World.\\n\"\n",
    "str[6] # Returns Char"
   ]
  },
  {
   "cell_type": "code",
   "execution_count": 45,
   "id": "fcb7eb6c",
   "metadata": {
    "ExecuteTime": {
     "end_time": "2023-08-29T19:19:19.527000+09:00",
     "start_time": "2023-08-29T10:19:18.193Z"
    }
   },
   "outputs": [
    {
     "data": {
      "text/plain": [
       "\",\""
      ]
     },
     "execution_count": 45,
     "metadata": {},
     "output_type": "execute_result"
    }
   ],
   "source": [
    "str = \"Hello, World.\\n\"\n",
    "str[6:6] # Returns String"
   ]
  },
  {
   "cell_type": "markdown",
   "id": "84951748",
   "metadata": {},
   "source": [
    "* Range Indexing(Slicing)을 쓰는 경우, 해당 부분 문자열을 원래 String에서 Copy하여 새로운 String을 만들어 반환한다. 그러다 이 대신에 부분 문자열을 Copy하지 않고, Original String에서 일부만 '보는' 식으로도 접근할 수 있다.\n",
    "* `SubString` 객체 생성자를 이용하면 이미 있는 `String`에서 부분 문자열을 복사해내지 않고서도 이미 있는 `String`에서 일부만 추출할 수 있다. (*Alternatively, It is possible to create a view into a string, using the type `SubString`.*)\n",
    "* `SubString` 생성자는 다음의 양식을 가진다: `SubString(String, start_idx, end_idx)`"
   ]
  },
  {
   "cell_type": "code",
   "execution_count": 46,
   "id": "913ec20e",
   "metadata": {
    "ExecuteTime": {
     "end_time": "2023-08-29T19:21:49.355000+09:00",
     "start_time": "2023-08-29T10:21:45.988Z"
    }
   },
   "outputs": [
    {
     "data": {
      "text/plain": [
       "\"long\""
      ]
     },
     "execution_count": 46,
     "metadata": {},
     "output_type": "execute_result"
    }
   ],
   "source": [
    "str = \"long string\"\n",
    "substr = SubString(str, 1, 4)"
   ]
  },
  {
   "cell_type": "code",
   "execution_count": 47,
   "id": "3756ff3f",
   "metadata": {
    "ExecuteTime": {
     "end_time": "2023-08-29T19:22:16.606000+09:00",
     "start_time": "2023-08-29T10:22:15.242Z"
    }
   },
   "outputs": [
    {
     "data": {
      "text/plain": [
       "SubString{String}"
      ]
     },
     "execution_count": 47,
     "metadata": {},
     "output_type": "execute_result"
    }
   ],
   "source": [
    "typeof(substr)"
   ]
  },
  {
   "cell_type": "markdown",
   "id": "5e754a5d",
   "metadata": {},
   "source": [
    "* `@views` 매크로를 사용하면 String에 대한 Slicing 결과물을 `SubString` 객체로 바꿀 수 있다."
   ]
  },
  {
   "cell_type": "code",
   "execution_count": 50,
   "id": "e10add35",
   "metadata": {
    "ExecuteTime": {
     "end_time": "2023-08-29T19:23:02.422000+09:00",
     "start_time": "2023-08-29T10:23:01.085Z"
    }
   },
   "outputs": [
    {
     "data": {
      "text/plain": [
       "String"
      ]
     },
     "execution_count": 50,
     "metadata": {},
     "output_type": "execute_result"
    }
   ],
   "source": [
    "@views typeof(str[1:4])"
   ]
  },
  {
   "cell_type": "markdown",
   "id": "8fb47575",
   "metadata": {},
   "source": [
    "<span class=\"burk\">**Note**</span> IJulia에서는 `@views` 매크로가 제대로 먹히지 않는다. Julia REPL에서 위 코드를 실행하면 `SubString{String}`으로 정확히 나온다."
   ]
  },
  {
   "cell_type": "markdown",
   "id": "aca29b89",
   "metadata": {},
   "source": [
    "### Unicode (UTF-8) in Julia String"
   ]
  },
  {
   "cell_type": "markdown",
   "id": "6dfddd91",
   "metadata": {},
   "source": [
    "* Julia는 앞서 설명한 바대로 Unicode 표준을 따르는 String을 지원한다."
   ]
  },
  {
   "cell_type": "markdown",
   "id": "e1d1188b",
   "metadata": {},
   "source": [
    "#### 문자열 상수 내에서 Unicode 문자 사용법"
   ]
  },
  {
   "cell_type": "markdown",
   "id": "c8b25ae5",
   "metadata": {},
   "source": [
    "* `\\u`를 사용하여 문자열 상수 내에서 Unicode 문자를 4자리 hexadecimal code point를 이용해 표현할 수 있다.\n",
    "* `\\U`를 사용하여 문자열 상수 내에서 Unicode 문자를 8자리 (그러나 실질적으로는 6자리) hexadecimal code point를 이용해 표현할 수 있다."
   ]
  },
  {
   "cell_type": "code",
   "execution_count": 51,
   "id": "37f34f97",
   "metadata": {
    "ExecuteTime": {
     "end_time": "2023-08-29T19:26:33.721000+09:00",
     "start_time": "2023-08-29T10:26:32.380Z"
    }
   },
   "outputs": [
    {
     "data": {
      "text/plain": [
       "\"∀ x ∃ y\""
      ]
     },
     "execution_count": 51,
     "metadata": {},
     "output_type": "execute_result"
    }
   ],
   "source": [
    "s = \"\\u2200 x \\u2203 y\""
   ]
  },
  {
   "cell_type": "markdown",
   "id": "d45672cb",
   "metadata": {},
   "source": [
    "#### Julia에서 String Index와 Code Units"
   ]
  },
  {
   "cell_type": "markdown",
   "id": "f938a750",
   "metadata": {},
   "source": [
    "* Julia에서 `String` 자료형에서 각각의 Index는 UTF-8 Encoding에서 Unicode 표준을 따르는 문자열의 각 Code Units (1 byte)을 지시한다. 따라서 Variable-length Encoding을 채택하는 UTF-8 Encoding에서, `String`의 어떤 Index는 유효한 문자의 시작이 아닐 수도 있다.\n",
    "    * 이를테면, 3-byte 문자의 경우 3개 Index에 걸쳐 저장되므로, 이 중 1개만 유효한 문자 시작 Index이고, 그 이외는 유효하지 않은 문자 시작 Index가 된다."
   ]
  },
  {
   "cell_type": "markdown",
   "id": "1b4abd9f",
   "metadata": {},
   "source": [
    "* Julia UTF-8 `String`을 Indexing할 때, 유효하지 않은 문자의 Code Unit을 Indexing하면 `StringIndexError`가 raise가 된다."
   ]
  },
  {
   "cell_type": "code",
   "execution_count": 52,
   "id": "1d1cecec",
   "metadata": {
    "ExecuteTime": {
     "end_time": "2023-08-29T20:08:39.587000+09:00",
     "start_time": "2023-08-29T11:08:38.191Z"
    }
   },
   "outputs": [
    {
     "data": {
      "text/plain": [
       "'∀': Unicode U+2200 (category Sm: Symbol, math)"
      ]
     },
     "execution_count": 52,
     "metadata": {},
     "output_type": "execute_result"
    }
   ],
   "source": [
    "s = \"\\u2200 x \\u2203 y\"\n",
    "s[1] # \\u2200은 U+2200으로 3-byte 문자로 s[1], s[2], s[3]에 걸쳐 저장된다."
   ]
  },
  {
   "cell_type": "code",
   "execution_count": 53,
   "id": "4304be9b",
   "metadata": {
    "ExecuteTime": {
     "end_time": "2023-08-29T20:09:07.276000+09:00",
     "start_time": "2023-08-29T11:09:05.005Z"
    }
   },
   "outputs": [
    {
     "ename": "StringIndexError",
     "evalue": "\u001b[91mStringIndexError(\"∀ x ∃ y\", 2)\u001b[39m",
     "output_type": "error",
     "traceback": [
      "\u001b[91mStringIndexError(\"∀ x ∃ y\", 2)\u001b[39m",
      "",
      "Stacktrace:",
      " [1] string_index_err(::String, ::Int64) at ./strings/string.jl:12",
      " [2] getindex_continued(::String, ::Int64, ::UInt32) at ./strings/string.jl:220",
      " [3] getindex(::String, ::Int64) at ./strings/string.jl:213",
      " [4] top-level scope at In[53]:1"
     ]
    }
   ],
   "source": [
    "s[2]"
   ]
  },
  {
   "cell_type": "code",
   "execution_count": 54,
   "id": "6a14c50b",
   "metadata": {
    "ExecuteTime": {
     "end_time": "2023-08-29T20:09:07.996000+09:00",
     "start_time": "2023-08-29T11:09:06.609Z"
    }
   },
   "outputs": [
    {
     "ename": "StringIndexError",
     "evalue": "\u001b[91mStringIndexError(\"∀ x ∃ y\", 3)\u001b[39m",
     "output_type": "error",
     "traceback": [
      "\u001b[91mStringIndexError(\"∀ x ∃ y\", 3)\u001b[39m",
      "",
      "Stacktrace:",
      " [1] string_index_err(::String, ::Int64) at ./strings/string.jl:12",
      " [2] getindex_continued(::String, ::Int64, ::UInt32) at ./strings/string.jl:220",
      " [3] getindex(::String, ::Int64) at ./strings/string.jl:213",
      " [4] top-level scope at In[54]:1"
     ]
    }
   ],
   "source": [
    "s[3]"
   ]
  },
  {
   "cell_type": "code",
   "execution_count": 55,
   "id": "0799af95",
   "metadata": {
    "ExecuteTime": {
     "end_time": "2023-08-29T20:09:40.665000+09:00",
     "start_time": "2023-08-29T11:09:39.292Z"
    }
   },
   "outputs": [
    {
     "data": {
      "text/plain": [
       "' ': ASCII/Unicode U+0020 (category Zs: Separator, space)"
      ]
     },
     "execution_count": 55,
     "metadata": {},
     "output_type": "execute_result"
    }
   ],
   "source": [
    "s = \"\\u2200 x \\u2203 y\"\n",
    "s[4] # 따라서 4번째 byte가 다음 유효한 문자로 Blank 문자이다. 이는 ASCII 문자로 1-byte 차지."
   ]
  },
  {
   "cell_type": "markdown",
   "id": "6d4cfbb9",
   "metadata": {},
   "source": [
    "* UTF-8 Encoding으로 된 문자열에서 다음 유효한 문자의 Code Unit에 상응하는 Index는 내장함수 `nextind(String, start_index, count)`를 사용하여 구할 수 있다."
   ]
  },
  {
   "cell_type": "code",
   "execution_count": 56,
   "id": "92c4f8b7",
   "metadata": {
    "ExecuteTime": {
     "end_time": "2023-08-29T20:16:43.774000+09:00",
     "start_time": "2023-08-29T11:16:42.393Z"
    }
   },
   "outputs": [
    {
     "data": {
      "text/plain": [
       "4"
      ]
     },
     "execution_count": 56,
     "metadata": {},
     "output_type": "execute_result"
    }
   ],
   "source": [
    "s = \"\\u2200 x \\u2203 y\"\n",
    "# s[1]이 첫 문자 \\u2200의 시작 Code Unit이므로, 그 이후의 문자인 ' '의 시작 위치를 알려면 nextind(s, 1)을 쓰면 된다.\n",
    "nextind(s, 1)"
   ]
  },
  {
   "cell_type": "code",
   "execution_count": 58,
   "id": "7f50835c",
   "metadata": {
    "ExecuteTime": {
     "end_time": "2023-08-29T20:17:41.004000+09:00",
     "start_time": "2023-08-29T11:17:39.630Z"
    }
   },
   "outputs": [
    {
     "data": {
      "text/plain": [
       "5"
      ]
     },
     "execution_count": 58,
     "metadata": {},
     "output_type": "execute_result"
    }
   ],
   "source": [
    "s = \"\\u2200 x \\u2203 y\"\n",
    "# s[4]가 두 번째 문자 ' ' 의 시작 Code Unit이므로, 그 이후의 문자인 'x'의 시작 위치를 얻으려면 nextind(s, 4)로.\n",
    "nextind(s, 4)"
   ]
  },
  {
   "cell_type": "code",
   "execution_count": 63,
   "id": "bf8c83c7",
   "metadata": {
    "ExecuteTime": {
     "end_time": "2023-08-29T20:22:42.542000+09:00",
     "start_time": "2023-08-29T11:22:41.054Z"
    }
   },
   "outputs": [
    {
     "data": {
      "text/plain": [
       "' ': ASCII/Unicode U+0020 (category Zs: Separator, space)"
      ]
     },
     "execution_count": 63,
     "metadata": {},
     "output_type": "execute_result"
    }
   ],
   "source": [
    "s = \"\\u2200 x \\u2203 y\"\n",
    "# 첫 번째 문자에서 3개 뒤의 유효 문자를 얻으려면 인덱스를 nextind(s, begin, 3)\n",
    "s[nextind(s, begin, 3)]"
   ]
  },
  {
   "cell_type": "markdown",
   "id": "0541dab0",
   "metadata": {},
   "source": [
    "* UTF-8 Encoding에도 불구하고, **Indexing에서 `end`를 사용하면 항상 문자열에서 가장 마지막의 유효한 문자의 시작 Index를 지시한다.** (*`end` is always the last valid index into a collection*)\n",
    "* 마찬가지로 `lastindex(String)`은 UTF-8 Encoding이어도 마지막으로 유효한 문자의 시작 Index를 돌려준다."
   ]
  },
  {
   "cell_type": "code",
   "execution_count": 59,
   "id": "e738ddc9",
   "metadata": {
    "ExecuteTime": {
     "end_time": "2023-08-29T20:18:51.354000+09:00",
     "start_time": "2023-08-29T11:18:49.982Z"
    }
   },
   "outputs": [
    {
     "data": {
      "text/plain": [
       "'y': ASCII/Unicode U+0079 (category Ll: Letter, lowercase)"
      ]
     },
     "execution_count": 59,
     "metadata": {},
     "output_type": "execute_result"
    }
   ],
   "source": [
    "s = \"\\u2200 x \\u2203 y\"\n",
    "s[end]"
   ]
  },
  {
   "cell_type": "code",
   "execution_count": 60,
   "id": "856c45a8",
   "metadata": {
    "ExecuteTime": {
     "end_time": "2023-08-29T20:19:09.324000+09:00",
     "start_time": "2023-08-29T11:19:07.951Z"
    }
   },
   "outputs": [
    {
     "data": {
      "text/plain": [
       "' ': ASCII/Unicode U+0020 (category Zs: Separator, space)"
      ]
     },
     "execution_count": 60,
     "metadata": {},
     "output_type": "execute_result"
    }
   ],
   "source": [
    "s[end-1] # Valid"
   ]
  },
  {
   "cell_type": "code",
   "execution_count": 61,
   "id": "1cd89e55",
   "metadata": {
    "ExecuteTime": {
     "end_time": "2023-08-29T20:19:11.430000+09:00",
     "start_time": "2023-08-29T11:19:10.042Z"
    }
   },
   "outputs": [
    {
     "ename": "StringIndexError",
     "evalue": "\u001b[91mStringIndexError(\"∀ x ∃ y\", 9)\u001b[39m",
     "output_type": "error",
     "traceback": [
      "\u001b[91mStringIndexError(\"∀ x ∃ y\", 9)\u001b[39m",
      "",
      "Stacktrace:",
      " [1] string_index_err(::String, ::Int64) at ./strings/string.jl:12",
      " [2] getindex_continued(::String, ::Int64, ::UInt32) at ./strings/string.jl:220",
      " [3] getindex(::String, ::Int64) at ./strings/string.jl:213",
      " [4] top-level scope at In[61]:1"
     ]
    }
   ],
   "source": [
    "s[end-2]"
   ]
  },
  {
   "cell_type": "markdown",
   "id": "aafbe1de",
   "metadata": {},
   "source": [
    "* `prevind(String, start_index, count)`는 문자열 `String`에서 `start_index` 이전의 유효한 `count` 번째 Index를 돌려준다."
   ]
  },
  {
   "cell_type": "code",
   "execution_count": 62,
   "id": "15ca4e02",
   "metadata": {
    "ExecuteTime": {
     "end_time": "2023-08-29T20:21:39.604000+09:00",
     "start_time": "2023-08-29T11:21:38.232Z"
    }
   },
   "outputs": [
    {
     "data": {
      "text/plain": [
       "'∃': Unicode U+2203 (category Sm: Symbol, math)"
      ]
     },
     "execution_count": 62,
     "metadata": {},
     "output_type": "execute_result"
    }
   ],
   "source": [
    "s[prevind(s, end, 2)]  # 문자열 s에서 끝 문자에서 2개 이전의 문자 get"
   ]
  },
  {
   "cell_type": "markdown",
   "id": "4789b8cf",
   "metadata": {},
   "source": [
    "* 이렇기 때문에 UTF-8으로 Encoding된 `String` 자료에 대하여, 유효하지 않은 Byte까지 포함하여 Slicing을 행하면 `StringIndexError`가 raise된다."
   ]
  },
  {
   "cell_type": "code",
   "execution_count": 64,
   "id": "ab8871ef",
   "metadata": {
    "ExecuteTime": {
     "end_time": "2023-08-29T20:23:47.715000+09:00",
     "start_time": "2023-08-29T11:23:46.341Z"
    }
   },
   "outputs": [
    {
     "data": {
      "text/plain": [
       "\"∀\""
      ]
     },
     "execution_count": 64,
     "metadata": {},
     "output_type": "execute_result"
    }
   ],
   "source": [
    "s = \"\\u2200 x \\u2203 y\"\n",
    "s[1:1]"
   ]
  },
  {
   "cell_type": "code",
   "execution_count": 65,
   "id": "df5bd22e",
   "metadata": {
    "ExecuteTime": {
     "end_time": "2023-08-29T20:23:59.824000+09:00",
     "start_time": "2023-08-29T11:23:58.404Z"
    }
   },
   "outputs": [
    {
     "ename": "StringIndexError",
     "evalue": "\u001b[91mStringIndexError(\"∀ x ∃ y\", 2)\u001b[39m",
     "output_type": "error",
     "traceback": [
      "\u001b[91mStringIndexError(\"∀ x ∃ y\", 2)\u001b[39m",
      "",
      "Stacktrace:",
      " [1] string_index_err(::String, ::Int64) at ./strings/string.jl:12",
      " [2] getindex(::String, ::UnitRange{Int64}) at ./strings/string.jl:250",
      " [3] top-level scope at In[65]:1"
     ]
    }
   ],
   "source": [
    "s[1:2]"
   ]
  },
  {
   "cell_type": "code",
   "execution_count": 66,
   "id": "feecf9a5",
   "metadata": {
    "ExecuteTime": {
     "end_time": "2023-08-29T20:24:04.327000+09:00",
     "start_time": "2023-08-29T11:24:02.942Z"
    }
   },
   "outputs": [
    {
     "ename": "StringIndexError",
     "evalue": "\u001b[91mStringIndexError(\"∀ x ∃ y\", 3)\u001b[39m",
     "output_type": "error",
     "traceback": [
      "\u001b[91mStringIndexError(\"∀ x ∃ y\", 3)\u001b[39m",
      "",
      "Stacktrace:",
      " [1] string_index_err(::String, ::Int64) at ./strings/string.jl:12",
      " [2] getindex(::String, ::UnitRange{Int64}) at ./strings/string.jl:250",
      " [3] top-level scope at In[66]:1"
     ]
    }
   ],
   "source": [
    "s[1:3]"
   ]
  },
  {
   "cell_type": "code",
   "execution_count": 67,
   "id": "fb124383",
   "metadata": {
    "ExecuteTime": {
     "end_time": "2023-08-29T20:24:08.691000+09:00",
     "start_time": "2023-08-29T11:24:07.317Z"
    }
   },
   "outputs": [
    {
     "data": {
      "text/plain": [
       "\"∀ \""
      ]
     },
     "execution_count": 67,
     "metadata": {},
     "output_type": "execute_result"
    }
   ],
   "source": [
    "s[1:4]"
   ]
  },
  {
   "cell_type": "markdown",
   "id": "7482c743",
   "metadata": {},
   "source": [
    "* UTF-8 Encoding은 Variable-Length Encoding이기 때문에, `String`에서 `length(String)`을 이용해 얻은 문자의 개수 결과는 항상 `lastindex(String)`과 같다는 보장이 없다. 모든 문자가 ASCII 문자인 경우에만 두 함수의 결과가 같다. 따라서, `length(String) <= lastindex(String)`의 관계식이 항상 성립한다."
   ]
  },
  {
   "cell_type": "code",
   "execution_count": 69,
   "id": "dc056376",
   "metadata": {
    "ExecuteTime": {
     "end_time": "2023-08-29T20:26:35.904000+09:00",
     "start_time": "2023-08-29T11:26:34.523Z"
    },
    "scrolled": true
   },
   "outputs": [
    {
     "name": "stdout",
     "output_type": "stream",
     "text": [
      "∀\n",
      " \n",
      "x\n",
      " \n",
      "∃\n",
      " \n",
      "y\n"
     ]
    }
   ],
   "source": [
    "# UTF-8 Encoding으로 된 문자는 다음과 같은 Indexing으로 접근하면 안 된다. Indexing으로 접근해도 괜찮은 경우는 모든 문자가 1-byte ASCII 문자들인 경우뿐이다.\n",
    "s = \"\\u2200 x \\u2203 y\"\n",
    "for i = firstindex(s):lastindex(s)\n",
    "    try\n",
    "        println(s[i])\n",
    "    catch\n",
    "        # ignore the index error\n",
    "    end\n",
    "end"
   ]
  },
  {
   "cell_type": "markdown",
   "id": "4658d390",
   "metadata": {},
   "source": [
    "* 그러나 일반적으로는 Python-like하게 다음과 같이 순회하는 것이 일반적이다."
   ]
  },
  {
   "cell_type": "code",
   "execution_count": 70,
   "id": "0fc73b01",
   "metadata": {
    "ExecuteTime": {
     "end_time": "2023-08-29T20:27:12.273000+09:00",
     "start_time": "2023-08-29T11:27:10.894Z"
    }
   },
   "outputs": [
    {
     "name": "stdout",
     "output_type": "stream",
     "text": [
      "∀\n",
      " \n",
      "x\n",
      " \n",
      "∃\n",
      " \n",
      "y\n"
     ]
    }
   ],
   "source": [
    "for c in s\n",
    "    println(c)\n",
    "end"
   ]
  },
  {
   "cell_type": "markdown",
   "id": "5045c76d",
   "metadata": {},
   "source": [
    "* 위에서 설명한 UTF-8 Encoding의 Variable Length Encoding 때문에, 문자열 `String`을 조작하고자 하는 경우, Index를 1씩 증가 / 감소시키는 것이 아니라 `prevind()`나 `nextind()`를 사용해야 한다. 하지만 이들 내장함수 외에도, **`eachindex()` 내장함수를 사용하여 문자열에서 Valid한 문자 Index를 1차원 Vector로 가져올 수 있다.**"
   ]
  },
  {
   "cell_type": "code",
   "execution_count": 71,
   "id": "ca2e3859",
   "metadata": {
    "ExecuteTime": {
     "end_time": "2023-08-29T20:28:35.078000+09:00",
     "start_time": "2023-08-29T11:28:32.779Z"
    }
   },
   "outputs": [
    {
     "data": {
      "text/plain": [
       "7-element Array{Int64,1}:\n",
       "  1\n",
       "  4\n",
       "  5\n",
       "  6\n",
       "  7\n",
       " 10\n",
       " 11"
      ]
     },
     "execution_count": 71,
     "metadata": {},
     "output_type": "execute_result"
    }
   ],
   "source": [
    "s = \"\\u2200 x \\u2203 y\"\n",
    "collect(eachindex(s))"
   ]
  },
  {
   "cell_type": "code",
   "execution_count": 72,
   "id": "a3ac518b",
   "metadata": {
    "ExecuteTime": {
     "end_time": "2023-08-29T20:28:38.647000+09:00",
     "start_time": "2023-08-29T11:28:37.073Z"
    }
   },
   "outputs": [
    {
     "data": {
      "text/plain": [
       "Base.EachStringIndex{String}(\"∀ x ∃ y\")"
      ]
     },
     "execution_count": 72,
     "metadata": {},
     "output_type": "execute_result"
    }
   ],
   "source": [
    "eachindex(s)"
   ]
  },
  {
   "cell_type": "markdown",
   "id": "55e2a36b",
   "metadata": {},
   "source": [
    "#### UTF-8 String에서 Code Unit Accessing"
   ]
  },
  {
   "cell_type": "markdown",
   "id": "9973a959",
   "metadata": {},
   "source": [
    "* UTF-8 Encoded String에서, `codeunit(String, index)`를 사용하면 index에 상응하는 Code Unit 1 byte를 16진수로 얻을 수 있다."
   ]
  },
  {
   "cell_type": "code",
   "execution_count": 77,
   "id": "23f8c375",
   "metadata": {
    "ExecuteTime": {
     "end_time": "2023-08-29T20:39:05.540000+09:00",
     "start_time": "2023-08-29T11:39:04.160Z"
    }
   },
   "outputs": [
    {
     "data": {
      "text/plain": [
       "0xe2"
      ]
     },
     "execution_count": 77,
     "metadata": {},
     "output_type": "execute_result"
    }
   ],
   "source": [
    "s = \"\\u2200 x \\u2203 y\"\n",
    "# 위 s를 UTF-8 Encoding에 따라 변환하면 다음과 같다.\n",
    "# \\u2200: 3-byte, U+2200 -> 0010 0010 0000 0000\n",
    "# ' ': 1-byte, U+0020 -> 0000 0000 0010 0000\n",
    "# 'x': 1-byte, U+0078 -> 0000 0000 0111 1000\n",
    "# ' ': 1-byte, U+0020 -> 0000 0000 0010 0000\n",
    "# \\u2203: 3-byte, u+2203 -> 0010 0010 0000 0011\n",
    "# ' ': 1-byte, U+0020 -> 0000 0000 0010 0000\n",
    "# 'y': 1-byte, U+0079 -> 000 0000 0111 1001\n",
    "# 따라서 UTF-8로 Encoding하면 각 문자는:\n",
    "# \\u2200: 1110 0010 1000 1000 1000 0000 -> 0xe2 0x88 0x80\n",
    "# ' ': 0010 0000 -> 0x20\n",
    "# 'x': 0111 1000 -> 0x78\n",
    "# ' ': 0010 0000 -> 0x20\n",
    "# \\u2203: 1110 0010 1000 1000 1000 0011 -> 0xe2 0x88 0x83\n",
    "# ' ': 0010 0000 -> 0x20\n",
    "# 'y': 0111 1001 -> 0x79\n",
    "# 따라서 총 s의 Byte Sequence는 다음과 같다:\n",
    "# 0xe2 0x88 0x80 0x20 0x78 0x20 0xe2 0x88 0x83 0x20 0x79\n",
    "codeunit(s, 1) # 따라서 1번째 Code Unit은 0xe2"
   ]
  },
  {
   "cell_type": "code",
   "execution_count": 78,
   "id": "e7474b93",
   "metadata": {
    "ExecuteTime": {
     "end_time": "2023-08-29T20:39:17.556000+09:00",
     "start_time": "2023-08-29T11:39:16.165Z"
    }
   },
   "outputs": [
    {
     "data": {
      "text/plain": [
       "0x88"
      ]
     },
     "execution_count": 78,
     "metadata": {},
     "output_type": "execute_result"
    }
   ],
   "source": [
    "# 2번째 Code Unit은 0x88\n",
    "codeunit(s, 2)"
   ]
  },
  {
   "cell_type": "markdown",
   "id": "87ed70d8",
   "metadata": {},
   "source": [
    "* `ncodeunits(String)`을 이용해 문자열 `String`의 Code Unit의 개수를 얻을 수도 있고, `codeunits(String)` 내장함수를 이용해 모든 문자열 `String`의 Code Unit을 `AbstractVector{UInt8}` 자료형으로 얻을 수도 있다."
   ]
  },
  {
   "cell_type": "code",
   "execution_count": 79,
   "id": "4aa0fd79",
   "metadata": {
    "ExecuteTime": {
     "end_time": "2023-08-29T20:40:57.369000+09:00",
     "start_time": "2023-08-29T11:40:55.988Z"
    }
   },
   "outputs": [
    {
     "data": {
      "text/plain": [
       "11"
      ]
     },
     "execution_count": 79,
     "metadata": {},
     "output_type": "execute_result"
    }
   ],
   "source": [
    "ncodeunits(s)"
   ]
  },
  {
   "cell_type": "code",
   "execution_count": 80,
   "id": "8eeac6be",
   "metadata": {
    "ExecuteTime": {
     "end_time": "2023-08-29T20:41:04.751000+09:00",
     "start_time": "2023-08-29T11:41:01.866Z"
    }
   },
   "outputs": [
    {
     "data": {
      "text/plain": [
       "11-element Base.CodeUnits{UInt8,String}:\n",
       " 0xe2\n",
       " 0x88\n",
       " 0x80\n",
       " 0x20\n",
       " 0x78\n",
       " 0x20\n",
       " 0xe2\n",
       " 0x88\n",
       " 0x83\n",
       " 0x20\n",
       " 0x79"
      ]
     },
     "execution_count": 80,
     "metadata": {},
     "output_type": "execute_result"
    }
   ],
   "source": [
    "codeunits(s)"
   ]
  },
  {
   "cell_type": "markdown",
   "id": "6a287bee",
   "metadata": {},
   "source": [
    "#### Invalid Code Units for `String` In Julia"
   ]
  },
  {
   "cell_type": "markdown",
   "id": "c159cafc",
   "metadata": {},
   "source": [
    "* Julia의 `String`은 Invalid한 Code Unit이 들어갈 수도 있다.\n",
    "* 이 경우 Julia는 `Char` 자료형이 그러하듯 Invalid하다고 표기해준다. 마찬가지로 `isvalid` 내장함수로 유효성을 검사할 수 있다."
   ]
  },
  {
   "cell_type": "code",
   "execution_count": 81,
   "id": "d346937e",
   "metadata": {
    "ExecuteTime": {
     "end_time": "2023-08-29T20:42:54.980000+09:00",
     "start_time": "2023-08-29T11:42:53.599Z"
    }
   },
   "outputs": [
    {
     "data": {
      "text/plain": [
       "\"\\xc0\\xa0\\xe2\\x88\\xe2|\""
      ]
     },
     "execution_count": 81,
     "metadata": {},
     "output_type": "execute_result"
    }
   ],
   "source": [
    "s = \"\\xc0\\xa0\\xe2\\x88\\xe2|\""
   ]
  },
  {
   "cell_type": "code",
   "execution_count": 82,
   "id": "22d77910",
   "metadata": {
    "ExecuteTime": {
     "end_time": "2023-08-29T20:43:50.291000+09:00",
     "start_time": "2023-08-29T11:43:48.375Z"
    }
   },
   "outputs": [
    {
     "data": {
      "text/plain": [
       "'\\xc0\\xa0': [overlong] ASCII/Unicode U+0020 (category Zs: Separator, space)"
      ]
     },
     "metadata": {},
     "output_type": "display_data"
    },
    {
     "data": {
      "text/plain": [
       "'\\xe2\\x88': Malformed UTF-8 (category Ma: Malformed, bad data)"
      ]
     },
     "metadata": {},
     "output_type": "display_data"
    },
    {
     "data": {
      "text/plain": [
       "'\\xe2': Malformed UTF-8 (category Ma: Malformed, bad data)"
      ]
     },
     "metadata": {},
     "output_type": "display_data"
    },
    {
     "data": {
      "text/plain": [
       "'|': ASCII/Unicode U+007C (category Sm: Symbol, math)"
      ]
     },
     "metadata": {},
     "output_type": "display_data"
    }
   ],
   "source": [
    "foreach(display, s)"
   ]
  },
  {
   "cell_type": "code",
   "execution_count": 83,
   "id": "08fa0a4a",
   "metadata": {
    "ExecuteTime": {
     "end_time": "2023-08-29T20:44:27.458000+09:00",
     "start_time": "2023-08-29T11:44:25.009Z"
    }
   },
   "outputs": [
    {
     "data": {
      "text/plain": [
       "4-element BitArray{1}:\n",
       " 0\n",
       " 0\n",
       " 0\n",
       " 1"
      ]
     },
     "execution_count": 83,
     "metadata": {},
     "output_type": "execute_result"
    }
   ],
   "source": [
    "isvalid.(collect(s)) # Element-wise Function Call (. operation syntax)"
   ]
  },
  {
   "cell_type": "code",
   "execution_count": 84,
   "id": "20683837",
   "metadata": {
    "ExecuteTime": {
     "end_time": "2023-08-29T20:44:44.683000+09:00",
     "start_time": "2023-08-29T11:44:43.301Z"
    }
   },
   "outputs": [
    {
     "data": {
      "text/plain": [
       "'\\U1fffff': Unicode U+1FFFFF (category In: Invalid, too high)"
      ]
     },
     "metadata": {},
     "output_type": "display_data"
    }
   ],
   "source": [
    "s2 = \"\\xf7\\xbf\\xbf\\xbf\"\n",
    "foreach(display, s2)"
   ]
  },
  {
   "cell_type": "markdown",
   "id": "aafedb28",
   "metadata": {},
   "source": [
    "### String Concatenation"
   ]
  },
  {
   "cell_type": "markdown",
   "id": "e6de8432",
   "metadata": {},
   "source": [
    "* Julia에서는 `String` Concatenation을 `string()` 내장함수를 이용한 생성을 통해 진행할 수도 있다."
   ]
  },
  {
   "cell_type": "code",
   "execution_count": 85,
   "id": "ebe04a58",
   "metadata": {
    "ExecuteTime": {
     "end_time": "2023-08-29T20:45:56.236000+09:00",
     "start_time": "2023-08-29T11:45:54.838Z"
    }
   },
   "outputs": [
    {
     "data": {
      "text/plain": [
       "\"Hello, world.\\n\""
      ]
     },
     "execution_count": 85,
     "metadata": {},
     "output_type": "execute_result"
    }
   ],
   "source": [
    "greet = \"Hello\"\n",
    "whom = \"world\"\n",
    "string(greet, \", \", whom, \".\\n\")"
   ]
  },
  {
   "cell_type": "markdown",
   "id": "48324dbc",
   "metadata": {},
   "source": [
    "* `+` 연산자를 사용할 수는 없다. (Java-unlike)"
   ]
  },
  {
   "cell_type": "code",
   "execution_count": 86,
   "id": "db4328ae",
   "metadata": {
    "ExecuteTime": {
     "end_time": "2023-08-29T20:46:15.942000+09:00",
     "start_time": "2023-08-29T11:46:14.138Z"
    }
   },
   "outputs": [
    {
     "ename": "MethodError",
     "evalue": "\u001b[91mMethodError: no method matching +(::String, ::String)\u001b[39m\n\u001b[91m\u001b[0mClosest candidates are:\u001b[39m\n\u001b[91m\u001b[0m  +(::Any, ::Any, \u001b[91m::Any\u001b[39m, \u001b[91m::Any...\u001b[39m) at operators.jl:529\u001b[39m",
     "output_type": "error",
     "traceback": [
      "\u001b[91mMethodError: no method matching +(::String, ::String)\u001b[39m\n\u001b[91m\u001b[0mClosest candidates are:\u001b[39m\n\u001b[91m\u001b[0m  +(::Any, ::Any, \u001b[91m::Any\u001b[39m, \u001b[91m::Any...\u001b[39m) at operators.jl:529\u001b[39m",
      "",
      "Stacktrace:",
      " [1] +(::String, ::String, ::String, ::String) at ./operators.jl:529",
      " [2] top-level scope at In[86]:1"
     ]
    }
   ],
   "source": [
    "greet + \", \" + whom + \".\\n\""
   ]
  },
  {
   "cell_type": "markdown",
   "id": "8bdaed8b",
   "metadata": {},
   "source": [
    "* Julia에서는 `*` 연산자가 String Concatenation에 사용된다.\n",
    "    * String Concatenation에 많이 사용되는 `+` 연산자가 아닌 `*`를 사용하는 이유는, `+` 연산자는 보통 수학에서 Commutative한 연산자이나 `*` 연산자는 그렇지 않기 때문이다(행렬곱). 문자열 합치기 연산은 Non-Commutative하므로 `*`를 채택하여 비교환성을 강조한 것이다."
   ]
  },
  {
   "cell_type": "code",
   "execution_count": 87,
   "id": "ea614b32",
   "metadata": {
    "ExecuteTime": {
     "end_time": "2023-08-29T20:47:01.408000+09:00",
     "start_time": "2023-08-29T11:47:00.023Z"
    }
   },
   "outputs": [
    {
     "data": {
      "text/plain": [
       "\"Hello, world.\\n\""
      ]
     },
     "execution_count": 87,
     "metadata": {},
     "output_type": "execute_result"
    }
   ],
   "source": [
    "greet * \", \" * whom * \".\\n\""
   ]
  },
  {
   "cell_type": "markdown",
   "id": "bdd400c0",
   "metadata": {},
   "source": [
    "* Julia에서 String은 `UTF-8` Encoding을 사용함에 주의한다. 따라서 Invalid Character or String들을 이어붙인 결과가 Valid한 String이 될 수도 있다."
   ]
  },
  {
   "cell_type": "code",
   "execution_count": 88,
   "id": "81a63cd1",
   "metadata": {
    "ExecuteTime": {
     "end_time": "2023-08-29T20:48:01.918000+09:00",
     "start_time": "2023-08-29T11:48:00.201Z"
    }
   },
   "outputs": [
    {
     "data": {
      "text/plain": [
       "\"∀\""
      ]
     },
     "execution_count": 88,
     "metadata": {},
     "output_type": "execute_result"
    }
   ],
   "source": [
    "a, b = \"\\xe2\\x88\", \"\\x80\"\n",
    "c = string(a, b) # 0xe2 0x88 0x80은 U+2200으로 Valid한 UTF-8 Encoding에 따르는 문자이다."
   ]
  },
  {
   "cell_type": "code",
   "execution_count": 89,
   "id": "6ab1e749",
   "metadata": {
    "ExecuteTime": {
     "end_time": "2023-08-29T20:48:09.525000+09:00",
     "start_time": "2023-08-29T11:48:07.364Z"
    }
   },
   "outputs": [
    {
     "data": {
      "text/plain": [
       "3-element Array{Array{Char,1},1}:\n",
       " ['\\xe2\\x88']\n",
       " ['\\x80']\n",
       " ['∀']"
      ]
     },
     "execution_count": 89,
     "metadata": {},
     "output_type": "execute_result"
    }
   ],
   "source": [
    "collect.([a, b, c])"
   ]
  },
  {
   "cell_type": "code",
   "execution_count": 90,
   "id": "3959b853",
   "metadata": {
    "ExecuteTime": {
     "end_time": "2023-08-29T20:48:17.857000+09:00",
     "start_time": "2023-08-29T11:48:16.441Z"
    }
   },
   "outputs": [
    {
     "data": {
      "text/plain": [
       "3-element Array{Int64,1}:\n",
       " 1\n",
       " 1\n",
       " 1"
      ]
     },
     "execution_count": 90,
     "metadata": {},
     "output_type": "execute_result"
    }
   ],
   "source": [
    "length.([a, b, c])"
   ]
  },
  {
   "cell_type": "markdown",
   "id": "c30b6dee",
   "metadata": {},
   "source": [
    "### String Interpolation"
   ]
  },
  {
   "cell_type": "markdown",
   "id": "5dce185a",
   "metadata": {},
   "source": [
    "* Python에서는 f-string 문법이나 format을 사용하여 문자열 내에 변수의 값을 문자열의 형태로 변환하여 넣을 수 있었으나, **Julia에서는 Bash-like 문자열 Interpolation 문법을 가진다.**\n",
    "* **Julia에서 문자열 내에 특정 expression의 값을 넣으려면, Bash처럼 `$` 이후에 expression을 쓰면 된다.** 단, Bash와 달리 Expression을 감쌀 때는 `{}`가 아니라 `()`를 쓴다."
   ]
  },
  {
   "cell_type": "code",
   "execution_count": 91,
   "id": "efa1a0f5",
   "metadata": {
    "ExecuteTime": {
     "end_time": "2023-08-29T20:52:22.083000+09:00",
     "start_time": "2023-08-29T11:52:20.697Z"
    }
   },
   "outputs": [
    {
     "data": {
      "text/plain": [
       "\"Hello, World.\\n\""
      ]
     },
     "execution_count": 91,
     "metadata": {},
     "output_type": "execute_result"
    }
   ],
   "source": [
    "greet = \"Hello\"\n",
    "whom = \"World\"\n",
    "\"$greet, $whom.\\n\""
   ]
  },
  {
   "cell_type": "markdown",
   "id": "44c56d18",
   "metadata": {},
   "source": [
    "* 위와 같은 String Interpolation을 하면 Julia가 자동으로 이상을 `string(greet, \", \", whom, \".\\n\")`으로 변환하여 실행한다."
   ]
  },
  {
   "cell_type": "code",
   "execution_count": 93,
   "id": "1da526a0",
   "metadata": {
    "ExecuteTime": {
     "end_time": "2023-08-29T20:53:38.015000+09:00",
     "start_time": "2023-08-29T11:53:36.613Z"
    }
   },
   "outputs": [
    {
     "data": {
      "text/plain": [
       "\"1 + 2 = 3\""
      ]
     },
     "execution_count": 93,
     "metadata": {},
     "output_type": "execute_result"
    }
   ],
   "source": [
    "\"1 + 2 = $(1+2)\""
   ]
  },
  {
   "cell_type": "markdown",
   "id": "a365deb4",
   "metadata": {},
   "source": [
    "* Non-`AbstractString` Type들의 자료형은 상응하는 문자열로 자동 변환되어 Interpolation된다."
   ]
  },
  {
   "cell_type": "code",
   "execution_count": 94,
   "id": "4572a94d",
   "metadata": {
    "ExecuteTime": {
     "end_time": "2023-08-29T20:54:28.917000+09:00",
     "start_time": "2023-08-29T11:54:27.451Z"
    }
   },
   "outputs": [
    {
     "data": {
      "text/plain": [
       "\"v: [1, 2, 3]\""
      ]
     },
     "execution_count": 94,
     "metadata": {},
     "output_type": "execute_result"
    }
   ],
   "source": [
    "v = [1, 2, 3]\n",
    "\"v: $v\""
   ]
  },
  {
   "cell_type": "markdown",
   "id": "1538b91c",
   "metadata": {},
   "source": [
    "* String Interpolation에서 `AbstractChar` 또는 `AbstractString`은 있는 그대로 들어간다."
   ]
  },
  {
   "cell_type": "code",
   "execution_count": 96,
   "id": "5b09168b",
   "metadata": {
    "ExecuteTime": {
     "end_time": "2023-08-29T20:55:27.988000+09:00",
     "start_time": "2023-08-29T11:55:26.600Z"
    }
   },
   "outputs": [
    {
     "data": {
      "text/plain": [
       "\"hi, x\""
      ]
     },
     "execution_count": 96,
     "metadata": {},
     "output_type": "execute_result"
    }
   ],
   "source": [
    "c = 'x'\n",
    "\"hi, $c\""
   ]
  },
  {
   "cell_type": "markdown",
   "id": "f9d88998",
   "metadata": {},
   "source": [
    "* Julia에서는 String Interpolation 때문에, 문자열에서 `$`를 넣으려면 `\\`로 Escape해야 한다."
   ]
  },
  {
   "cell_type": "code",
   "execution_count": 97,
   "id": "6179df90",
   "metadata": {
    "ExecuteTime": {
     "end_time": "2023-08-29T20:55:59.393000+09:00",
     "start_time": "2023-08-29T11:55:58.003Z"
    }
   },
   "outputs": [
    {
     "name": "stdout",
     "output_type": "stream",
     "text": [
      "I have $100 in my account.\n"
     ]
    }
   ],
   "source": [
    "print(\"I have \\$100 in my account.\\n\")"
   ]
  },
  {
   "cell_type": "markdown",
   "id": "b21ede8e",
   "metadata": {},
   "source": [
    "### Triple-Quoted String Literals"
   ]
  },
  {
   "cell_type": "markdown",
   "id": "3d4d198c",
   "metadata": {},
   "source": [
    "* Python의 Pre-formatted string인 Triple-Quoted String Literals와 유사하게, Julia에서도 3중 쌍따옴표로 둘러싼 문자열은 Pre-formated로 들어간다."
   ]
  },
  {
   "cell_type": "code",
   "execution_count": 98,
   "id": "1b44d56c",
   "metadata": {
    "ExecuteTime": {
     "end_time": "2023-08-29T20:56:53.917000+09:00",
     "start_time": "2023-08-29T11:56:52.528Z"
    }
   },
   "outputs": [
    {
     "data": {
      "text/plain": [
       "\"    Hello,\\n    world.\\n\""
      ]
     },
     "execution_count": 98,
     "metadata": {},
     "output_type": "execute_result"
    }
   ],
   "source": [
    "str = \"\"\"\n",
    "    Hello,\n",
    "    world.\n",
    "\"\"\""
   ]
  },
  {
   "cell_type": "markdown",
   "id": "a32a048d",
   "metadata": {},
   "source": [
    "* 이 때, Triple-Quoted String Literals에서 처음 Opening Triple-Quote 뒤 개행 문자는 자동으로 Strip된다."
   ]
  },
  {
   "cell_type": "code",
   "execution_count": 99,
   "id": "adfb78f5",
   "metadata": {
    "ExecuteTime": {
     "end_time": "2023-08-29T20:57:55.318000+09:00",
     "start_time": "2023-08-29T11:57:53.930Z"
    }
   },
   "outputs": [
    {
     "data": {
      "text/plain": [
       "\"Hello\""
      ]
     },
     "execution_count": 99,
     "metadata": {},
     "output_type": "execute_result"
    }
   ],
   "source": [
    "\"\"\"\n",
    "    Hello\"\"\""
   ]
  },
  {
   "cell_type": "code",
   "execution_count": 101,
   "id": "9f1335ee",
   "metadata": {
    "ExecuteTime": {
     "end_time": "2023-08-29T20:58:01.583000+09:00",
     "start_time": "2023-08-29T11:58:00.194Z"
    }
   },
   "outputs": [
    {
     "data": {
      "text/plain": [
       "\"Hello\""
      ]
     },
     "execution_count": 101,
     "metadata": {},
     "output_type": "execute_result"
    }
   ],
   "source": [
    "\"\"\"Hello\"\"\""
   ]
  },
  {
   "cell_type": "code",
   "execution_count": 104,
   "id": "342d999d",
   "metadata": {
    "ExecuteTime": {
     "end_time": "2023-08-29T20:58:35.106000+09:00",
     "start_time": "2023-08-29T11:58:33.716Z"
    }
   },
   "outputs": [
    {
     "data": {
      "text/plain": [
       "\"\\nHello\""
      ]
     },
     "execution_count": 104,
     "metadata": {},
     "output_type": "execute_result"
    }
   ],
   "source": [
    "\"\"\"\n",
    "\n",
    "Hello\"\"\""
   ]
  },
  {
   "cell_type": "markdown",
   "id": "ee402781",
   "metadata": {},
   "source": [
    "* 그러나 Closing Triple-Quote 앞의 개행 문자는 무시되지 않는다."
   ]
  },
  {
   "cell_type": "code",
   "execution_count": 102,
   "id": "5cb4cf8b",
   "metadata": {
    "ExecuteTime": {
     "end_time": "2023-08-29T20:58:18.725000+09:00",
     "start_time": "2023-08-29T11:58:17.336Z"
    }
   },
   "outputs": [
    {
     "data": {
      "text/plain": [
       "\"    Hello\\n\""
      ]
     },
     "execution_count": 102,
     "metadata": {},
     "output_type": "execute_result"
    }
   ],
   "source": [
    "\"\"\"\n",
    "    Hello\n",
    "\"\"\""
   ]
  },
  {
   "cell_type": "markdown",
   "id": "f251957f",
   "metadata": {},
   "source": [
    "* `\\`를 사용하여 줄을 넘기는 경우 그 다음 줄 시작의 Indentation은 무시된다. (IJulia에서는 제대로 동작하지 않음. Julia REPL에서는 정상 동작함)"
   ]
  },
  {
   "cell_type": "code",
   "execution_count": 105,
   "id": "06faf65d",
   "metadata": {
    "ExecuteTime": {
     "end_time": "2023-08-29T20:59:19.985000+09:00",
     "start_time": "2023-08-29T11:59:18.565Z"
    }
   },
   "outputs": [
    {
     "ename": "LoadError",
     "evalue": "\u001b[91msyntax: invalid escape sequence\u001b[39m",
     "output_type": "error",
     "traceback": [
      "\u001b[91msyntax: invalid escape sequence\u001b[39m",
      ""
     ]
    }
   ],
   "source": [
    "\"\"\"\n",
    "    A very long\\ \n",
    "    word\"\"\" # long 뒤의 \\ + \\n 때문에 word 앞의 \\t와 개행은 무시된다."
   ]
  },
  {
   "cell_type": "markdown",
   "id": "74106f69",
   "metadata": {},
   "source": [
    "* 아주 당연하게 Triple-Quoted String은 Escaping 없이 `\"`을 포함할 수 있다."
   ]
  },
  {
   "cell_type": "code",
   "execution_count": 106,
   "id": "a704c05c",
   "metadata": {
    "ExecuteTime": {
     "end_time": "2023-08-29T21:01:00.846000+09:00",
     "start_time": "2023-08-29T12:00:59.456Z"
    }
   },
   "outputs": [
    {
     "data": {
      "text/plain": [
       "\"\\\"Hello, World!\\\" said he, after a very long journey.\""
      ]
     },
     "execution_count": 106,
     "metadata": {},
     "output_type": "execute_result"
    }
   ],
   "source": [
    "\"\"\"\"Hello, World!\" said he, after a very long journey.\"\"\""
   ]
  },
  {
   "cell_type": "markdown",
   "id": "acbaf947",
   "metadata": {},
   "source": [
    "### String Common Operations"
   ]
  },
  {
   "cell_type": "markdown",
   "id": "f3606706",
   "metadata": {},
   "source": [
    "* Julia는 String에 대하여 다음의 Common Operation들을 지원한다."
   ]
  },
  {
   "cell_type": "markdown",
   "id": "745c307e",
   "metadata": {},
   "source": [
    "|Operator|Expression|Description|\n",
    "|:--:|:-----:|:--------------:|\n",
    "|`<`|`String1 < String2`|Returns True if `String1` is less than `String2`, in lexicographically order|\n",
    "|`>`|`String1 > String2`|Returns True if `String1` is greater than `String2`, in lexicographically order|\n",
    "|`<=` or `≤`|`String1 <= String2`<br/>or<br/>`String1 ≤ String2`|Returns True if `String1` is less than or equal to `String2`, in lexicographically order|\n",
    "|`>=` or `≥`|`String1 >= String2`<br/>or<br/>`String1 >= String2`|Returns True if `String1` is greater than or equal to `String2`, in lexicographically order|\n",
    "|`==`|`String1 == String2`|Returns True if `String1` is equal to `String2`|\n",
    "|`!=` or `≠`|`String1 != String2`<br/>or<br/>`String1 ≠ String2`|Returns True if `String1` is not equal to `String2`|"
   ]
  },
  {
   "cell_type": "code",
   "execution_count": 107,
   "id": "d1c29ab1",
   "metadata": {
    "ExecuteTime": {
     "end_time": "2023-08-29T21:11:28.831000+09:00",
     "start_time": "2023-08-29T12:11:27.432Z"
    }
   },
   "outputs": [
    {
     "data": {
      "text/plain": [
       "true"
      ]
     },
     "execution_count": 107,
     "metadata": {},
     "output_type": "execute_result"
    }
   ],
   "source": [
    "\"apple\" < \"xylophone\""
   ]
  },
  {
   "cell_type": "code",
   "execution_count": 108,
   "id": "14fd2a5b",
   "metadata": {
    "ExecuteTime": {
     "end_time": "2023-08-29T21:11:37.625000+09:00",
     "start_time": "2023-08-29T12:11:36.229Z"
    }
   },
   "outputs": [
    {
     "data": {
      "text/plain": [
       "false"
      ]
     },
     "execution_count": 108,
     "metadata": {},
     "output_type": "execute_result"
    }
   ],
   "source": [
    "\"abcd\" == \"xylophone\""
   ]
  },
  {
   "cell_type": "code",
   "execution_count": 109,
   "id": "25921608",
   "metadata": {
    "ExecuteTime": {
     "end_time": "2023-08-29T21:11:46.006000+09:00",
     "start_time": "2023-08-29T12:11:44.610Z"
    }
   },
   "outputs": [
    {
     "data": {
      "text/plain": [
       "true"
      ]
     },
     "execution_count": 109,
     "metadata": {},
     "output_type": "execute_result"
    }
   ],
   "source": [
    "\"Hello, World.\" != \"Goodbye, World.\""
   ]
  },
  {
   "cell_type": "code",
   "execution_count": 110,
   "id": "417a8628",
   "metadata": {
    "ExecuteTime": {
     "end_time": "2023-08-29T21:11:54.866000+09:00",
     "start_time": "2023-08-29T12:11:53.467Z"
    }
   },
   "outputs": [
    {
     "data": {
      "text/plain": [
       "true"
      ]
     },
     "execution_count": 110,
     "metadata": {},
     "output_type": "execute_result"
    }
   ],
   "source": [
    "\"1 + 2 = 3\" == \"1 + 2 = $(1 + 2)\""
   ]
  },
  {
   "cell_type": "markdown",
   "id": "e14328f2",
   "metadata": {},
   "source": [
    "### Few Useful Internal Functions for String"
   ]
  },
  {
   "cell_type": "markdown",
   "id": "5444d345",
   "metadata": {},
   "source": [
    "* Julia의 String은 `findfirst(Char, String)`을 통해 String의 처음부터 Char가 등장하는 첫 번때 위치 Index를 얻을 수 있다.\n",
    "* 마찬가지로, `findlast(Char, String)`을 통해 String의 끝에서부터 앞으로 가면서 Char가 등장하는 첫 번째 위치 Index를 얻을 수 있다."
   ]
  },
  {
   "cell_type": "code",
   "execution_count": 111,
   "id": "4e044bc6",
   "metadata": {
    "ExecuteTime": {
     "end_time": "2023-08-29T21:15:53.749000+09:00",
     "start_time": "2023-08-29T12:15:52.036Z"
    },
    "scrolled": true
   },
   "outputs": [
    {
     "data": {
      "text/plain": [
       "4"
      ]
     },
     "execution_count": 111,
     "metadata": {},
     "output_type": "execute_result"
    }
   ],
   "source": [
    "findfirst('o', \"xylophone\") # xylophone에서 o는 앞에서부터 4번째 문자."
   ]
  },
  {
   "cell_type": "code",
   "execution_count": 112,
   "id": "cd9e5666",
   "metadata": {
    "ExecuteTime": {
     "end_time": "2023-08-29T21:16:20.828000+09:00",
     "start_time": "2023-08-29T12:16:19.404Z"
    }
   },
   "outputs": [
    {
     "data": {
      "text/plain": [
       "7"
      ]
     },
     "execution_count": 112,
     "metadata": {},
     "output_type": "execute_result"
    }
   ],
   "source": [
    "findlast('o', \"xylophone\") # xylophone에서 o는 앞에서부터 7번째 문자에 뒤에서부터 세면 처음으로 등장."
   ]
  },
  {
   "cell_type": "code",
   "execution_count": 114,
   "id": "d6ee7c70",
   "metadata": {
    "ExecuteTime": {
     "end_time": "2023-08-29T21:16:35.049000+09:00",
     "start_time": "2023-08-29T12:16:33.651Z"
    }
   },
   "outputs": [],
   "source": [
    "findfirst('z', \"xylophone\") # 찾지 못하면 반환값이 없다."
   ]
  },
  {
   "cell_type": "markdown",
   "id": "ddb4ea83",
   "metadata": {},
   "source": [
    "* Julia의 String은 `findnext(Char, String, offset)`을 통해 offset에 해당하는 위치 뒤에서부터 Char가 String 내부에서 등장하는 위치 Index를 얻을 수 있다.\n",
    "* 마찬가지로, `findprev(Char, String, offset)`을 통해 offset에 해당하는 위치 앞에서부터 Char가 String 내부에서 등장하는 위치 Index를 얻을 수 있다."
   ]
  },
  {
   "cell_type": "code",
   "execution_count": 115,
   "id": "2f90e905",
   "metadata": {
    "ExecuteTime": {
     "end_time": "2023-08-29T21:16:57.478000+09:00",
     "start_time": "2023-08-29T12:16:56.076Z"
    }
   },
   "outputs": [
    {
     "data": {
      "text/plain": [
       "4"
      ]
     },
     "execution_count": 115,
     "metadata": {},
     "output_type": "execute_result"
    }
   ],
   "source": [
    "findnext('o', \"xylophone\", 1) # 1번째 index인 x 이후에서 o가 처음으로 등장하는 index는 4."
   ]
  },
  {
   "cell_type": "code",
   "execution_count": 116,
   "id": "fb34e2bf",
   "metadata": {
    "ExecuteTime": {
     "end_time": "2023-08-29T21:17:27.421000+09:00",
     "start_time": "2023-08-29T12:17:26.023Z"
    }
   },
   "outputs": [
    {
     "data": {
      "text/plain": [
       "7"
      ]
     },
     "execution_count": 116,
     "metadata": {},
     "output_type": "execute_result"
    }
   ],
   "source": [
    "findnext('o', \"xylophone\", 5) # 5번째 index인 p 이후에서 o가 처음으로 등장하는 index는 7"
   ]
  },
  {
   "cell_type": "code",
   "execution_count": 117,
   "id": "ab82fd75",
   "metadata": {
    "ExecuteTime": {
     "end_time": "2023-08-29T21:17:45.740000+09:00",
     "start_time": "2023-08-29T12:17:44.337Z"
    }
   },
   "outputs": [
    {
     "data": {
      "text/plain": [
       "4"
      ]
     },
     "execution_count": 117,
     "metadata": {},
     "output_type": "execute_result"
    }
   ],
   "source": [
    "findprev('o', \"xylophone\", 5) # 5번째 index인 p 이전에서 o가 처음으로 등장하는 index는 4"
   ]
  },
  {
   "cell_type": "code",
   "execution_count": 118,
   "id": "b2935d81",
   "metadata": {
    "ExecuteTime": {
     "end_time": "2023-08-29T21:18:14.962000+09:00",
     "start_time": "2023-08-29T12:18:13.563Z"
    }
   },
   "outputs": [],
   "source": [
    "findnext('o', \"xylophone\", 8) # findnext, findprev는 결과를 찾지 못하면 Return값이 없다."
   ]
  },
  {
   "cell_type": "markdown",
   "id": "7dd85f78",
   "metadata": {},
   "source": [
    "* 내장함수 `occursin(Substring, String)`을 사용하면 Substring이 String 내부에 등장하는지 아닌지를 T/F로 알 수 있다. (Substring은 Char여도 된다)"
   ]
  },
  {
   "cell_type": "code",
   "execution_count": 119,
   "id": "e74e4f80",
   "metadata": {
    "ExecuteTime": {
     "end_time": "2023-08-29T21:18:53.287000+09:00",
     "start_time": "2023-08-29T12:18:51.887Z"
    }
   },
   "outputs": [
    {
     "data": {
      "text/plain": [
       "true"
      ]
     },
     "execution_count": 119,
     "metadata": {},
     "output_type": "execute_result"
    }
   ],
   "source": [
    "occursin(\"world\", \"Hello, world!\")"
   ]
  },
  {
   "cell_type": "code",
   "execution_count": 120,
   "id": "4224270a",
   "metadata": {
    "ExecuteTime": {
     "end_time": "2023-08-29T21:19:01.191000+09:00",
     "start_time": "2023-08-29T12:18:59.791Z"
    }
   },
   "outputs": [
    {
     "data": {
      "text/plain": [
       "true"
      ]
     },
     "execution_count": 120,
     "metadata": {},
     "output_type": "execute_result"
    }
   ],
   "source": [
    "occursin(\"o\", \"Xylophone\")"
   ]
  },
  {
   "cell_type": "code",
   "execution_count": 121,
   "id": "8dc2550d",
   "metadata": {
    "ExecuteTime": {
     "end_time": "2023-08-29T21:19:18.978000+09:00",
     "start_time": "2023-08-29T12:19:17.578Z"
    }
   },
   "outputs": [
    {
     "data": {
      "text/plain": [
       "false"
      ]
     },
     "execution_count": 121,
     "metadata": {},
     "output_type": "execute_result"
    }
   ],
   "source": [
    "occursin(\"a\", \"Xylophone\")"
   ]
  },
  {
   "cell_type": "code",
   "execution_count": 122,
   "id": "77484007",
   "metadata": {
    "ExecuteTime": {
     "end_time": "2023-08-29T21:19:26.245000+09:00",
     "start_time": "2023-08-29T12:19:24.842Z"
    }
   },
   "outputs": [
    {
     "data": {
      "text/plain": [
       "true"
      ]
     },
     "execution_count": 122,
     "metadata": {},
     "output_type": "execute_result"
    }
   ],
   "source": [
    "occursin('o', \"Xylophone\") # Char도 Acceptable."
   ]
  },
  {
   "cell_type": "markdown",
   "id": "48f42ec6",
   "metadata": {},
   "source": [
    "* `repeat(String, count)` 내장함수를 이용하여 특정 문자열 `String`을 `count`번 연이어 반복한 문자열을 얻을 수 있다. (Python이라면 `String * count`로 가능했지만, Julia는 `*`를 String Concatenation Operator로 채택한 관계로 그럴 수 없다."
   ]
  },
  {
   "cell_type": "code",
   "execution_count": 123,
   "id": "9dbed7e3",
   "metadata": {
    "ExecuteTime": {
     "end_time": "2023-08-29T21:20:32.067000+09:00",
     "start_time": "2023-08-29T12:20:30.665Z"
    }
   },
   "outputs": [
    {
     "data": {
      "text/plain": [
       "\".:Z:..:Z:..:Z:..:Z:..:Z:..:Z:..:Z:..:Z:..:Z:..:Z:.\""
      ]
     },
     "execution_count": 123,
     "metadata": {},
     "output_type": "execute_result"
    }
   ],
   "source": [
    "repeat(\".:Z:.\", 10)"
   ]
  },
  {
   "cell_type": "markdown",
   "id": "dcd69553",
   "metadata": {},
   "source": [
    "* Python에서의 `join` method와 비슷하게, Julia에서도 내장함수 `join(Container, *delims)`를 이용해 Container의 모든 문자 또는 문자열을 delims로 연결한 String을 얻을 수 있다."
   ]
  },
  {
   "cell_type": "code",
   "execution_count": 124,
   "id": "a65aad70",
   "metadata": {
    "ExecuteTime": {
     "end_time": "2023-08-29T21:22:14.334000+09:00",
     "start_time": "2023-08-29T12:22:12.915Z"
    }
   },
   "outputs": [
    {
     "data": {
      "text/plain": [
       "\"apples, bananas and pineapples\""
      ]
     },
     "execution_count": 124,
     "metadata": {},
     "output_type": "execute_result"
    }
   ],
   "source": [
    "join([\"apples\", \"bananas\", \"pineapples\"], \", \", \" and \")"
   ]
  },
  {
   "cell_type": "markdown",
   "id": "dc688368",
   "metadata": {},
   "source": [
    "* 다음과 같은 함수들이 String Manipulation과 관련하여 내장함수로 유용하다."
   ]
  },
  {
   "cell_type": "markdown",
   "id": "f80b7f8f",
   "metadata": {},
   "source": [
    "|Function|Description|Example|\n",
    "|:----:|:----------------:|:--------:|\n",
    "|`firstindex(String)`|`String`에서 앞에서부터 처음으로 유효한 Byte Index를 Return|`firstindex(\"Hello\")`|\n",
    "|`lastindex(String)`|`String`에서 뒤에서부터 처음으로 유효한 Byte Index (앞에서부터 마지막으로 유효한 Byte Index)를 Return|`lastindex(\"Hello\")`|\n",
    "|`length(String)`|`String`의 길이를 Return|`length(\"Hello\")`|\n",
    "|`length(String, i, j)`|`String`의 `i`-th index에서 `j`-th index 사이에서 Valid Char의 개수를 Return|`length(\"Hello\", 1, 3)`|\n",
    "|`ncodeunits(String)`|`String`의 Code Unit의 총 개수를 Return|`ncodeunits(\"Hello\")`|\n",
    "|`codeunit(String, i)`|`String`의 `i`번째 byte의 Code Unit을 Return (16진수 형태)|\n",
    "|`thisind(String, i)`|`String`에서 `i`번째 Code Unit이 가리키는 문자의 시작 Index를 Return|`thisind(\"\\u2200\", 2)`|\n",
    "|`nextind(String, i, n=1)`|`String`에서 `i`번째 index 이후에 등장하는 `n`번째 문자의 시작 Index를 Return|`nextind(\"\\u2200 x \\u2203 y\", 3, 2)`|\n",
    "|`prevind(String, i, n=1)`|`String`에서 `i`번째 index 이전에 등장하는 `n`번째 문자의 시작 Index를 Return|`prevind(\"\\u2200 x \\u2203 y\", 3, 2)`|"
   ]
  },
  {
   "cell_type": "markdown",
   "id": "77ef19ad",
   "metadata": {},
   "source": [
    "### Non-Standard String Literals"
   ]
  },
  {
   "cell_type": "markdown",
   "id": "8dc1e068",
   "metadata": {},
   "source": [
    "* Julia는 다음과 같은 3종의 비표준 문자열 상수를 지원한다.\n",
    "    1. Regular Expressions (regex)\n",
    "    2. Byte-array Literals\n",
    "    3. Version Number Literals\n",
    "* 이들 비표준 문자열 상수는 Python에서 f-String 또는 Raw String 문법과 유사하게, Regular String인 `\"\"` 의 쌍따옴표 앞에 prefix가 붙어 특수 처리된다."
   ]
  },
  {
   "cell_type": "markdown",
   "id": "5fdc5222",
   "metadata": {},
   "source": [
    "#### Regular Expressions"
   ]
  },
  {
   "cell_type": "markdown",
   "id": "e3571954",
   "metadata": {},
   "source": [
    "* Julia는 Perl-compatible Regular Expression 문법에 따라 (PCRE2 library) 정규 표현식을 지원한다. Julia에서 Regular Expression은 앞에 Prefix로 `r`을 붙인다."
   ]
  },
  {
   "cell_type": "code",
   "execution_count": 125,
   "id": "e65d7580",
   "metadata": {
    "ExecuteTime": {
     "end_time": "2023-08-29T21:35:48.845000+09:00",
     "start_time": "2023-08-29T12:35:47.413Z"
    }
   },
   "outputs": [
    {
     "data": {
      "text/plain": [
       "Regex"
      ]
     },
     "execution_count": 125,
     "metadata": {},
     "output_type": "execute_result"
    }
   ],
   "source": [
    "re = r\"^\\s*(?:#|$)\"\n",
    "# Perl 문법에 따르면, (?:)는 Non-capturing Group을 형성하는 생성자로, Capturing Group이 아님을 지시하기 위해 사용한다.\n",
    "# Non-Capturing Group은 Regex 상의 문법에서는 Capturing Group과 의미는 같지만, Capturing Group을 별도로 만들어 Memory에 저장하지는 않겠다는 의미이다.\n",
    "# |는 OR의 의미이고, $는 앞에 뭔가가 있다면 그걸로 끝나는 것을 뜻하지만 단항으로 쓰이면 줄이 끝나는 것을 뜻한다.\n",
    "# 따라서 상기 Regex는 Whitespace 문자가 0번 이상 반복되고, 그 뒤에 # 문자가 오거나 EOL(End-of-Line)이 오는 경우와 Matching된다.\n",
    "# * Non-Capturing Group 관련해서는 다음 링크 참조: https://blog.rhostem.com/posts/2018-11-11-regex-capture-group#:~:text=%EB%85%BC%2D%EC%BA%A1%EC%B3%90%EB%A7%81%20%EA%B7%B8%EB%A3%B9(non%2Dcapturing%20group)&text=%EC%BA%A1%EC%B3%90%EB%A7%81%20%EA%B7%B8%EB%A3%B9%EC%9D%B4%20%EA%B2%B0%EA%B3%BC,%EB%A5%BC%20%EB%B3%80%EA%B2%BD%ED%95%98%EB%8A%94%20%EC%98%88%EC%A0%9C%EB%8B%A4.\n",
    "typeof(re)"
   ]
  },
  {
   "cell_type": "markdown",
   "id": "6943b193",
   "metadata": {},
   "source": [
    "* Regex가 String과 Matching하는지 확인하려면, `occursin` 내장함수를 쓰면 된다. (Python에서처럼 `re` 모듈을 import해서 matches Method를 call하지 않아도 된다)"
   ]
  },
  {
   "cell_type": "code",
   "execution_count": 126,
   "id": "8422d473",
   "metadata": {
    "ExecuteTime": {
     "end_time": "2023-08-29T21:50:50.101000+09:00",
     "start_time": "2023-08-29T12:50:48.682Z"
    }
   },
   "outputs": [
    {
     "data": {
      "text/plain": [
       "false"
      ]
     },
     "execution_count": 126,
     "metadata": {},
     "output_type": "execute_result"
    }
   ],
   "source": [
    "occursin(re, \"not a comment\")"
   ]
  },
  {
   "cell_type": "code",
   "execution_count": 127,
   "id": "4ced36cb",
   "metadata": {
    "ExecuteTime": {
     "end_time": "2023-08-29T21:50:54.443000+09:00",
     "start_time": "2023-08-29T12:50:53.024Z"
    }
   },
   "outputs": [
    {
     "data": {
      "text/plain": [
       "true"
      ]
     },
     "execution_count": 127,
     "metadata": {},
     "output_type": "execute_result"
    }
   ],
   "source": [
    "occursin(re, \"# comment\")"
   ]
  },
  {
   "cell_type": "code",
   "execution_count": 134,
   "id": "0fe8996a",
   "metadata": {
    "ExecuteTime": {
     "end_time": "2023-08-29T22:02:54.032000+09:00",
     "start_time": "2023-08-29T13:02:52.591Z"
    }
   },
   "outputs": [
    {
     "data": {
      "text/plain": [
       "true"
      ]
     },
     "execution_count": 134,
     "metadata": {},
     "output_type": "execute_result"
    }
   ],
   "source": [
    "occursin(re, \" \")"
   ]
  },
  {
   "cell_type": "markdown",
   "id": "dacc8a6b",
   "metadata": {},
   "source": [
    "* 그러나 `occursin` 내장함수는 해당 String에 Regex와 Match하는 부분이 있는지 없는지만을 true / false로 알려줄 뿐이므로, Matching된 String을 알고 싶다면 `match(Regex, String)` 내장함수를 사용해야 한다."
   ]
  },
  {
   "cell_type": "code",
   "execution_count": 129,
   "id": "24e2d25a",
   "metadata": {
    "ExecuteTime": {
     "end_time": "2023-08-29T21:52:23.961000+09:00",
     "start_time": "2023-08-29T12:52:22.542Z"
    }
   },
   "outputs": [],
   "source": [
    "match(r\"^\\s*(?:#|$)\", \"not a comment\")\n",
    "# matching하는 게 없으면 아무것도 return하지 않는다. (정확히는 Core.nothing을 return)"
   ]
  },
  {
   "cell_type": "code",
   "execution_count": 133,
   "id": "1d5d18fa",
   "metadata": {
    "ExecuteTime": {
     "end_time": "2023-08-29T21:58:00.457000+09:00",
     "start_time": "2023-08-29T12:57:59.034Z"
    }
   },
   "outputs": [
    {
     "data": {
      "text/plain": [
       "RegexMatch(\"#\")"
      ]
     },
     "execution_count": 133,
     "metadata": {},
     "output_type": "execute_result"
    }
   ],
   "source": [
    "match(r\"^\\s*(?:#|$)\", \"# a comment\")"
   ]
  },
  {
   "cell_type": "code",
   "execution_count": 137,
   "id": "749c618b",
   "metadata": {
    "ExecuteTime": {
     "end_time": "2023-08-29T22:05:22.539000+09:00",
     "start_time": "2023-08-29T13:05:21.090Z"
    }
   },
   "outputs": [
    {
     "name": "stdout",
     "output_type": "stream",
     "text": [
      "blank or comment\n"
     ]
    }
   ],
   "source": [
    "line = \"# comment\"\n",
    "m = match(r\"^\\s*(?:#|$)\", line)\n",
    "if m === nothing\n",
    "    println(\"not a comment\")\n",
    "else\n",
    "    println(\"blank or comment\")\n",
    "end"
   ]
  },
  {
   "cell_type": "markdown",
   "id": "8551d320",
   "metadata": {},
   "source": [
    "* 위에서 보는 바와 같이, `match(Regex, String)` 함수는 만약 String에서 Regex와 Matching되는 부분이 있다면 `RegexMatch` 객체를 돌려주고, 그렇지 않다면 `Core.nothing`을 돌려준다."
   ]
  },
  {
   "cell_type": "markdown",
   "id": "469c58d2",
   "metadata": {},
   "source": [
    "* Julia에서 내장함수 `match(Regex, String)`은 3번째 arg로 start_idx를 줄 수 있다. 이 경우, Regex Matching 검사를 명시된 `start_idx`부터 행하게 된다."
   ]
  },
  {
   "cell_type": "code",
   "execution_count": 138,
   "id": "104d1731",
   "metadata": {
    "ExecuteTime": {
     "end_time": "2023-08-29T22:09:02.551000+09:00",
     "start_time": "2023-08-29T13:09:01.099Z"
    }
   },
   "outputs": [
    {
     "data": {
      "text/plain": [
       "RegexMatch(\"1\")"
      ]
     },
     "execution_count": 138,
     "metadata": {},
     "output_type": "execute_result"
    }
   ],
   "source": [
    "m = match(r\"[0-9]\", \"aaaa1aaaa2aaaa3\", 1) # 처음부터 숫자들 중 first match return"
   ]
  },
  {
   "cell_type": "code",
   "execution_count": 139,
   "id": "18052c5e",
   "metadata": {
    "ExecuteTime": {
     "end_time": "2023-08-29T22:09:26.676000+09:00",
     "start_time": "2023-08-29T13:09:25.247Z"
    }
   },
   "outputs": [
    {
     "data": {
      "text/plain": [
       "RegexMatch(\"2\")"
      ]
     },
     "execution_count": 139,
     "metadata": {},
     "output_type": "execute_result"
    }
   ],
   "source": [
    "m = match(r\"[0-9]\", \"aaaa1aaaa2aaaa3\", 6) # 앞에서부터 6번째 문자부터 숫자 first match return"
   ]
  },
  {
   "cell_type": "code",
   "execution_count": 140,
   "id": "621dafe3",
   "metadata": {
    "ExecuteTime": {
     "end_time": "2023-08-29T22:09:49.351000+09:00",
     "start_time": "2023-08-29T13:09:47.922Z"
    }
   },
   "outputs": [
    {
     "data": {
      "text/plain": [
       "RegexMatch(\"3\")"
      ]
     },
     "execution_count": 140,
     "metadata": {},
     "output_type": "execute_result"
    }
   ],
   "source": [
    "m = match(r\"[0-9]\", \"aaaa1aaaa2aaaa3\", 11) # 앞에서부터 11번째 문자부터 숫자 first match return"
   ]
  },
  {
   "cell_type": "markdown",
   "id": "2e778bcf",
   "metadata": {},
   "source": [
    "##### `RegexMatch` 객체에서 몇 가지 주요 attr"
   ]
  },
  {
   "cell_type": "markdown",
   "id": "4ac0406a",
   "metadata": {},
   "source": [
    "* `RegexMatch` 객체의 다음 속성(Attribute)들은 꽤 유용하다.\n",
    "    1. `RegexMatch.match`: Matching 결과에서 Match된 Entire Substring\n",
    "    2. `RegexMatch.captures`: Matching 결과에서 Match된 Captured Substrings, as an array of Strings\n",
    "    3. `RegexMatch.offset`: Matching 결과에서 Match가 시작되는 offset\n",
    "    4. `RegexMatch.offsets`: Matching 결과에서 Match가 시작되는 offset들의 vector"
   ]
  },
  {
   "cell_type": "markdown",
   "id": "ea73721c",
   "metadata": {},
   "source": [
    "* 만약 capturing이 실패했다면, `RegexMatch.captures`는 nothing으로 지정되고, `RegexMatch.offsets`은 0으로 지정된다. (Julia에서 Index는 1부터 시작함에 주의)"
   ]
  },
  {
   "cell_type": "code",
   "execution_count": 141,
   "id": "40df00d9",
   "metadata": {
    "ExecuteTime": {
     "end_time": "2023-08-29T22:13:28.199000+09:00",
     "start_time": "2023-08-29T13:13:26.768Z"
    }
   },
   "outputs": [
    {
     "data": {
      "text/plain": [
       "RegexMatch(\"acd\", 1=\"a\", 2=\"c\", 3=\"d\")"
      ]
     },
     "execution_count": 141,
     "metadata": {},
     "output_type": "execute_result"
    }
   ],
   "source": [
    "m = match(r\"(a|b)(c)?(d)\", \"acd\")"
   ]
  },
  {
   "cell_type": "code",
   "execution_count": 142,
   "id": "63ed57d5",
   "metadata": {
    "ExecuteTime": {
     "end_time": "2023-08-29T22:13:37.656000+09:00",
     "start_time": "2023-08-29T13:13:36.203Z"
    }
   },
   "outputs": [
    {
     "data": {
      "text/plain": [
       "\"acd\""
      ]
     },
     "execution_count": 142,
     "metadata": {},
     "output_type": "execute_result"
    }
   ],
   "source": [
    "m.match"
   ]
  },
  {
   "cell_type": "code",
   "execution_count": 144,
   "id": "7acd77f7",
   "metadata": {
    "ExecuteTime": {
     "end_time": "2023-08-29T22:14:22.226000+09:00",
     "start_time": "2023-08-29T13:14:20.794Z"
    }
   },
   "outputs": [
    {
     "data": {
      "text/plain": [
       "3-element Array{Union{Nothing, SubString{String}},1}:\n",
       " \"a\"\n",
       " \"c\"\n",
       " \"d\""
      ]
     },
     "execution_count": 144,
     "metadata": {},
     "output_type": "execute_result"
    }
   ],
   "source": [
    "m.captures # Capturing Group이 3개고, 각각의 Captued Group에 걸린 문자열들을 Array로 줌."
   ]
  },
  {
   "cell_type": "code",
   "execution_count": 145,
   "id": "b11d743a",
   "metadata": {
    "ExecuteTime": {
     "end_time": "2023-08-29T22:14:27.615000+09:00",
     "start_time": "2023-08-29T13:14:26.183Z"
    }
   },
   "outputs": [
    {
     "data": {
      "text/plain": [
       "1"
      ]
     },
     "execution_count": 145,
     "metadata": {},
     "output_type": "execute_result"
    }
   ],
   "source": [
    "m.offset"
   ]
  },
  {
   "cell_type": "code",
   "execution_count": 146,
   "id": "17ad6251",
   "metadata": {
    "ExecuteTime": {
     "end_time": "2023-08-29T22:14:30.925000+09:00",
     "start_time": "2023-08-29T13:14:29.356Z"
    }
   },
   "outputs": [
    {
     "data": {
      "text/plain": [
       "3-element Array{Int64,1}:\n",
       " 1\n",
       " 2\n",
       " 3"
      ]
     },
     "execution_count": 146,
     "metadata": {},
     "output_type": "execute_result"
    }
   ],
   "source": [
    "m.offsets"
   ]
  },
  {
   "cell_type": "code",
   "execution_count": 147,
   "id": "b2032941",
   "metadata": {
    "ExecuteTime": {
     "end_time": "2023-08-29T22:14:46.703000+09:00",
     "start_time": "2023-08-29T13:14:45.271Z"
    }
   },
   "outputs": [
    {
     "data": {
      "text/plain": [
       "RegexMatch(\"ad\", 1=\"a\", 2=nothing, 3=\"d\")"
      ]
     },
     "execution_count": 147,
     "metadata": {},
     "output_type": "execute_result"
    }
   ],
   "source": [
    "m = match(r\"(a|b)(c)?(d)\", \"ad\")"
   ]
  },
  {
   "cell_type": "code",
   "execution_count": 148,
   "id": "7717e2c0",
   "metadata": {
    "ExecuteTime": {
     "end_time": "2023-08-29T22:14:52.582000+09:00",
     "start_time": "2023-08-29T13:14:51.149Z"
    }
   },
   "outputs": [
    {
     "data": {
      "text/plain": [
       "\"ad\""
      ]
     },
     "execution_count": 148,
     "metadata": {},
     "output_type": "execute_result"
    }
   ],
   "source": [
    "m.match"
   ]
  },
  {
   "cell_type": "code",
   "execution_count": 149,
   "id": "5cc0da13",
   "metadata": {
    "ExecuteTime": {
     "end_time": "2023-08-29T22:14:55.265000+09:00",
     "start_time": "2023-08-29T13:14:53.822Z"
    }
   },
   "outputs": [
    {
     "data": {
      "text/plain": [
       "3-element Array{Union{Nothing, SubString{String}},1}:\n",
       " \"a\"\n",
       " nothing\n",
       " \"d\""
      ]
     },
     "execution_count": 149,
     "metadata": {},
     "output_type": "execute_result"
    }
   ],
   "source": [
    "m.captures"
   ]
  },
  {
   "cell_type": "code",
   "execution_count": 150,
   "id": "8184f009",
   "metadata": {
    "ExecuteTime": {
     "end_time": "2023-08-29T22:14:58.782000+09:00",
     "start_time": "2023-08-29T13:14:57.350Z"
    }
   },
   "outputs": [
    {
     "data": {
      "text/plain": [
       "1"
      ]
     },
     "execution_count": 150,
     "metadata": {},
     "output_type": "execute_result"
    }
   ],
   "source": [
    "m.offset"
   ]
  },
  {
   "cell_type": "code",
   "execution_count": 151,
   "id": "02388bfd",
   "metadata": {
    "ExecuteTime": {
     "end_time": "2023-08-29T22:15:00.666000+09:00",
     "start_time": "2023-08-29T13:14:59.233Z"
    }
   },
   "outputs": [
    {
     "data": {
      "text/plain": [
       "3-element Array{Int64,1}:\n",
       " 1\n",
       " 0\n",
       " 2"
      ]
     },
     "execution_count": 151,
     "metadata": {},
     "output_type": "execute_result"
    }
   ],
   "source": [
    "m.offsets"
   ]
  },
  {
   "cell_type": "markdown",
   "id": "c506c4bb",
   "metadata": {},
   "source": [
    "*Julia에서는 Unpacking(Python-like)을 지원하기 때문에, Array를 순회할 필요 없이 RegexMatch의 offsets나 captures의 결과를 풀어서 따로 저장할 수 있다.*"
   ]
  },
  {
   "cell_type": "code",
   "execution_count": 154,
   "id": "b94cc719",
   "metadata": {
    "ExecuteTime": {
     "end_time": "2023-08-29T22:16:05.064000+09:00",
     "start_time": "2023-08-29T13:16:03.624Z"
    }
   },
   "outputs": [
    {
     "data": {
      "text/plain": [
       "\"a\""
      ]
     },
     "execution_count": 154,
     "metadata": {},
     "output_type": "execute_result"
    }
   ],
   "source": [
    "first, second, third = m.captures; first"
   ]
  },
  {
   "cell_type": "markdown",
   "id": "1e563afa",
   "metadata": {},
   "source": [
    "* Perl Regex 문법에 따라, Capturing Group에 `?<...>`로 이름을 지정하였을 때, Indexing에서 `:Group_Name`이나 `Group_No`로 `RegexMatch`에 Indexing할 수 있다."
   ]
  },
  {
   "cell_type": "code",
   "execution_count": 155,
   "id": "df722214",
   "metadata": {
    "ExecuteTime": {
     "end_time": "2023-08-29T22:18:02.201000+09:00",
     "start_time": "2023-08-29T13:18:00.767Z"
    }
   },
   "outputs": [
    {
     "data": {
      "text/plain": [
       "RegexMatch(\"12:45\", hour=\"12\", minute=\"45\")"
      ]
     },
     "execution_count": 155,
     "metadata": {},
     "output_type": "execute_result"
    }
   ],
   "source": [
    "m = match(r\"(?<hour>\\d+):(?<minute>\\d+)\", \"12:45\")"
   ]
  },
  {
   "cell_type": "code",
   "execution_count": 156,
   "id": "37dc9efe",
   "metadata": {
    "ExecuteTime": {
     "end_time": "2023-08-29T22:18:25.422000+09:00",
     "start_time": "2023-08-29T13:18:23.969Z"
    }
   },
   "outputs": [
    {
     "data": {
      "text/plain": [
       "\"45\""
      ]
     },
     "execution_count": 156,
     "metadata": {},
     "output_type": "execute_result"
    }
   ],
   "source": [
    "m[:minute] # Indexing into RegexMatch, with the name of capturing group"
   ]
  },
  {
   "cell_type": "code",
   "execution_count": 157,
   "id": "586ccaa4",
   "metadata": {
    "ExecuteTime": {
     "end_time": "2023-08-29T22:18:37.418000+09:00",
     "start_time": "2023-08-29T13:18:35.981Z"
    }
   },
   "outputs": [
    {
     "data": {
      "text/plain": [
       "\"45\""
      ]
     },
     "execution_count": 157,
     "metadata": {},
     "output_type": "execute_result"
    }
   ],
   "source": [
    "m[2] # Indexing into RegexMatch, with the number of capturing group"
   ]
  },
  {
   "cell_type": "markdown",
   "id": "3828d6f5",
   "metadata": {},
   "source": [
    "* `replace(String, Regex => Replace_String)` 내장함수를 이용하여 특정 `String`에서 정규 표현식에 상응하는 부분을 특정 문자열로 대체할 수 있다. 이 때 `Replace_String`은 Prefix `s`로 표시해주어야 한다.\n",
    "* 이 때, `replace` 내장함수에서 `Regex`에서 Capture Group의 이름을 설정한 경우, `Replace_String`에서 이들을 `\\g<group_name>`의 형태로 사용할 수 있다.\n",
    "* 또한, `replace` 내장함수의 `Regex`에서 Capture Group을 정한 경우, `Replace_String`에서 그 Capture Group의 번호를 이용해 `\\group_no`의 형태로 사용할 수 있다."
   ]
  },
  {
   "cell_type": "code",
   "execution_count": 159,
   "id": "a21cb3ba",
   "metadata": {
    "ExecuteTime": {
     "end_time": "2023-08-29T23:35:31.444000+09:00",
     "start_time": "2023-08-29T14:35:29.854Z"
    }
   },
   "outputs": [
    {
     "data": {
      "text/plain": [
       "\"second first\""
      ]
     },
     "execution_count": 159,
     "metadata": {},
     "output_type": "execute_result"
    }
   ],
   "source": [
    "replace(\"first second\", r\"(\\w+) (?<agroup>\\w+)\" => s\"\\g<agroup> \\1\") #\\1이 first-capture group인 first를 지시."
   ]
  },
  {
   "cell_type": "markdown",
   "id": "f17dfcf0",
   "metadata": {},
   "source": [
    "* `replace` 내장함수의 `Replace_String`에서 Capture Group의 번호에 0을 쓰면, 전체 Capture Group들을 지시한다."
   ]
  },
  {
   "cell_type": "code",
   "execution_count": 163,
   "id": "25407f38",
   "metadata": {
    "ExecuteTime": {
     "end_time": "2023-08-29T23:37:27.327000+09:00",
     "start_time": "2023-08-29T14:37:25.843Z"
    }
   },
   "outputs": [
    {
     "data": {
      "text/plain": [
       "\"first second\""
      ]
     },
     "execution_count": 163,
     "metadata": {},
     "output_type": "execute_result"
    }
   ],
   "source": [
    "replace(\"first second\", r\"(\\w+) (?<agroup>\\w+)\" => s\"\\0\")"
   ]
  },
  {
   "cell_type": "markdown",
   "id": "5682125c",
   "metadata": {},
   "source": [
    "* Numbered Capture Group은 Disambiguation을 위해 `\\group_no` 외에도 `\\g<group_no>`의 형태로도 reference 가능하다."
   ]
  },
  {
   "cell_type": "code",
   "execution_count": 164,
   "id": "329b6086",
   "metadata": {
    "ExecuteTime": {
     "end_time": "2023-08-29T23:38:22.188000+09:00",
     "start_time": "2023-08-29T14:38:20.699Z"
    }
   },
   "outputs": [
    {
     "data": {
      "text/plain": [
       "\"a1\""
      ]
     },
     "execution_count": 164,
     "metadata": {},
     "output_type": "execute_result"
    }
   ],
   "source": [
    "replace(\"a\", r\".\" => s\"\\g<0>1\")"
   ]
  },
  {
   "cell_type": "markdown",
   "id": "1755ea37",
   "metadata": {},
   "source": [
    "* Perl Regex에서 Regular Expression의 Behaviour을 Flag `i`, `m`, `s`, `x` 등을 조합하여 수정할 수 있는데, 이 Flag들은 Perl에서와 같은 의미를 가진다. 이들 Flag들은 Regex String의 뒤에 Postfix로 순차대로 붙여야 한다.\n",
    "    * `i`: Do case-insensitive pattern matching.\n",
    "    * `m`: Treat string as multiple lines. That is, change `^` and `$` from matching the start or end of the string to matching the start or end of any line anywhere within the string.\n",
    "    * `s`: Treat string as single line. That is, change \".\" to match any character whatsover, even a newline, which normally it would not match.\n",
    "    * `x`: Tells the regular expression parser to ignore most whitespace that is neither backslashed nor within a character class."
   ]
  },
  {
   "cell_type": "code",
   "execution_count": 165,
   "id": "63431e93",
   "metadata": {
    "ExecuteTime": {
     "end_time": "2023-08-29T23:41:39.378000+09:00",
     "start_time": "2023-08-29T14:41:37.671Z"
    }
   },
   "outputs": [
    {
     "data": {
      "text/plain": [
       "r\"a+.*b+.*?d$\"ims"
      ]
     },
     "execution_count": 165,
     "metadata": {},
     "output_type": "execute_result"
    }
   ],
   "source": [
    "r\"a+.*b+.*?d$\"ism"
   ]
  },
  {
   "cell_type": "code",
   "execution_count": 166,
   "id": "5b63b0b3",
   "metadata": {
    "ExecuteTime": {
     "end_time": "2023-08-29T23:42:05.284000+09:00",
     "start_time": "2023-08-29T14:42:03.788Z"
    }
   },
   "outputs": [
    {
     "data": {
      "text/plain": [
       "RegexMatch(\"angry,\\nBad world\")"
      ]
     },
     "execution_count": 166,
     "metadata": {},
     "output_type": "execute_result"
    }
   ],
   "source": [
    "match(r\"a+.*b+.*?d$\"ism, \"Goodbye,\\nOh,angry,\\nBad world\\n\")"
   ]
  },
  {
   "cell_type": "markdown",
   "id": "177e4c53",
   "metadata": {},
   "source": [
    "* Regex String에서 Interpolation이나 Unescaping은 일어나지 않는다. (단, \"는 제외, \"는 Escaping이 유일하게 허용된다)"
   ]
  },
  {
   "cell_type": "code",
   "execution_count": 167,
   "id": "6a83425f",
   "metadata": {
    "ExecuteTime": {
     "end_time": "2023-08-29T23:43:23.026000+09:00",
     "start_time": "2023-08-29T14:43:21.529Z"
    }
   },
   "outputs": [
    {
     "data": {
      "text/plain": [
       "10"
      ]
     },
     "execution_count": 167,
     "metadata": {},
     "output_type": "execute_result"
    }
   ],
   "source": [
    "x = 10"
   ]
  },
  {
   "cell_type": "code",
   "execution_count": 168,
   "id": "fa9e06fa",
   "metadata": {
    "ExecuteTime": {
     "end_time": "2023-08-29T23:43:30.111000+09:00",
     "start_time": "2023-08-29T14:43:28.614Z"
    }
   },
   "outputs": [
    {
     "data": {
      "text/plain": [
       "r\"$x\""
      ]
     },
     "execution_count": 168,
     "metadata": {},
     "output_type": "execute_result"
    }
   ],
   "source": [
    "r\"$x\" # No Interpolation"
   ]
  },
  {
   "cell_type": "code",
   "execution_count": 169,
   "id": "c5a7305f",
   "metadata": {
    "ExecuteTime": {
     "end_time": "2023-08-29T23:43:43.708000+09:00",
     "start_time": "2023-08-29T14:43:42.207Z"
    }
   },
   "outputs": [
    {
     "data": {
      "text/plain": [
       "\"10\""
      ]
     },
     "execution_count": 169,
     "metadata": {},
     "output_type": "execute_result"
    }
   ],
   "source": [
    "\"$x\" # Normal String Literal, therefore Interpolation Occured."
   ]
  },
  {
   "cell_type": "code",
   "execution_count": 170,
   "id": "f4c524d2",
   "metadata": {
    "ExecuteTime": {
     "end_time": "2023-08-29T23:44:11.173000+09:00",
     "start_time": "2023-08-29T14:44:09.675Z"
    }
   },
   "outputs": [
    {
     "data": {
      "text/plain": [
       "r\"\\x\""
      ]
     },
     "execution_count": 170,
     "metadata": {},
     "output_type": "execute_result"
    }
   ],
   "source": [
    "r\"\\x\" # No Escaping except for double quotation mark(\")"
   ]
  },
  {
   "cell_type": "code",
   "execution_count": 171,
   "id": "45271a1a",
   "metadata": {
    "ExecuteTime": {
     "end_time": "2023-08-29T23:44:27.453000+09:00",
     "start_time": "2023-08-29T14:44:25.954Z"
    }
   },
   "outputs": [
    {
     "ename": "LoadError",
     "evalue": "\u001b[91msyntax: invalid escape sequence\u001b[39m",
     "output_type": "error",
     "traceback": [
      "\u001b[91msyntax: invalid escape sequence\u001b[39m",
      ""
     ]
    }
   ],
   "source": [
    "\"\\x\" # Normal String Literal, therefore Escaping Occured."
   ]
  },
  {
   "cell_type": "markdown",
   "id": "ef8fb5af",
   "metadata": {},
   "source": [
    "* Triple-quoted Regex String도 지원된다. 즉, `r\"\"\"...\"\"\"`도 지원된다."
   ]
  },
  {
   "cell_type": "markdown",
   "id": "ca9f719a",
   "metadata": {},
   "source": [
    "* `Regex()` Constructor를 이용하면 Regular Expression을 Programmatic하게 만들 수 있다. 특히 String Concatenation Operator `*`와 함께 사용하면 큰 도움이 된다."
   ]
  },
  {
   "cell_type": "code",
   "execution_count": 172,
   "id": "80652b47",
   "metadata": {
    "ExecuteTime": {
     "end_time": "2023-08-29T23:48:57.836000+09:00",
     "start_time": "2023-08-29T14:48:56.205Z"
    }
   },
   "outputs": [
    {
     "name": "stderr",
     "output_type": "stream",
     "text": [
      "WARNING: using Dates.second in module Main conflicts with an existing identifier.\n"
     ]
    },
    {
     "data": {
      "text/plain": [
       "RegexMatch(\"Day 10\")"
      ]
     },
     "execution_count": 172,
     "metadata": {},
     "output_type": "execute_result"
    }
   ],
   "source": [
    "using Dates\n",
    "d = Date(1962,7,10)\n",
    "regex_d = Regex(\"Day \" * string(day(d)))\n",
    "match(regex_d, \"It happended on Day 10\")"
   ]
  },
  {
   "cell_type": "code",
   "execution_count": 173,
   "id": "c244f869",
   "metadata": {
    "ExecuteTime": {
     "end_time": "2023-08-29T23:52:28.497000+09:00",
     "start_time": "2023-08-29T14:52:26.986Z"
    }
   },
   "outputs": [
    {
     "data": {
      "text/plain": [
       "RegexMatch(\" Jon \")"
      ]
     },
     "execution_count": 173,
     "metadata": {},
     "output_type": "execute_result"
    }
   ],
   "source": [
    "name = \"Jon\"\n",
    "regex_name = Regex(\"[\\\"( ]\\\\Q$name\\\\E[\\\") ]\") # interpolate value of name (\\\\은 \\임에 주의)\n",
    "# \\Q는 Regex String에서 Regex가 아닌 문자열 상수로 해석되는 부분의 시작을 지시\n",
    "# \\E는 Regex String에서 Regex가 아닌 문자열 상수로 해석되는 부분의 끝을 지시\n",
    "# 따라서 위 Regex에서 $name의 부분, 즉 Jon은 J, o, n이 아닌 Jon으로 있는 그대로 해석된다.\n",
    "match(regex_name, \" Jon \")"
   ]
  },
  {
   "cell_type": "markdown",
   "id": "06f447b8",
   "metadata": {},
   "source": [
    "* <span class=\"mark\">**Note**</span> All characters between the `\\Q` and the `\\E` are interpreted as literal characters (after string interpolation) -> Especially useful when interpolating, possibly malicious, user input. (Regex 문법에 따라 입력하는 경우 등...)"
   ]
  },
  {
   "cell_type": "code",
   "execution_count": 174,
   "id": "c57f2c50",
   "metadata": {
    "ExecuteTime": {
     "end_time": "2023-08-29T23:52:43.966000+09:00",
     "start_time": "2023-08-29T14:52:42.455Z"
    }
   },
   "outputs": [
    {
     "data": {
      "text/plain": [
       "true"
      ]
     },
     "execution_count": 174,
     "metadata": {},
     "output_type": "execute_result"
    }
   ],
   "source": [
    "match(regex_name, \"[Jon]\") === nothing"
   ]
  },
  {
   "cell_type": "markdown",
   "id": "5a483bc2",
   "metadata": {},
   "source": [
    "#### Byte Array Literals"
   ]
  },
  {
   "cell_type": "markdown",
   "id": "8b9a4220",
   "metadata": {},
   "source": [
    "* String Literal 앞에 Prefix로 `b`를 붙이면 Julia는 이 문자열을 `String`이 아니라, 이 `String`을 Decode한 Byte Array로 취급한다. 즉, `UInt8` array로 취급한다. 정확히는 `CodeUnits{UInt8, String}`으로 취급한다.\n",
    "    * ASCII를 비롯한 UTF-8 문자들은 있는 그대로 byte들로 바꾼다.\n",
    "    * `\\x` 또는 Octal Escape Sequence는 상응하는 byte들로 바꾼다."
   ]
  },
  {
   "cell_type": "code",
   "execution_count": 175,
   "id": "612bb6cb",
   "metadata": {
    "ExecuteTime": {
     "end_time": "2023-08-30T00:28:09.420000+09:00",
     "start_time": "2023-08-29T15:28:07.874Z"
    }
   },
   "outputs": [
    {
     "data": {
      "text/plain": [
       "8-element Base.CodeUnits{UInt8,String}:\n",
       " 0x44\n",
       " 0x41\n",
       " 0x54\n",
       " 0x41\n",
       " 0xff\n",
       " 0xe2\n",
       " 0x88\n",
       " 0x80"
      ]
     },
     "execution_count": 175,
     "metadata": {},
     "output_type": "execute_result"
    }
   ],
   "source": [
    "b\"DATA\\xff\\u2200\"\n",
    "# D, A, T, A는 각각 상응하는 ASCII 코드에 따른 1 byte들로 바뀐다.\n",
    "# \\xff는 0xff로 그대로.\n",
    "# \\u2200은 상응하는 3-byte unicode로 decode."
   ]
  },
  {
   "cell_type": "markdown",
   "id": "c1b21beb",
   "metadata": {},
   "source": [
    "* 위 byte array를 만들기 위해 사용한 문자열은 중간의 `0xff`가 Invalid하므로 Invalid UTF-8 String이 됨에 주의하자. 이처럼 Invalid UTF-8 String이더라도, 이런 식으로 byte array를 만드는 데 쓸 수 있다."
   ]
  },
  {
   "cell_type": "code",
   "execution_count": 176,
   "id": "6b7d0730",
   "metadata": {
    "ExecuteTime": {
     "end_time": "2023-08-30T00:28:52.771000+09:00",
     "start_time": "2023-08-29T15:28:51.222Z"
    }
   },
   "outputs": [
    {
     "data": {
      "text/plain": [
       "false"
      ]
     },
     "execution_count": 176,
     "metadata": {},
     "output_type": "execute_result"
    }
   ],
   "source": [
    "isvalid(\"DATA\\xff\\u2200\")"
   ]
  },
  {
   "cell_type": "markdown",
   "id": "e2a48564",
   "metadata": {},
   "source": [
    "* `CodeUnits{UInt8, Stirng}` Type은 Read-only처럼 작동하기 때문에, Modification을 위해 Standard Vector가 필요한 경우 `Vector{UInt8}` Constructor를 이용해 Type Casting할 수 있다."
   ]
  },
  {
   "cell_type": "code",
   "execution_count": 177,
   "id": "0cc2d195",
   "metadata": {
    "ExecuteTime": {
     "end_time": "2023-08-30T00:30:06.771000+09:00",
     "start_time": "2023-08-29T15:30:05.224Z"
    }
   },
   "outputs": [
    {
     "data": {
      "text/plain": [
       "3-element Base.CodeUnits{UInt8,String}:\n",
       " 0x31\n",
       " 0x32\n",
       " 0x33"
      ]
     },
     "execution_count": 177,
     "metadata": {},
     "output_type": "execute_result"
    }
   ],
   "source": [
    "x = b\"123\""
   ]
  },
  {
   "cell_type": "code",
   "execution_count": 178,
   "id": "3eb0f4bc",
   "metadata": {
    "ExecuteTime": {
     "end_time": "2023-08-30T00:30:08.998000+09:00",
     "start_time": "2023-08-29T15:30:07.444Z"
    }
   },
   "outputs": [
    {
     "data": {
      "text/plain": [
       "0x31"
      ]
     },
     "execution_count": 178,
     "metadata": {},
     "output_type": "execute_result"
    }
   ],
   "source": [
    "x[1]"
   ]
  },
  {
   "cell_type": "code",
   "execution_count": 179,
   "id": "7a12510e",
   "metadata": {
    "ExecuteTime": {
     "end_time": "2023-08-30T00:30:18.793000+09:00",
     "start_time": "2023-08-29T15:30:17.112Z"
    }
   },
   "outputs": [
    {
     "ename": "ErrorException",
     "evalue": "\u001b[91msetindex! not defined for Base.CodeUnits{UInt8,String}\u001b[39m",
     "output_type": "error",
     "traceback": [
      "\u001b[91msetindex! not defined for Base.CodeUnits{UInt8,String}\u001b[39m",
      "",
      "Stacktrace:",
      " [1] error(::String, ::Type{T} where T) at ./error.jl:42",
      " [2] error_if_canonical_setindex(::IndexLinear, ::Base.CodeUnits{UInt8,String}, ::Int64) at ./abstractarray.jl:1081",
      " [3] setindex!(::Base.CodeUnits{UInt8,String}, ::UInt8, ::Int64) at ./abstractarray.jl:1072",
      " [4] top-level scope at In[179]:1"
     ]
    }
   ],
   "source": [
    "x[1] = 0x32 # Acts like read-only vector"
   ]
  },
  {
   "cell_type": "code",
   "execution_count": 180,
   "id": "9fefffe6",
   "metadata": {
    "ExecuteTime": {
     "end_time": "2023-08-30T00:30:28.656000+09:00",
     "start_time": "2023-08-29T15:30:26.645Z"
    }
   },
   "outputs": [
    {
     "data": {
      "text/plain": [
       "3-element Array{UInt8,1}:\n",
       " 0x31\n",
       " 0x32\n",
       " 0x33"
      ]
     },
     "execution_count": 180,
     "metadata": {},
     "output_type": "execute_result"
    }
   ],
   "source": [
    "Vector{UInt8}(x)"
   ]
  },
  {
   "cell_type": "markdown",
   "id": "787f79e0",
   "metadata": {},
   "source": [
    "#### Version Number Literals"
   ]
  },
  {
   "cell_type": "markdown",
   "id": "38ed4430",
   "metadata": {},
   "source": [
    "* Julia는 Non-Standard String Literal 중에서도 Version No를 쉽게 Express하기 위한 Version Number Literal을 제공하는데, 단순히 문자열 앞에 Prefix로 `v`를 붙이면 된다.\n",
    "* Version Number Literal은 Julia Interpreter에 의해, 자동으로 `VersionNumber` 객체로 변환된다. 이 `VersionNumber` 객체는 sematic versioning 규약을 따른다.\n",
    "    * **Sematic Versioning**: `major_ver.minor_ver.patch_ver-pre_release_alphanum+build_alphanum`\n",
    "        * Ex) `0.2.1-rc1+win64`\n",
    "            * Major Version: 0\n",
    "            * Minor Version: 2\n",
    "            * Patch Version: 1\n",
    "            * Pre-release: rc1\n",
    "            * Build: wind64\n",
    "* Version Number Literal을 작성할 때, Major Version을 빼고 모든 요소는 Optional이다. 따라서, `v\"0.2\"`는 정확히 `v\"0.2.0\"`과 같고, `v\"2\"`는 `v\"2.0.0\"`과 같은 식이다."
   ]
  },
  {
   "cell_type": "markdown",
   "id": "8fcb5cf2",
   "metadata": {},
   "source": [
    "* Julia는 Julia의 version을 `VersionNumber` 객체로 들고 있으며, 내부 상수 `VERSION`에 저장하고 있다."
   ]
  },
  {
   "cell_type": "markdown",
   "id": "bad7969c",
   "metadata": {},
   "source": [
    "* `VersionNumber` 객체는 비교 연산을 사용하여 쉽게 비교할 수 있다."
   ]
  },
  {
   "cell_type": "code",
   "execution_count": 181,
   "id": "3c93538e",
   "metadata": {
    "ExecuteTime": {
     "end_time": "2023-08-30T00:36:42.190000+09:00",
     "start_time": "2023-08-29T15:36:40.539Z"
    }
   },
   "outputs": [],
   "source": [
    "if v\"0.2\" <= VERSION < v\"0.3-\" # trailing - indicates before v0.3\n",
    "    # do something specific to 0.2 release series\n",
    "end"
   ]
  },
  {
   "cell_type": "markdown",
   "id": "53169be0",
   "metadata": {},
   "source": [
    "* `VERSION~ 상수 외에도, `VersionNumber` object들은 `Pkg` 모듈에서 패키지의 버전이나 의존성을 표시하기 위해 종종 사용된다."
   ]
  },
  {
   "cell_type": "markdown",
   "id": "f2d431c6",
   "metadata": {},
   "source": [
    "### Raw String Literals"
   ]
  },
  {
   "cell_type": "markdown",
   "id": "9217fc40",
   "metadata": {},
   "source": [
    "* Python의 Raw String과 유사하게, Julia도 Interpolation이나 Escaping을 무시하고 있는 그대로의 문자열을 저장할 수 있다. 단, Python과는 달리 `r` prefix가 Regex에 사용되기 때문에, `raw` prefix를 붙여야 한다."
   ]
  },
  {
   "cell_type": "markdown",
   "id": "3f9b827e",
   "metadata": {},
   "source": [
    "* 단, Quotation Mark는 Escape되어야 하며, Quote Character 바로 앞에 오는 Backslash 도 Escaping되어야 한다. (그래야 raw 문자열 끝을 알 수 있음)"
   ]
  },
  {
   "cell_type": "code",
   "execution_count": 185,
   "id": "46e69290",
   "metadata": {
    "ExecuteTime": {
     "end_time": "2023-08-30T00:40:40.958000+09:00",
     "start_time": "2023-08-29T15:40:39.401Z"
    }
   },
   "outputs": [
    {
     "name": "stdout",
     "output_type": "stream",
     "text": [
      "\\\\ \\\"\n"
     ]
    }
   ],
   "source": [
    "println(raw\"\\\\ \\\\\\\"\")\n",
    "# \\\\는 그대로, 끝의 \\\\\\\"의 경우, \\\"는 쌍따옴표 하나(\")로 처리되고, 그 앞의 \\\\는 쌍따옴표 앞의 \\이므로 Escaping됨."
   ]
  }
 ],
 "metadata": {
  "kernelspec": {
   "display_name": "Julia 1.9.3",
   "language": "julia",
   "name": "julia-1.9"
  },
  "language_info": {
   "file_extension": ".jl",
   "mimetype": "application/julia",
   "name": "julia",
   "version": "1.9.3"
  },
  "toc": {
   "base_numbering": 1,
   "nav_menu": {},
   "number_sections": true,
   "sideBar": true,
   "skip_h1_title": false,
   "title_cell": "Table of Contents",
   "title_sidebar": "Contents",
   "toc_cell": false,
   "toc_position": {},
   "toc_section_display": true,
   "toc_window_display": false
  },
  "varInspector": {
   "cols": {
    "lenName": 16,
    "lenType": 16,
    "lenVar": 40
   },
   "kernels_config": {
    "python": {
     "delete_cmd_postfix": "",
     "delete_cmd_prefix": "del ",
     "library": "var_list.py",
     "varRefreshCmd": "print(var_dic_list())"
    },
    "r": {
     "delete_cmd_postfix": ") ",
     "delete_cmd_prefix": "rm(",
     "library": "var_list.r",
     "varRefreshCmd": "cat(var_dic_list()) "
    }
   },
   "types_to_exclude": [
    "module",
    "function",
    "builtin_function_or_method",
    "instance",
    "_Feature"
   ],
   "window_display": false
  }
 },
 "nbformat": 4,
 "nbformat_minor": 5
}
