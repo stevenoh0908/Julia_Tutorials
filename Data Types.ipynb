{
 "cells": [
  {
   "cell_type": "markdown",
   "id": "bc8f35e0",
   "metadata": {},
   "source": [
    "# Data Types in Julia\n",
    "---\n",
    "* Created on 25 Aug 2023\n",
    "* Created by Yooshin Oh (stevenoh0908@snu.ac.kr)\n",
    "---\n",
    "* <span class=\"mark\">Documentation: https://docs.julialang.org/en/v1/manual/integers-and-floating-point-numbers/</span>"
   ]
  },
  {
   "cell_type": "markdown",
   "id": "23615f5a",
   "metadata": {},
   "source": [
    "## Julia의 Precision Arithmetic 특징"
   ]
  },
  {
   "cell_type": "markdown",
   "id": "2d091ada",
   "metadata": {},
   "source": [
    "* Julia는 하드웨어 상에서 지원하지 않는 정확도에서의 연산도 소프트웨어적으로 지원해준다. 즉, double, float, int, long long 등과 같은 자료형에 국한될 필요 없이, 임의의 정확도를 가지는 산술 연산을 할 수 있다. (Supports *Aribitary Precision Arithmetic*)"
   ]
  },
  {
   "cell_type": "markdown",
   "id": "29c49d25",
   "metadata": {},
   "source": [
    "## Julia의 Data Types"
   ]
  },
  {
   "cell_type": "markdown",
   "id": "42352c0b",
   "metadata": {},
   "source": [
    "### Integer Types"
   ]
  },
  {
   "cell_type": "markdown",
   "id": "9b910fab",
   "metadata": {},
   "source": [
    "|Type|Signed|Number of Bits|Smallest Value|Largest Value|\n",
    "|:--:|:-:|:-:|:---:|:---:|\n",
    "|`Int8`|Y|8|$-2^{7}$|$2^{7}-1$|\n",
    "|`UInt8`|N|8|$0$|$2^{8}-1$|\n",
    "|`Int16`|Y|16|$-2^{15}$|$2^{15}-1$|\n",
    "|`UInt16`|N|16|$0$|$2^{16}-1$|\n",
    "|`Int32`|Y|32|$-2^{31}$|$2^{31}-1$|\n",
    "|`UInt32`|N|32|$0$|$2^{32}-1$|\n",
    "|`Int64`|Y|64|$-2^{63}$|$2^{63}-1$|\n",
    "|`UInt64`|N|64|$0$|$2^{64}-1$|\n",
    "|`Int128`|Y|128|$-2^{127}$|$2^{127}-1$|\n",
    "|`UInt128`|N|128|$0$|$2^{128}-1$|\n",
    "|`Bool`|N/A|8|false (0)|true (1)|"
   ]
  },
  {
   "cell_type": "markdown",
   "id": "677cf474",
   "metadata": {},
   "source": [
    "* Julia의 경우 여타 프로그래밍 언어들과는 달리 기본 정수 자료형 중에 128 bit 정수 자료형을 지원함에 주의. Boolean Type의 경우는 1 byte를 기본으로 쓰는 것으로 처리한다."
   ]
  },
  {
   "cell_type": "markdown",
   "id": "e19f5c95",
   "metadata": {},
   "source": [
    "### Floating-Point Types"
   ]
  },
  {
   "cell_type": "markdown",
   "id": "d4e62506",
   "metadata": {},
   "source": [
    "|Type|Precision|Number of Bits|\n",
    "|:--:|:--:|:-:|\n",
    "|`Float16`|[Half](https://en.wikipedia.org/wiki/Half-precision_floating-point_format)|16|\n",
    "|`Float32`|[Single](https://en.wikipedia.org/wiki/Single-precision_floating-point_format)|32|\n",
    "|`Float64`|[Double](https://en.wikipedia.org/wiki/Double-precision_floating-point_format)|64|"
   ]
  },
  {
   "cell_type": "markdown",
   "id": "92cf7aed",
   "metadata": {},
   "source": [
    "* Julia의 경우 Half-Precision을 지원한다. C 언어의 경우는 기본 Primitive Types의 경우 Single or Double Precision 만을 지원하지만 (`float`와 `double`) Julia의 경우는 나아가 16 bit (2 bytes) 만을 사용하는 Half Precision Floating-Point Type도 지원한다."
   ]
  },
  {
   "cell_type": "markdown",
   "id": "9f8f6fd5",
   "metadata": {},
   "source": [
    "### Type Promotion System과 자료형"
   ]
  },
  {
   "cell_type": "markdown",
   "id": "c61ff9d6",
   "metadata": {},
   "source": [
    "* Julia는 적절한 Type Promotion System을 가지고 있어서, 모든 Numeric Type  사이의 연산은 명시적 Casting 없이도 자연스럽게 이루어진다. (Python-like)"
   ]
  },
  {
   "cell_type": "markdown",
   "id": "e34a5105",
   "metadata": {},
   "source": [
    "## Julia Integers & Floating-Points"
   ]
  },
  {
   "cell_type": "markdown",
   "id": "1411273d",
   "metadata": {},
   "source": [
    "### 정수형 상수"
   ]
  },
  {
   "cell_type": "markdown",
   "id": "a60cacfd",
   "metadata": {},
   "source": [
    "#### 기본 정수형 상수 표현법"
   ]
  },
  {
   "cell_type": "markdown",
   "id": "8056b05f",
   "metadata": {},
   "source": [
    "* Julia에서 정수형 상수는 Python에서의 표현법과 그 표현법이 같다."
   ]
  },
  {
   "cell_type": "code",
   "execution_count": 1,
   "id": "3bafa5f6",
   "metadata": {
    "ExecuteTime": {
     "end_time": "2023-08-25T00:35:54.446000+09:00",
     "start_time": "2023-08-24T15:35:53.011Z"
    }
   },
   "outputs": [
    {
     "data": {
      "text/plain": [
       "1"
      ]
     },
     "execution_count": 1,
     "metadata": {},
     "output_type": "execute_result"
    }
   ],
   "source": [
    "1"
   ]
  },
  {
   "cell_type": "code",
   "execution_count": 2,
   "id": "6530ec34",
   "metadata": {
    "ExecuteTime": {
     "end_time": "2023-08-25T00:35:54.689000+09:00",
     "start_time": "2023-08-24T15:35:55.220Z"
    }
   },
   "outputs": [
    {
     "data": {
      "text/plain": [
       "1234"
      ]
     },
     "execution_count": 2,
     "metadata": {},
     "output_type": "execute_result"
    }
   ],
   "source": [
    "1234"
   ]
  },
  {
   "cell_type": "markdown",
   "id": "b2064a8d",
   "metadata": {},
   "source": [
    "* Julia에서 정수형 상수는 32-bit Arch에서는 `Int32`형으로, 64-bit Arch에서는 `Int64`형으로 기본 표현된다."
   ]
  },
  {
   "cell_type": "code",
   "execution_count": 3,
   "id": "6462abbe",
   "metadata": {
    "ExecuteTime": {
     "end_time": "2023-08-25T00:36:44.650000+09:00",
     "start_time": "2023-08-24T15:36:44.724Z"
    }
   },
   "outputs": [
    {
     "data": {
      "text/plain": [
       "Int64"
      ]
     },
     "execution_count": 3,
     "metadata": {},
     "output_type": "execute_result"
    }
   ],
   "source": [
    "typeof(1) # 내 Linux가 64-bit Arch이므로 기본 자료형이 Int64임."
   ]
  },
  {
   "cell_type": "markdown",
   "id": "3c5c0f1b",
   "metadata": {},
   "source": [
    "* 이 때, Julia는 내부 변수인 `Sys.WORD_SIZE`를 이용하여 기본 정수 자료형의 bit 수를 결정한다."
   ]
  },
  {
   "cell_type": "code",
   "execution_count": 4,
   "id": "559b9f80",
   "metadata": {
    "ExecuteTime": {
     "end_time": "2023-08-25T00:37:29.354000+09:00",
     "start_time": "2023-08-24T15:37:29.865Z"
    }
   },
   "outputs": [
    {
     "data": {
      "text/plain": [
       "64"
      ]
     },
     "execution_count": 4,
     "metadata": {},
     "output_type": "execute_result"
    }
   ],
   "source": [
    "Sys.WORD_SIZE # 내 Linux가 64-bit Arch이므로 64로 설정되어 있음."
   ]
  },
  {
   "cell_type": "markdown",
   "id": "ec37fb61",
   "metadata": {},
   "source": [
    "* Julia에서는 System의 Long-Bit 수에 맞추어 `Int`, `UInt` 자료형을 지정해두었다. 즉, 32-bit Arch에서 이들 자료형은 32-bit이고, 64-bit Arch에서 이들 자료형은 64-bit로, 32-bit Arch에서 `Int`, `UInt`는 각각 `Int32`, `UInt32`와 같고, 64-bit Arch에서 `Int`, `UInt`는 각각 `Int64`, `UInt64`와 같다."
   ]
  },
  {
   "cell_type": "code",
   "execution_count": 5,
   "id": "a666e208",
   "metadata": {
    "ExecuteTime": {
     "end_time": "2023-08-25T00:39:29.231000+09:00",
     "start_time": "2023-08-24T15:39:29.737Z"
    }
   },
   "outputs": [
    {
     "data": {
      "text/plain": [
       "Int64"
      ]
     },
     "execution_count": 5,
     "metadata": {},
     "output_type": "execute_result"
    }
   ],
   "source": [
    "Int # 내 Linux가 64-bit Arch이므로 Int64형으로 설정되어 있음."
   ]
  },
  {
   "cell_type": "code",
   "execution_count": 6,
   "id": "f6b0aa25",
   "metadata": {
    "ExecuteTime": {
     "end_time": "2023-08-25T00:39:43.434000+09:00",
     "start_time": "2023-08-24T15:39:43.960Z"
    }
   },
   "outputs": [
    {
     "data": {
      "text/plain": [
       "UInt64"
      ]
     },
     "execution_count": 6,
     "metadata": {},
     "output_type": "execute_result"
    }
   ],
   "source": [
    "UInt # 내 Linux가 64-bit Arch이므로 UInt64형으로 설정되어 있음."
   ]
  },
  {
   "cell_type": "markdown",
   "id": "cae6fe82",
   "metadata": {},
   "source": [
    "* 32-bit System이더라도 32-bit로 표현할 수 없는 겁나게 큰 수는 Julia가 알아서 64-bit 정수 자료형으로 표현해준다."
   ]
  },
  {
   "cell_type": "code",
   "execution_count": 8,
   "id": "323a1f2a",
   "metadata": {
    "ExecuteTime": {
     "end_time": "2023-08-25T00:40:49.107000+09:00",
     "start_time": "2023-08-24T15:40:49.636Z"
    }
   },
   "outputs": [
    {
     "data": {
      "text/plain": [
       "Int64"
      ]
     },
     "execution_count": 8,
     "metadata": {},
     "output_type": "execute_result"
    }
   ],
   "source": [
    "# 즉, 32-bit든 64-bit 시스템이든\n",
    "typeof(300000000000) # -> 32-bit로는 표현 불능, 따라서 두 시스템 모두 Int64로 표현"
   ]
  },
  {
   "cell_type": "markdown",
   "id": "fa53a004",
   "metadata": {},
   "source": [
    "#### 여러 진법으로의 정수형 상수 표현법"
   ]
  },
  {
   "cell_type": "markdown",
   "id": "24f431f9",
   "metadata": {},
   "source": [
    "* <span class=\"girk\">Python에서와 마찬가지로, Julia에서도 **양의 정수**를 2진법, 8진법, 16진법으로 표현이 가능하다.</span>\n",
    "    * 2진법 정수 상수 표현은 `0b` Prefix\n",
    "    * 8진법 정수 상수 표현은 `0o` Prefix\n",
    "    * 16진법 정수 상수 표현은 `0x` Prefix (대소문자 구분하지 않음)"
   ]
  },
  {
   "cell_type": "markdown",
   "id": "af5eee97",
   "metadata": {},
   "source": [
    "* Julia는 해당 양의 정수 상수를 표현하기 위한 최소한의 공간만을 자동으로 할당해준다. 즉, 1을 표현하기 위해서는 단 8-bit면 충분하므로, `UInt8` 자료형으로 자동으로 저장해준다."
   ]
  },
  {
   "cell_type": "code",
   "execution_count": 10,
   "id": "6098f9b0",
   "metadata": {
    "ExecuteTime": {
     "end_time": "2023-08-25T00:43:10.089000+09:00",
     "start_time": "2023-08-24T15:43:10.593Z"
    }
   },
   "outputs": [
    {
     "name": "stdout",
     "output_type": "stream",
     "text": [
      "1\n"
     ]
    },
    {
     "data": {
      "text/plain": [
       "UInt8"
      ]
     },
     "execution_count": 10,
     "metadata": {},
     "output_type": "execute_result"
    }
   ],
   "source": [
    "x = 0x1 # x는 UInt8, 0x01로 저장됨. (8-bit)\n",
    "println(x)\n",
    "typeof(x)"
   ]
  },
  {
   "cell_type": "code",
   "execution_count": 11,
   "id": "57630ec7",
   "metadata": {
    "ExecuteTime": {
     "end_time": "2023-08-25T00:45:07.739000+09:00",
     "start_time": "2023-08-24T15:45:08.226Z"
    }
   },
   "outputs": [
    {
     "name": "stdout",
     "output_type": "stream",
     "text": [
      "291\n"
     ]
    },
    {
     "data": {
      "text/plain": [
       "UInt16"
      ]
     },
     "execution_count": 11,
     "metadata": {},
     "output_type": "execute_result"
    }
   ],
   "source": [
    "x = 0x123 # x는 12-bit를 사용하므로, UInt16, 0x0123으로 저장됨. (16-bit)\n",
    "println(x)\n",
    "typeof(x)"
   ]
  },
  {
   "cell_type": "code",
   "execution_count": 12,
   "id": "b6b2b6ca",
   "metadata": {
    "ExecuteTime": {
     "end_time": "2023-08-25T00:45:51.816000+09:00",
     "start_time": "2023-08-24T15:45:52.304Z"
    }
   },
   "outputs": [
    {
     "name": "stdout",
     "output_type": "stream",
     "text": [
      "19088743\n"
     ]
    },
    {
     "data": {
      "text/plain": [
       "UInt32"
      ]
     },
     "execution_count": 12,
     "metadata": {},
     "output_type": "execute_result"
    }
   ],
   "source": [
    "x = 0x1234567 # x는 28-bit를 사용하므로, UInt32, 0x01234567로 저장됨. (32-bit)\n",
    "println(x)\n",
    "typeof(x)"
   ]
  },
  {
   "cell_type": "code",
   "execution_count": 13,
   "id": "3a209817",
   "metadata": {
    "ExecuteTime": {
     "end_time": "2023-08-25T00:46:52.148000+09:00",
     "start_time": "2023-08-24T15:46:52.637Z"
    }
   },
   "outputs": [
    {
     "name": "stdout",
     "output_type": "stream",
     "text": [
      "81985529216486895\n"
     ]
    },
    {
     "data": {
      "text/plain": [
       "UInt64"
      ]
     },
     "execution_count": 13,
     "metadata": {},
     "output_type": "execute_result"
    }
   ],
   "source": [
    "x = 0x123456789aBcDeF # 16진수 표현에서 대소문자 구분하지 않음. x는 60-bit를 사용하므로, UInt64, 0x0123456789abcdef로 저장됨. (64-bit)\n",
    "println(x)\n",
    "typeof(x)"
   ]
  },
  {
   "cell_type": "code",
   "execution_count": 15,
   "id": "f302a013",
   "metadata": {
    "ExecuteTime": {
     "end_time": "2023-08-25T00:47:31.163000+09:00",
     "start_time": "2023-08-24T15:47:31.670Z"
    }
   },
   "outputs": [
    {
     "name": "stdout",
     "output_type": "stream",
     "text": [
      "22685837286468424649968941046919825544\n"
     ]
    },
    {
     "data": {
      "text/plain": [
       "UInt128"
      ]
     },
     "execution_count": 15,
     "metadata": {},
     "output_type": "execute_result"
    }
   ],
   "source": [
    "x = 0x11112222333344445555666677778888 # x는 딱 128-bit를 사용하므로, UInt128로 그대로 저장됨. (128-bit)\n",
    "println(x)\n",
    "typeof(x)"
   ]
  },
  {
   "cell_type": "markdown",
   "id": "39a1a651",
   "metadata": {},
   "source": [
    "* 16진수 표현과 마찬가지로 이진수, 8진수 표현도 가능하다."
   ]
  },
  {
   "cell_type": "code",
   "execution_count": 17,
   "id": "06f5db48",
   "metadata": {
    "ExecuteTime": {
     "end_time": "2023-08-25T00:48:01.405000+09:00",
     "start_time": "2023-08-24T15:48:01.931Z"
    }
   },
   "outputs": [
    {
     "name": "stdout",
     "output_type": "stream",
     "text": [
      "2\n"
     ]
    },
    {
     "data": {
      "text/plain": [
       "UInt8"
      ]
     },
     "execution_count": 17,
     "metadata": {},
     "output_type": "execute_result"
    }
   ],
   "source": [
    "x = 0b10 # 2-bit 썼으므로 가장 작은 UInt8으로 저장됨.\n",
    "println(x)\n",
    "typeof(x)"
   ]
  },
  {
   "cell_type": "code",
   "execution_count": 21,
   "id": "ce1f9981",
   "metadata": {
    "ExecuteTime": {
     "end_time": "2023-08-25T00:52:31.973000+09:00",
     "start_time": "2023-08-24T15:52:32.474Z"
    }
   },
   "outputs": [
    {
     "name": "stdout",
     "output_type": "stream",
     "text": [
      "8\n"
     ]
    },
    {
     "data": {
      "text/plain": [
       "UInt8"
      ]
     },
     "execution_count": 21,
     "metadata": {},
     "output_type": "execute_result"
    }
   ],
   "source": [
    "x = 0o010 # 6-bit 썼으므로 (앞의 0은 뭐 저장하는 거 없음) 가장 작은 UInt8으로 저장됨.\n",
    "println(x)\n",
    "typeof(x)"
   ]
  },
  {
   "cell_type": "markdown",
   "id": "9f700934",
   "metadata": {},
   "source": [
    "* 만약 2진수, 8진수, 16진수 양의 정수 표현에서 앞에 2개 이상의 0이 붙어 있는 경우, 해당 0까지 이 정수 상수의 Bit-수 결정에 사용한다.\n",
    "    * 이를테면 `0x01`은 `UInt8` 자료형으로 저장되지만 (1을 저장하기 위해서는 최소 자료형인 8-bit 자료형으로 충분)\n",
    "    * `0x0001`은 `UInt16` 자료형으로 저장된다. (여러 개의 0의 자리까지 지시하는 비트들까지 정하기 위해서는 16-bit 자료형이 필요)"
   ]
  },
  {
   "cell_type": "markdown",
   "id": "c1e2a561",
   "metadata": {},
   "source": [
    "* 만약 2진수, 8진수, 16진수 양의 정수 표현 앞에 `-` 단항 연산자를 붙이는 경우, 이는 **음의 정수**를 돌려주는 것이 아니라 (*Not Returning Signed Integer*) 주어진 수의 2의 보수를 **Unsigned로 돌려준다!**\n",
    "* 당연히 이 경우 돌아오는 Unsigned Integer의 bit-수는 `-` 단항 연산자가 붙은 정수의 Size와 동일하다."
   ]
  },
  {
   "cell_type": "code",
   "execution_count": 22,
   "id": "e5b99635",
   "metadata": {
    "ExecuteTime": {
     "end_time": "2023-08-25T00:56:48.534000+09:00",
     "start_time": "2023-08-24T15:56:49.037Z"
    }
   },
   "outputs": [
    {
     "data": {
      "text/plain": [
       "0xfe"
      ]
     },
     "execution_count": 22,
     "metadata": {},
     "output_type": "execute_result"
    }
   ],
   "source": [
    "-0x2 # 0000 0010 -> 1111 1110 (two's complement) -> 0xfe"
   ]
  },
  {
   "cell_type": "code",
   "execution_count": 23,
   "id": "b133b96b",
   "metadata": {
    "ExecuteTime": {
     "end_time": "2023-08-25T00:57:12.878000+09:00",
     "start_time": "2023-08-24T15:57:13.206Z"
    }
   },
   "outputs": [
    {
     "data": {
      "text/plain": [
       "0xfffe"
      ]
     },
     "execution_count": 23,
     "metadata": {},
     "output_type": "execute_result"
    }
   ],
   "source": [
    "-0x0002 # 0000 0000 0000 0010 -> 1111 1111 1111 1110 (two's complement) -> 0xfffe"
   ]
  },
  {
   "cell_type": "markdown",
   "id": "314f1ea0",
   "metadata": {},
   "source": [
    "#### 정수 자료형의 표현 범위 확인하기"
   ]
  },
  {
   "cell_type": "markdown",
   "id": "08afea6a",
   "metadata": {},
   "source": [
    "* Built-in Function `typemin()`, `typemax()` 에 대하여 Argument로 자료형을 넘겨주면, 그 자료형의 최대와 최소값을 구할 수 있다."
   ]
  },
  {
   "cell_type": "code",
   "execution_count": 24,
   "id": "426cb706",
   "metadata": {
    "ExecuteTime": {
     "end_time": "2023-08-25T00:58:41.074000+09:00",
     "start_time": "2023-08-24T15:58:41.306Z"
    }
   },
   "outputs": [
    {
     "data": {
      "text/plain": [
       "(-2147483648, 2147483647)"
      ]
     },
     "execution_count": 24,
     "metadata": {},
     "output_type": "execute_result"
    }
   ],
   "source": [
    "# Python처럼 Julia도 Tuple을 지원하는 모양이다.\n",
    "(typemin(Int32), typemax(Int32))"
   ]
  },
  {
   "cell_type": "code",
   "execution_count": 25,
   "id": "936dc628",
   "metadata": {
    "ExecuteTime": {
     "end_time": "2023-08-25T01:00:18.191000+09:00",
     "start_time": "2023-08-24T16:00:18.562Z"
    }
   },
   "outputs": [
    {
     "name": "stdout",
     "output_type": "stream",
     "text": [
      "   Int8: [-128, 127]\n",
      "  Int16: [-32768, 32767]\n",
      "  Int32: [-2147483648, 2147483647]\n",
      "  Int64: [-9223372036854775808, 9223372036854775807]\n",
      " Int128: [-170141183460469231731687303715884105728, 170141183460469231731687303715884105727]\n",
      "  UInt8: [0, 255]\n",
      " UInt16: [0, 65535]\n",
      " UInt32: [0, 4294967295]\n",
      " UInt64: [0, 18446744073709551615]\n",
      "UInt128: [0, 340282366920938463463374607431768211455]\n"
     ]
    }
   ],
   "source": [
    "# 모든 정수 자료형의 표현 범위 확인\n",
    "# Julia는 Python-like for 문을 지원하며, Python-like Container Types도 지원하는 모양.\n",
    "for T in [Int8, Int16, Int32, Int64, Int128, UInt8, UInt16, UInt32, UInt64, UInt128]\n",
    "    println(\"$(lpad(T,7)): [$(typemin(T)), $(typemax(T))]\")\n",
    "end"
   ]
  },
  {
   "cell_type": "markdown",
   "id": "a42aefe6",
   "metadata": {},
   "source": [
    "#### Overflow"
   ]
  },
  {
   "cell_type": "markdown",
   "id": "ef958dcc",
   "metadata": {},
   "source": [
    "* Julia에서는 변수의 표현 범위를 넘어가는 산술 연산이 수행되는 경우, Circular Behaviour를 보임. (Wraparound Behaviour)\n",
    "* 즉, 겁나 큰 양수에 1을 더해서 Overflow가 나면 음수가 되는 구조."
   ]
  },
  {
   "cell_type": "code",
   "execution_count": 26,
   "id": "28958161",
   "metadata": {
    "ExecuteTime": {
     "end_time": "2023-08-25T01:01:54.800000+09:00",
     "start_time": "2023-08-24T16:01:55.274Z"
    }
   },
   "outputs": [
    {
     "name": "stdout",
     "output_type": "stream",
     "text": [
      "9223372036854775807\n",
      "-9223372036854775808\n",
      "true\n"
     ]
    }
   ],
   "source": [
    "x = typemax(Int64)\n",
    "println(x)\n",
    "x = x + 1\n",
    "println(x)\n",
    "println(x == typemin(Int64))"
   ]
  },
  {
   "cell_type": "markdown",
   "id": "61b3f75c",
   "metadata": {},
   "source": [
    "* Julia는 이러한 Overflow 문제를 방지하기 위해, 임의의 겁나 큰 정수도 표현할 수 있는 (Aribitary Precision Arithmetic) 자료형인 `BigInt` Type을 지원하므로 이를 이용하여 Overflow를 방지할 수 있음. (`big()` 함수 등을 이용해 명시적 Casting할 것)"
   ]
  },
  {
   "cell_type": "code",
   "execution_count": 27,
   "id": "80199104",
   "metadata": {
    "ExecuteTime": {
     "end_time": "2023-08-25T01:03:24.030000+09:00",
     "start_time": "2023-08-24T16:03:24.545Z"
    }
   },
   "outputs": [
    {
     "data": {
      "text/plain": [
       "-8446744073709551616"
      ]
     },
     "execution_count": 27,
     "metadata": {},
     "output_type": "execute_result"
    }
   ],
   "source": [
    "10^19 # Overflow Occured in 64-bit (Int64)"
   ]
  },
  {
   "cell_type": "code",
   "execution_count": 28,
   "id": "84b8aee3",
   "metadata": {
    "ExecuteTime": {
     "end_time": "2023-08-25T01:03:52.200000+09:00",
     "start_time": "2023-08-24T16:03:52.399Z"
    }
   },
   "outputs": [
    {
     "data": {
      "text/plain": [
       "10000000000000000000"
      ]
     },
     "execution_count": 28,
     "metadata": {},
     "output_type": "execute_result"
    }
   ],
   "source": [
    "big(10)^19 # BigInt, Therefore no Overflow Occured"
   ]
  },
  {
   "cell_type": "markdown",
   "id": "d550e4e9",
   "metadata": {},
   "source": [
    "#### Exception for Division Errors"
   ]
  },
  {
   "cell_type": "markdown",
   "id": "77ee102f",
   "metadata": {},
   "source": [
    "* Julia에서는 다음 2개의 Division 연산에 대한 Exception이 있음.\n",
    "    1. 0으로 나누기 (Dividing by Zero)\n",
    "    2. 가장 적은 음수(`typemin`)을 -1로 나누기 (Dividing the lowest negative number by -1)\n",
    "* 이 두 경우는 모두 `DivideError`를 Produce\n",
    "* 나누기 연산에서 몫과 나머지를 구해주는 내장함수인 `rem()`과 `mod()` 함수는 2인자 함수인데, 이들은 2번째 인자가 0이면 당연히 `DivideError`를 Throw."
   ]
  },
  {
   "cell_type": "markdown",
   "id": "94bf0905",
   "metadata": {},
   "source": [
    "### 실수형 상수"
   ]
  },
  {
   "cell_type": "markdown",
   "id": "ea461a6d",
   "metadata": {},
   "source": [
    "#### 실수형 상수의 기본 표기법"
   ]
  },
  {
   "cell_type": "markdown",
   "id": "1e05860c",
   "metadata": {},
   "source": [
    "* Julia에서의 Floating-Point 상수들은 IEEE 754 표준을 따름.\n",
    "* C언어 및 Python과 마찬가지로, E-notation (과학적 표기법) 을 사용하여 실수를 표현할 수 있음."
   ]
  },
  {
   "cell_type": "code",
   "execution_count": 29,
   "id": "f7a94e7a",
   "metadata": {
    "ExecuteTime": {
     "end_time": "2023-08-25T02:01:55.276000+09:00",
     "start_time": "2023-08-24T17:01:55.555Z"
    }
   },
   "outputs": [
    {
     "data": {
      "text/plain": [
       "1.0"
      ]
     },
     "execution_count": 29,
     "metadata": {},
     "output_type": "execute_result"
    }
   ],
   "source": [
    "1.0"
   ]
  },
  {
   "cell_type": "code",
   "execution_count": 30,
   "id": "f0e12fc0",
   "metadata": {
    "ExecuteTime": {
     "end_time": "2023-08-25T02:01:56.787000+09:00",
     "start_time": "2023-08-24T17:01:57.272Z"
    }
   },
   "outputs": [
    {
     "data": {
      "text/plain": [
       "1.0"
      ]
     },
     "execution_count": 30,
     "metadata": {},
     "output_type": "execute_result"
    }
   ],
   "source": [
    "1."
   ]
  },
  {
   "cell_type": "code",
   "execution_count": 31,
   "id": "f1fe4c98",
   "metadata": {
    "ExecuteTime": {
     "end_time": "2023-08-25T02:01:58.987000+09:00",
     "start_time": "2023-08-24T17:01:59.473Z"
    }
   },
   "outputs": [
    {
     "data": {
      "text/plain": [
       "0.5"
      ]
     },
     "execution_count": 31,
     "metadata": {},
     "output_type": "execute_result"
    }
   ],
   "source": [
    "0.5"
   ]
  },
  {
   "cell_type": "code",
   "execution_count": 32,
   "id": "e5eeb5a3",
   "metadata": {
    "ExecuteTime": {
     "end_time": "2023-08-25T02:01:59.921000+09:00",
     "start_time": "2023-08-24T17:02:00.407Z"
    }
   },
   "outputs": [
    {
     "data": {
      "text/plain": [
       "0.5"
      ]
     },
     "execution_count": 32,
     "metadata": {},
     "output_type": "execute_result"
    }
   ],
   "source": [
    ".5"
   ]
  },
  {
   "cell_type": "code",
   "execution_count": 33,
   "id": "33b2ed6d",
   "metadata": {
    "ExecuteTime": {
     "end_time": "2023-08-25T02:02:02.221000+09:00",
     "start_time": "2023-08-24T17:02:02.707Z"
    }
   },
   "outputs": [
    {
     "data": {
      "text/plain": [
       "-1.23"
      ]
     },
     "execution_count": 33,
     "metadata": {},
     "output_type": "execute_result"
    }
   ],
   "source": [
    "-1.23"
   ]
  },
  {
   "cell_type": "code",
   "execution_count": 34,
   "id": "43859acc",
   "metadata": {
    "ExecuteTime": {
     "end_time": "2023-08-25T02:02:06.355000+09:00",
     "start_time": "2023-08-24T17:02:06.838Z"
    }
   },
   "outputs": [
    {
     "data": {
      "text/plain": [
       "1.0e10"
      ]
     },
     "execution_count": 34,
     "metadata": {},
     "output_type": "execute_result"
    }
   ],
   "source": [
    "1e10"
   ]
  },
  {
   "cell_type": "code",
   "execution_count": 35,
   "id": "97ddc124",
   "metadata": {
    "ExecuteTime": {
     "end_time": "2023-08-25T02:02:09.041000+09:00",
     "start_time": "2023-08-24T17:02:09.527Z"
    }
   },
   "outputs": [
    {
     "data": {
      "text/plain": [
       "0.00025"
      ]
     },
     "execution_count": 35,
     "metadata": {},
     "output_type": "execute_result"
    }
   ],
   "source": [
    "2.5e-4"
   ]
  },
  {
   "cell_type": "markdown",
   "id": "4da9bc36",
   "metadata": {},
   "source": [
    "* Julia에서 기본적으로 실수형 상수는 Double Precision (배정밀도) 을 사용하여 64-bit를 사용하여 표현. 즉, 실수형 상수에 대한 기본 자료형은 `Float64`임.\n",
    "* 과학적 표기법 (E-notation)에서 `e` 대신 `f`를 사용하여 표기하는 경우에는 32-bit, 즉 Single Precision (단정밀도) 을 사용할 수 있음."
   ]
  },
  {
   "cell_type": "code",
   "execution_count": 36,
   "id": "26d9a5ab",
   "metadata": {
    "ExecuteTime": {
     "end_time": "2023-08-25T02:04:10.354000+09:00",
     "start_time": "2023-08-24T17:04:10.655Z"
    }
   },
   "outputs": [
    {
     "name": "stdout",
     "output_type": "stream",
     "text": [
      "Float64\n",
      "Float32\n"
     ]
    }
   ],
   "source": [
    "x = 0.5e0\n",
    "println(typeof(x)) # Float64 by the default\n",
    "x = 0.5f0\n",
    "println(typeof(x)) # float32, since using 'f' instead of 'e'"
   ]
  },
  {
   "cell_type": "code",
   "execution_count": 37,
   "id": "9e2709cc",
   "metadata": {
    "ExecuteTime": {
     "end_time": "2023-08-25T02:04:40.728000+09:00",
     "start_time": "2023-08-24T17:04:40.416Z"
    }
   },
   "outputs": [
    {
     "data": {
      "text/plain": [
       "0.00025f0"
      ]
     },
     "execution_count": 37,
     "metadata": {},
     "output_type": "execute_result"
    }
   ],
   "source": [
    "2.5f-4"
   ]
  },
  {
   "cell_type": "markdown",
   "id": "b86962b8",
   "metadata": {},
   "source": [
    "* 또는 Python-like Casting Operation을 이용하여 `Float32` 자료형으로 바꿀 수 있다."
   ]
  },
  {
   "cell_type": "code",
   "execution_count": 38,
   "id": "b9f55965",
   "metadata": {
    "ExecuteTime": {
     "end_time": "2023-08-25T02:05:14.027000+09:00",
     "start_time": "2023-08-24T17:05:14.512Z"
    }
   },
   "outputs": [
    {
     "name": "stdout",
     "output_type": "stream",
     "text": [
      "Float32\n"
     ]
    }
   ],
   "source": [
    "x = Float32(-1.5)\n",
    "println(typeof(x))"
   ]
  },
  {
   "cell_type": "markdown",
   "id": "b2849b71",
   "metadata": {},
   "source": [
    "* 반정밀도 (Half-Precision) Floating-Point형 `Float16`도 지원하지만, 이는 하드웨어 수준에서 지원하는 것이 아니고, 소프트웨어 수준에서 지원하는 것이라 실 계산에는 `Float32`를 사용한다."
   ]
  },
  {
   "cell_type": "code",
   "execution_count": 39,
   "id": "a8d88c0e",
   "metadata": {
    "ExecuteTime": {
     "end_time": "2023-08-25T02:06:52.737000+09:00",
     "start_time": "2023-08-24T17:06:53.197Z"
    }
   },
   "outputs": [
    {
     "data": {
      "text/plain": [
       "2"
      ]
     },
     "execution_count": 39,
     "metadata": {},
     "output_type": "execute_result"
    }
   ],
   "source": [
    "sizeof(Float16(4.)) # Float32와 마찬가지로 반정밀도 부동 소수점 자료형도 Python-like Casting Operation을 이용하여 변수를 만들 수 있음. -> 2 bytes"
   ]
  },
  {
   "cell_type": "code",
   "execution_count": 40,
   "id": "1185a5f9",
   "metadata": {
    "ExecuteTime": {
     "end_time": "2023-08-25T02:07:11.152000+09:00",
     "start_time": "2023-08-24T17:07:10.805Z"
    }
   },
   "outputs": [
    {
     "data": {
      "text/plain": [
       "Float16(8.0)"
      ]
     },
     "execution_count": 40,
     "metadata": {},
     "output_type": "execute_result"
    }
   ],
   "source": [
    "2 * Float16(4.)"
   ]
  },
  {
   "cell_type": "markdown",
   "id": "ec84a4a5",
   "metadata": {},
   "source": [
    "#### Underscore(`_`)를 이용한 정수 · 실수 자료형의 자릿수 분리"
   ]
  },
  {
   "cell_type": "markdown",
   "id": "dc346444",
   "metadata": {},
   "source": [
    "* Julia에서는 Underscore(`_`) 문자를 정수 · 실수 상수를 표현할 때 자릿수를 구분하는데 임의로 사용할 수 있다."
   ]
  },
  {
   "cell_type": "code",
   "execution_count": 41,
   "id": "1f92538e",
   "metadata": {
    "ExecuteTime": {
     "end_time": "2023-08-25T02:08:15.157000+09:00",
     "start_time": "2023-08-24T17:08:15.639Z"
    }
   },
   "outputs": [
    {
     "data": {
      "text/plain": [
       "10000"
      ]
     },
     "execution_count": 41,
     "metadata": {},
     "output_type": "execute_result"
    }
   ],
   "source": [
    "10_000"
   ]
  },
  {
   "cell_type": "code",
   "execution_count": 42,
   "id": "20bffa7d",
   "metadata": {
    "ExecuteTime": {
     "end_time": "2023-08-25T02:08:18.908000+09:00",
     "start_time": "2023-08-24T17:08:19.390Z"
    }
   },
   "outputs": [
    {
     "data": {
      "text/plain": [
       "10000"
      ]
     },
     "execution_count": 42,
     "metadata": {},
     "output_type": "execute_result"
    }
   ],
   "source": [
    "1_0000"
   ]
  },
  {
   "cell_type": "code",
   "execution_count": 43,
   "id": "4f5a6827",
   "metadata": {
    "ExecuteTime": {
     "end_time": "2023-08-25T02:08:22.121000+09:00",
     "start_time": "2023-08-24T17:08:22.604Z"
    }
   },
   "outputs": [
    {
     "data": {
      "text/plain": [
       "10000"
      ]
     },
     "execution_count": 43,
     "metadata": {},
     "output_type": "execute_result"
    }
   ],
   "source": [
    "1000_0"
   ]
  },
  {
   "cell_type": "code",
   "execution_count": 44,
   "id": "ff1681bb",
   "metadata": {
    "ExecuteTime": {
     "end_time": "2023-08-25T02:08:27.350000+09:00",
     "start_time": "2023-08-24T17:08:27.833Z"
    }
   },
   "outputs": [
    {
     "data": {
      "text/plain": [
       "5.0e-9"
      ]
     },
     "execution_count": 44,
     "metadata": {},
     "output_type": "execute_result"
    }
   ],
   "source": [
    "0.000_000_005"
   ]
  },
  {
   "cell_type": "code",
   "execution_count": 45,
   "id": "f207789f",
   "metadata": {
    "ExecuteTime": {
     "end_time": "2023-08-25T02:08:31.389000+09:00",
     "start_time": "2023-08-24T17:08:31.592Z"
    }
   },
   "outputs": [
    {
     "data": {
      "text/plain": [
       "0xdeadbeef"
      ]
     },
     "execution_count": 45,
     "metadata": {},
     "output_type": "execute_result"
    }
   ],
   "source": [
    "0xdead_beef"
   ]
  },
  {
   "cell_type": "code",
   "execution_count": 46,
   "id": "7780b977",
   "metadata": {
    "ExecuteTime": {
     "end_time": "2023-08-25T02:08:34.596000+09:00",
     "start_time": "2023-08-24T17:08:35.034Z"
    }
   },
   "outputs": [
    {
     "data": {
      "text/plain": [
       "0xb2"
      ]
     },
     "execution_count": 46,
     "metadata": {},
     "output_type": "execute_result"
    }
   ],
   "source": [
    "0b1011_0010"
   ]
  },
  {
   "cell_type": "markdown",
   "id": "67d09395",
   "metadata": {},
   "source": [
    "#### Floating-Point Zero"
   ]
  },
  {
   "cell_type": "markdown",
   "id": "6afe099e",
   "metadata": {},
   "source": [
    "* IEEE 754 표준에서는 산술 연산의 특징 상 부호 비트만 다르고 나머지 지수부와 기수부는 모두 비트가 0인 두 종류의 0이 있는데, 부호 비트가 양의 부호 비트(0)인 경우 이 0은 Positive Zero라 부르고 보통 $+0$으로 표기하며, 부호 비트가 음의 부호 비트(1)인 경우 이 0은 Negative Zero라 부르고 보통 $-0$으로 표기한다.\n",
    "* [다음](https://en.wikipedia.org/wiki/Single-precision_floating-point_format#Exponent_encoding) 참고.\n",
    "    * 즉, `Float32` 자료형 기준으로, Positive Zero: `0 00000000 00000000000000000000000` -> + $(0.00000000000000000000000)_{2} \\times 2^{(00000000)_{2} - 127}$으로 봄. 즉, IEEE 754에서 지수부(Exponent)와 기수부(Fraction)이 모두 0인 경우는 Zero 자료형으로 봄. 따라서 부호 비트가 양(0)인데 지수부 비트가 모두 0이면 zero 자료형임.\n",
    "    * `Float32` 자료형 기준으로, Negative Zero: `1 00000000 00000000000000000000000` 도 지수부와 기수부 비트가 모두 0이므로 Zero 자료형으로 보고, 부호 비트가 음(1)이므로 zero 자료형임."
   ]
  },
  {
   "cell_type": "markdown",
   "id": "339dadce",
   "metadata": {},
   "source": [
    "* 대부분의 Computer Language가 그러하듯 Julia에서도 Positive Zero와 Negative Zero는 '같은 것'으로 처리되나, Binary Representation이 다름.\n",
    "* `bitstring()` 내장함수를 이용하면 이 두 Zero의 비트 표현이 다름을 확인 가능."
   ]
  },
  {
   "cell_type": "code",
   "execution_count": 47,
   "id": "8e3caee1",
   "metadata": {
    "ExecuteTime": {
     "end_time": "2023-08-25T02:17:09.786000+09:00",
     "start_time": "2023-08-24T17:17:10.107Z"
    }
   },
   "outputs": [
    {
     "data": {
      "text/plain": [
       "true"
      ]
     },
     "execution_count": 47,
     "metadata": {},
     "output_type": "execute_result"
    }
   ],
   "source": [
    "0.0 == -0.0"
   ]
  },
  {
   "cell_type": "code",
   "execution_count": 48,
   "id": "4d862cbc",
   "metadata": {
    "ExecuteTime": {
     "end_time": "2023-08-25T02:17:16.111000+09:00",
     "start_time": "2023-08-24T17:17:16.384Z"
    }
   },
   "outputs": [
    {
     "data": {
      "text/plain": [
       "\"0000000000000000000000000000000000000000000000000000000000000000\""
      ]
     },
     "execution_count": 48,
     "metadata": {},
     "output_type": "execute_result"
    }
   ],
   "source": [
    "bitstring(0.0)"
   ]
  },
  {
   "cell_type": "code",
   "execution_count": 49,
   "id": "ab6192a7",
   "metadata": {
    "ExecuteTime": {
     "end_time": "2023-08-25T02:17:19.426000+09:00",
     "start_time": "2023-08-24T17:17:19.860Z"
    }
   },
   "outputs": [
    {
     "data": {
      "text/plain": [
       "\"1000000000000000000000000000000000000000000000000000000000000000\""
      ]
     },
     "execution_count": 49,
     "metadata": {},
     "output_type": "execute_result"
    }
   ],
   "source": [
    "bitstring(-0.0)"
   ]
  },
  {
   "cell_type": "markdown",
   "id": "a1922f0a",
   "metadata": {},
   "source": [
    "#### Special Floating-Point Values"
   ]
  },
  {
   "cell_type": "markdown",
   "id": "b90ba134",
   "metadata": {},
   "source": [
    "* IEEE 754 표준에서는 부동 소수점 표기 방식에서, 두 0을 표현하는 방식 외에도 무한대와 NaN을 표기하는 규칙이 있음.\n",
    "* [다음](https://en.wikipedia.org/wiki/Single-precision_floating-point_format#Exponent_encoding) 문서 참조.\n",
    "    * 지수부 비트가 모두 1이고, 가수부 비트가 모두 0인 경우, 이는 Inf (무한대)를 표시하는 것으로 약속함. 부호 비트가 0(양)이면 +Inf, 부호 비트가 1(음)이면 -Inf로 약속.\n",
    "    * 지수부 비트가 모두 1이나, 가수부 비트가 모두 0이지는 않은 경우, 이는 신호 전달이나 값 없음에 사용되는 NaN을 지시."
   ]
  },
  {
   "cell_type": "markdown",
   "id": "e1d9d25e",
   "metadata": {},
   "source": [
    "* Julia에서는 IEEE 754 표준에 따른 반정밀도(Half Precision), 단정밀도(Single Precision), 배정밀도(Double Precision)에 상응하는 Inf, NaN을 표현하는 특수 상수들이 아래와 같이 정의되어 있다."
   ]
  },
  {
   "cell_type": "markdown",
   "id": "8ac0a900",
   "metadata": {},
   "source": [
    "|`Float16`|`Float32`|`Float64`|Name|Description|\n",
    "|:--:|:--:|:--:|:----:|:--------:|\n",
    "|`Inf16`|`Inf32`|`Inf` or `Inf64`|Positive Infinity $+Inf$|A value greater than all finite floating-point values|\n",
    "|`-Inf16`|`-Inf32`|`-Inf` or `-Inf64`|Negative Inifinity $-Inf$|A value less than all finite floating-point values|\n",
    "|`NaN16`|`NaN32`|`NaN` or `NaN64`|Not a Number $NaN$|A value not `==` to any floating-point value (including itself)`|"
   ]
  },
  {
   "cell_type": "markdown",
   "id": "2434b4b1",
   "metadata": {},
   "source": [
    "* 이들 특수 값들과의 연산은 전적으로 IEEE 754 표준을 따른다."
   ]
  },
  {
   "cell_type": "code",
   "execution_count": 50,
   "id": "dc6db648",
   "metadata": {
    "ExecuteTime": {
     "end_time": "2023-08-25T02:21:22.620000+09:00",
     "start_time": "2023-08-24T17:21:23.096Z"
    }
   },
   "outputs": [
    {
     "data": {
      "text/plain": [
       "Inf"
      ]
     },
     "execution_count": 50,
     "metadata": {},
     "output_type": "execute_result"
    }
   ],
   "source": [
    "Inf64"
   ]
  },
  {
   "cell_type": "code",
   "execution_count": 51,
   "id": "eee3bbe4",
   "metadata": {
    "ExecuteTime": {
     "end_time": "2023-08-25T02:23:43.883000+09:00",
     "start_time": "2023-08-24T17:23:44.356Z"
    }
   },
   "outputs": [
    {
     "data": {
      "text/plain": [
       "-Inf"
      ]
     },
     "execution_count": 51,
     "metadata": {},
     "output_type": "execute_result"
    }
   ],
   "source": [
    "-Inf64"
   ]
  },
  {
   "cell_type": "code",
   "execution_count": 52,
   "id": "0144c8c7",
   "metadata": {
    "ExecuteTime": {
     "end_time": "2023-08-25T02:23:47.657000+09:00",
     "start_time": "2023-08-24T17:23:48.127Z"
    }
   },
   "outputs": [
    {
     "data": {
      "text/plain": [
       "0.0"
      ]
     },
     "execution_count": 52,
     "metadata": {},
     "output_type": "execute_result"
    }
   ],
   "source": [
    "1 / Inf"
   ]
  },
  {
   "cell_type": "code",
   "execution_count": 53,
   "id": "17af2c4d",
   "metadata": {
    "ExecuteTime": {
     "end_time": "2023-08-25T02:23:49.788000+09:00",
     "start_time": "2023-08-24T17:23:50.259Z"
    }
   },
   "outputs": [
    {
     "data": {
      "text/plain": [
       "Inf"
      ]
     },
     "execution_count": 53,
     "metadata": {},
     "output_type": "execute_result"
    }
   ],
   "source": [
    "1/0"
   ]
  },
  {
   "cell_type": "code",
   "execution_count": 54,
   "id": "6d28b214",
   "metadata": {
    "ExecuteTime": {
     "end_time": "2023-08-25T02:23:56.369000+09:00",
     "start_time": "2023-08-24T17:23:56.841Z"
    }
   },
   "outputs": [
    {
     "data": {
      "text/plain": [
       "-Inf"
      ]
     },
     "execution_count": 54,
     "metadata": {},
     "output_type": "execute_result"
    }
   ],
   "source": [
    "-5/0"
   ]
  },
  {
   "cell_type": "code",
   "execution_count": 55,
   "id": "cedaf5cd",
   "metadata": {
    "ExecuteTime": {
     "end_time": "2023-08-25T02:23:59.762000+09:00",
     "start_time": "2023-08-24T17:24:00.232Z"
    }
   },
   "outputs": [
    {
     "data": {
      "text/plain": [
       "Inf"
      ]
     },
     "execution_count": 55,
     "metadata": {},
     "output_type": "execute_result"
    }
   ],
   "source": [
    "0.000000001/0"
   ]
  },
  {
   "cell_type": "code",
   "execution_count": 56,
   "id": "a393d274",
   "metadata": {
    "ExecuteTime": {
     "end_time": "2023-08-25T02:24:02.014000+09:00",
     "start_time": "2023-08-24T17:24:02.486Z"
    }
   },
   "outputs": [
    {
     "data": {
      "text/plain": [
       "NaN"
      ]
     },
     "execution_count": 56,
     "metadata": {},
     "output_type": "execute_result"
    }
   ],
   "source": [
    "0/0"
   ]
  },
  {
   "cell_type": "code",
   "execution_count": 57,
   "id": "1c0fdf5a",
   "metadata": {
    "ExecuteTime": {
     "end_time": "2023-08-25T02:24:05.293000+09:00",
     "start_time": "2023-08-24T17:24:05.763Z"
    }
   },
   "outputs": [
    {
     "data": {
      "text/plain": [
       "Inf"
      ]
     },
     "execution_count": 57,
     "metadata": {},
     "output_type": "execute_result"
    }
   ],
   "source": [
    "500+Inf"
   ]
  },
  {
   "cell_type": "code",
   "execution_count": 58,
   "id": "a274748c",
   "metadata": {
    "ExecuteTime": {
     "end_time": "2023-08-25T02:24:08.091000+09:00",
     "start_time": "2023-08-24T17:24:08.560Z"
    }
   },
   "outputs": [
    {
     "data": {
      "text/plain": [
       "-Inf"
      ]
     },
     "execution_count": 58,
     "metadata": {},
     "output_type": "execute_result"
    }
   ],
   "source": [
    "500-Inf"
   ]
  },
  {
   "cell_type": "code",
   "execution_count": 59,
   "id": "4b8774c6",
   "metadata": {
    "ExecuteTime": {
     "end_time": "2023-08-25T02:24:13.106000+09:00",
     "start_time": "2023-08-24T17:24:13.578Z"
    }
   },
   "outputs": [
    {
     "data": {
      "text/plain": [
       "Inf"
      ]
     },
     "execution_count": 59,
     "metadata": {},
     "output_type": "execute_result"
    }
   ],
   "source": [
    "Inf + Inf"
   ]
  },
  {
   "cell_type": "code",
   "execution_count": 60,
   "id": "93169f7c",
   "metadata": {
    "ExecuteTime": {
     "end_time": "2023-08-25T02:24:15.660000+09:00",
     "start_time": "2023-08-24T17:24:16.131Z"
    }
   },
   "outputs": [
    {
     "data": {
      "text/plain": [
       "NaN"
      ]
     },
     "execution_count": 60,
     "metadata": {},
     "output_type": "execute_result"
    }
   ],
   "source": [
    "Inf - Inf"
   ]
  },
  {
   "cell_type": "code",
   "execution_count": 61,
   "id": "d4ec8915",
   "metadata": {
    "ExecuteTime": {
     "end_time": "2023-08-25T02:24:18.785000+09:00",
     "start_time": "2023-08-24T17:24:19.255Z"
    }
   },
   "outputs": [
    {
     "data": {
      "text/plain": [
       "Inf"
      ]
     },
     "execution_count": 61,
     "metadata": {},
     "output_type": "execute_result"
    }
   ],
   "source": [
    "Inf * Inf"
   ]
  },
  {
   "cell_type": "code",
   "execution_count": 62,
   "id": "a855c311",
   "metadata": {
    "ExecuteTime": {
     "end_time": "2023-08-25T02:24:21.178000+09:00",
     "start_time": "2023-08-24T17:24:21.647Z"
    }
   },
   "outputs": [
    {
     "data": {
      "text/plain": [
       "NaN"
      ]
     },
     "execution_count": 62,
     "metadata": {},
     "output_type": "execute_result"
    }
   ],
   "source": [
    "0 * Inf"
   ]
  },
  {
   "cell_type": "code",
   "execution_count": 63,
   "id": "c7b75050",
   "metadata": {
    "ExecuteTime": {
     "end_time": "2023-08-25T02:24:25.505000+09:00",
     "start_time": "2023-08-24T17:24:25.976Z"
    }
   },
   "outputs": [
    {
     "data": {
      "text/plain": [
       "false"
      ]
     },
     "execution_count": 63,
     "metadata": {},
     "output_type": "execute_result"
    }
   ],
   "source": [
    "NaN == NaN # Note that NaN does not equal with even itself"
   ]
  },
  {
   "cell_type": "code",
   "execution_count": 64,
   "id": "30f5a036",
   "metadata": {
    "ExecuteTime": {
     "end_time": "2023-08-25T02:24:50.362000+09:00",
     "start_time": "2023-08-24T17:24:50.826Z"
    }
   },
   "outputs": [
    {
     "data": {
      "text/plain": [
       "true"
      ]
     },
     "execution_count": 64,
     "metadata": {},
     "output_type": "execute_result"
    }
   ],
   "source": [
    "NaN != NaN"
   ]
  },
  {
   "cell_type": "code",
   "execution_count": 65,
   "id": "be358f6f",
   "metadata": {
    "ExecuteTime": {
     "end_time": "2023-08-25T02:25:02.350000+09:00",
     "start_time": "2023-08-24T17:25:02.820Z"
    }
   },
   "outputs": [
    {
     "data": {
      "text/plain": [
       "false"
      ]
     },
     "execution_count": 65,
     "metadata": {},
     "output_type": "execute_result"
    }
   ],
   "source": [
    "NaN < NaN # Note that NaN is not comparable"
   ]
  },
  {
   "cell_type": "code",
   "execution_count": 66,
   "id": "619f4d68",
   "metadata": {
    "ExecuteTime": {
     "end_time": "2023-08-25T02:25:05.366000+09:00",
     "start_time": "2023-08-24T17:25:05.834Z"
    }
   },
   "outputs": [
    {
     "data": {
      "text/plain": [
       "false"
      ]
     },
     "execution_count": 66,
     "metadata": {},
     "output_type": "execute_result"
    }
   ],
   "source": [
    "NaN > NaN"
   ]
  },
  {
   "cell_type": "markdown",
   "id": "c3286fee",
   "metadata": {},
   "source": [
    "* 당연히 `typemin()` 및 `typemax()` function을 사용하면 이들 특수값들로 표현 범위가 나온다."
   ]
  },
  {
   "cell_type": "code",
   "execution_count": 67,
   "id": "02a3f882",
   "metadata": {
    "ExecuteTime": {
     "end_time": "2023-08-25T02:25:42.427000+09:00",
     "start_time": "2023-08-24T17:25:42.598Z"
    }
   },
   "outputs": [
    {
     "data": {
      "text/plain": [
       "(-Inf16, Inf16)"
      ]
     },
     "execution_count": 67,
     "metadata": {},
     "output_type": "execute_result"
    }
   ],
   "source": [
    "(typemin(Float16), typemax(Float16))"
   ]
  },
  {
   "cell_type": "code",
   "execution_count": 68,
   "id": "f5efa4fe",
   "metadata": {
    "ExecuteTime": {
     "end_time": "2023-08-25T02:25:54.474000+09:00",
     "start_time": "2023-08-24T17:25:54.703Z"
    }
   },
   "outputs": [
    {
     "data": {
      "text/plain": [
       "(-Inf32, Inf16)"
      ]
     },
     "execution_count": 68,
     "metadata": {},
     "output_type": "execute_result"
    }
   ],
   "source": [
    "(typemin(Float32), typemax(Float16))"
   ]
  },
  {
   "cell_type": "code",
   "execution_count": 71,
   "id": "3e793c50",
   "metadata": {
    "ExecuteTime": {
     "end_time": "2023-08-25T02:26:06.327000+09:00",
     "start_time": "2023-08-24T17:26:06.795Z"
    }
   },
   "outputs": [
    {
     "data": {
      "text/plain": [
       "(-Inf, Inf)"
      ]
     },
     "execution_count": 71,
     "metadata": {},
     "output_type": "execute_result"
    }
   ],
   "source": [
    "(typemin(Float64), typemax(Float64))"
   ]
  },
  {
   "cell_type": "markdown",
   "id": "756af64b",
   "metadata": {},
   "source": [
    "#### 기타 부동 소수점 관련 내용"
   ]
  },
  {
   "cell_type": "markdown",
   "id": "548ee2df",
   "metadata": {},
   "source": [
    "* 이상의 내용 외에도 Julia Documentation에는 *Machine Epsilon* 에 관련된 내용도 있으나, 해당 내용은 필수적이지는 않으므로 [다음](https://docs.julialang.org/en/v1/manual/integers-and-floating-point-numbers/#Machine-epsilon) 문서를 참조."
   ]
  },
  {
   "cell_type": "markdown",
   "id": "5789bd3d",
   "metadata": {},
   "source": [
    "## Aribitary Precision Arithmetic"
   ]
  },
  {
   "cell_type": "markdown",
   "id": "05d6b0fd",
   "metadata": {},
   "source": [
    "* Python과 유사하게, Julia는 기존 제공 자료형으로는 표현할 수 없는 매우 크거나 정밀한 정수 또는 실수를 처리하기 위한 Software-Implemented 자료형인 `BigInt`와 `BigFloat`를 지원한다.\n",
    "* 이들은 Software 차원에서 제공하는 자료형이므로 기존 자료형보다는 연산이 느리다는 단점이 있음.\n",
    "* Julia는 GNU Multiple Precision Arithmetic Library (GMP) 와 GNU MPFR Library를 사용하여 이들 기능을 제공."
   ]
  },
  {
   "cell_type": "code",
   "execution_count": 72,
   "id": "6cf869c7",
   "metadata": {
    "ExecuteTime": {
     "end_time": "2023-08-25T02:31:09.102000+09:00",
     "start_time": "2023-08-24T17:31:09.561Z"
    }
   },
   "outputs": [
    {
     "data": {
      "text/plain": [
       "9223372036854775808"
      ]
     },
     "execution_count": 72,
     "metadata": {},
     "output_type": "execute_result"
    }
   ],
   "source": [
    "BigInt(typemax(Int64)) + 1 # Note that this is not occuring any overflows"
   ]
  },
  {
   "cell_type": "markdown",
   "id": "0213e1c9",
   "metadata": {},
   "source": [
    "* 여러 Constructor를 이용하여 `BigInt`나 `BigFloat`를 만들 수 있다.\n",
    "* 특히 Julia의 경우 문자열 앞에 `keyword`를 선행시키는 경우, 데코레이터 함수와 유사한 *매크로* `@keyword_str`를 실행시키는데, 이것이 유용하게 쓰일 수 있다. 왜냐하면, `@big_str` 매크로는 문자열이 지시하는 값을 `BigInt` 또는 `BigFloat`로 변환해주기 때문이다.\n",
    "* 혹은 내장함수 `parse(Type, Value)`를 이용할 수도 있다."
   ]
  },
  {
   "cell_type": "code",
   "execution_count": 76,
   "id": "276c2e9c",
   "metadata": {
    "ExecuteTime": {
     "end_time": "2023-08-25T02:34:37.901000+09:00",
     "start_time": "2023-08-24T17:34:38.335Z"
    }
   },
   "outputs": [
    {
     "data": {
      "text/plain": [
       "123456789012345678901234567891"
      ]
     },
     "execution_count": 76,
     "metadata": {},
     "output_type": "execute_result"
    }
   ],
   "source": [
    "big\"123456789012345678901234567890\" + 1"
   ]
  },
  {
   "cell_type": "code",
   "execution_count": 77,
   "id": "121e45c1",
   "metadata": {
    "ExecuteTime": {
     "end_time": "2023-08-25T02:34:46.774000+09:00",
     "start_time": "2023-08-24T17:34:47.196Z"
    }
   },
   "outputs": [
    {
     "data": {
      "text/plain": [
       "12345678901234567891"
      ]
     },
     "execution_count": 77,
     "metadata": {},
     "output_type": "execute_result"
    }
   ],
   "source": [
    "parse(BigInt, \"12345678901234567890\") + 1"
   ]
  },
  {
   "cell_type": "code",
   "execution_count": 78,
   "id": "0d05cc44",
   "metadata": {
    "ExecuteTime": {
     "end_time": "2023-08-25T02:34:58.656000+09:00",
     "start_time": "2023-08-24T17:34:59.106Z"
    }
   },
   "outputs": [
    {
     "data": {
      "text/plain": [
       "\"100000000000000000000000000000000000000000000000000\""
      ]
     },
     "execution_count": 78,
     "metadata": {},
     "output_type": "execute_result"
    }
   ],
   "source": [
    "string(big\"2\"^200, base=16)"
   ]
  },
  {
   "cell_type": "code",
   "execution_count": 88,
   "id": "e9384b9f",
   "metadata": {
    "ExecuteTime": {
     "end_time": "2023-08-25T02:36:57.813000+09:00",
     "start_time": "2023-08-24T17:36:57.251Z"
    }
   },
   "outputs": [
    {
     "data": {
      "text/plain": [
       "1.234567890123456789012345678899999999999999999999999999999999999999999999999992"
      ]
     },
     "execution_count": 88,
     "metadata": {},
     "output_type": "execute_result"
    }
   ],
   "source": [
    "big\"1.23456789012345678901234567890\""
   ]
  },
  {
   "cell_type": "code",
   "execution_count": 89,
   "id": "a32d4c3c",
   "metadata": {
    "ExecuteTime": {
     "end_time": "2023-08-25T02:37:10.969000+09:00",
     "start_time": "2023-08-24T17:37:11.416Z"
    }
   },
   "outputs": [
    {
     "data": {
      "text/plain": [
       "1.123456789012345678899999999999999999999999999999999999999999999999999999999994"
      ]
     },
     "execution_count": 89,
     "metadata": {},
     "output_type": "execute_result"
    }
   ],
   "source": [
    "parse(BigFloat, \"1.12345678901234567890\")"
   ]
  },
  {
   "cell_type": "code",
   "execution_count": 90,
   "id": "b8a7068d",
   "metadata": {
    "ExecuteTime": {
     "end_time": "2023-08-25T02:37:17.155000+09:00",
     "start_time": "2023-08-24T17:37:17.474Z"
    }
   },
   "outputs": [
    {
     "data": {
      "text/plain": [
       "2.459565876494606882133333333333333333333333333333333333333333333333333333333344e+19"
      ]
     },
     "execution_count": 90,
     "metadata": {},
     "output_type": "execute_result"
    }
   ],
   "source": [
    "BigFloat(2.0^66) / 3"
   ]
  },
  {
   "cell_type": "code",
   "execution_count": 91,
   "id": "0ef8aec8",
   "metadata": {
    "ExecuteTime": {
     "end_time": "2023-08-25T02:37:22.600000+09:00",
     "start_time": "2023-08-24T17:37:23.034Z"
    }
   },
   "outputs": [
    {
     "data": {
      "text/plain": [
       "815915283247897734345611269596115894272000000000"
      ]
     },
     "execution_count": 91,
     "metadata": {},
     "output_type": "execute_result"
    }
   ],
   "source": [
    "factorial(BigInt(40))"
   ]
  },
  {
   "cell_type": "markdown",
   "id": "b4956c2c",
   "metadata": {},
   "source": [
    "* <span class=\"mark\">**주의**</span>: `BigInt` 및 `BigFloat` Type 자료형과 Primitive Type 사이의 자동 형변환 (Type Promotion) 은 지원하지 않으므로, 반드시 이들 사이에 연산을 하는 경우 명시적으로 형변환을 해 주어야 한다."
   ]
  },
  {
   "cell_type": "code",
   "execution_count": 92,
   "id": "7c45c81c",
   "metadata": {
    "ExecuteTime": {
     "end_time": "2023-08-25T02:38:38.603000+09:00",
     "start_time": "2023-08-24T17:38:39.059Z"
    }
   },
   "outputs": [
    {
     "data": {
      "text/plain": [
       "-9223372036854775808"
      ]
     },
     "execution_count": 92,
     "metadata": {},
     "output_type": "execute_result"
    }
   ],
   "source": [
    "x = typemin(Int64)"
   ]
  },
  {
   "cell_type": "code",
   "execution_count": 97,
   "id": "ee14239c",
   "metadata": {
    "ExecuteTime": {
     "end_time": "2023-08-25T02:39:01.370000+09:00",
     "start_time": "2023-08-24T17:39:01.825Z"
    }
   },
   "outputs": [
    {
     "data": {
      "text/plain": [
       "9223372036854775806"
      ]
     },
     "execution_count": 97,
     "metadata": {},
     "output_type": "execute_result"
    }
   ],
   "source": [
    "x = x - 1"
   ]
  },
  {
   "cell_type": "code",
   "execution_count": 94,
   "id": "55158353",
   "metadata": {
    "ExecuteTime": {
     "end_time": "2023-08-25T02:38:45.112000+09:00",
     "start_time": "2023-08-24T17:38:45.568Z"
    }
   },
   "outputs": [
    {
     "data": {
      "text/plain": [
       "Int64"
      ]
     },
     "execution_count": 94,
     "metadata": {},
     "output_type": "execute_result"
    }
   ],
   "source": [
    "typeof(x)"
   ]
  },
  {
   "cell_type": "code",
   "execution_count": 95,
   "id": "90b16362",
   "metadata": {
    "ExecuteTime": {
     "end_time": "2023-08-25T02:38:55.332000+09:00",
     "start_time": "2023-08-24T17:38:55.787Z"
    }
   },
   "outputs": [
    {
     "data": {
      "text/plain": [
       "-9223372036854775808"
      ]
     },
     "execution_count": 95,
     "metadata": {},
     "output_type": "execute_result"
    }
   ],
   "source": [
    "y = BigInt(typemin(Int64))"
   ]
  },
  {
   "cell_type": "code",
   "execution_count": 96,
   "id": "b30bca87",
   "metadata": {
    "ExecuteTime": {
     "end_time": "2023-08-25T02:38:58.717000+09:00",
     "start_time": "2023-08-24T17:38:59.172Z"
    }
   },
   "outputs": [
    {
     "data": {
      "text/plain": [
       "-9223372036854775809"
      ]
     },
     "execution_count": 96,
     "metadata": {},
     "output_type": "execute_result"
    }
   ],
   "source": [
    "y = y - 1"
   ]
  },
  {
   "cell_type": "code",
   "execution_count": 98,
   "id": "665cea89",
   "metadata": {
    "ExecuteTime": {
     "end_time": "2023-08-25T02:39:04.996000+09:00",
     "start_time": "2023-08-24T17:39:05.449Z"
    }
   },
   "outputs": [
    {
     "data": {
      "text/plain": [
       "BigInt"
      ]
     },
     "execution_count": 98,
     "metadata": {},
     "output_type": "execute_result"
    }
   ],
   "source": [
    "typeof(y)"
   ]
  },
  {
   "cell_type": "markdown",
   "id": "2d95f770",
   "metadata": {},
   "source": [
    "## Numeric Literal Coefficients"
   ]
  },
  {
   "cell_type": "markdown",
   "id": "78bec6a3",
   "metadata": {},
   "source": [
    "* Julia는 수식을 코드 상에서 표현하기 편리하도록, 기존의 다른 언어 (C, Python 등)에서는 지원하지 않는, 변수명 앞에 곧바로 Numeric 상수 쓰기를 지원한다. (기존 다른 언어에서는 곱하기 연산자 `*`를 명시해주어야 했다)"
   ]
  },
  {
   "cell_type": "code",
   "execution_count": 99,
   "id": "b1830792",
   "metadata": {
    "ExecuteTime": {
     "end_time": "2023-08-25T02:40:23.678000+09:00",
     "start_time": "2023-08-24T17:40:24.132Z"
    }
   },
   "outputs": [
    {
     "data": {
      "text/plain": [
       "3"
      ]
     },
     "execution_count": 99,
     "metadata": {},
     "output_type": "execute_result"
    }
   ],
   "source": [
    "x = 3"
   ]
  },
  {
   "cell_type": "code",
   "execution_count": 100,
   "id": "3d44af86",
   "metadata": {
    "ExecuteTime": {
     "end_time": "2023-08-25T02:40:36.364000+09:00",
     "start_time": "2023-08-24T17:40:36.814Z"
    }
   },
   "outputs": [
    {
     "data": {
      "text/plain": [
       "10"
      ]
     },
     "execution_count": 100,
     "metadata": {},
     "output_type": "execute_result"
    }
   ],
   "source": [
    "2x^2 - 3x + 1 # Julia에서는 이게 된다! 만세!"
   ]
  },
  {
   "cell_type": "code",
   "execution_count": 101,
   "id": "ef07da08",
   "metadata": {
    "ExecuteTime": {
     "end_time": "2023-08-25T02:40:47.964000+09:00",
     "start_time": "2023-08-24T17:40:48.417Z"
    }
   },
   "outputs": [
    {
     "data": {
      "text/plain": [
       "13.0"
      ]
     },
     "execution_count": 101,
     "metadata": {},
     "output_type": "execute_result"
    }
   ],
   "source": [
    "1.5x^2 - .5x + 1"
   ]
  },
  {
   "cell_type": "code",
   "execution_count": 103,
   "id": "49637faa",
   "metadata": {
    "ExecuteTime": {
     "end_time": "2023-08-25T02:41:05.219000+09:00",
     "start_time": "2023-08-24T17:41:05.672Z"
    }
   },
   "outputs": [
    {
     "data": {
      "text/plain": [
       "64"
      ]
     },
     "execution_count": 103,
     "metadata": {},
     "output_type": "execute_result"
    }
   ],
   "source": [
    "2^2x # Same as, 2^{2x}"
   ]
  },
  {
   "cell_type": "markdown",
   "id": "c15af18f",
   "metadata": {},
   "source": [
    "* Numerica literals는 괄호 안에 들어간 Expression에 대해서도 적용된다. "
   ]
  },
  {
   "cell_type": "code",
   "execution_count": 104,
   "id": "3a3b01ba",
   "metadata": {
    "ExecuteTime": {
     "end_time": "2023-08-25T02:42:01.854000+09:00",
     "start_time": "2023-08-24T17:42:02.307Z"
    }
   },
   "outputs": [
    {
     "data": {
      "text/plain": [
       "3"
      ]
     },
     "execution_count": 104,
     "metadata": {},
     "output_type": "execute_result"
    }
   ],
   "source": [
    "2(x-1)^2 - 3(x-1) + 1"
   ]
  },
  {
   "cell_type": "code",
   "execution_count": 105,
   "id": "3d29f889",
   "metadata": {
    "ExecuteTime": {
     "end_time": "2023-08-25T02:42:05.420000+09:00",
     "start_time": "2023-08-24T17:42:05.873Z"
    }
   },
   "outputs": [
    {
     "data": {
      "text/plain": [
       "6"
      ]
     },
     "execution_count": 105,
     "metadata": {},
     "output_type": "execute_result"
    }
   ],
   "source": [
    "(x-1)x"
   ]
  },
  {
   "cell_type": "markdown",
   "id": "3581e2f3",
   "metadata": {},
   "source": [
    "* 그러나 function call 문법 상, 괄호 뒤에 괄호를 곱하는 경우나 단일 변수 뒤 괄호 곱은 곱하기 연산자 `*`를 생략할 수 없다."
   ]
  },
  {
   "cell_type": "code",
   "execution_count": 106,
   "id": "199e9171",
   "metadata": {
    "ExecuteTime": {
     "end_time": "2023-08-25T02:43:02.999000+09:00",
     "start_time": "2023-08-24T17:43:03.360Z"
    }
   },
   "outputs": [
    {
     "ename": "MethodError",
     "evalue": "\u001b[91mMethodError: objects of type Int64 are not callable\u001b[39m",
     "output_type": "error",
     "traceback": [
      "\u001b[91mMethodError: objects of type Int64 are not callable\u001b[39m",
      "",
      "Stacktrace:",
      " [1] top-level scope at In[106]:1"
     ]
    }
   ],
   "source": [
    "(x-1)(x+1) # Not Accepted"
   ]
  },
  {
   "cell_type": "code",
   "execution_count": 108,
   "id": "78278b92",
   "metadata": {
    "ExecuteTime": {
     "end_time": "2023-08-25T02:43:14.147000+09:00",
     "start_time": "2023-08-24T17:43:14.597Z"
    }
   },
   "outputs": [
    {
     "ename": "MethodError",
     "evalue": "\u001b[91mMethodError: objects of type Int64 are not callable\u001b[39m",
     "output_type": "error",
     "traceback": [
      "\u001b[91mMethodError: objects of type Int64 are not callable\u001b[39m",
      "",
      "Stacktrace:",
      " [1] top-level scope at In[108]:1"
     ]
    }
   ],
   "source": [
    "x(x+1) # Not Accepted"
   ]
  },
  {
   "cell_type": "markdown",
   "id": "513e98cc",
   "metadata": {},
   "source": [
    "## Literal Zero & One"
   ]
  },
  {
   "cell_type": "markdown",
   "id": "c6b843e2",
   "metadata": {},
   "source": [
    "* Julia는 딱 그 넘겨준 Type의, 또는 넘겨준 Variable과 Type이 같은 0과 1을 돌려주는 내장함수 `zero(Type or Variable)`과 `one(Type or Variable)`을 지원한다.\n",
    "* 이들 함수는 0 또는 1과 비교하는 연산에서 자동 형변환에 따른 Overhead 방지용으로 써먹기 좋다."
   ]
  },
  {
   "cell_type": "code",
   "execution_count": 109,
   "id": "eb40801f",
   "metadata": {
    "ExecuteTime": {
     "end_time": "2023-08-25T02:44:39.538000+09:00",
     "start_time": "2023-08-24T17:44:39.988Z"
    }
   },
   "outputs": [
    {
     "data": {
      "text/plain": [
       "0.0f0"
      ]
     },
     "execution_count": 109,
     "metadata": {},
     "output_type": "execute_result"
    }
   ],
   "source": [
    "x = zero(Float32)"
   ]
  },
  {
   "cell_type": "code",
   "execution_count": 111,
   "id": "e3f1f878",
   "metadata": {
    "ExecuteTime": {
     "end_time": "2023-08-25T02:45:12.181000+09:00",
     "start_time": "2023-08-24T17:45:12.631Z"
    }
   },
   "outputs": [
    {
     "data": {
      "text/plain": [
       "0.0"
      ]
     },
     "execution_count": 111,
     "metadata": {},
     "output_type": "execute_result"
    }
   ],
   "source": [
    "zero(1.0) # 1.0이 Float64이므로 Float64에서의 0을 돌려줌."
   ]
  },
  {
   "cell_type": "code",
   "execution_count": 112,
   "id": "f469fe8b",
   "metadata": {
    "ExecuteTime": {
     "end_time": "2023-08-25T02:45:18.233000+09:00",
     "start_time": "2023-08-24T17:45:18.485Z"
    }
   },
   "outputs": [
    {
     "data": {
      "text/plain": [
       "1"
      ]
     },
     "execution_count": 112,
     "metadata": {},
     "output_type": "execute_result"
    }
   ],
   "source": [
    "one(Int32)"
   ]
  },
  {
   "cell_type": "code",
   "execution_count": 113,
   "id": "63735fef",
   "metadata": {
    "ExecuteTime": {
     "end_time": "2023-08-25T02:45:22.051000+09:00",
     "start_time": "2023-08-24T17:45:22.494Z"
    }
   },
   "outputs": [
    {
     "data": {
      "text/plain": [
       "1.0"
      ]
     },
     "execution_count": 113,
     "metadata": {},
     "output_type": "execute_result"
    }
   ],
   "source": [
    "one(BigFloat)"
   ]
  },
  {
   "cell_type": "code",
   "execution_count": null,
   "id": "95aec5f7",
   "metadata": {},
   "outputs": [],
   "source": []
  }
 ],
 "metadata": {
  "kernelspec": {
   "display_name": "Julia 1.9.3",
   "language": "julia",
   "name": "julia-1.9"
  },
  "language_info": {
   "file_extension": ".jl",
   "mimetype": "application/julia",
   "name": "julia",
   "version": "1.9.3"
  },
  "toc": {
   "base_numbering": 1,
   "nav_menu": {},
   "number_sections": true,
   "sideBar": true,
   "skip_h1_title": false,
   "title_cell": "Table of Contents",
   "title_sidebar": "Contents",
   "toc_cell": false,
   "toc_position": {},
   "toc_section_display": true,
   "toc_window_display": false
  },
  "varInspector": {
   "cols": {
    "lenName": 16,
    "lenType": 16,
    "lenVar": 40
   },
   "kernels_config": {
    "python": {
     "delete_cmd_postfix": "",
     "delete_cmd_prefix": "del ",
     "library": "var_list.py",
     "varRefreshCmd": "print(var_dic_list())"
    },
    "r": {
     "delete_cmd_postfix": ") ",
     "delete_cmd_prefix": "rm(",
     "library": "var_list.r",
     "varRefreshCmd": "cat(var_dic_list()) "
    }
   },
   "types_to_exclude": [
    "module",
    "function",
    "builtin_function_or_method",
    "instance",
    "_Feature"
   ],
   "window_display": false
  }
 },
 "nbformat": 4,
 "nbformat_minor": 5
}
