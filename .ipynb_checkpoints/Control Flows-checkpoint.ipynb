{
 "cells": [
  {
   "cell_type": "markdown",
   "id": "ad8e67b1",
   "metadata": {},
   "source": [
    "# Control Flows in Julia\n",
    "---\n",
    "* Created on 01 Sep 2023\n",
    "* Created by Yooshin Oh (stevenoh0908@snu.ac.kr)\n",
    "---\n",
    "* <span class=\"mark\">Documentation: https://docs.julialang.org/en/v1/manual/control-flow/</span>"
   ]
  },
  {
   "cell_type": "markdown",
   "id": "acfb7729",
   "metadata": {},
   "source": [
    "## Introduction"
   ]
  },
  {
   "cell_type": "markdown",
   "id": "b0078af5",
   "metadata": {},
   "source": [
    "* Julia는 Python에서 지원하는 Control Flow들은 물론, 비동기적 병렬 작업 처리를 할 수 있는 `Coroutines`와 비슷한 `Tasks`를 지원한다.\n",
    "* **Julia에서 지원하는 Control Flow의 목록은 다음과 같다.**\n",
    "\n",
    "> **Julia에서 지원하는 Control Flow들**\n",
    ">\n",
    "> * Compound Expresions (복합문) : `begin`, `;`\n",
    "> * Conditional Evaluation (조건문, 조건 평가문) : `if-elseif-else`, `?:` (삼항 연산자)\n",
    "> * Short-Circuit Evaluation : `&&`, `││`, Chained Comparisons\n",
    "> * Repeated Evaluation or Loops (반복문) : `while`, `for`\n",
    "> * Exception Handling (예외 처리) : `try-catch`, `error`, `throw`\n",
    "> * Tasks (a.k.a. Coroutines) : `yieldto`"
   ]
  },
  {
   "cell_type": "markdown",
   "id": "6ffb4164-ba4c-415e-846a-d289d6aed494",
   "metadata": {},
   "source": [
    "**`Task`를 지원하는 Julia**"
   ]
  },
  {
   "cell_type": "markdown",
   "id": "c4c6ac1f-3924-4326-b480-90a1a7495280",
   "metadata": {},
   "source": [
    "* Compound Expressions, Conditional Evaluation, Short-Circuit Evaluation, Repeated Evaluation (or Loops), Exception Handling은 다른 High-Level Language에서도 지원하는 기능들이지만, `Task`는 보통 지원하지 않는 언어이다.\n",
    "* Julia에서의 `Task`는 비지역적인 Control Flow를 만들어서, 잠깐씩 중지하면서 여러 `Task`로 지정된 계산 사이를 번갈아가며 계산할 수 있도록 하는 행위를 지원한다.\n",
    "* Julia에서 Exception Handling과 Cooperative Multitasking은 `Tasks`를 사용하여 Julia에서 Implementation되어 있다."
   ]
  },
  {
   "cell_type": "markdown",
   "id": "23733425-edfc-40f2-bf98-b1b2db9a639e",
   "metadata": {},
   "source": [
    "## Compound Expressions (복합문)"
   ]
  },
  {
   "cell_type": "markdown",
   "id": "aba146ac-620f-4536-bdea-ccfd2aa59419",
   "metadata": {},
   "source": [
    "* Julia는 `begin-end` Block이나 `;`를 이용하여 복합문을 구성할 수 있으며, 복합문을 만나면 Python처럼 차례대로 복합문 내부의 문들을 실행한 뒤, 가장 마지막 문의 평가값을 반환한다."
   ]
  },
  {
   "cell_type": "markdown",
   "id": "8d91bdda-ee90-4915-87f6-5b0cb803714c",
   "metadata": {},
   "source": [
    "### `begin-end` Compound Expressions"
   ]
  },
  {
   "cell_type": "markdown",
   "id": "32d9984a-70a6-4f2e-aa4e-acbf95e77c05",
   "metadata": {},
   "source": [
    "* 복합문의 시작을 begin으로 표시, 끝을 end로 표시하고, 그 사이에 문들을 개행으로 분리하여 열거함으로써 복합문을 만들 수 있다."
   ]
  },
  {
   "cell_type": "code",
   "execution_count": 1,
   "id": "cde96488-2205-4699-9f22-4b4f5259e3b2",
   "metadata": {},
   "outputs": [
    {
     "data": {
      "text/plain": [
       "3"
      ]
     },
     "execution_count": 1,
     "metadata": {},
     "output_type": "execute_result"
    }
   ],
   "source": [
    "# begin-end Compound Expressions\n",
    "z = begin # start of compound expr\n",
    "    x = 1\n",
    "    y = 2\n",
    "    x + y # this will be evaluated and returned\n",
    "end"
   ]
  },
  {
   "cell_type": "markdown",
   "id": "5139074b-e4df-433a-826a-6b5d87339853",
   "metadata": {},
   "source": [
    "* `block-end` 구문으로 복합문을 구성하는 경우, Block 내부의 각 문들은 Semi-Colon(`;`)이나 개행으로 구분되어야 하지만, `begin`과 `end` 키워드는 구분될 필요가 없다."
   ]
  },
  {
   "cell_type": "code",
   "execution_count": 3,
   "id": "e4ee6ad1-ada8-45b7-89ee-2b79dbc8959f",
   "metadata": {},
   "outputs": [
    {
     "data": {
      "text/plain": [
       "3"
      ]
     },
     "execution_count": 3,
     "metadata": {},
     "output_type": "execute_result"
    }
   ],
   "source": [
    "begin x = 1; y = 2; x + y end"
   ]
  },
  {
   "cell_type": "markdown",
   "id": "4977fa48-a3d4-4e9e-98cb-c448c9dcdf90",
   "metadata": {},
   "source": [
    "### Semi-Colon(`;`) Compound Expressions"
   ]
  },
  {
   "cell_type": "markdown",
   "id": "ab542cb4-887f-4af8-ab6c-f805242bfcc2",
   "metadata": {},
   "source": [
    "* Python과 동일하게, Single 문들의 끝을 세미콜론(`;`)으로 분리하여 한 행에 여러 문들을 열거함으로써 복합문을 만들 수 있다. 복합문의 양 끝을 괄호로 감싸도 된다."
   ]
  },
  {
   "cell_type": "code",
   "execution_count": 2,
   "id": "690afefb-1b6f-4e91-b912-43c63bbcbdd9",
   "metadata": {},
   "outputs": [
    {
     "data": {
      "text/plain": [
       "3"
      ]
     },
     "execution_count": 2,
     "metadata": {},
     "output_type": "execute_result"
    }
   ],
   "source": [
    "# semi-colon Compound Expressions\n",
    "z = (x = 1; y = 2; x + y)"
   ]
  },
  {
   "cell_type": "markdown",
   "id": "1a71df42-4370-4a10-b830-3e22d9abc130",
   "metadata": {},
   "source": [
    "## Conditional Evaluation (조건문)"
   ]
  },
  {
   "cell_type": "markdown",
   "id": "cffba10e-c976-4522-8e29-605403090fb4",
   "metadata": {},
   "source": [
    "* Julia는 Bash와 유사한 Conditional Evaluation을 선보이며, `if` statement와 삼항연산자를 사용할 수 있다."
   ]
  },
  {
   "cell_type": "markdown",
   "id": "f4c1ce6b-f7d2-4d21-b9e4-1fbdab9d1765",
   "metadata": {},
   "source": [
    "### `if-elseif-else` Construct"
   ]
  },
  {
   "cell_type": "markdown",
   "id": "0527d0b4-b10e-4837-906f-ea4eb62f8354",
   "metadata": {},
   "source": [
    "* Julia에서는 Python과 유사하지만, 조건문 뒤에 `:`이 없고 `if`문의 끝을 `end`로 표시하는 `if-elseif-else` Construct를 가진다.\n",
    "* Python에서는 `else if`가 `elif` 키워드로 사용되었지만, Julia에서는 `elseif`이다."
   ]
  },
  {
   "cell_type": "code",
   "execution_count": 4,
   "id": "b763d993-b121-4924-8fb3-56d7b3e9df65",
   "metadata": {},
   "outputs": [
    {
     "data": {
      "text/plain": [
       "test (generic function with 1 method)"
      ]
     },
     "execution_count": 4,
     "metadata": {},
     "output_type": "execute_result"
    }
   ],
   "source": [
    "# if-elseif-else construct example\n",
    "function test(x, y)\n",
    "    if x < y\n",
    "        println(\"x is less than y\")\n",
    "    elseif x > y\n",
    "        println(\"x is greater than y\")\n",
    "    else\n",
    "        println(\"x is equal to y\")\n",
    "    end\n",
    "end"
   ]
  },
  {
   "cell_type": "code",
   "execution_count": 5,
   "id": "0c3c28b7-c587-4427-a9cd-76fce54501c1",
   "metadata": {},
   "outputs": [
    {
     "name": "stdout",
     "output_type": "stream",
     "text": [
      "x is less than y\n"
     ]
    }
   ],
   "source": [
    "test(1,2)"
   ]
  },
  {
   "cell_type": "code",
   "execution_count": 6,
   "id": "f3ee5cd4-019d-42c5-880e-08cae5c6edfe",
   "metadata": {},
   "outputs": [
    {
     "name": "stdout",
     "output_type": "stream",
     "text": [
      "x is greater than y\n"
     ]
    }
   ],
   "source": [
    "test(2,1)"
   ]
  },
  {
   "cell_type": "code",
   "execution_count": 7,
   "id": "b1b58821-2eb0-47fb-90b1-ef962353c26f",
   "metadata": {},
   "outputs": [
    {
     "name": "stdout",
     "output_type": "stream",
     "text": [
      "x is equal to y\n"
     ]
    }
   ],
   "source": [
    "test(1,1)"
   ]
  },
  {
   "cell_type": "markdown",
   "id": "ca3e5230-80b1-48a6-84c8-e9f86087472f",
   "metadata": {},
   "source": [
    "* Python과 유사하게, `elseif`문의 개수에는 제한이 없고, `elseif`문과 `else`문은 Optional이다."
   ]
  },
  {
   "cell_type": "markdown",
   "id": "d221bd2e-6251-495b-aa4e-f4ed43329870",
   "metadata": {},
   "source": [
    "* Python과 유사하게, `if-elseif-else` Construct는 위에서부터 조건문을 검사하면서 내려오다가 처음으로 `true`로 Evaluate된 조건 내부문을 실행하고 더 이상 그 이후 추가 조건문 검사를 하지 않고 Block의 끝으로 이동한다."
   ]
  },
  {
   "cell_type": "markdown",
   "id": "a69be533-52e4-4330-a3e7-a51d0db5f641",
   "metadata": {},
   "source": [
    "* Python과 유사하게, `if-elseif-else` Construct Block 내부에서 정의한 변수라도 '실행되었다면' 그 이후 `if` block 밖에서도 사용이 가능하다. (*`if` Blocks are \"Leaky\"*)"
   ]
  },
  {
   "cell_type": "code",
   "execution_count": 9,
   "id": "11c37cd3-7319-4ac3-834c-2770e4c57a54",
   "metadata": {},
   "outputs": [
    {
     "name": "stdout",
     "output_type": "stream",
     "text": [
      "x is greater than y.\n"
     ]
    }
   ],
   "source": [
    "# if blocks are \"leaky\"\n",
    "function test(x,y)\n",
    "    if x < y\n",
    "        relation = \"less than\"\n",
    "    elseif x == y\n",
    "        relation = \"equal to\"\n",
    "    else\n",
    "        relation = \"greater than\"\n",
    "    end\n",
    "    println(\"x is \", relation, \" y.\") # the variable, relation is defined in if-construct block, but available even the block of the if-construct ended.\n",
    "end\n",
    "\n",
    "test(2, 1)"
   ]
  },
  {
   "cell_type": "markdown",
   "id": "43d3e83f-2fbe-43a5-87fb-1917d0e8a436",
   "metadata": {},
   "source": [
    "* 다만 Python과 마찬가지로, `if` Block 내부에서 대입 연산이 실행되어 정의되어야만 함은 동일하다."
   ]
  },
  {
   "cell_type": "code",
   "execution_count": 10,
   "id": "6151e82c-8be8-4a5f-b3e1-c35313afe601",
   "metadata": {},
   "outputs": [
    {
     "data": {
      "text/plain": [
       "test (generic function with 1 method)"
      ]
     },
     "execution_count": 10,
     "metadata": {},
     "output_type": "execute_result"
    }
   ],
   "source": [
    "function test(x,y)\n",
    "    if x < y\n",
    "        relation = \"less than\"\n",
    "    elseif x == y\n",
    "        relation = \"equal to\"\n",
    "    end\n",
    "    println(\"x is \", relation, \" y.\")\n",
    "end"
   ]
  },
  {
   "cell_type": "code",
   "execution_count": 11,
   "id": "a95b8c9f-f1eb-4f26-b0db-d423267e0cce",
   "metadata": {},
   "outputs": [
    {
     "name": "stdout",
     "output_type": "stream",
     "text": [
      "x is less than y.\n"
     ]
    }
   ],
   "source": [
    "test(1,2) # calls statements located in block if x < y"
   ]
  },
  {
   "cell_type": "code",
   "execution_count": 12,
   "id": "9875a031-a488-42c7-ab9b-712953686c0e",
   "metadata": {},
   "outputs": [
    {
     "ename": "LoadError",
     "evalue": "UndefVarError: `relation` not defined",
     "output_type": "error",
     "traceback": [
      "UndefVarError: `relation` not defined",
      "",
      "Stacktrace:",
      " [1] test(x::Int64, y::Int64)",
      "   @ Main ./In[10]:7",
      " [2] top-level scope",
      "   @ In[12]:1"
     ]
    }
   ],
   "source": [
    "test(2, 1) # Nothing Calls. There'is no case for x > y in the if-elseif construct in function test. therefore, relation is not defined."
   ]
  },
  {
   "cell_type": "markdown",
   "id": "f6b3a3d5-68e1-45dd-bd6b-82908203a447",
   "metadata": {},
   "source": [
    "* Julia에서는 `if`문이 **값을 반환하는데**, 조건문 실행 결과 실행되는 분기 Block 내부에서 가장 마지막 Expression을 Evaluate한 값이 반환된다. (*`if` blocks also return a value, which may seem unintuitive to users coming from many other languages. This value is simply the return value of the last executed statement in the branch that was chosen.*)"
   ]
  },
  {
   "cell_type": "code",
   "execution_count": 13,
   "id": "221a50bf-f6b8-4e31-bf66-27cc66938faf",
   "metadata": {},
   "outputs": [
    {
     "data": {
      "text/plain": [
       "\"positive!\""
      ]
     },
     "execution_count": 13,
     "metadata": {},
     "output_type": "execute_result"
    }
   ],
   "source": [
    "x = 3;\n",
    "if x > 0\n",
    "    \"positive!\"\n",
    "else\n",
    "    \"negative\"\n",
    "end"
   ]
  },
  {
   "cell_type": "markdown",
   "id": "457317aa-8f48-42ae-b7f5-9d8c71b35be5",
   "metadata": {},
   "source": [
    "* C, MATLAB, Perl, Python, Ruby에서는 if문에 숫자값이 들어가더라도 0 아니면 모두 true의 의미를 가졌으나, Julia는 Java처럼 if condition에 들어가는 값이 `true` 또는 `false`가 아니면 `TypeError`를 raise한다. 즉, 조건문의 조건에는 `true` 또는 `false`로 Evaluate되는 식만이 가능하다."
   ]
  },
  {
   "cell_type": "code",
   "execution_count": 14,
   "id": "edf7ba2b-5f95-44be-a184-6daff32ed769",
   "metadata": {},
   "outputs": [
    {
     "ename": "LoadError",
     "evalue": "TypeError: non-boolean (Int64) used in boolean context",
     "output_type": "error",
     "traceback": [
      "TypeError: non-boolean (Int64) used in boolean context",
      "",
      "Stacktrace:",
      " [1] top-level scope",
      "   @ In[14]:1"
     ]
    }
   ],
   "source": [
    "if 1  # not valid, since 1 is not among true or false\n",
    "    println(\"true\")\n",
    "end"
   ]
  },
  {
   "cell_type": "markdown",
   "id": "0684184e-28b5-4b54-af1f-d619e1a2fe22",
   "metadata": {},
   "source": [
    "### Ternary Operator (삼항 연산자)"
   ]
  },
  {
   "cell_type": "markdown",
   "id": "cd87f9e6-e0d4-43ac-9608-f902d0e64ca5",
   "metadata": {},
   "source": [
    "* Julia에서는 C의 문법과 같은 방식의 **Ternary Operator (삼항 연산자)** `?:`를 쓸 수 있다. 즉: `condition ? true_val : false_val`을 사용할 수 있다."
   ]
  },
  {
   "cell_type": "markdown",
   "id": "b6d11c9e-e638-4832-9fed-953a82ef4f7f",
   "metadata": {},
   "source": [
    "* 다만 C와는 달리 Julia 삼항 연산자에서는 `?`와 `:` 뒤에는 공백이나 개행 문자를 반드시 주어야 한다. (구분해야 함)"
   ]
  },
  {
   "cell_type": "code",
   "execution_count": 15,
   "id": "6970451e-ee94-428b-94ca-1a4dda8f7c39",
   "metadata": {},
   "outputs": [
    {
     "name": "stdout",
     "output_type": "stream",
     "text": [
      "less than\n"
     ]
    }
   ],
   "source": [
    "# Example\n",
    "x = 1; y = 2;\n",
    "println(x < y ? \"less than\" : \"not less than\")"
   ]
  },
  {
   "cell_type": "code",
   "execution_count": 16,
   "id": "ee407b32-4400-44ed-8518-ca775bbb3c28",
   "metadata": {},
   "outputs": [
    {
     "name": "stdout",
     "output_type": "stream",
     "text": [
      "not less than\n"
     ]
    }
   ],
   "source": [
    "# Another Example\n",
    "x = 1; y = 0;\n",
    "println(x < y ? \"less than\" : \"not less than\")"
   ]
  },
  {
   "cell_type": "code",
   "execution_count": 17,
   "id": "c17fa6b7-2767-469d-9ba0-e2bbf3e3836c",
   "metadata": {},
   "outputs": [
    {
     "data": {
      "text/plain": [
       "test (generic function with 1 method)"
      ]
     },
     "execution_count": 17,
     "metadata": {},
     "output_type": "execute_result"
    }
   ],
   "source": [
    "# Another Implementation for function test()\n",
    "test(x,y) = println(x < y ? \"x is less than y\" : \n",
    "                    x > y ? \"x is greater than y\" : \"x is equal to y\") "
   ]
  },
  {
   "cell_type": "code",
   "execution_count": 18,
   "id": "e1a40176-de3c-40b8-bcf7-4fcb725d792a",
   "metadata": {},
   "outputs": [
    {
     "name": "stdout",
     "output_type": "stream",
     "text": [
      "x is less than y\n"
     ]
    }
   ],
   "source": [
    "test(1,2)"
   ]
  },
  {
   "cell_type": "code",
   "execution_count": 19,
   "id": "dda73373-3c1c-45ba-b189-e4bffb1c2e5c",
   "metadata": {},
   "outputs": [
    {
     "name": "stdout",
     "output_type": "stream",
     "text": [
      "x is greater than y\n"
     ]
    }
   ],
   "source": [
    "test(2,1)"
   ]
  },
  {
   "cell_type": "code",
   "execution_count": 20,
   "id": "9c95fa0e-258e-478b-9810-d7bd91ce9492",
   "metadata": {},
   "outputs": [
    {
     "name": "stdout",
     "output_type": "stream",
     "text": [
      "x is equal to y\n"
     ]
    }
   ],
   "source": [
    "test(1,1)"
   ]
  },
  {
   "cell_type": "markdown",
   "id": "1721a556-578c-49cf-b440-2e1f6f8eebbf",
   "metadata": {},
   "source": [
    "* 삼항 연산자의 경우에도 Short-Circuit Evaluation을 한다. 즉, 굳이 Evaluate할 필요가 없는 식은 평가하지 않는다.\n",
    "* 즉, `condition ? true_val : false_val`에서 `true_val`은 `condition`이 참인 경우에만 Evaluate되고, `false_val`은 `condition`이 거짓인 경우에만 Evaluate된다."
   ]
  },
  {
   "cell_type": "code",
   "execution_count": 21,
   "id": "46e0477e-0313-48eb-8b0d-c468c23e32f7",
   "metadata": {},
   "outputs": [
    {
     "name": "stdout",
     "output_type": "stream",
     "text": [
      "yes\n",
      "no\n"
     ]
    },
    {
     "data": {
      "text/plain": [
       "\"no\""
      ]
     },
     "execution_count": 21,
     "metadata": {},
     "output_type": "execute_result"
    }
   ],
   "source": [
    "v(x) = (println(x); x)\n",
    "1 < 2 ? v(\"yes\") : v(\"no\")\n",
    "1 > 2 ? v(\"yes\") : v(\"no\")"
   ]
  },
  {
   "cell_type": "markdown",
   "id": "0a32829c-3acd-4fe2-aabb-4323dc1060c0",
   "metadata": {},
   "source": [
    "## Short-Circuit Evaluation"
   ]
  },
  {
   "cell_type": "markdown",
   "id": "e7c8bb7c-4420-4f95-ba04-6d13cb623451",
   "metadata": {},
   "source": [
    "* Julia는 `&&`이나 `││`과 같이 Logical AND, OR 연산을 처리할 때는 **Short-Circuit Evaluation**을 사용한다. 즉, 이미 전체 Expression의 값이 결정되는 순간, 추가적인 Evaluation을 진행하지 않는다.\n",
    "* C에서 사용했던 것처럼, Short-Circuit Evaluation은 제1항의 True/False 값에 따라서 제2항을 평가하거나 하지 않을 수 있으므로, Conditional Statement처럼 활용할 수 있다."
   ]
  },
  {
   "cell_type": "markdown",
   "id": "5ab639b6-b164-4ba0-9bbf-3047d5b8aa1c",
   "metadata": {},
   "source": [
    "**Examples**"
   ]
  },
  {
   "cell_type": "code",
   "execution_count": 22,
   "id": "159d65da-86f3-427b-9885-5aac63d5df7c",
   "metadata": {},
   "outputs": [
    {
     "data": {
      "text/plain": [
       "f (generic function with 1 method)"
      ]
     },
     "execution_count": 22,
     "metadata": {},
     "output_type": "execute_result"
    }
   ],
   "source": [
    "t(x) = (println(x); true) # will evaluated as true, when calling t(x)\n",
    "f(x) = (println(x); false) # will evaluated as false, when calling f(x)"
   ]
  },
  {
   "cell_type": "code",
   "execution_count": 23,
   "id": "99d3d401-f3a6-4e34-94fc-68df1306a434",
   "metadata": {},
   "outputs": [
    {
     "name": "stdout",
     "output_type": "stream",
     "text": [
      "1\n",
      "2\n"
     ]
    },
    {
     "data": {
      "text/plain": [
       "true"
      ]
     },
     "execution_count": 23,
     "metadata": {},
     "output_type": "execute_result"
    }
   ],
   "source": [
    "t(1) && t(2) # t(1) -> evaluated as 'true', therefore t(2) will be evaluated."
   ]
  },
  {
   "cell_type": "code",
   "execution_count": 24,
   "id": "74f6ef94-376d-4fae-beb6-d27eb26b4366",
   "metadata": {},
   "outputs": [
    {
     "name": "stdout",
     "output_type": "stream",
     "text": [
      "1\n",
      "2\n"
     ]
    },
    {
     "data": {
      "text/plain": [
       "false"
      ]
     },
     "execution_count": 24,
     "metadata": {},
     "output_type": "execute_result"
    }
   ],
   "source": [
    "t(1) && f(2) # t(1) -> evaluated as 'true', therefore f(2) will be evaluated."
   ]
  },
  {
   "cell_type": "code",
   "execution_count": 25,
   "id": "6ec9ebee-3be1-4a65-a9af-8e66d3e0e810",
   "metadata": {},
   "outputs": [
    {
     "name": "stdout",
     "output_type": "stream",
     "text": [
      "1\n"
     ]
    },
    {
     "data": {
      "text/plain": [
       "false"
      ]
     },
     "execution_count": 25,
     "metadata": {},
     "output_type": "execute_result"
    }
   ],
   "source": [
    "f(1) && t(2) # f(1) -> evaluated as 'false', therefore t(2) will not be evaluated."
   ]
  },
  {
   "cell_type": "code",
   "execution_count": 26,
   "id": "feb8eb8f-48a7-4c8d-a7b4-d60231a36658",
   "metadata": {},
   "outputs": [
    {
     "name": "stdout",
     "output_type": "stream",
     "text": [
      "1\n"
     ]
    },
    {
     "data": {
      "text/plain": [
       "false"
      ]
     },
     "execution_count": 26,
     "metadata": {},
     "output_type": "execute_result"
    }
   ],
   "source": [
    "f(1) && f(2) # f(1) -> evaluated as 'false', therefore f(2) will not be evaluated."
   ]
  },
  {
   "cell_type": "code",
   "execution_count": 27,
   "id": "1e22e996-0f2e-4829-890e-077ea942e3f7",
   "metadata": {},
   "outputs": [
    {
     "name": "stdout",
     "output_type": "stream",
     "text": [
      "1\n"
     ]
    },
    {
     "data": {
      "text/plain": [
       "true"
      ]
     },
     "execution_count": 27,
     "metadata": {},
     "output_type": "execute_result"
    }
   ],
   "source": [
    "t(1) || t(2) # t(1) -> evaluated as 'true', therefore t(2) will not be evaluated."
   ]
  },
  {
   "cell_type": "code",
   "execution_count": 28,
   "id": "92f1f731-b19f-48af-a6a9-bfd7784acd98",
   "metadata": {},
   "outputs": [
    {
     "name": "stdout",
     "output_type": "stream",
     "text": [
      "1\n"
     ]
    },
    {
     "data": {
      "text/plain": [
       "true"
      ]
     },
     "execution_count": 28,
     "metadata": {},
     "output_type": "execute_result"
    }
   ],
   "source": [
    "t(1) || f(2) # t(1) -> evaluated as 'true', therefore f(2) will not be evaluated."
   ]
  },
  {
   "cell_type": "code",
   "execution_count": 30,
   "id": "8407ec3d-33d6-476b-9b0c-b8e907768d78",
   "metadata": {},
   "outputs": [
    {
     "name": "stdout",
     "output_type": "stream",
     "text": [
      "1\n",
      "2\n"
     ]
    },
    {
     "data": {
      "text/plain": [
       "true"
      ]
     },
     "execution_count": 30,
     "metadata": {},
     "output_type": "execute_result"
    }
   ],
   "source": [
    "f(1) || t(2) # f(1) -> evaluated as 'false', therefore t(2) will be evaluated."
   ]
  },
  {
   "cell_type": "code",
   "execution_count": 31,
   "id": "cf9fa526-5cd3-4f14-b8ac-8ec441aaf2a5",
   "metadata": {},
   "outputs": [
    {
     "name": "stdout",
     "output_type": "stream",
     "text": [
      "1\n",
      "2\n"
     ]
    },
    {
     "data": {
      "text/plain": [
       "false"
      ]
     },
     "execution_count": 31,
     "metadata": {},
     "output_type": "execute_result"
    }
   ],
   "source": [
    "f(1) || f(2) # f(1) -> evaluated as 'false', therefore f(2) will be evaluated."
   ]
  },
  {
   "cell_type": "markdown",
   "id": "8e86dd6b-0f77-49cd-b420-522c23354632",
   "metadata": {},
   "source": [
    "* C 등에서 `if`-statement를 줄이는 것처럼, 이 기능을 Julia에서 조건문을 줄여 쓰는 방식으로 활용할 수 있다.\n",
    "* Short-Circuit Evaluation 덕분에 다음과 같이 줄여 쓸 수 있다.\n",
    "    * `<cond> <statement>` -> `<cond> && <statement>`\n",
    "    * `! <cond> <statement>` -> `<cond> || <statement>`"
   ]
  },
  {
   "cell_type": "code",
   "execution_count": 40,
   "id": "ac9a5b03-d8f1-4dee-8cbe-00d4539296f0",
   "metadata": {},
   "outputs": [
    {
     "data": {
      "text/plain": [
       "fact (generic function with 1 method)"
      ]
     },
     "execution_count": 40,
     "metadata": {},
     "output_type": "execute_result"
    }
   ],
   "source": [
    "function fact(n::Int)\n",
    "    n >= 0 || error(\"n must be non-negative\") # <=> if !(n >= 0); error(...); end\n",
    "    n == 0 && return 1 # <=> if (n == 0); return 1; end\n",
    "    n * fact(n-1) # <=> return n * fact(n-1)\n",
    "end"
   ]
  },
  {
   "cell_type": "code",
   "execution_count": 33,
   "id": "0995cbd5-cfc1-44a3-b6eb-fd28675ebd7a",
   "metadata": {},
   "outputs": [
    {
     "data": {
      "text/plain": [
       "120"
      ]
     },
     "execution_count": 33,
     "metadata": {},
     "output_type": "execute_result"
    }
   ],
   "source": [
    "fact(5)"
   ]
  },
  {
   "cell_type": "code",
   "execution_count": 34,
   "id": "cab8611f-7337-44ad-a5ac-a8e72ae08f7b",
   "metadata": {},
   "outputs": [
    {
     "data": {
      "text/plain": [
       "1"
      ]
     },
     "execution_count": 34,
     "metadata": {},
     "output_type": "execute_result"
    }
   ],
   "source": [
    "fact(0)"
   ]
  },
  {
   "cell_type": "code",
   "execution_count": 35,
   "id": "ba2b4c98-911c-4cd2-884d-64ed7e946882",
   "metadata": {},
   "outputs": [
    {
     "ename": "LoadError",
     "evalue": "n must be non-negative",
     "output_type": "error",
     "traceback": [
      "n must be non-negative",
      "",
      "Stacktrace:",
      " [1] error(s::String)",
      "   @ Base ./error.jl:35",
      " [2] fact(n::Int64)",
      "   @ Main ./In[32]:2",
      " [3] top-level scope",
      "   @ In[35]:1"
     ]
    }
   ],
   "source": [
    "fact(-1)"
   ]
  },
  {
   "cell_type": "code",
   "execution_count": 41,
   "id": "cdac35a0-4904-4785-b8f6-284d27e1b83a",
   "metadata": {},
   "outputs": [
    {
     "data": {
      "text/plain": [
       "(1, 2, 3)"
      ]
     },
     "execution_count": 41,
     "metadata": {},
     "output_type": "execute_result"
    }
   ],
   "source": [
    "# Short-Circuit Evaluation을 이용하여 Conditional Init가 가능하다.\n",
    "true && (x = (1, 2, 3))"
   ]
  },
  {
   "cell_type": "code",
   "execution_count": 42,
   "id": "a1d75d54-81cc-4939-a6c2-14c23eda8c9e",
   "metadata": {},
   "outputs": [
    {
     "data": {
      "text/plain": [
       "false"
      ]
     },
     "execution_count": 42,
     "metadata": {},
     "output_type": "execute_result"
    }
   ],
   "source": [
    "false && (x = (1, 2, 3)) # x will not be defined"
   ]
  },
  {
   "cell_type": "markdown",
   "id": "1ed43aa2-9b3a-42f0-af64-5889db3b4075",
   "metadata": {},
   "source": [
    "* **주의**: 논리 연산이 아니라, Bitwise 연산인 `&`와 `│`의 경우는 Short-Circuit Evaluation이 적용되지 않음에 주의."
   ]
  },
  {
   "cell_type": "code",
   "execution_count": 37,
   "id": "a7f8b840-58be-4373-8553-17d4d231bb42",
   "metadata": {},
   "outputs": [
    {
     "name": "stdout",
     "output_type": "stream",
     "text": [
      "1\n",
      "2\n"
     ]
    },
    {
     "data": {
      "text/plain": [
       "false"
      ]
     },
     "execution_count": 37,
     "metadata": {},
     "output_type": "execute_result"
    }
   ],
   "source": [
    "f(1) & t(2) # print 1, print 2, true & false -> false"
   ]
  },
  {
   "cell_type": "code",
   "execution_count": 38,
   "id": "67e3088c-76c5-431a-a2fb-67c80accb164",
   "metadata": {},
   "outputs": [
    {
     "name": "stdout",
     "output_type": "stream",
     "text": [
      "1\n",
      "2\n"
     ]
    },
    {
     "data": {
      "text/plain": [
       "true"
      ]
     },
     "execution_count": 38,
     "metadata": {},
     "output_type": "execute_result"
    }
   ],
   "source": [
    "t(1) | t(2) # print 1, print 2, true | true -> true"
   ]
  },
  {
   "cell_type": "markdown",
   "id": "0b7acaa8-3a25-4fb7-bdf7-8e5646d5075e",
   "metadata": {},
   "source": [
    "* **주의**: `if`, `elseif` 등과 같이, `&&`, `││`는 **두 Boolean Type에 대한 이항연산**이므로, 양 항이 Boolean Type이 아니면 `TypeError`가 raise된다. 즉, Julia에서는 C에서와 같이 임의의 정수, 실수형 자료형이 0인지의 여부로 T/F값을 가지지 않기 때문에 논리 연산에서 주의해야 한다."
   ]
  },
  {
   "cell_type": "code",
   "execution_count": 39,
   "id": "e58e05db-60ab-4a81-aba1-0163138f5af9",
   "metadata": {},
   "outputs": [
    {
     "ename": "LoadError",
     "evalue": "TypeError: non-boolean (Int64) used in boolean context",
     "output_type": "error",
     "traceback": [
      "TypeError: non-boolean (Int64) used in boolean context",
      "",
      "Stacktrace:",
      " [1] top-level scope",
      "   @ In[39]:1"
     ]
    }
   ],
   "source": [
    "1 && true # invalid operation, since 1 is not boolean type"
   ]
  },
  {
   "cell_type": "markdown",
   "id": "60da98c2-4054-4f69-b74d-987c45f32aab",
   "metadata": {},
   "source": [
    "## Repeated Evaluation: Loops (반복문)"
   ]
  },
  {
   "cell_type": "markdown",
   "id": "862b1f5c-7bac-422d-bf6a-737a8fe2c758",
   "metadata": {},
   "source": [
    "* Python과 유사하게, Julia에서는 다음의 두 Loop문을 지원한다.\n",
    "    1. `while`문\n",
    "    2. `for`문"
   ]
  },
  {
   "cell_type": "markdown",
   "id": "e9280d14-c779-4178-ae48-0a820fadfc73",
   "metadata": {},
   "source": [
    "### `while`문"
   ]
  },
  {
   "cell_type": "markdown",
   "id": "8351ee82-4dc3-4cdb-b1b8-45786f3f5a16",
   "metadata": {},
   "source": [
    "* Julia에서의 `while`문은 while-Block을 `:`와 Indentation으로 구분하는 것이 아니라, `while cond` ~ `end`로 구분하는 것 이외에는 Python과 정확히 동일하다."
   ]
  },
  {
   "cell_type": "code",
   "execution_count": 43,
   "id": "5b0caa0f-18ca-42d6-9045-67ba9d8df323",
   "metadata": {},
   "outputs": [
    {
     "name": "stdout",
     "output_type": "stream",
     "text": [
      "1\n",
      "2\n",
      "3\n"
     ]
    }
   ],
   "source": [
    "i = 1\n",
    "while i <= 3\n",
    "    println(i)\n",
    "    global i += 1 # increase i, in global scope, as 1\n",
    "end"
   ]
  },
  {
   "cell_type": "markdown",
   "id": "7d3da1a7-57b4-4ce2-93db-6ca6cd1c3908",
   "metadata": {},
   "source": [
    "### `for`문"
   ]
  },
  {
   "cell_type": "markdown",
   "id": "947b8949-4f63-49f9-bc90-542c847d1180",
   "metadata": {},
   "source": [
    "### `for`문 (Without `in`)"
   ]
  },
  {
   "cell_type": "markdown",
   "id": "a1d7f0b1-27eb-46e9-ac50-220dd50f444c",
   "metadata": {},
   "source": [
    "* Julia에서의 `for`문은 for-Block을 `end`를 사용하여 구분하는 것 제외하고는 MatLAB의 `for`문 문법과 유사하다."
   ]
  },
  {
   "cell_type": "code",
   "execution_count": 44,
   "id": "a3712596-2e81-418f-81d8-f1fe90cbe26c",
   "metadata": {},
   "outputs": [
    {
     "name": "stdout",
     "output_type": "stream",
     "text": [
      "1\n",
      "2\n",
      "3\n"
     ]
    }
   ],
   "source": [
    "# Examples for for-construct\n",
    "for i = 1:3 # 1:3 -> a range object. (MatLAB-like syntax)\n",
    "    println(i)\n",
    "end"
   ]
  },
  {
   "cell_type": "markdown",
   "id": "70b8dc95-6c81-455a-aaa9-f7540afbca34",
   "metadata": {},
   "source": [
    "* Python의 경우 `for ~ in`문으로 Iteratable Object를 넘겨서 순회할 수 있었지만, Julia는 Matlab-like 문법을 채택하고 있어, `in_loop_var = range_obj`의 형태로 for construct를 구성해야 한다.\n",
    "* Julia for-loop의 동작 방식은 MatLAB의 for loop의 동작 방식과 거의 같다."
   ]
  },
  {
   "cell_type": "markdown",
   "id": "a64fe3ca-4840-4669-b866-ff186bf1585e",
   "metadata": {},
   "source": [
    "* Julia에서 `for`문의 In-for variable은 `for`문 내부에서만 Available하고, 이전에 정의되었다 하더라도 new-scope에서 새롭게 정의되어 사용된다. (즉, for문 이전에 같은 이름으로 변수가 정의되어 있다 하더라도, 새로운 공간에 변수를 잡은 뒤 상위 Identifier를 for문 안에서 숨김 처리한다.)"
   ]
  },
  {
   "cell_type": "code",
   "execution_count": 45,
   "id": "4e8410a1-f106-475a-9dd1-2213035f5ad9",
   "metadata": {},
   "outputs": [
    {
     "name": "stdout",
     "output_type": "stream",
     "text": [
      "1\n",
      "2\n",
      "3\n"
     ]
    }
   ],
   "source": [
    "for j = 1:3\n",
    "    println(j)\n",
    "end"
   ]
  },
  {
   "cell_type": "code",
   "execution_count": 46,
   "id": "8adc0f25-209c-419f-931c-2b16275ee821",
   "metadata": {},
   "outputs": [
    {
     "ename": "LoadError",
     "evalue": "UndefVarError: `j` not defined",
     "output_type": "error",
     "traceback": [
      "UndefVarError: `j` not defined",
      ""
     ]
    }
   ],
   "source": [
    "j # j is not previously defined, therefore it is known only in the for-construct."
   ]
  },
  {
   "cell_type": "code",
   "execution_count": 47,
   "id": "b867e556-9b48-43e3-b760-4e86e87ca79e",
   "metadata": {},
   "outputs": [
    {
     "name": "stdout",
     "output_type": "stream",
     "text": [
      "1\n",
      "2\n",
      "3\n"
     ]
    },
    {
     "data": {
      "text/plain": [
       "0"
      ]
     },
     "execution_count": 47,
     "metadata": {},
     "output_type": "execute_result"
    }
   ],
   "source": [
    "j = 0;\n",
    "for j = 1:3\n",
    "    println(j)\n",
    "end\n",
    "j # j, defined in for-construct, is a newly assigned variable, therefore j, calling in here is outer-scope variable j."
   ]
  },
  {
   "cell_type": "markdown",
   "id": "c8782ade-76cc-4cf6-9e6d-bcfc3a2429a2",
   "metadata": {},
   "source": [
    "### `for`문 (With `in`)"
   ]
  },
  {
   "cell_type": "markdown",
   "id": "cfd15577-8887-410c-b41f-552b93a07f62",
   "metadata": {},
   "source": [
    "* Julia에서는 Python과 유사하게 `for ~ in`으로 Container Type 자료형에 대해 순회할 수 있다. 이 때, `in` 키워드 대신에 `=`나 `∈` (Julia REPL에서 `\\in` + `Tab`으로 입력 가능함) 로 대체할 수도 있다."
   ]
  },
  {
   "cell_type": "code",
   "execution_count": 48,
   "id": "7b5799a0-a907-42d7-92d3-3f7bd2bb602b",
   "metadata": {},
   "outputs": [
    {
     "name": "stdout",
     "output_type": "stream",
     "text": [
      "1\n",
      "4\n",
      "0\n"
     ]
    }
   ],
   "source": [
    "for i in [1, 4, 0] # 1-dimensional vector is iteratable\n",
    "    println(i)\n",
    "end"
   ]
  },
  {
   "cell_type": "code",
   "execution_count": 50,
   "id": "ba200eda-0855-47b8-8e7b-b02a4cb63184",
   "metadata": {},
   "outputs": [
    {
     "name": "stdout",
     "output_type": "stream",
     "text": [
      "foo\n",
      "bar\n",
      "baz\n"
     ]
    }
   ],
   "source": [
    "for s = [\"foo\", \"bar\", \"baz\"] # = can be used instead of 'in' keyword.\n",
    "    println(s)\n",
    "end"
   ]
  },
  {
   "cell_type": "code",
   "execution_count": 51,
   "id": "1c631754-36d6-48d2-854f-6b8ac32e563e",
   "metadata": {},
   "outputs": [
    {
     "name": "stdout",
     "output_type": "stream",
     "text": [
      "foo\n",
      "bar\n",
      "baz\n"
     ]
    }
   ],
   "source": [
    "for s ∈ [\"foo\", \"bar\", \"baz\"] # ∈ can be used instead of 'in'.\n",
    "    println(s)\n",
    "end"
   ]
  },
  {
   "cell_type": "markdown",
   "id": "eca0212e-e7b0-40c9-ad0c-37e571ed687c",
   "metadata": {},
   "source": [
    "### `break` & `continue`"
   ]
  },
  {
   "cell_type": "markdown",
   "id": "2887b560-fde9-418f-a7f7-ca74b9c6770b",
   "metadata": {},
   "source": [
    "* Python과 마찬가지로 Julia에서도 Loop문 내부에서 `break`와 `continue`를 사용할 수 있으며, 이들의 기능은 Python에서와 정확히 같다."
   ]
  },
  {
   "cell_type": "code",
   "execution_count": 52,
   "id": "2f6ada68-36d9-43cb-81d0-f418567b5bbe",
   "metadata": {},
   "outputs": [
    {
     "name": "stdout",
     "output_type": "stream",
     "text": [
      "1\n",
      "2\n",
      "3\n"
     ]
    }
   ],
   "source": [
    "i = 1\n",
    "while true\n",
    "    println(i)\n",
    "    if i >= 3\n",
    "        break\n",
    "    end\n",
    "    global i += 1\n",
    "end"
   ]
  },
  {
   "cell_type": "code",
   "execution_count": 53,
   "id": "14dbda8d-aeea-4e1f-a49c-7c7ed945e474",
   "metadata": {},
   "outputs": [
    {
     "name": "stdout",
     "output_type": "stream",
     "text": [
      "1\n",
      "2\n",
      "3\n"
     ]
    }
   ],
   "source": [
    "for j = 1:1000\n",
    "    println(j)\n",
    "    if j >= 3\n",
    "        break\n",
    "    end\n",
    "end"
   ]
  },
  {
   "cell_type": "code",
   "execution_count": 54,
   "id": "23ad006f-e69c-4c7d-910b-ff1216291e0d",
   "metadata": {},
   "outputs": [
    {
     "name": "stdout",
     "output_type": "stream",
     "text": [
      "3\n",
      "6\n",
      "9\n"
     ]
    }
   ],
   "source": [
    "for i = 1:10\n",
    "    if i % 3 != 0\n",
    "        continue\n",
    "    end\n",
    "    println(i)\n",
    "end"
   ]
  },
  {
   "cell_type": "markdown",
   "id": "bc07463b-eb76-4a34-8593-17812e3273a1",
   "metadata": {},
   "source": [
    "### 다중 `for`문의 Single outer Loop화"
   ]
  },
  {
   "cell_type": "markdown",
   "id": "123ef663-c276-4616-88cd-402ee7644553",
   "metadata": {},
   "source": [
    "* Julia는 C, Python과는 달리 다중 중첩 `for`문에서 각각의 반복 변수를 `var1 = range1, var2 = range2, ...`의 형태로 나열하여 단일한 loop로 만들 수 있다. Julia Compiler가 이를 알아서 다중 Loop화한다."
   ]
  },
  {
   "cell_type": "code",
   "execution_count": 3,
   "id": "64f5bb53-4005-4d4f-a1ae-506840a5b53c",
   "metadata": {},
   "outputs": [
    {
     "name": "stdout",
     "output_type": "stream",
     "text": [
      "(1, 3)\n",
      "(1, 4)\n",
      "(2, 3)\n",
      "(2, 4)\n"
     ]
    }
   ],
   "source": [
    "# the following loop is just same as this:\n",
    "# for i = 1:2\n",
    "#    for j = 3:4\n",
    "#        println((i, j))\n",
    "#    end\n",
    "# end\n",
    "\n",
    "for i = 1:2, j = 3:4\n",
    "    println((i, j))\n",
    "end"
   ]
  },
  {
   "cell_type": "markdown",
   "id": "41ae895c-d7d1-483c-b083-c28078793b8d",
   "metadata": {},
   "source": [
    "* 이 다중 `for`문의 Single outer Loop화에서 뒤쪽에 오는, 즉 내부 Loop 변수는 당연히 Nested Loop처럼 앞의 변수를 참조할 수 있다."
   ]
  },
  {
   "cell_type": "code",
   "execution_count": 6,
   "id": "3679313f-598d-48a7-89dc-342081ba39f4",
   "metadata": {},
   "outputs": [
    {
     "name": "stdout",
     "output_type": "stream",
     "text": [
      "(1, 1)\n",
      "(2, 1)\n",
      "(2, 2)\n",
      "(3, 1)\n",
      "(3, 2)\n",
      "(3, 3)\n"
     ]
    }
   ],
   "source": [
    "N = 3\n",
    "for i = 1:N, j = 1:i # note that j can refer i, the previous loop variable\n",
    "    println((i, j))\n",
    "end"
   ]
  },
  {
   "cell_type": "markdown",
   "id": "6a416bc5-77b6-4c89-9ba8-68fb7f69ad2b",
   "metadata": {},
   "source": [
    "* 그러나 이 다중 `for`문의 Single outer Loop의 경우, 내부에서 `break`를 쓰면 코드 상에서는 Single loop화되어 있으므로, 두 `for`문을 모두 break함에 주의."
   ]
  },
  {
   "cell_type": "markdown",
   "id": "1fd3974f-1422-4ce6-bec4-b51bdccdaf5f",
   "metadata": {},
   "source": [
    "**일반적인 다중 `for`문**"
   ]
  },
  {
   "cell_type": "code",
   "execution_count": 12,
   "id": "aa4ab0c3-31c4-48a0-a476-ec7f8668154e",
   "metadata": {},
   "outputs": [
    {
     "name": "stdout",
     "output_type": "stream",
     "text": [
      "(1, 1)\n",
      "(2, 1)\n",
      "(2, 2)\n",
      "(3, 1)\n",
      "(3, 2)\n",
      "(3, 3)\n"
     ]
    }
   ],
   "source": [
    "for i = 1:3\n",
    "    for j = 1:3\n",
    "        println((i, j))\n",
    "        if (j == i) break end\n",
    "    end\n",
    "end"
   ]
  },
  {
   "cell_type": "markdown",
   "id": "85b79ec0-3165-4ce4-84ae-ddf78e246681",
   "metadata": {},
   "source": [
    "**Single outer Looped `for`문**"
   ]
  },
  {
   "cell_type": "code",
   "execution_count": 11,
   "id": "41d912cd-e9e0-47f7-88da-0f6f1b56d220",
   "metadata": {},
   "outputs": [
    {
     "name": "stdout",
     "output_type": "stream",
     "text": [
      "(1, 1)\n"
     ]
    }
   ],
   "source": [
    "for i = 1:3, j = 1:3\n",
    "    println((i, j))\n",
    "    if (j == i) break end\n",
    "end"
   ]
  },
  {
   "cell_type": "markdown",
   "id": "69b5727e-f5e0-47d5-9e68-4576e988a420",
   "metadata": {},
   "source": [
    "### Python-like `zip`을 활용한 `for`문"
   ]
  },
  {
   "cell_type": "markdown",
   "id": "ff974061-7867-4539-8664-827637025d62",
   "metadata": {},
   "source": [
    "* Julia는 Python에서 `zip` 내장함수를 이용해 대응하는 index의 container object element끼리 묶어서 iterate하는 형태의 `for`문을 지원한다."
   ]
  },
  {
   "cell_type": "code",
   "execution_count": 14,
   "id": "472fea1f-942e-48da-84e4-3e40b9a33ded",
   "metadata": {},
   "outputs": [
    {
     "name": "stdout",
     "output_type": "stream",
     "text": [
      "(1, 4)\n",
      "(2, 5)\n",
      "(3, 6)\n"
     ]
    }
   ],
   "source": [
    "for (j, k) in zip([1 2 3], [4 5 6 7])\n",
    "    println((j, k))\n",
    "end"
   ]
  },
  {
   "cell_type": "markdown",
   "id": "56437314-00a0-4afd-828d-3e8359a9843c",
   "metadata": {},
   "source": [
    "## Exception Handling (예외 처리)"
   ]
  },
  {
   "cell_type": "markdown",
   "id": "50868b8a-8236-4068-bec4-6728d20eb5f0",
   "metadata": {},
   "source": [
    "### Built-in Exceptions"
   ]
  },
  {
   "cell_type": "markdown",
   "id": "24fcdda6-d21f-416d-b933-50c885c9faff",
   "metadata": {},
   "source": [
    "* Julia에서는 다음의 Exception Type들이 내장으로 정의되어 있다."
   ]
  },
  {
   "cell_type": "markdown",
   "id": "7bc30a77-abe7-4d0d-8133-8ee72cac0f27",
   "metadata": {},
   "source": [
    "**Julia Built-in Exceptions**\n",
    "|Exception|Description|\n",
    "|:----:|:------------:|\n",
    "|ErrorException|Generic Error Type in Julia.|\n",
    "|ArgumentError|The argument passed to a function are invalid.|\n",
    "|BoundsError|An indexing operation into an array, tried to access an out-of-bounds element.|\n",
    "|CompositeException|More than one error has been occured during execution of Task.|\n",
    "|DimensionMismatch|The objects called do not have matching dimensionality.|\n",
    "|DivideError|Integer division was attempted with a denominator value of 0.|\n",
    "|DomainError|The argument to a function or constructor is outside the valid domain.<br/>(*e.g.* `sqrt(-1)` will throw DomainError, since -1 is not in valid domain of argument of the sqrt func.)|\n",
    "|EOFError|No more data was available to read from a file or stream.<br/>(reading from a file or stream has been encountered EOF.)|\n",
    "|InexactError|Cannot exactly convert value to specified type in a method or a function.<br/>(*.e.g.* `convert(Float64, 1+2im)` will throw InexactError, since `1 + 2i`, a complex number cannot be exactly-converted into a real number.)|\n",
    "|InitError|An error occured when running a module's `__init__` function. (First constructor of module)|\n",
    "|InterruptException|The proess was stopped by a terminal interrupt (Ctrl+C)|\n",
    "|KeyError|An indexing operation into an Dict or Set-like object tried to access or delete a non-existent element.|\n",
    "|LoadError|An error occured while `include`ing, `require`ing or `using` a file.|\n",
    "|OutOfMemoryError|An operation allocated too much memory for either the system or the garbage collector to handle properly.|\n",
    "|ReadOnlyMemoryError|An operation tried to write to memory that is read-only.|\n",
    "|RemoteException|Exceptions on remote computations are captured and rethrown locally.|\n",
    "|MethodError|A method with the required type signature does not exist in the given generic function.|\n",
    "|OverflowError|The result of an expression is too large for the specified type and will cause a wraparound.|\n",
    "|Meta.ParseError|The expression passed to the `parse` function could not be interpreted as a valid Julia expression.|\n",
    "|SystemError|A system call failed with an error code.|\n",
    "|TypeError|A type assertion failure, or calling an intrinsic function with an incorrect argument type.|\n",
    "|UndefRefError|The item or field is not defined for the given object.|\n",
    "|UndefVarError|A symbol in the current scope is not defined.|\n",
    "|StringIndexError|An error occured when trying to access string at some index is not valid.|\n"
   ]
  },
  {
   "cell_type": "markdown",
   "id": "58a4d36c-c10a-4af5-b221-99b4b56d881e",
   "metadata": {},
   "source": [
    "### `throw` 내장함수"
   ]
  },
  {
   "cell_type": "markdown",
   "id": "c619e5c8-a21c-4189-8551-c7c87827c55c",
   "metadata": {},
   "source": [
    "* Python과 유사하게 Julia에서는 `throw` **내장함수** (keyword 아님!) 를 이용하여 특정 Exception Object를 던질 수 있다. C++, Python의 Error Handling 개념과 유사하게 rethrow도 가능하다."
   ]
  },
  {
   "cell_type": "code",
   "execution_count": 15,
   "id": "6043ae2f-da40-4efa-afe4-aa337684dd8b",
   "metadata": {},
   "outputs": [
    {
     "data": {
      "text/plain": [
       "f (generic function with 1 method)"
      ]
     },
     "execution_count": 15,
     "metadata": {},
     "output_type": "execute_result"
    }
   ],
   "source": [
    "f(x) = x >= 0 ? exp(-x) : throw(DomainError(x, \"argument must be nonnegative\"))"
   ]
  },
  {
   "cell_type": "code",
   "execution_count": 16,
   "id": "13f22dd6-ffb6-4d9b-af67-1738fcc2f66c",
   "metadata": {},
   "outputs": [
    {
     "data": {
      "text/plain": [
       "0.36787944117144233"
      ]
     },
     "execution_count": 16,
     "metadata": {},
     "output_type": "execute_result"
    }
   ],
   "source": [
    "f(1)"
   ]
  },
  {
   "cell_type": "code",
   "execution_count": 17,
   "id": "3bb2fed0-f997-4439-b981-47270a0e655f",
   "metadata": {},
   "outputs": [
    {
     "ename": "LoadError",
     "evalue": "DomainError with -1:\nargument must be nonnegative",
     "output_type": "error",
     "traceback": [
      "DomainError with -1:\nargument must be nonnegative",
      "",
      "Stacktrace:",
      " [1] f(x::Int64)",
      "   @ Main ./In[15]:1",
      " [2] top-level scope",
      "   @ In[17]:1"
     ]
    }
   ],
   "source": [
    "f(-1)"
   ]
  },
  {
   "cell_type": "markdown",
   "id": "c89d2b5d-dbe1-4cce-9015-31c473c089f6",
   "metadata": {},
   "source": [
    "### `error` 내장함수"
   ]
  },
  {
   "cell_type": "markdown",
   "id": "94b12326-9f29-46da-81a8-efd1b3caeca0",
   "metadata": {},
   "source": [
    "* Python 등과는 달리 Julia에서는 Generic Exception을 일으키기 위해 `error` 내장함수를 이용할 수 있다. 즉 `error` 내장함수에 message를 argument로 넘기면, 해당 `error` 내장함수가 실행될 때 Julia의 Generic Exception Type인 `ErrorException`이 throw된다."
   ]
  },
  {
   "cell_type": "code",
   "execution_count": 18,
   "id": "4ddb197f-8c0a-4c8c-a9d0-972d21bded12",
   "metadata": {},
   "outputs": [
    {
     "data": {
      "text/plain": [
       "fussy_sqrt (generic function with 1 method)"
      ]
     },
     "execution_count": 18,
     "metadata": {},
     "output_type": "execute_result"
    }
   ],
   "source": [
    "fussy_sqrt(x) = x >= 0 ? sqrt(x) : error(\"negative x not allowed\")"
   ]
  },
  {
   "cell_type": "code",
   "execution_count": 19,
   "id": "e9c2c335-b69f-4977-81ba-73e6e6f37e53",
   "metadata": {},
   "outputs": [
    {
     "data": {
      "text/plain": [
       "1.4142135623730951"
      ]
     },
     "execution_count": 19,
     "metadata": {},
     "output_type": "execute_result"
    }
   ],
   "source": [
    "fussy_sqrt(2)"
   ]
  },
  {
   "cell_type": "code",
   "execution_count": 20,
   "id": "6046c1fd-c335-492b-9880-bb20b8c17341",
   "metadata": {},
   "outputs": [
    {
     "ename": "LoadError",
     "evalue": "negative x not allowed",
     "output_type": "error",
     "traceback": [
      "negative x not allowed",
      "",
      "Stacktrace:",
      " [1] error(s::String)",
      "   @ Base ./error.jl:35",
      " [2] fussy_sqrt(x::Int64)",
      "   @ Main ./In[18]:1",
      " [3] top-level scope",
      "   @ In[20]:1"
     ]
    }
   ],
   "source": [
    "fussy_sqrt(-1)"
   ]
  },
  {
   "cell_type": "markdown",
   "id": "d36f6fec-c26a-4814-a75d-ae705a001e2a",
   "metadata": {},
   "source": [
    "* 보통 위에서처럼 top-level scope에서는 `ErrorException`을 catch해도 handle하지 않기 때문에, 보통 `error` 내장함수는 C에서의 `abort` 함수처럼 즉시 그 부분에서 프로그램의 terminate 시키고자 할 때 많이 애용한다."
   ]
  },
  {
   "cell_type": "code",
   "execution_count": 22,
   "id": "5da0fd9e-e4c9-4da4-b3da-19c8c40d640a",
   "metadata": {},
   "outputs": [
    {
     "data": {
      "text/plain": [
       "verbose_fussy_sqrt (generic function with 1 method)"
      ]
     },
     "execution_count": 22,
     "metadata": {},
     "output_type": "execute_result"
    }
   ],
   "source": [
    "function verbose_fussy_sqrt(x)\n",
    "    println(\"before fussy_sqrt\")\n",
    "    r = fussy_sqrt(x)\n",
    "    println(\"after fussy_sqrt\")\n",
    "    return r\n",
    "end"
   ]
  },
  {
   "cell_type": "code",
   "execution_count": 23,
   "id": "9510201f-babd-49e9-bc91-66c0bd09414a",
   "metadata": {},
   "outputs": [
    {
     "name": "stdout",
     "output_type": "stream",
     "text": [
      "before fussy_sqrt\n",
      "after fussy_sqrt\n"
     ]
    },
    {
     "data": {
      "text/plain": [
       "1.4142135623730951"
      ]
     },
     "execution_count": 23,
     "metadata": {},
     "output_type": "execute_result"
    }
   ],
   "source": [
    "verbose_fussy_sqrt(2)"
   ]
  },
  {
   "cell_type": "code",
   "execution_count": 24,
   "id": "096d643c-f94c-4a28-a40e-55e784edb174",
   "metadata": {},
   "outputs": [
    {
     "name": "stdout",
     "output_type": "stream",
     "text": [
      "before fussy_sqrt\n"
     ]
    },
    {
     "ename": "LoadError",
     "evalue": "negative x not allowed",
     "output_type": "error",
     "traceback": [
      "negative x not allowed",
      "",
      "Stacktrace:",
      " [1] error(s::String)",
      "   @ Base ./error.jl:35",
      " [2] fussy_sqrt",
      "   @ ./In[18]:1 [inlined]",
      " [3] verbose_fussy_sqrt(x::Int64)",
      "   @ Main ./In[22]:3",
      " [4] top-level scope",
      "   @ In[24]:1"
     ]
    }
   ],
   "source": [
    "verbose_fussy_sqrt(-1)"
   ]
  },
  {
   "cell_type": "markdown",
   "id": "3c37ac14-614a-4db2-a603-a003a05c741f",
   "metadata": {},
   "source": [
    "* 위 예시의 경우 `fussy_sqrt` 내부의 `error` 내장함수에 의해 throw된 ErrorException이 Handle되지 않고 top-level scope까지 throw되어 프로그램이 terminate된다. 따라서 `fussy_sqrt()` call 이후의 code는 실행되지 않는다."
   ]
  },
  {
   "cell_type": "markdown",
   "id": "95f6ec75-d78a-43f8-a5ba-ebebb2e860fb",
   "metadata": {},
   "source": [
    "### `try`-`catch` 구문"
   ]
  },
  {
   "cell_type": "markdown",
   "id": "fbbe04a7-beb7-4714-bf16-e6007473caa3",
   "metadata": {},
   "source": [
    "* Julia는 `try`-`catch` 구문을 지원하는데, 이 때 `catch` 구문 뒤에 오는 symbol에 대하여 ErrorException 객체를 저장해준다. (**주의!** Julia에서 `catch` 문 뒤의 symbol은 ExceptionType이 아니라, Exception Variable이다!)"
   ]
  },
  {
   "cell_type": "code",
   "execution_count": 28,
   "id": "e1929270-996b-4484-a936-807212db5ccf",
   "metadata": {},
   "outputs": [
    {
     "name": "stdout",
     "output_type": "stream",
     "text": [
      "You should have entered a numeric value | MethodError(sqrt, (\"ten\",), 0x00000000000082ca)\n"
     ]
    }
   ],
   "source": [
    "try\n",
    "    sqrt(\"ten\")\n",
    "catch e\n",
    "    println(\"You should have entered a numeric value | \", e)\n",
    "end"
   ]
  },
  {
   "cell_type": "code",
   "execution_count": 29,
   "id": "a950601b-889d-4261-8f5e-ae91f630f18a",
   "metadata": {},
   "outputs": [
    {
     "data": {
      "text/plain": [
       "sqrt_second (generic function with 1 method)"
      ]
     },
     "execution_count": 29,
     "metadata": {},
     "output_type": "execute_result"
    }
   ],
   "source": [
    "function sqrt_second(x)\n",
    "    try\n",
    "        sqrt(x[2])\n",
    "    catch y\n",
    "        if isa(y, DomainError) # isa(var, Type)은 var가 Type에 해당하는 변수인지 아닌지를 확인해주는 내장함수.\n",
    "            sqrt(complex(x[2], 0))\n",
    "        elseif isa(y, BoundsError)\n",
    "            sqrt(x)\n",
    "        end\n",
    "    end\n",
    "end"
   ]
  },
  {
   "cell_type": "code",
   "execution_count": 32,
   "id": "f03052fa-ef3e-47e3-9952-ca259e16dbc5",
   "metadata": {},
   "outputs": [
    {
     "data": {
      "text/plain": [
       "2.0"
      ]
     },
     "execution_count": 32,
     "metadata": {},
     "output_type": "execute_result"
    }
   ],
   "source": [
    "sqrt_second([1 4]) # Julia에서는 index가 1부터 시작함에 주의"
   ]
  },
  {
   "cell_type": "code",
   "execution_count": 33,
   "id": "b0b803f6-04d8-4a32-b2ca-570b93e0384a",
   "metadata": {},
   "outputs": [
    {
     "data": {
      "text/plain": [
       "0.0 + 2.0im"
      ]
     },
     "execution_count": 33,
     "metadata": {},
     "output_type": "execute_result"
    }
   ],
   "source": [
    "sqrt_second([1 -4])"
   ]
  },
  {
   "cell_type": "code",
   "execution_count": 34,
   "id": "7a56bb34-d0bd-4be3-bf84-4810d9a360e0",
   "metadata": {},
   "outputs": [
    {
     "data": {
      "text/plain": [
       "3.0"
      ]
     },
     "execution_count": 34,
     "metadata": {},
     "output_type": "execute_result"
    }
   ],
   "source": [
    "sqrt_second(9)"
   ]
  },
  {
   "cell_type": "code",
   "execution_count": 35,
   "id": "cb9d79f3-ce57-4ed8-8f28-417b6d8a6491",
   "metadata": {},
   "outputs": [
    {
     "ename": "LoadError",
     "evalue": "DomainError with -9.0:\nsqrt will only return a complex result if called with a complex argument. Try sqrt(Complex(x)).",
     "output_type": "error",
     "traceback": [
      "DomainError with -9.0:\nsqrt will only return a complex result if called with a complex argument. Try sqrt(Complex(x)).",
      "",
      "Stacktrace:",
      " [1] throw_complex_domainerror(f::Symbol, x::Float64)",
      "   @ Base.Math ./math.jl:33",
      " [2] sqrt",
      "   @ ./math.jl:677 [inlined]",
      " [3] sqrt",
      "   @ ./math.jl:1491 [inlined]",
      " [4] sqrt_second(x::Int64)",
      "   @ Main ./In[29]:8",
      " [5] top-level scope",
      "   @ In[35]:1"
     ]
    }
   ],
   "source": [
    "sqrt_second(-9)"
   ]
  },
  {
   "cell_type": "markdown",
   "id": "7fe8a13f-f20e-4f7a-82a3-c9339c2c58af",
   "metadata": {},
   "source": [
    "* Julia에서 `try`-`catch`문의 경우 `catch` 다음의 Symbol은 Exception Type이 저장되는 Variable이므로, one-line화할 때 주의해야 한다."
   ]
  },
  {
   "cell_type": "code",
   "execution_count": 36,
   "id": "cdb8b1e6-b9fa-4117-8e9d-9953c7acc06c",
   "metadata": {},
   "outputs": [],
   "source": [
    "try bad() catch x end # 이는 만약 bad()에서 error가 발생하면 x 값을 return하는 것을 의도한 경우,\n",
    "# x가 catch의 결과 나온 Exception을 담는 변수로 기능하기 때문에 제대로 동작하지 않는다."
   ]
  },
  {
   "cell_type": "code",
   "execution_count": 37,
   "id": "78cf900a-1cef-4ad7-8cbd-ec974894a600",
   "metadata": {},
   "outputs": [
    {
     "ename": "LoadError",
     "evalue": "UndefVarError: `x` not defined",
     "output_type": "error",
     "traceback": [
      "UndefVarError: `x` not defined",
      "",
      "Stacktrace:",
      " [1] top-level scope",
      "   @ In[37]:7"
     ]
    }
   ],
   "source": [
    "# 위와 같은 경우는 semicolon(;)을 사용해볼 수 있다. 즉, 아래의 코드는 다음과 같ㅏ.\n",
    "# try bad()\n",
    "# catch\n",
    "#     x\n",
    "# end\n",
    "\n",
    "try bad() catch; x end"
   ]
  },
  {
   "cell_type": "markdown",
   "id": "28d14eb9-bdbf-4fc2-9c9b-d972ef0ec7d0",
   "metadata": {},
   "source": [
    "### `else`문 in `try`-`catch`문"
   ]
  },
  {
   "cell_type": "markdown",
   "id": "8db189cd-cd98-4b64-9a7f-e3fbab1e9bab",
   "metadata": {},
   "source": [
    "* Python과 마찬가지로 예외가 발생할 수 있는 문에서 예외가 발생하지 않은 경우에만 처리할 구문들을 `try`-`catch` 바로 뒤에 붙은 `else`문에 집어넣을 수 있다."
   ]
  },
  {
   "cell_type": "code",
   "execution_count": 38,
   "id": "d109e65a-547c-4102-bd78-71a605479536",
   "metadata": {},
   "outputs": [],
   "source": [
    "local x\n",
    "try\n",
    "    x = read(\"file\", String)\n",
    "catch\n",
    "    # handle read errors\n",
    "else\n",
    "    # do something with x\n",
    "end"
   ]
  },
  {
   "cell_type": "markdown",
   "id": "5be2f344-24a3-411f-9db1-0a91a7f8bfb8",
   "metadata": {},
   "source": [
    "* **주의**: `try`, `catch`, `else`, `finally`문은 각각이 별도의 block을 형성하므로, variable scope가 격리되어 있다. 즉, `try` 내부에서 정의된 block-local variable은 `finally`에서 참조할 수 없고, ...\n",
    "* 이 경우, `try`, ... 외부에서 변수를 `local` 키워드로 정의하는 경우 outer scope에 모두 들어가 있는 `try`, `catch`, `else`, `finally` 구문 모두에서 공통된 변수를 사용할 수 있다."
   ]
  },
  {
   "cell_type": "markdown",
   "id": "9c40dc52-6d15-4f7a-b5f5-730238f0234c",
   "metadata": {},
   "source": [
    "### `finally`문 in `try`-`catch`문"
   ]
  },
  {
   "cell_type": "markdown",
   "id": "27efff6d-d07e-4d32-903a-8bd889d44f85",
   "metadata": {},
   "source": [
    "* Python과 마찬가지로 예외가 발생할 수 있는 문에서, 예외가 발생하든 발생하지 않든 무조건 실행해야 하는 구문들을 `try`-`catch` 바로 뒤에 붙은 `finally`문에 넣을 수 있다."
   ]
  },
  {
   "cell_type": "code",
   "execution_count": null,
   "id": "4e337731-2605-4a4f-9ae7-3a36ab03e8c7",
   "metadata": {},
   "outputs": [],
   "source": [
    "f = open(\"file\")\n",
    "try\n",
    "    # operate on file f\n",
    "finally\n",
    "    close(f) # 예외가 발생하든 발생하지 않든 file f는 닫아야만 한다.\n",
    "end"
   ]
  }
 ],
 "metadata": {
  "kernelspec": {
   "display_name": "Julia 1.9.3",
   "language": "julia",
   "name": "julia-1.9"
  },
  "language_info": {
   "file_extension": ".jl",
   "mimetype": "application/julia",
   "name": "julia",
   "version": "1.9.3"
  },
  "toc": {
   "base_numbering": 1,
   "nav_menu": {},
   "number_sections": true,
   "sideBar": true,
   "skip_h1_title": false,
   "title_cell": "Table of Contents",
   "title_sidebar": "Contents",
   "toc_cell": false,
   "toc_position": {},
   "toc_section_display": true,
   "toc_window_display": false
  },
  "varInspector": {
   "cols": {
    "lenName": 16,
    "lenType": 16,
    "lenVar": 40
   },
   "kernels_config": {
    "python": {
     "delete_cmd_postfix": "",
     "delete_cmd_prefix": "del ",
     "library": "var_list.py",
     "varRefreshCmd": "print(var_dic_list())"
    },
    "r": {
     "delete_cmd_postfix": ") ",
     "delete_cmd_prefix": "rm(",
     "library": "var_list.r",
     "varRefreshCmd": "cat(var_dic_list()) "
    }
   },
   "types_to_exclude": [
    "module",
    "function",
    "builtin_function_or_method",
    "instance",
    "_Feature"
   ],
   "window_display": false
  }
 },
 "nbformat": 4,
 "nbformat_minor": 5
}
