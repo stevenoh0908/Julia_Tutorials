{
 "cells": [
  {
   "cell_type": "markdown",
   "id": "3cdda289",
   "metadata": {},
   "source": [
    "# Mathematical Operations and Elementary Functions in Julia\n",
    "---\n",
    "* Created on 26 Aug 2023\n",
    "* Created by Yooshin Oh (stevenoh0908@snu.ac.kr)\n",
    "---\n",
    "* <span class=\"mark\">Documentation: https://docs.julialang.org/en/v1/manual/mathematical-operations/</span>"
   ]
  },
  {
   "cell_type": "markdown",
   "id": "535417df",
   "metadata": {},
   "source": [
    "## Mathematical Operations in Julia"
   ]
  },
  {
   "cell_type": "markdown",
   "id": "6d0149e3",
   "metadata": {},
   "source": [
    "### Basic Arithmetic Operators"
   ]
  },
  {
   "cell_type": "markdown",
   "id": "d4d40322",
   "metadata": {},
   "source": [
    "* Julia에서는 모든 Primitive Numeric Type에 대하여 다음 표에 기재되어 있는 **산술 연산자 (Arithmetic Operators)**들을 지원한다."
   ]
  },
  {
   "cell_type": "markdown",
   "id": "6cb2364d",
   "metadata": {},
   "source": [
    "|Expression|Name|Description|\n",
    "|:--:|:----:|:-------:|\n",
    "|`+x`|Unary Plus|The Identity Operation ($Ident(x)$)|\n",
    "|`-x`|Unary Minus|Maps Value to their Additive Inverses<br/>(덧셈 연산에 대한 $x$의 역원을 Return)|\n",
    "|`x + y`|Binary Plus|Performs Addition|\n",
    "|`x - y`|Binary Minus|Performs Subtraction|\n",
    "|`x * y`|Times|Performs Multiplication|\n",
    "|`x / y`|Divide|Performs Division (Normal Floating-Point Division)|\n",
    "|`x ÷ y`|Integer Divide|Performs Division `x / y` but in Integer Division<br/>(That is, the result will be truncated to an integer)|\n",
    "|`x \\ y`|Inverse Divide|Equivalent to `y / x`|\n",
    "|`x ^ y`|Power|Raises `x` to the `y`th power|\n",
    "|`x % y`|Remainder|Equivalent to `rem(x, y)`|"
   ]
  },
  {
   "cell_type": "markdown",
   "id": "3441b7f2",
   "metadata": {},
   "source": [
    "* Julia의 경우는 Python과 유사하게 UTF-8 Encoding을 따르는 문자들을 모두 코딩에 활용할 수 있다. 따라서 **나누기 연산자**가 일반 키보드로는 곧바로 입력할 수 없는 문자를 활용함에 주의하도록 하자. Python 등에서는 `//` 연산자를 활용했지만, Julia의 경우는 연산자가 아예 `÷` (한글 자판 기준으로, `ㄷ` + `한자`에서 입력 가능함) 를 사용해야 정수 나눗셈 연산을 할 수 있음에 주의할 것.\n",
    "* 물론 Julia 인터프리터(REPL)의 경우 키보드에서 Mathlab 단축키처럼 `\\div`를 입력하고 `Tab`을 누르면 이 연산자 기호가 자동으로 입력된다."
   ]
  },
  {
   "cell_type": "markdown",
   "id": "77504c60",
   "metadata": {},
   "source": [
    "> **참고: Numeric Literal Coefficients와 연산**\n",
    ">\n",
    "> Julia에서는 숫자 상수가 변수 Identifier나 괄호(Parentheses) 바로 앞에 오는 경우에는 일반 수식을 쓰는 것처럼, 자동으로 곱하기(Multiplication)가 생략된 것으로 간주한다.\n",
    ">\n",
    "> 즉, 이를테면:\n",
    "> * `2x`는 기존의 `2 * x`로 자동 처리하고,\n",
    "> * `2(x+y)`는 기존의 `2 * (x + y)`로 자동 처리한다."
   ]
  },
  {
   "cell_type": "markdown",
   "id": "0d601a2a",
   "metadata": {},
   "source": [
    "* Python과 유사하게, Julia는 처리하는 자료 사이에 형 변환을 실제 수식이 최대한 자연스럽게 계산되도록 (Naturally) 자동으로 수행해준다."
   ]
  },
  {
   "cell_type": "markdown",
   "id": "073e511e",
   "metadata": {},
   "source": [
    "**Examples**"
   ]
  },
  {
   "cell_type": "code",
   "execution_count": 1,
   "id": "ca5c4413",
   "metadata": {
    "ExecuteTime": {
     "end_time": "2023-08-26T04:43:28.649000+09:00",
     "start_time": "2023-08-25T19:43:26.282Z"
    }
   },
   "outputs": [
    {
     "data": {
      "text/plain": [
       "6"
      ]
     },
     "execution_count": 1,
     "metadata": {},
     "output_type": "execute_result"
    }
   ],
   "source": [
    "1 + 2 + 3"
   ]
  },
  {
   "cell_type": "code",
   "execution_count": 2,
   "id": "11351f91",
   "metadata": {
    "ExecuteTime": {
     "end_time": "2023-08-26T04:43:34.234000+09:00",
     "start_time": "2023-08-25T19:43:33.825Z"
    }
   },
   "outputs": [
    {
     "data": {
      "text/plain": [
       "-1"
      ]
     },
     "execution_count": 2,
     "metadata": {},
     "output_type": "execute_result"
    }
   ],
   "source": [
    "1 - 2"
   ]
  },
  {
   "cell_type": "code",
   "execution_count": 3,
   "id": "f4c1517e",
   "metadata": {
    "ExecuteTime": {
     "end_time": "2023-08-26T04:43:41.014000+09:00",
     "start_time": "2023-08-25T19:43:40.386Z"
    }
   },
   "outputs": [
    {
     "data": {
      "text/plain": [
       "0.5"
      ]
     },
     "execution_count": 3,
     "metadata": {},
     "output_type": "execute_result"
    }
   ],
   "source": [
    "3 * 2 / 12"
   ]
  },
  {
   "cell_type": "markdown",
   "id": "78dc6062",
   "metadata": {},
   "source": [
    "* Julia에서 산술 연산자의 우선순위는 Python과 거의 같다."
   ]
  },
  {
   "cell_type": "markdown",
   "id": "2ba50d43",
   "metadata": {},
   "source": [
    "#### Multiplication에서의 `false`"
   ]
  },
  {
   "cell_type": "markdown",
   "id": "49a140f4",
   "metadata": {},
   "source": [
    "* Julia의 곱셈 연산자 (Multiplication Operator) 에서, `false` 자료는 마치 **Strong Zero**처럼 작동한다.\n",
    "* 즉, `false`는 그 어떤 것과 곱하더라도 무조건 0을 산출한다.\n",
    "* 이는 특히 NaN Value들의 Propagation을 방지하는데 종종 이용한다고 함. (*This is useful for preventing the propagation of `NaN` values in quantities that are known to be zero.*)"
   ]
  },
  {
   "cell_type": "code",
   "execution_count": 4,
   "id": "fdc31748",
   "metadata": {
    "ExecuteTime": {
     "end_time": "2023-08-26T04:46:54.522000+09:00",
     "start_time": "2023-08-25T19:46:54.072Z"
    },
    "scrolled": true
   },
   "outputs": [
    {
     "data": {
      "text/plain": [
       "0.0"
      ]
     },
     "execution_count": 4,
     "metadata": {},
     "output_type": "execute_result"
    }
   ],
   "source": [
    "NaN * false"
   ]
  },
  {
   "cell_type": "code",
   "execution_count": 5,
   "id": "f6328b44",
   "metadata": {
    "ExecuteTime": {
     "end_time": "2023-08-26T04:47:03.319000+09:00",
     "start_time": "2023-08-25T19:47:02.905Z"
    }
   },
   "outputs": [
    {
     "data": {
      "text/plain": [
       "0.0"
      ]
     },
     "execution_count": 5,
     "metadata": {},
     "output_type": "execute_result"
    }
   ],
   "source": [
    "false * Inf"
   ]
  },
  {
   "cell_type": "markdown",
   "id": "e42dd114",
   "metadata": {},
   "source": [
    "### Boolean Operators"
   ]
  },
  {
   "cell_type": "markdown",
   "id": "c6ba95ee",
   "metadata": {},
   "source": [
    "* Julia는 `Bool`형 자료형들에 대하여 다음 3종의 **논리 연산자 (Boolean Operator)**를 지원한다."
   ]
  },
  {
   "cell_type": "markdown",
   "id": "7dafd495",
   "metadata": {},
   "source": [
    "|Expression|Name (or Desc)|\n",
    "|:---:|:------:|\n",
    "|`!x`|Negation(논리 부정)|\n",
    "|`x && y`|Short-Circuiting AND<br/>(Short-Circuit Evaluation을 사용하는 논리 곱)|\n",
    "|`x ││ y`|Short-Circuitng OR<br/>(Short-Circuit Evaluation을 사용하는 논리 합)|"
   ]
  },
  {
   "cell_type": "markdown",
   "id": "e0227c94",
   "metadata": {},
   "source": [
    "* Julia에서 `Bool` 자료형은 정수형 자료형임에 주의하자. 따라서 정수형 자료형에 대해 Julia 시스템이 지원하는 Promotion Rule과 Operation이 동일하게 이들에 대해서도 적용될 수 있다."
   ]
  },
  {
   "cell_type": "markdown",
   "id": "64469050",
   "metadata": {},
   "source": [
    "### Bitwise Operators"
   ]
  },
  {
   "cell_type": "markdown",
   "id": "15c5448f",
   "metadata": {},
   "source": [
    "* Julia는 모든 Primitive 정수형 자료형에 대하여, 다음 표에 열거된 **비트 단위 연산자 (Bitwise Operators)**를 지원한다."
   ]
  },
  {
   "cell_type": "markdown",
   "id": "6d69f360",
   "metadata": {},
   "source": [
    "|Expression|Name|\n",
    "|:---:|:------:|\n",
    "|`~x`|Bitwise NOT|\n",
    "|`x & y`|Bitwise AND|\n",
    "|`x │ y`|Bitwise OR|\n",
    "|`x ⊻ y`|Bitwise XOR (Exclusive OR)|\n",
    "|`x ⊼ y`|Bitwise NAND (NOT AND)|\n",
    "|`x ⊽ y`|Bitwise NOR (NOT OR)|\n",
    "|`x >>> y`|Logical Shift Right<br/>(왼쪽 비트는 무조건 0으로 채움)|\n",
    "|`x >> y`|Arithmetic Shift Right<br/>(왼쪽 비트는 부호 비트로 채움)|\n",
    "|`x << y`|Logical/Arithmetic Shift Left|"
   ]
  },
  {
   "cell_type": "markdown",
   "id": "d2775a7b",
   "metadata": {},
   "source": [
    "* 이상의 Bitwise Operator들은 XOR, NAND, NOR, Logical Shift Right만 제외하면 C언어와 동일하다. Julia의 경우 UTF-8 인코딩으로 표현 가능한 유니코드 문자 중 일부를 연산자로 차용하고 있음에 주의하자.\n",
    "* C언어의 경우 Bitwise Shift Operator의 경우, Right Shift Operator는 동일하게 `>>`를 사용했으나, Unsigned Integer Type에 대해 Right Shift Operator를 사용하면 Logical Shift Right Operation이, Signed Integer Type에 대해 Right Shift Operator를 사용하면 Arithmetic Shift Right Operation이 수행되었음에 주목하자. Julia의 경우는 Unsigned / Signed를 구분하지 않고, 2개의 Right Shift 연산자를 가지므로 Signed Type 정수형 자료에 대해서도 굳이 Unsigned로 변환할 필요 없이 Logical Shift Right Operation을 수행할 수 있다."
   ]
  },
  {
   "cell_type": "code",
   "execution_count": 6,
   "id": "e97b1c40",
   "metadata": {
    "ExecuteTime": {
     "end_time": "2023-08-26T05:04:27.735000+09:00",
     "start_time": "2023-08-25T20:04:27.285Z"
    },
    "scrolled": true
   },
   "outputs": [
    {
     "name": "stdout",
     "output_type": "stream",
     "text": [
      "0000000000000000000000000000000000000000000000000000000001111011\n",
      "1111111111111111111111111111111111111111111111111111111110000100\n"
     ]
    }
   ],
   "source": [
    "println(bitstring(123))\n",
    "println(bitstring(~123))"
   ]
  },
  {
   "cell_type": "code",
   "execution_count": 7,
   "id": "a7dedade",
   "metadata": {
    "ExecuteTime": {
     "end_time": "2023-08-26T05:04:53.891000+09:00",
     "start_time": "2023-08-25T20:04:53.464Z"
    }
   },
   "outputs": [
    {
     "name": "stdout",
     "output_type": "stream",
     "text": [
      "0000000000000000000000000000000000000000000000000000000001111011\n",
      "0000000000000000000000000000000000000000000000000000000011101010\n",
      "0000000000000000000000000000000000000000000000000000000001101010\n"
     ]
    }
   ],
   "source": [
    "println(bitstring(123))\n",
    "println(bitstring(234))\n",
    "println(bitstring(123 & 234))"
   ]
  },
  {
   "cell_type": "code",
   "execution_count": 8,
   "id": "529ae20e",
   "metadata": {
    "ExecuteTime": {
     "end_time": "2023-08-26T05:05:21.142000+09:00",
     "start_time": "2023-08-25T20:05:20.716Z"
    }
   },
   "outputs": [
    {
     "name": "stdout",
     "output_type": "stream",
     "text": [
      "0000000000000000000000000000000000000000000000000000000001111011\n",
      "0000000000000000000000000000000000000000000000000000000011101010\n",
      "0000000000000000000000000000000000000000000000000000000011111011\n"
     ]
    }
   ],
   "source": [
    "println(bitstring(123))\n",
    "println(bitstring(234))\n",
    "println(bitstring(123 | 234))"
   ]
  },
  {
   "cell_type": "code",
   "execution_count": 9,
   "id": "37523f76",
   "metadata": {
    "ExecuteTime": {
     "end_time": "2023-08-26T05:06:02.030000+09:00",
     "start_time": "2023-08-25T20:06:01.602Z"
    },
    "scrolled": false
   },
   "outputs": [
    {
     "name": "stdout",
     "output_type": "stream",
     "text": [
      "0000000000000000000000000000000000000000000000000000000001111011\n",
      "0000000000000000000000000000000000000000000000000000000011101010\n",
      "0000000000000000000000000000000000000000000000000000000010010001\n"
     ]
    }
   ],
   "source": [
    "println(bitstring(123))\n",
    "println(bitstring(234))\n",
    "println(bitstring(123 ⊻ 234)) # Bitwise XOR"
   ]
  },
  {
   "cell_type": "code",
   "execution_count": 10,
   "id": "5c1f2114",
   "metadata": {
    "ExecuteTime": {
     "end_time": "2023-08-28T01:59:48.663000+09:00",
     "start_time": "2023-08-27T16:59:47.324Z"
    },
    "scrolled": true
   },
   "outputs": [
    {
     "name": "stdout",
     "output_type": "stream",
     "text": [
      "0000000000000000000000000000000000000000000000000000000001111011\n",
      "11111111111111111111111110000100\n"
     ]
    }
   ],
   "source": [
    "println(bitstring(123))\n",
    "println(bitstring(~UInt32(123)))"
   ]
  },
  {
   "cell_type": "code",
   "execution_count": 11,
   "id": "ea209f01",
   "metadata": {
    "ExecuteTime": {
     "end_time": "2023-08-28T02:00:03.509000+09:00",
     "start_time": "2023-08-27T17:00:03.530Z"
    }
   },
   "outputs": [
    {
     "name": "stdout",
     "output_type": "stream",
     "text": [
      "0000000000000000000000000000000000000000000000000000000001111011\n",
      "10000100\n"
     ]
    }
   ],
   "source": [
    "println(bitstring(123))\n",
    "println(bitstring(~UInt8(123)))"
   ]
  },
  {
   "cell_type": "markdown",
   "id": "71c70b69",
   "metadata": {},
   "source": [
    "### Updating Operators\n",
    "* Python과 마찬가지로, Julia도 대입 연산자와 다른 연산자를 종합한 축약 연산자들을 제공한다.\n",
    "* Julia는 아래의 표와 같은 축약 연산자들을 지원한다."
   ]
  },
  {
   "cell_type": "markdown",
   "id": "ad1b1daf",
   "metadata": {},
   "source": [
    "|Operator|Equivalent|\n",
    "|:--:|:----:|\n",
    "|`x += y`|`x = x + y`|\n",
    "|`x -= y`|`x = x - y`|\n",
    "|`x *= y`|`x = x * y`|\n",
    "|`x /= y`|`x = x / y`|\n",
    "|`x \\= y`|`x = x \\ y`|\n",
    "|`x ÷= y`|`x = x ÷ y`|\n",
    "|`x %= y`|`x = x % y`|\n",
    "|`x ^= y`|`x = x ^ y`|\n",
    "|`x &= y`|`x = x & y`|\n",
    "|`x │= y`|`x = x │ y`|\n",
    "|`x ⊻= y`|`x = x ⊻ y`|\n",
    "|`x >>>= y`|`x = x >>> y`|\n",
    "|`x >>= y`|`x = x >> y`|\n",
    "|`x <<= y`|`x = x << y`|"
   ]
  },
  {
   "cell_type": "markdown",
   "id": "6b4a9534",
   "metadata": {},
   "source": [
    "* Python의 경우와 달리 거듭제곱 연산자가 Matlab처럼 `^`임에 주의.\n",
    "* 축약 연산자는 NAND `⊼`나 NOR `⊽`의 경우는 지원하지 않음에 주의. 당연히 단항 연산자들은 축약 연산자들을 지원하지 않는다."
   ]
  },
  {
   "cell_type": "code",
   "execution_count": 12,
   "id": "5271cb5b",
   "metadata": {
    "ExecuteTime": {
     "end_time": "2023-08-28T02:07:07.887000+09:00",
     "start_time": "2023-08-27T17:07:07.630Z"
    }
   },
   "outputs": [
    {
     "name": "stdout",
     "output_type": "stream",
     "text": [
      "4\n"
     ]
    }
   ],
   "source": [
    "x = 1\n",
    "x += 3\n",
    "println(x)"
   ]
  },
  {
   "cell_type": "markdown",
   "id": "0370e2e5",
   "metadata": {},
   "source": [
    "* <span class=\"mark\">**주의**</span> 축약 연산자는 대입 연산의 표현을 줄여서 쓰는 것일 뿐이므로, 수행 결과 변수의 Type이 달라질 수 있음에 주의한다.\n",
    "* 즉 아래와 같은 경우와 같이 축약 연산자의 수행 결과 변수의 Type이 달라질 수 있다."
   ]
  },
  {
   "cell_type": "code",
   "execution_count": 13,
   "id": "96ca06ad",
   "metadata": {
    "ExecuteTime": {
     "end_time": "2023-08-28T02:09:27.206000+09:00",
     "start_time": "2023-08-27T17:09:26.777Z"
    },
    "scrolled": true
   },
   "outputs": [
    {
     "name": "stdout",
     "output_type": "stream",
     "text": [
      "UInt8\n",
      "Int64\n"
     ]
    }
   ],
   "source": [
    "x = 0x01; println(typeof(x))\n",
    "x *= 2 # Note that this is just same as x = x * 2\n",
    "println(typeof(x)) # Note that the type has been changed, since an UInt8 * Int64 has been conducted."
   ]
  },
  {
   "cell_type": "markdown",
   "id": "f003ae41",
   "metadata": {},
   "source": [
    "### Numeric Comparison Operators"
   ]
  },
  {
   "cell_type": "markdown",
   "id": "eb0f765f",
   "metadata": {},
   "source": [
    "* Julia에서는 All Primitive Numeric Type들에 대하여 다음의 비교 연산자들이 정의되어 있다. 당연히 이들 모두는 이항 연산자들이며, Python과 정확히 연산자가 같다."
   ]
  },
  {
   "cell_type": "markdown",
   "id": "2abac128",
   "metadata": {},
   "source": [
    "|Operator|Name (Description)|\n",
    "|:---:|:-------:|\n",
    "|`==`|Equality|\n",
    "|`!=` or `≠`|Inqeuality|\n",
    "|`<`|Less Than|\n",
    "|`<=` or `≤`|Less Than or Equal To|\n",
    "|`>`|Greater Than|\n",
    "|`>=` or `≥`|Greater Than or Equal To|"
   ]
  },
  {
   "cell_type": "markdown",
   "id": "f16c8ad4",
   "metadata": {},
   "source": [
    "* 상기 표는 폰트에 따라서 Jupyter Notebook의 특성 상 `!=`가 `!=`로, `<=`가 `≤`로, `>=`가 `≥`로 보임에 주의.\n",
    "* Julia REPL이나 관련 개발 환경에서는 LaTeX 문법에 따라 `\\neq` + `Tab`으로 `≠`을, `\\leq` + `Tab`으로 `≤`를, `\\geq` + `Tab`으로 `≥`을 입력할 수 있다."
   ]
  },
  {
   "cell_type": "code",
   "execution_count": 17,
   "id": "2010bc4f",
   "metadata": {
    "ExecuteTime": {
     "end_time": "2023-08-28T02:44:36.183000+09:00",
     "start_time": "2023-08-27T17:44:35.721Z"
    },
    "scrolled": true
   },
   "outputs": [
    {
     "data": {
      "text/plain": [
       "true"
      ]
     },
     "execution_count": 17,
     "metadata": {},
     "output_type": "execute_result"
    }
   ],
   "source": [
    "1 == 1"
   ]
  },
  {
   "cell_type": "code",
   "execution_count": 18,
   "id": "7f508baf",
   "metadata": {
    "ExecuteTime": {
     "end_time": "2023-08-28T02:44:42.944000+09:00",
     "start_time": "2023-08-27T17:44:43.010Z"
    },
    "scrolled": true
   },
   "outputs": [
    {
     "data": {
      "text/plain": [
       "false"
      ]
     },
     "execution_count": 18,
     "metadata": {},
     "output_type": "execute_result"
    }
   ],
   "source": [
    "1 == 2"
   ]
  },
  {
   "cell_type": "code",
   "execution_count": 19,
   "id": "86f08858",
   "metadata": {
    "ExecuteTime": {
     "end_time": "2023-08-28T02:44:46.692000+09:00",
     "start_time": "2023-08-27T17:44:46.614Z"
    },
    "scrolled": true
   },
   "outputs": [
    {
     "data": {
      "text/plain": [
       "true"
      ]
     },
     "execution_count": 19,
     "metadata": {},
     "output_type": "execute_result"
    }
   ],
   "source": [
    "1 != 2"
   ]
  },
  {
   "cell_type": "code",
   "execution_count": 20,
   "id": "e86d6343",
   "metadata": {
    "ExecuteTime": {
     "end_time": "2023-08-28T02:44:51.710000+09:00",
     "start_time": "2023-08-27T17:44:51.771Z"
    },
    "scrolled": true
   },
   "outputs": [
    {
     "data": {
      "text/plain": [
       "true"
      ]
     },
     "execution_count": 20,
     "metadata": {},
     "output_type": "execute_result"
    }
   ],
   "source": [
    "1 == 1.0"
   ]
  },
  {
   "cell_type": "code",
   "execution_count": 21,
   "id": "3ecd8fc2",
   "metadata": {
    "ExecuteTime": {
     "end_time": "2023-08-28T02:44:55.228000+09:00",
     "start_time": "2023-08-27T17:44:55.294Z"
    },
    "scrolled": true
   },
   "outputs": [
    {
     "data": {
      "text/plain": [
       "true"
      ]
     },
     "execution_count": 21,
     "metadata": {},
     "output_type": "execute_result"
    }
   ],
   "source": [
    "1 < 2"
   ]
  },
  {
   "cell_type": "code",
   "execution_count": 22,
   "id": "72da271a",
   "metadata": {
    "ExecuteTime": {
     "end_time": "2023-08-28T02:45:02.769000+09:00",
     "start_time": "2023-08-27T17:45:02.789Z"
    },
    "scrolled": true
   },
   "outputs": [
    {
     "data": {
      "text/plain": [
       "false"
      ]
     },
     "execution_count": 22,
     "metadata": {},
     "output_type": "execute_result"
    }
   ],
   "source": [
    "1.0 > 3"
   ]
  },
  {
   "cell_type": "code",
   "execution_count": 23,
   "id": "172becf8",
   "metadata": {
    "ExecuteTime": {
     "end_time": "2023-08-28T02:45:12.905000+09:00",
     "start_time": "2023-08-27T17:45:12.967Z"
    },
    "scrolled": true
   },
   "outputs": [
    {
     "data": {
      "text/plain": [
       "true"
      ]
     },
     "execution_count": 23,
     "metadata": {},
     "output_type": "execute_result"
    }
   ],
   "source": [
    "1 >= 1.0"
   ]
  },
  {
   "cell_type": "code",
   "execution_count": 24,
   "id": "aff072b9",
   "metadata": {
    "ExecuteTime": {
     "end_time": "2023-08-28T02:45:18.029000+09:00",
     "start_time": "2023-08-27T17:45:18.094Z"
    },
    "scrolled": true
   },
   "outputs": [
    {
     "data": {
      "text/plain": [
       "true"
      ]
     },
     "execution_count": 24,
     "metadata": {},
     "output_type": "execute_result"
    }
   ],
   "source": [
    "-1 <= 1"
   ]
  },
  {
   "cell_type": "code",
   "execution_count": 25,
   "id": "371301a0",
   "metadata": {
    "ExecuteTime": {
     "end_time": "2023-08-28T02:45:23.635000+09:00",
     "start_time": "2023-08-27T17:45:23.699Z"
    },
    "scrolled": true
   },
   "outputs": [
    {
     "data": {
      "text/plain": [
       "true"
      ]
     },
     "execution_count": 25,
     "metadata": {},
     "output_type": "execute_result"
    }
   ],
   "source": [
    "-1 <= -1"
   ]
  },
  {
   "cell_type": "code",
   "execution_count": 26,
   "id": "15870633",
   "metadata": {
    "ExecuteTime": {
     "end_time": "2023-08-28T02:45:29.001000+09:00",
     "start_time": "2023-08-27T17:45:28.989Z"
    },
    "scrolled": true
   },
   "outputs": [
    {
     "data": {
      "text/plain": [
       "false"
      ]
     },
     "execution_count": 26,
     "metadata": {},
     "output_type": "execute_result"
    }
   ],
   "source": [
    "-1 <= -2"
   ]
  },
  {
   "cell_type": "code",
   "execution_count": 27,
   "id": "fd0a27c6",
   "metadata": {
    "ExecuteTime": {
     "end_time": "2023-08-28T02:45:33.550000+09:00",
     "start_time": "2023-08-27T17:45:33.599Z"
    },
    "scrolled": true
   },
   "outputs": [
    {
     "data": {
      "text/plain": [
       "false"
      ]
     },
     "execution_count": 27,
     "metadata": {},
     "output_type": "execute_result"
    }
   ],
   "source": [
    "3 < -0.5"
   ]
  },
  {
   "cell_type": "markdown",
   "id": "33601207",
   "metadata": {},
   "source": [
    "* Floating-Point Data 사이의 비교 연산은 **IEEE 754** 표준을 따라 아래와 같은 규칙으로 진행된다.\n",
    "    1. Finite number들은 상식대로 비교된다.\n",
    "    2. Positive Zero는 Negative Zero와 동일하며, Negative Zero보다 크지는 않다.\n",
    "    3. `Inf`는 `NaN`을 제외하고 자기 자신을 제외한 다른 수보다 반드시 크다. 자기 자신과는 같다.\n",
    "    4. `-Inf`는 `NaN`을 제외하고 자기 자신을 제외한 다른 수보다 반드시 작다. 자기 자신과는 같다.\n",
    "    5. `NaN`은 그 자신까지 포함한 그 어떤 수와도 같지도 않고, 작지도 않으며, 크지도 않다. (비교 불능한 수이므로 `NaN`과 다른 수를 비교한 모든 연산에 대해 false 반환)"
   ]
  },
  {
   "cell_type": "code",
   "execution_count": 28,
   "id": "c3e9ad6b",
   "metadata": {
    "ExecuteTime": {
     "end_time": "2023-08-28T02:48:53.279000+09:00",
     "start_time": "2023-08-27T17:48:53.343Z"
    },
    "scrolled": true
   },
   "outputs": [
    {
     "data": {
      "text/plain": [
       "false"
      ]
     },
     "execution_count": 28,
     "metadata": {},
     "output_type": "execute_result"
    }
   ],
   "source": [
    "NaN == NaN"
   ]
  },
  {
   "cell_type": "code",
   "execution_count": 29,
   "id": "366361fe",
   "metadata": {
    "ExecuteTime": {
     "end_time": "2023-08-28T02:49:07.975000+09:00",
     "start_time": "2023-08-27T17:49:08.017Z"
    },
    "scrolled": true
   },
   "outputs": [
    {
     "data": {
      "text/plain": [
       "true"
      ]
     },
     "execution_count": 29,
     "metadata": {},
     "output_type": "execute_result"
    }
   ],
   "source": [
    "NaN != NaN # NaN은 그 어떤 수와도 같거나, 크거나, 작지 않으므로 true"
   ]
  },
  {
   "cell_type": "code",
   "execution_count": 31,
   "id": "33c7fbfa",
   "metadata": {
    "ExecuteTime": {
     "end_time": "2023-08-28T02:49:19.336000+09:00",
     "start_time": "2023-08-27T17:49:19.399Z"
    },
    "scrolled": true
   },
   "outputs": [
    {
     "data": {
      "text/plain": [
       "false"
      ]
     },
     "execution_count": 31,
     "metadata": {},
     "output_type": "execute_result"
    }
   ],
   "source": [
    "NaN < NaN # NaN은 비교 불능으로 false."
   ]
  },
  {
   "cell_type": "code",
   "execution_count": 32,
   "id": "1eedd034",
   "metadata": {
    "ExecuteTime": {
     "end_time": "2023-08-28T02:49:30.722000+09:00",
     "start_time": "2023-08-27T17:49:30.784Z"
    }
   },
   "outputs": [
    {
     "data": {
      "text/plain": [
       "false"
      ]
     },
     "execution_count": 32,
     "metadata": {},
     "output_type": "execute_result"
    }
   ],
   "source": [
    "NaN > NaN # NaN은 비교 불능으로 false."
   ]
  },
  {
   "cell_type": "markdown",
   "id": "fdd18c71",
   "metadata": {},
   "source": [
    "* 이와 같은 성질은 특히 Array 비교에서 문제를 일으킬 수 있다. 만약 `NaN`이 섞여 있는 Array의 경우, NaN까지 포함하여 같더라도 `==` 연산자를 활용하여 동일성 판정을 하면 각각의 Element를 순회하면서 동일 여부를 검사하므로 false가 return된다."
   ]
  },
  {
   "cell_type": "code",
   "execution_count": 33,
   "id": "ac3c6a8f",
   "metadata": {
    "ExecuteTime": {
     "end_time": "2023-08-28T02:50:52.434000+09:00",
     "start_time": "2023-08-27T17:50:51.723Z"
    }
   },
   "outputs": [
    {
     "data": {
      "text/plain": [
       "false"
      ]
     },
     "execution_count": 33,
     "metadata": {},
     "output_type": "execute_result"
    }
   ],
   "source": [
    "[1 NaN] == [1 NaN]"
   ]
  },
  {
   "cell_type": "markdown",
   "id": "f7023b6b",
   "metadata": {},
   "source": [
    "#### 비교 내장 함수 in Julia"
   ]
  },
  {
   "cell_type": "markdown",
   "id": "cf5a24a7",
   "metadata": {},
   "source": [
    "* Julia에서는 다음의 내장 함수들을 이용하여 비교 연산이나 수의 유한성 검사, 무한성 검사, NaN 검사 등을 할 수 있다."
   ]
  },
  {
   "cell_type": "markdown",
   "id": "6642d1ce",
   "metadata": {},
   "source": [
    "|Function|Tests If|\n",
    "|:----:|:------:|\n",
    "|`isequal(x, y)`|`x` and `y` are identical|\n",
    "|`isfinite(x)`|`x` is a finite number|\n",
    "|`isinf(x)`|`x` is infinite|\n",
    "|`isnan(x)`|`x` is NaN|"
   ]
  },
  {
   "cell_type": "markdown",
   "id": "3e271b19",
   "metadata": {},
   "source": [
    "* **특히, `isequal()` 내장함수는 NaN 까지도 동일한 것으로 판정하므로 상당히 유용하다.**"
   ]
  },
  {
   "cell_type": "code",
   "execution_count": 34,
   "id": "9a9eeef8",
   "metadata": {
    "ExecuteTime": {
     "end_time": "2023-08-28T02:53:05.658000+09:00",
     "start_time": "2023-08-27T17:53:05.717Z"
    }
   },
   "outputs": [
    {
     "data": {
      "text/plain": [
       "true"
      ]
     },
     "execution_count": 34,
     "metadata": {},
     "output_type": "execute_result"
    }
   ],
   "source": [
    "isequal(NaN, NaN)"
   ]
  },
  {
   "cell_type": "code",
   "execution_count": 35,
   "id": "aa4f44b7",
   "metadata": {
    "ExecuteTime": {
     "end_time": "2023-08-28T02:53:15.712000+09:00",
     "start_time": "2023-08-27T17:53:15.734Z"
    }
   },
   "outputs": [
    {
     "data": {
      "text/plain": [
       "true"
      ]
     },
     "execution_count": 35,
     "metadata": {},
     "output_type": "execute_result"
    }
   ],
   "source": [
    "isequal([1 NaN], [1 NaN])"
   ]
  },
  {
   "cell_type": "code",
   "execution_count": 36,
   "id": "cfd26af3",
   "metadata": {
    "ExecuteTime": {
     "end_time": "2023-08-28T02:53:38.625000+09:00",
     "start_time": "2023-08-27T17:53:38.671Z"
    },
    "scrolled": true
   },
   "outputs": [
    {
     "data": {
      "text/plain": [
       "true"
      ]
     },
     "execution_count": 36,
     "metadata": {},
     "output_type": "execute_result"
    }
   ],
   "source": [
    "# isequal 함수는 NaN Type과 무관히 모든 NaN을 동일한 것으로 판정한다.\n",
    "isequal(NaN, NaN32)"
   ]
  },
  {
   "cell_type": "markdown",
   "id": "c7a1a741",
   "metadata": {},
   "source": [
    "* **한편, `isequal()` 내장함수는 Floating-Point Number에서 Signed Zero 두 개를 다른 것으로 취급한다.**"
   ]
  },
  {
   "cell_type": "code",
   "execution_count": 37,
   "id": "62649bae",
   "metadata": {
    "ExecuteTime": {
     "end_time": "2023-08-28T02:54:23.019000+09:00",
     "start_time": "2023-08-27T17:54:23.079Z"
    },
    "scrolled": true
   },
   "outputs": [
    {
     "data": {
      "text/plain": [
       "true"
      ]
     },
     "execution_count": 37,
     "metadata": {},
     "output_type": "execute_result"
    }
   ],
   "source": [
    "-0.0 == 0.0"
   ]
  },
  {
   "cell_type": "code",
   "execution_count": 38,
   "id": "b367dafd",
   "metadata": {
    "ExecuteTime": {
     "end_time": "2023-08-28T02:54:31.422000+09:00",
     "start_time": "2023-08-27T17:54:31.483Z"
    },
    "scrolled": true
   },
   "outputs": [
    {
     "data": {
      "text/plain": [
       "false"
      ]
     },
     "execution_count": 38,
     "metadata": {},
     "output_type": "execute_result"
    }
   ],
   "source": [
    "isequal(0.0, -0.0)"
   ]
  },
  {
   "cell_type": "markdown",
   "id": "d236ad93",
   "metadata": {},
   "source": [
    "* Floating-Point Number를 제외한 다른 Type의 경우, `isequal()` 호출 결과와 `==`의 호출 결과는 동일하다. 하지만 Own Type에 대하여 `==` 연산을 재정의할 수도 있다. (Python처럼 Julia도 연산자 Overriding이 가능하다)"
   ]
  },
  {
   "cell_type": "markdown",
   "id": "a1bdfd00",
   "metadata": {},
   "source": [
    "#### 연쇄 비교 (Chaining Comparisions)"
   ]
  },
  {
   "cell_type": "markdown",
   "id": "3d2943e3",
   "metadata": {},
   "source": [
    "* Python과 마찬가지로 Julia에서는 비교 연산자를 연쇄적으로 쓰는 것이 허용된다. 즉, Logical AND Operator 없이도 비교 연산자를 쓸 수 있다."
   ]
  },
  {
   "cell_type": "code",
   "execution_count": 39,
   "id": "c99d0da6",
   "metadata": {
    "ExecuteTime": {
     "end_time": "2023-08-28T19:30:55.916000+09:00",
     "start_time": "2023-08-28T10:30:54.508Z"
    },
    "scrolled": true
   },
   "outputs": [
    {
     "data": {
      "text/plain": [
       "true"
      ]
     },
     "execution_count": 39,
     "metadata": {},
     "output_type": "execute_result"
    }
   ],
   "source": [
    "1 < 2 <= 2 # Just Same as 1 < 2 && 2 <= 2"
   ]
  },
  {
   "cell_type": "markdown",
   "id": "ef593a3d",
   "metadata": {},
   "source": [
    "* 자명히 연쇄 비교가 일어나는 경우 Evaluation Order에 따라 Left to Right 순으로 비교 연산이 진행된다."
   ]
  },
  {
   "cell_type": "markdown",
   "id": "b5592863",
   "metadata": {},
   "source": [
    "* **1.2. Vectorized Operations in Julia**에서 설명한 Vectorized Opreation에 대해서도 Chain 비교가 적용된다."
   ]
  },
  {
   "cell_type": "code",
   "execution_count": 45,
   "id": "75c26d4e",
   "metadata": {
    "ExecuteTime": {
     "end_time": "2023-08-28T19:33:41.435000+09:00",
     "start_time": "2023-08-28T10:33:39.861Z"
    },
    "scrolled": true
   },
   "outputs": [
    {
     "data": {
      "text/plain": [
       "3-element BitArray{1}:\n",
       " 1\n",
       " 1\n",
       " 1"
      ]
     },
     "execution_count": 45,
     "metadata": {},
     "output_type": "execute_result"
    }
   ],
   "source": [
    "arr = [1, 2, 3]\n",
    "1 .<= arr .<= 3"
   ]
  },
  {
   "cell_type": "markdown",
   "id": "7b7b447f",
   "metadata": {},
   "source": [
    "* 삼항 Chained 비교 연산에서 중앙 항(제2항)은 Evaluation이 오직 한 번만 일어남에 주의한다. 이를테면 `A < B < C`와 같은 3항 Chained 비교 연산의 경우, B가 먼저 Evaluate되고 그 뒤에 A, C 순으로 Evaluation이 일어난다."
   ]
  },
  {
   "cell_type": "code",
   "execution_count": 46,
   "id": "c397fd37",
   "metadata": {
    "ExecuteTime": {
     "end_time": "2023-08-28T19:35:19.913000+09:00",
     "start_time": "2023-08-28T10:35:19.162Z"
    }
   },
   "outputs": [
    {
     "name": "stdout",
     "output_type": "stream",
     "text": [
      "2\n",
      "1\n",
      "3\n"
     ]
    },
    {
     "data": {
      "text/plain": [
       "true"
      ]
     },
     "execution_count": 46,
     "metadata": {},
     "output_type": "execute_result"
    }
   ],
   "source": [
    "v(x) = (println(x); x)\n",
    "v(1) < v(2) <= v(3)"
   ]
  },
  {
   "cell_type": "markdown",
   "id": "c5019eac",
   "metadata": {},
   "source": [
    "* 또한 Chained 비교 연산에서 전체 Expression의 T/F를 일찍 결정할 수 있는 경우 Short-Circuit Evaluation이 일어남에 주의한다."
   ]
  },
  {
   "cell_type": "code",
   "execution_count": 48,
   "id": "5b4b3721",
   "metadata": {
    "ExecuteTime": {
     "end_time": "2023-08-28T19:36:32.124000+09:00",
     "start_time": "2023-08-28T10:36:31.584Z"
    }
   },
   "outputs": [
    {
     "name": "stdout",
     "output_type": "stream",
     "text": [
      "2\n",
      "1\n"
     ]
    },
    {
     "data": {
      "text/plain": [
       "false"
      ]
     },
     "execution_count": 48,
     "metadata": {},
     "output_type": "execute_result"
    }
   ],
   "source": [
    "v(x) = (println(x); x)\n",
    "v(1) > v(2) <= v(3) # v(1) > v(2)가 거짓이므로 2, 1 평가 후 Evaluate 끝."
   ]
  },
  {
   "cell_type": "markdown",
   "id": "c5f647e6",
   "metadata": {},
   "source": [
    "## Vectorized Operations in Julia"
   ]
  },
  {
   "cell_type": "markdown",
   "id": "43dd9ec0",
   "metadata": {},
   "source": [
    "* Julia는 Python과는 달리, Matlab처럼 모든 이항 연산(Binary Operation)에 대하여 상응하는 `Dot` 연산들이 자동으로 정의되어 있다.\n",
    "* 이들 Dot 연산들은 Matlab처럼 어떤 행렬이나 배열이 있을 때, **각각의 원소에 대해 수행되는 Element-wise 연산을 수행할 것을 지시하는 연산자**로 활용된다. (Elementwise Operations)\n",
    "* <span class=\"girk\">이들 Vectorized Operation들은 Matlab처럼 이항 연산자 앞에 곧바로 Dot `.`을 붙이면 된다.</span>\n",
    "* 이를테면, `[1, 2, 3] ^ 3`은 Non-square array를 3번 연속으로 곱하는 연산이 정의되지 않았으므로 Undefined이지만, `[1, 2, 3] .^ 3`은 각각의 Element를 3승한 `[1, 8, 27]`을 Return한다."
   ]
  },
  {
   "cell_type": "markdown",
   "id": "9d092185",
   "metadata": {},
   "source": [
    "* 논리 부정 연산자 `!`나 제곱근 연산자 `√`는 단항 연산자(Unary Operator)지만, 이들에 대해서도 Element-wise 연산을 수행할 수 있는 Vectorized Operation이 각각 정의되어 있다. **마찬가지로 앞에 Dot `.`을 붙이면 된다.**"
   ]
  },
  {
   "cell_type": "code",
   "execution_count": 14,
   "id": "bc738ba8",
   "metadata": {
    "ExecuteTime": {
     "end_time": "2023-08-28T02:14:50.660000+09:00",
     "start_time": "2023-08-27T17:14:49.267Z"
    }
   },
   "outputs": [
    {
     "data": {
      "text/plain": [
       "3-element Array{Int64,1}:\n",
       "  1\n",
       "  8\n",
       " 27"
      ]
     },
     "execution_count": 14,
     "metadata": {},
     "output_type": "execute_result"
    }
   ],
   "source": [
    "[1, 2, 3] .^ 3"
   ]
  },
  {
   "cell_type": "markdown",
   "id": "978fbb01",
   "metadata": {},
   "source": [
    "* 위에서의 Element-wise Operation의 경우, Python의 Numpy와 동일하게 연산을 수행하기 전에 **Broadcast**가 일어난다. 즉, 위 연산인 `[1, 2, 3] .^ 3`의 경우 후자인 Scalar 3이 같은 Shape인 `[3, 3, 3]`으로 확장된 뒤, 각각의 상응하는 Index에 맞게 승수 연산이 일어난다.\n",
    "    * **Broadcast** 연산은 스칼라나 행렬 사이의 연산에서 최종 크기에 맞게끔 둘 중 하나를 *확장*해서 크기를 맞춰주는 연산임에 주의."
   ]
  },
  {
   "cell_type": "markdown",
   "id": "f0b2cb94",
   "metadata": {},
   "source": [
    "> **Dot Call에 대한 설명**\n",
    ">\n",
    "> Julia에서는 임의의 행렬에 대해 어떤 Function이라도 Element-wise하게 적용할 수 있다. 이는 Dot Operator `.`를 사용하여 가능한데, 임의의 Function `f`를 행렬 `A`에 대하여 Element-wise하게 적용하고 싶으면 (Vectorized Function Applyment) `f.(A)`와 같이 Function Name 뒤에 **Dot Operator**를 쓴 Function을 Call하면 된다."
   ]
  },
  {
   "cell_type": "code",
   "execution_count": 16,
   "id": "c4a763b3",
   "metadata": {
    "ExecuteTime": {
     "end_time": "2023-08-28T02:22:55.102000+09:00",
     "start_time": "2023-08-27T17:22:54.051Z"
    }
   },
   "outputs": [
    {
     "data": {
      "text/plain": [
       "3-element Array{Float64,1}:\n",
       " 0.8414709848078965\n",
       " 0.9092974268256817\n",
       " 0.1411200080598672"
      ]
     },
     "execution_count": 16,
     "metadata": {},
     "output_type": "execute_result"
    }
   ],
   "source": [
    "arr = [1.0, 2.0, 3.0]\n",
    "sin.(arr) # Applying Function sin(x), element-wisely (vectorized function)"
   ]
  },
  {
   "cell_type": "markdown",
   "id": "faf2a462",
   "metadata": {},
   "source": [
    "> **Vectorized Operation에 대한 상세 설명**\n",
    ">\n",
    "> Julia에서 Vectorized Opreation의 경우, 수행하면 `Dot call`로 Parsing되어 수행된다. 즉, 이를테면 `a .^ b`의 경우 `(^).(a,b)`와 같은 방식으로 수행된다.\n",
    ">\n",
    "> 상기 *Dot Call에 대한 설명*에서 언급했듯이, Julia는 임의의 Function을 Element-wise하게 적용할 수 있다. 그런데 임의의 연산자는 하나의 Function이므로, 같은 문법이 비슷하게 적용된다고 생각하면 좋을 것이다.\n",
    ">\n",
    "> 한편, \"Dot Call\"이 일어날 때 \"Dot Operator\"들은 모두 합쳐진다. 즉, 이를테면 여러 Dot Operator를 사용한 경우: `2 .* A .^ 2 .+ sin.(A)` 이들은 단계적으로 앞에서부터 일일이 Dot Operation을 해서 다음과 같은 방식으로 일어나는 것이 아니라:\n",
    "> 1. 2를 A와 맞게 Broadcasting한다.\n",
    "> 2. A와 2를 element-wise하게 승수 연산(`^`)한다.\n",
    "> 3. 2와 2번의 결과물을 element-wise하게 곱 연산(`*`)한다.\n",
    "> 4. A를 element-wise하게 sin 연산(`sin`)한다.\n",
    "> 5. 3번 결과물과 4번 결과물을 element-wise하게 합 연산(`+`)한다.\n",
    "> 위와 같은 방식으로 연산하면 1, 2, 3, 4, 5에 대하여 총 5번 모든 행렬 A의 원소 개수만큼 반복 연산이 일어나야 하므로 비효율적이다. 따라서 Julia는 Looping을 최소화하도록 \"Dot Operator\"들을 모두 합친다. 즉, 이를테면, 위의 예시의 경우는 다음과 같은 방식으로 계산한다는 것이다.\n",
    "> * A의 모든 원소를 순회하면서, `2 * elem ^ 2 + sin(elem)`을 계산한 Array를 돌려준다."
   ]
  },
  {
   "cell_type": "markdown",
   "id": "0389002e",
   "metadata": {},
   "source": [
    "> **매크로 `@.`를 사용한 표현**\n",
    ">\n",
    "> *이 부분은 Julia Macro에 대한 내용을 좀 더 알면 보충해 넣도록 하자.*"
   ]
  },
  {
   "cell_type": "markdown",
   "id": "5f507a4e",
   "metadata": {},
   "source": [
    "* Julia의 경우 축약 연산자에 대해서도 Dot Operation - 즉, Element-wise 축약 연산자가 존재한다. 마찬가지로 축약 연산자 앞에 Dot `.`을 붙이면 된다.\n",
    "* 이를테면 `a .+= b` (또는 `@. a += b`) 의 경우는 `a .= a .+ b`와 동일하게 수행된다. 이때 자명히 `.=` 연산자는 **in-place assignment opeartion**이다. 즉, 원래의 a에 덮어씌워진다."
   ]
  },
  {
   "cell_type": "markdown",
   "id": "240456c9",
   "metadata": {},
   "source": [
    "* Julia에서 Dot Syntax는 임의의 함수에 대해서도 적용되므로, User-defined Operator에 대해서도 가능하다. 이를테면 `⊗(A,B) = kron(A,B)`와 같이 이항 연산자 `⊗`를 정의한 경우, `[A,B] .⊗ [C, D]`는 Element-wise하게 `[A ⊗ C, B ⊗ D]`를 계산하여 돌려준다."
   ]
  },
  {
   "cell_type": "markdown",
   "id": "dcf59f3a",
   "metadata": {},
   "source": [
    "* 혼동의 여지가 있는 Numeric Literal과의 Dot Operation은 문법으로 금지된다. 이를테면, `1.+x`는 상수 `1.` (Float64)과 `x`를 더하라는 것인지, `1` (Int64)을 Broadcasting해서 element-wise하게 `x`에 더하라는 것인지 알 수 없으므로 문법으로 금지된다. 이 경우는 반드시 `1. + x`나 `1 .+ x`와 같이 공백이 요구된다."
   ]
  },
  {
   "cell_type": "markdown",
   "id": "c7f3f15f",
   "metadata": {},
   "source": [
    "## Julia Operator Precedence and Associativity"
   ]
  },
  {
   "cell_type": "markdown",
   "id": "780b4fb3",
   "metadata": {},
   "source": [
    "* 지금까지 설명한 Julia의 연산자의 우선순위와 결합 순서는 다음 표와 같다."
   ]
  },
  {
   "cell_type": "markdown",
   "id": "612b9bd5",
   "metadata": {},
   "source": [
    "|Category|Operators|Associativity|\n",
    "|:----:|:------:|:---:|\n",
    "|Syntax|`.` followed by `::`|Left|\n",
    "|Exponentiation|`^`|Right|\n",
    "|Unary|`+`, `-`, `√`|Right<sup>[1](#footnote_1)</sup>|\n",
    "|Bitshifts|`<<`, `>>`, `>>>`|Left|\n",
    "|Fractions|`//`|Left|\n",
    "|Multiplication|`*`, `/`, `%`, `&`, `/`, `÷`|Left<sup>[2](#footnote_2)</sup>|\n",
    "|Addition|`+`, `-`, `│`, `⊻`|Left<sup>[2](#footnote_2)</sup>|\n",
    "|Syntax|`:`, `..`|Left|\n",
    "|Syntax|`│>`|Left|\n",
    "|Syntax|`│>`|Right|\n",
    "|Comparisions|`>`, `<`, `>=`, `<=`, `==`, `===`, `!=`, `!==`, `<:`|Non-associative|\n",
    "|Control Flow|`&&` followed by `││` followed by `?`|Right|\n",
    "|Pair|`=>`|Right|\n",
    "|Assignments|`=`, `+=`, `-=`, `*=`, `/=`, `//=`, `\\=`, `^=`, `÷=`, `%=`, `│=`, `&=`, `⊻=`, `<<=`, `>>=`, `>>>=`|Right|\n",
    "\n",
    "* <a name=\"footnote_1\"><span class=\"girk\">**1**</span></a> 단항 연산자 `+`나 `-`는 Right Associativity를 가지지만, 전치/후치 증감 연산자 `++`와 구분되기 위해서는 반드시 괄호가 필요하다. 즉, 이를테면 `++a`의 경우 `+(+(a))`로 처리되는 것이 아니라, 전치 증감 연산자를 수행한 `++(a)`로 취급된다.\n",
    "* <a name=\"footnote_2\"><span class=\"girk\">**2**</span></a> 연산자 중 `+`, `++`, `*`는 Non-Associative하게 처리된다. 즉, 이를테면 `a + b + c`의 경우는 메모리 효율을 위해 `+(a, b, c)`로 처리되지, `+(+(a, b), c)`와 같은 식으로 처리되지는 않는다."
   ]
  },
  {
   "cell_type": "markdown",
   "id": "9f6cbb48",
   "metadata": {},
   "source": [
    "* Julia에서 Numeric Literal Coefs들은 일반적인 Multiplication으로 처리되므로, 연산의 우선 순위와 결합 순위가 `*` 연산자와 동일하다."
   ]
  },
  {
   "cell_type": "markdown",
   "id": "5983ee08",
   "metadata": {},
   "source": [
    "## Julia Numerical Conversions"
   ]
  },
  {
   "cell_type": "markdown",
   "id": "9bfbbfc7",
   "metadata": {},
   "source": [
    "### Type Conversions (Type Casting)"
   ]
  },
  {
   "cell_type": "markdown",
   "id": "cfbe528f",
   "metadata": {},
   "source": [
    "* **Julia에서 `T(x)`나 `convect(T, x)`는 `x`를 type `T`로 Casting하여 돌려준다.** (Python-like)\n",
    "* 한편, `T`가 Integer type일 때, `x`가 type `T`로 표현될 수 없는 숫자이면 `InexactError`가 raise된다."
   ]
  },
  {
   "cell_type": "code",
   "execution_count": 49,
   "id": "8bb7a196",
   "metadata": {
    "ExecuteTime": {
     "end_time": "2023-08-28T19:52:39.156000+09:00",
     "start_time": "2023-08-28T10:52:38.268Z"
    }
   },
   "outputs": [
    {
     "ename": "InexactError",
     "evalue": "\u001b[91mInexactError: trunc(Int8, 10000)\u001b[39m",
     "output_type": "error",
     "traceback": [
      "\u001b[91mInexactError: trunc(Int8, 10000)\u001b[39m",
      "",
      "Stacktrace:",
      " [1] throw_inexacterror(::Symbol, ::Type{Int8}, ::Int64) at ./boot.jl:557",
      " [2] checked_trunc_sint at ./boot.jl:579 [inlined]",
      " [3] toInt8 at ./boot.jl:594 [inlined]",
      " [4] Int8(::Int64) at ./boot.jl:704",
      " [5] top-level scope at In[49]:1"
     ]
    }
   ],
   "source": [
    "Int8(10000)"
   ]
  },
  {
   "cell_type": "code",
   "execution_count": 51,
   "id": "1672c3ed",
   "metadata": {
    "ExecuteTime": {
     "end_time": "2023-08-28T19:52:59.700000+09:00",
     "start_time": "2023-08-28T10:52:59.178Z"
    }
   },
   "outputs": [
    {
     "name": "stdout",
     "output_type": "stream",
     "text": [
      "Int16\n",
      "Int64\n"
     ]
    }
   ],
   "source": [
    "println(typeof(Int16(32)))\n",
    "println(typeof(32))"
   ]
  },
  {
   "cell_type": "markdown",
   "id": "ea97ff09",
   "metadata": {},
   "source": [
    "### Bit-Truncation in Type Casting"
   ]
  },
  {
   "cell_type": "markdown",
   "id": "bb4ee2a1",
   "metadata": {},
   "source": [
    "* Modular 연산자 `%`를 활용하면 정수 자료형 사이에서 Type Casting을 할 때, 원래 `T(x)` 또는 `convect(T, x)`를 이용하면 `InexactError`가 날 것을 변환하고자 하는 type인 `T`에 맞게 욱여넣을 수 있다.\n",
    "* 이를테면, 어떤 변수 `x`와 정수형 Type `T`에 대하여, **`x % T`는 변수 `x`를 `T`의 type에 맞게 Casting하되, Higher-order Bit들은 모두 잘라버린 값을 반환한다.**"
   ]
  },
  {
   "cell_type": "code",
   "execution_count": 54,
   "id": "ef592308",
   "metadata": {
    "ExecuteTime": {
     "end_time": "2023-08-28T19:56:20.749000+09:00",
     "start_time": "2023-08-28T10:56:19.962Z"
    }
   },
   "outputs": [
    {
     "name": "stdout",
     "output_type": "stream",
     "text": [
      "Int8\n",
      "32\n",
      "0000000000100000\n",
      "00100000\n"
     ]
    }
   ],
   "source": [
    "println(typeof(32 % Int8))\n",
    "println(32 % Int8)\n",
    "println(bitstring(Int16(32)))\n",
    "println(bitstring(32 % Int8))"
   ]
  },
  {
   "cell_type": "markdown",
   "id": "ca05410f",
   "metadata": {},
   "source": [
    "## Rounding"
   ]
  },
  {
   "cell_type": "markdown",
   "id": "e89b83bf",
   "metadata": {},
   "source": [
    "* Julia는 다음과 같은 반올림을 위한 **내장 함수**들을 지원한다."
   ]
  },
  {
   "cell_type": "markdown",
   "id": "acce7e03",
   "metadata": {},
   "source": [
    "|Function|Description|Return Type|\n",
    "|:---:|:-------:|:----:|\n",
    "|`round(x)`|Round `x` to the Nearest Integer (반올림)|`typeof(x)`|\n",
    "|`round(T, x)`|Round `x` to the Nearest Integer (반올림)|`T`|\n",
    "|`floor(x)`|Round `x` towards `-Inf` (버림)|`typeof(x)`|\n",
    "|`floor(T, x)`|Round `x` towards `-Inf` (버림)|`T`|\n",
    "|`ceil(x)`|Round `x` towards `Inf` (올림)|`typeof(x)`|\n",
    "|`ceil(T, x)`|Round `x` towards `Inf` (올림)|`T`|\n",
    "|`trunc(x)`|Round `x` towards Zero<br/>(0에 가까운 방향으로 소수점 버림)|`typeof(x)`|\n",
    "|`trunc(T, x)`|Round `x` towards Zero<br/>(0에 가까운 방향으로 소수점 버림)|"
   ]
  },
  {
   "cell_type": "markdown",
   "id": "dcf55373",
   "metadata": {},
   "source": [
    "* `floor` 함수는 무조건 '버림', 즉 `-Inf` 방향으로 소수점을 버리지만, `trunc` 함수는 `0` 방향으로 소수점을 버림에 주의한다."
   ]
  },
  {
   "cell_type": "code",
   "execution_count": 57,
   "id": "75c21e9e",
   "metadata": {
    "ExecuteTime": {
     "end_time": "2023-08-28T20:02:31.026000+09:00",
     "start_time": "2023-08-28T11:02:30.387Z"
    }
   },
   "outputs": [
    {
     "name": "stdout",
     "output_type": "stream",
     "text": [
      "-4.0\n",
      "-3.0\n"
     ]
    }
   ],
   "source": [
    "x = -3.141592\n",
    "println(floor(x)) # -4. -Inf 방향으로 버림.\n",
    "println(trunc(x)) # -3. 0 방향으로 버림."
   ]
  },
  {
   "cell_type": "markdown",
   "id": "3c729b8b",
   "metadata": {},
   "source": [
    "* `round()` 내장 함수를 사용하여 일반적으로 반올림 연산을 수행할 수 있는데, 이 때 1번째 인자로 값이 아닌 자료형 `T`를 줄 수 있다. 즉, **`round(T, x)`가 가능한데, 이는 `T(round(x))`와 같다.**"
   ]
  },
  {
   "cell_type": "code",
   "execution_count": 56,
   "id": "25fbb4a1",
   "metadata": {
    "ExecuteTime": {
     "end_time": "2023-08-28T19:57:51.364000+09:00",
     "start_time": "2023-08-28T10:57:50.852Z"
    }
   },
   "outputs": [
    {
     "name": "stdout",
     "output_type": "stream",
     "text": [
      "2\n",
      "Int64\n"
     ]
    }
   ],
   "source": [
    "println(round(Int, 1.75))\n",
    "println(typeof(round(Int, 1.75)))"
   ]
  },
  {
   "cell_type": "markdown",
   "id": "4a7e8d4b",
   "metadata": {},
   "source": [
    "## Division Internal Functions"
   ]
  },
  {
   "cell_type": "markdown",
   "id": "85d04b46",
   "metadata": {},
   "source": [
    "* Julia는 나눗셈 연산을 수행하는 것과 관련된 다음 표에 열거된 내장함수들을 제공한다."
   ]
  },
  {
   "cell_type": "markdown",
   "id": "7d54cb16",
   "metadata": {},
   "source": [
    "|Function|Description|\n",
    "|:----:|:-----------------:|\n",
    "|`div(x, y)`, `x ÷ y`|Truncated Division; Quotient Rounded towards Zero<br/>(Same as `trunc(x / y)`)|\n",
    "|`fld(x, y)`|Floored Division; Quotient Rounded towards `-Inf`<br/>(Same as `floor(x / y)`)|\n",
    "|`cld(x, y)`|Ceiling Division; Quotient Rounded towards `Inf`<br/>(Same as `ceil(x / y)`)|\n",
    "|`rem(x, y)`|Remainder; Satisfies `x == div(x, y) * y + rem(x, y)`; Sign matches `x`|\n",
    "|`mod(x, y)`|Modulus; Satisfies `x == fld(x, y) * y + mod(x, y)`; Sign matches `y`|\n",
    "|`mod1(x, y)`|`mod` with offset `1`; Returns `r∈(0,y] for y > 0` or `r∈[y,0) for y < 0`, where `mod(r, y) == mod(x, y)`|\n",
    "|`mod2pi(x)`|Modulus with Respect to `2 * pi`; `0 <= mod2pi(x) < 2*pi`|\n",
    "|`divrem(x, y)`|Returns `(div(x, y), rem(x, y))`|\n",
    "|`fldmod(x, y)`|Returns `(fld(x, y), mod(x, y))`|\n",
    "|`gcd(x, y, ...)`|Returns Greatest **Positive** Common Division(GCD) of `x`, `y`, `...`|\n",
    "|`lcm(x, y, ...)`|Returns Least **Positivie** Common Multiple(LCM) of `x`, `y`, `...`|"
   ]
  },
  {
   "cell_type": "markdown",
   "id": "68292845",
   "metadata": {},
   "source": [
    "## Sign and Absolute Value Functions"
   ]
  },
  {
   "cell_type": "markdown",
   "id": "9d5e6180",
   "metadata": {},
   "source": [
    "* Julia는 다음 표에 열거된 부호 혹은 절댓값 관련 내장 함수들을 지원한다."
   ]
  },
  {
   "cell_type": "markdown",
   "id": "fd3b3d55",
   "metadata": {},
   "source": [
    "|Function|Description|\n",
    "|:------:|:------------:|\n",
    "|`abs(x)`|A Positive Value with the Magnitude of `x` (절댓값)|\n",
    "|`abs2(x)`|The Squared Magnitude of `x` (절댓값의 제곱)|\n",
    "|`sign(x)`|Indicates the Sign of `x`, Returning, `-1`, `0`, or `+1`|\n",
    "|`signbit(x)`|Indicates whether the sign bit is on(`true`, Negative), or off(`false`, Positive or Zero)|\n",
    "|`copysign(x, y)`|A value with the magnitude of `x` and the sign of `y`|\n",
    "|`flipsign(x, y)`|A value with the magnitude of `x` and the sign of `x * y` (Only **flips** the sign when the `signbit(y)`)|"
   ]
  },
  {
   "cell_type": "markdown",
   "id": "8c8a15c1",
   "metadata": {},
   "source": [
    "## Powers · Logs · Root Functions"
   ]
  },
  {
   "cell_type": "markdown",
   "id": "7e276d65",
   "metadata": {},
   "source": [
    "* Julia는 승수, 로그, 제곱근 연산과 관련된 다음 표에 열거된 내장 함수들을 지원한다."
   ]
  },
  {
   "cell_type": "markdown",
   "id": "64ddc6fc",
   "metadata": {},
   "source": [
    "|Function|Description|\n",
    "|:------:|:----------------:|\n",
    "|`sqrt(x)`, `√x`|Square Root of `x` (`x`의 제곱근)|\n",
    "|`cbrt(x)`, `∛x`|Cube Root of `x` (`x`의 세제곱근)|\n",
    "|`hypot(x, y)`|Hypotenuse of Right-angled Triangle with other sides of length `x` and `y`<br/>(`x`, `y`를 두 변의 길이로 가지는 직각삼각형의 빗변 길이)|\n",
    "|`exp(x)`|Natural Exponential Function at `x` ($e^{x}$)|\n",
    "|`expm1(x)`|Accurate `exp(x)-1` for `x` Near Zero (Stands for `exp minus 1`)|\n",
    "|`ldexp(x, n)`|`x * 2^n` computed efficiently for integer values of `n`|\n",
    "|`log(x)`|Natural Logarithm of `x` (자연로그)|\n",
    "|`log(b, x)`|Base `b` Logarithm of `x`|\n",
    "|`log2(x)`|Base `2` Logarithm of `x`|\n",
    "|`log10(x)`|Base `10` Logarithm of `x` (상용로그)|\n",
    "|`log1p(x)`|Accurate `log(1+x)` for `x` near Zero (Satnds for `log of 1 plus x`)|\n",
    "|`exponent(x)`|Binary Exponent of `x` (Same as $2^{x}$)|\n",
    "|`significand(x)`|Binary Significand (a.k.a. mantissa, 가수) of floating-point number `x`|"
   ]
  },
  {
   "cell_type": "markdown",
   "id": "ea5ed17e",
   "metadata": {},
   "source": [
    "## Trigonometric and Hyperbolic Functions"
   ]
  },
  {
   "cell_type": "markdown",
   "id": "5ea63672",
   "metadata": {},
   "source": [
    "* Julia는 내장함수로 모든 삼각함수(Trigonometric Functions)들과 쌍곡함수(Hyperbolic Functions)들을 지원한다."
   ]
  },
  {
   "cell_type": "markdown",
   "id": "cc947620",
   "metadata": {},
   "source": [
    "* 다음 함수들이 내장함수들로 지원된다.\n",
    "    * 기본 삼각함수\n",
    "        * `sin`\n",
    "        * `cos`\n",
    "        * `tan`\n",
    "        * `cot`\n",
    "        * `sec`\n",
    "        * `csc`\n",
    "    * 기본 쌍곡함수\n",
    "        * `sinh`\n",
    "        * `cosh`\n",
    "        * `tanh`\n",
    "        * `coth`\n",
    "        * `sech`\n",
    "        * `csch`\n",
    "    * 기본 역삼각함수 (arc가 아닌 a 약자 사용함에 주의)\n",
    "        * `asin`\n",
    "        * `acos`\n",
    "        * `atan`\n",
    "        * `acot`\n",
    "        * `asec`\n",
    "        * `acsc`\n",
    "    * 기본 역쌍곡함수 (arc가 아닌 a 약자 사용함에 주의)\n",
    "        * `asinh`\n",
    "        * `acosh`\n",
    "        * `atanh`\n",
    "        * `acoth`\n",
    "        * `asech`\n",
    "        * `acsch`\n",
    "    * 씽크 함수\n",
    "        * `sinc` (사인함수와 그 변수의 비)\n",
    "        * `cosc` (코사인함수와 그 변수의 비)\n",
    "    "
   ]
  },
  {
   "cell_type": "markdown",
   "id": "74416ea8",
   "metadata": {},
   "source": [
    "* 이상의 기본 함수 외에도, 계산의 편의를 위하여 Julia는 다음의 2개 함수들도 지원한다.\n",
    "    * `sinpi(x)` => `sin(pi * x)`와 동일\n",
    "    * `cospi(x)` => `cos(pi * x)`와 동일\n",
    "* 이상의 함수들은 기본적으로 Radian 단위를 사용하지만, Degree 단위를 사용하고자 하는 경우를 위해 `d` 약자가 뒤에 붙은 다음의 삼각함수들도 지원함.\n",
    "    * `sind`\n",
    "    * `cosd`\n",
    "    * `tand`\n",
    "    * `cotd`\n",
    "    * `secd`\n",
    "    * `secd`\n",
    "    * `cscd`\n",
    "    * `asind`\n",
    "    * `acosd`\n",
    "    * `atand`\n",
    "    * `acotd`\n",
    "    * `asecd`\n",
    "    * `acscd`"
   ]
  },
  {
   "cell_type": "code",
   "execution_count": null,
   "id": "1e504b6f",
   "metadata": {},
   "outputs": [],
   "source": []
  }
 ],
 "metadata": {
  "kernelspec": {
   "display_name": "Julia 1.9.3",
   "language": "julia",
   "name": "julia-1.9"
  },
  "language_info": {
   "file_extension": ".jl",
   "mimetype": "application/julia",
   "name": "julia",
   "version": "1.9.3"
  },
  "toc": {
   "base_numbering": 1,
   "nav_menu": {},
   "number_sections": true,
   "sideBar": true,
   "skip_h1_title": false,
   "title_cell": "Table of Contents",
   "title_sidebar": "Contents",
   "toc_cell": false,
   "toc_position": {},
   "toc_section_display": true,
   "toc_window_display": false
  },
  "varInspector": {
   "cols": {
    "lenName": 16,
    "lenType": 16,
    "lenVar": 40
   },
   "kernels_config": {
    "python": {
     "delete_cmd_postfix": "",
     "delete_cmd_prefix": "del ",
     "library": "var_list.py",
     "varRefreshCmd": "print(var_dic_list())"
    },
    "r": {
     "delete_cmd_postfix": ") ",
     "delete_cmd_prefix": "rm(",
     "library": "var_list.r",
     "varRefreshCmd": "cat(var_dic_list()) "
    }
   },
   "types_to_exclude": [
    "module",
    "function",
    "builtin_function_or_method",
    "instance",
    "_Feature"
   ],
   "window_display": false
  }
 },
 "nbformat": 4,
 "nbformat_minor": 5
}
