{
 "cells": [
  {
   "cell_type": "markdown",
   "id": "743dc98b",
   "metadata": {},
   "source": [
    "# Variables in Julia\n",
    "---\n",
    "* Created on 23 Aug 2023\n",
    "* Created by Yooshin Oh (stevenoh0908@snu.ac.kr)\n",
    "---\n",
    "* <span class=\"mark\">Documentation: https://docs.julialang.org/en/v1/manual/variables/</span>"
   ]
  },
  {
   "cell_type": "markdown",
   "id": "c226f6dd",
   "metadata": {},
   "source": [
    "## Variable Basics"
   ]
  },
  {
   "cell_type": "markdown",
   "id": "2ef26884",
   "metadata": {},
   "source": [
    "* Julia에서 변수의 사용은 Python과 비슷하다.\n",
    "* Python과 유사하게, 별도의 Type Declaration 없이도 변수를 할당, 사용할 수 있다."
   ]
  },
  {
   "cell_type": "code",
   "execution_count": 1,
   "id": "0b95b8bc",
   "metadata": {
    "ExecuteTime": {
     "end_time": "2023-08-23T23:10:26.787000+09:00",
     "start_time": "2023-08-23T14:10:23.829Z"
    }
   },
   "outputs": [
    {
     "name": "stdout",
     "output_type": "stream",
     "text": [
      "10\n",
      "11\n",
      "2\n",
      "Hello World!\n"
     ]
    }
   ],
   "source": [
    "# Assign the value 10 to the variable x\n",
    "x = 10\n",
    "println(x)\n",
    "\n",
    "# Doing math with x's value\n",
    "println(x+1)\n",
    "\n",
    "# Reassign x's value\n",
    "x = 1 + 1\n",
    "println(x)\n",
    "\n",
    "# You can assign values of other types, like strings of text\n",
    "x = \"Hello World!\"\n",
    "println(x)"
   ]
  },
  {
   "cell_type": "markdown",
   "id": "6d5d9a99",
   "metadata": {},
   "source": [
    "* Julia도 Python과 마찬가지로 Identifier는 대소문자를 구분하며(Case-Sensitive), 의미론적인 의미가 없다.\n",
    "* Julia 또한 Python과 마찬가지로 UTF-8 Encoding 내의 문자들을 Identifier로 사용할 수 있다."
   ]
  },
  {
   "cell_type": "code",
   "execution_count": 2,
   "id": "1b6e26ce",
   "metadata": {
    "ExecuteTime": {
     "end_time": "2023-08-23T23:11:41.463000+09:00",
     "start_time": "2023-08-23T14:11:40.089Z"
    }
   },
   "outputs": [
    {
     "name": "stdout",
     "output_type": "stream",
     "text": [
      "Hello\n"
     ]
    }
   ],
   "source": [
    "안녕하세요 = \"Hello\"\n",
    "println(안녕하세요)"
   ]
  },
  {
   "cell_type": "markdown",
   "id": "b6eafb26",
   "metadata": {},
   "source": [
    "* Julia REPL (Julia에서 Python 인터프리터와 유사한 것) 과 그 이외 몇몇 Juli Editing Env에서는 LaTeX symbol을 입력한 뒤 tab을 눌러 그 문자를 입력할 수 있다.\n",
    "    * 이를테면, `δ`는 `\\delta`를 입력한 뒤 tab 키를 눌러서, `α̂⁽²⁾`는 `\\alpha` - Tab - `\\hat` - Tab - `\\^(2)` - Tab으로 입력이 가능하다."
   ]
  },
  {
   "cell_type": "markdown",
   "id": "523f5f07",
   "metadata": {},
   "source": [
    "* Julia도 Python과 마찬가지로 built-in constant나 functions의 overriding을 지원한다. (권장되지는 않음)"
   ]
  },
  {
   "cell_type": "code",
   "execution_count": null,
   "id": "22b4128a",
   "metadata": {},
   "outputs": [],
   "source": [
    "pi = 3\n",
    "println(3)\n",
    "sqrt = 4\n",
    "println(4)"
   ]
  },
  {
   "cell_type": "markdown",
   "id": "692bc276",
   "metadata": {},
   "source": [
    "* 그러나 Julia는 **이미 사용 중인 Built-in Constant나 Function의 재정의를 시도하는 경우, 오류를 뿜는다!**\n",
    "    * 자동으로 이미 사용하고 있는 built-in constant, function에 대한 overriding을 Julia가 방지해준다. (친절하네~)"
   ]
  },
  {
   "cell_type": "code",
   "execution_count": 4,
   "id": "b0da5fdd",
   "metadata": {
    "ExecuteTime": {
     "end_time": "2023-08-23T23:15:28.921000+09:00",
     "start_time": "2023-08-23T14:15:27.525Z"
    }
   },
   "outputs": [
    {
     "name": "stdout",
     "output_type": "stream",
     "text": [
      "π\n"
     ]
    },
    {
     "ename": "ErrorException",
     "evalue": "\u001b[91mcannot assign a value to variable MathConstants.pi from module Main\u001b[39m",
     "output_type": "error",
     "traceback": [
      "\u001b[91mcannot assign a value to variable MathConstants.pi from module Main\u001b[39m",
      "",
      "Stacktrace:",
      " [1] top-level scope at In[4]:2"
     ]
    }
   ],
   "source": [
    "println(pi)\n",
    "pi = 3"
   ]
  },
  {
   "cell_type": "code",
   "execution_count": 5,
   "id": "2c7a9987",
   "metadata": {
    "ExecuteTime": {
     "end_time": "2023-08-23T23:15:44.764000+09:00",
     "start_time": "2023-08-23T14:15:43.343Z"
    }
   },
   "outputs": [
    {
     "name": "stdout",
     "output_type": "stream",
     "text": [
      "10.0\n"
     ]
    },
    {
     "ename": "ErrorException",
     "evalue": "\u001b[91mcannot assign a value to variable Base.sqrt from module Main\u001b[39m",
     "output_type": "error",
     "traceback": [
      "\u001b[91mcannot assign a value to variable Base.sqrt from module Main\u001b[39m",
      "",
      "Stacktrace:",
      " [1] top-level scope at In[5]:2"
     ]
    }
   ],
   "source": [
    "println(sqrt(100))\n",
    "sqrt = 4"
   ]
  },
  {
   "cell_type": "markdown",
   "id": "71ff6f4b",
   "metadata": {},
   "source": [
    "## Allowed Variable Names"
   ]
  },
  {
   "cell_type": "markdown",
   "id": "283fcec7",
   "metadata": {},
   "source": [
    "* Julia에서 Identifier의 명명법은 Python과 거의 동일함.\n",
    "    * Letter (A-Z or a-z), underscore(`_`), 또는 Code Point가 00A0보다 큰 Unicode subset으로 시작해야 함.\n",
    "    * 그 이후 변수의 이름은 !를 포함할 수도 있고, 숫자를 포함할 수도 있고, 그 이외의 Unicode 문자를 모두 포함할 수 있음.\n",
    "* Indenfitier으로 Operator를 쓸 수도 있음. 이 기능을 적절히 활용하면 Operator Redifinition 이나 함수 호출 대신 Infix Notation Operation이 가능함.\n",
    "    * 이를테면, `(+) = f`는 유효한 변수 선언\n",
    "    * 이를테면, `const ⊗ = kron`으로 infix Kronecker Product를 정의하고 쓸 수 있음."
   ]
  },
  {
   "cell_type": "markdown",
   "id": "3fbaf7d8",
   "metadata": {},
   "source": [
    "* 단, Julia에서 Identifier로 예약어(Built-in Keywords)들은 사용할 수 없다."
   ]
  },
  {
   "cell_type": "code",
   "execution_count": 7,
   "id": "794fd7b2",
   "metadata": {
    "ExecuteTime": {
     "end_time": "2023-08-23T23:24:04.211000+09:00",
     "start_time": "2023-08-23T14:24:02.811Z"
    },
    "scrolled": true
   },
   "outputs": [
    {
     "ename": "LoadError",
     "evalue": "\u001b[91msyntax: unexpected \"else\"\u001b[39m",
     "output_type": "error",
     "traceback": [
      "\u001b[91msyntax: unexpected \"else\"\u001b[39m",
      ""
     ]
    }
   ],
   "source": [
    "else = false"
   ]
  },
  {
   "cell_type": "code",
   "execution_count": 8,
   "id": "53ba2b3f",
   "metadata": {
    "ExecuteTime": {
     "end_time": "2023-08-23T23:24:08.582000+09:00",
     "start_time": "2023-08-23T14:24:07.202Z"
    }
   },
   "outputs": [
    {
     "ename": "LoadError",
     "evalue": "\u001b[91msyntax: unexpected \"=\"\u001b[39m",
     "output_type": "error",
     "traceback": [
      "\u001b[91msyntax: unexpected \"=\"\u001b[39m",
      ""
     ]
    }
   ],
   "source": [
    "try = \"No\""
   ]
  },
  {
   "cell_type": "markdown",
   "id": "46ce42a2",
   "metadata": {},
   "source": [
    "## Special Variable: Variable Names that contains only underscores"
   ]
  },
  {
   "cell_type": "markdown",
   "id": "aab429dd",
   "metadata": {},
   "source": [
    "* Julia에서 Underscore(`_`) 문자만으로 구성된 변수는 Rvalue로 쓸 수 없다. 즉, 이 변수에 값을 할당할 수는 있되, 그 즉시 버려지므로 참조할 수 없다.\n",
    "* Underscore 문자만으로 구성된 변수는 따라서 필요없는 변수를 버릴 때 쓸 수 있다."
   ]
  },
  {
   "cell_type": "code",
   "execution_count": 6,
   "id": "8422aaa1",
   "metadata": {
    "ExecuteTime": {
     "end_time": "2023-08-23T23:23:26.606000+09:00",
     "start_time": "2023-08-23T14:23:25.126Z"
    }
   },
   "outputs": [
    {
     "name": "stdout",
     "output_type": "stream",
     "text": [
      "2\n"
     ]
    },
    {
     "ename": "ErrorException",
     "evalue": "\u001b[91msyntax: all-underscore identifier used as rvalue around In[6]:3\u001b[39m",
     "output_type": "error",
     "traceback": [
      "\u001b[91msyntax: all-underscore identifier used as rvalue around In[6]:3\u001b[39m",
      "",
      "Stacktrace:",
      " [1] top-level scope at /home/stephen/.julia/packages/IJulia/Vo51o/src/kernel.jl:53"
     ]
    }
   ],
   "source": [
    "x, ___ = size([2 2; 1 1])\n",
    "println(x)\n",
    "println(___)"
   ]
  },
  {
   "cell_type": "markdown",
   "id": "e093229a",
   "metadata": {},
   "source": [
    "## Assignment Operator Return Value"
   ]
  },
  {
   "cell_type": "markdown",
   "id": "ef543f70",
   "metadata": {},
   "source": [
    "* C와 마찬가지로 Julia에서 Assignment Operator는 Assign된 값을 반환함. 이를 이용하여, 아래와 같이 연쇄적인 대입이 가능하다."
   ]
  },
  {
   "cell_type": "code",
   "execution_count": 9,
   "id": "72005aea",
   "metadata": {
    "ExecuteTime": {
     "end_time": "2023-08-23T23:26:10.004000+09:00",
     "start_time": "2023-08-23T14:26:08.284Z"
    }
   },
   "outputs": [
    {
     "data": {
      "text/plain": [
       "3"
      ]
     },
     "execution_count": 9,
     "metadata": {},
     "output_type": "execute_result"
    }
   ],
   "source": [
    "a = 3"
   ]
  },
  {
   "cell_type": "code",
   "execution_count": 10,
   "id": "6573af40",
   "metadata": {
    "ExecuteTime": {
     "end_time": "2023-08-23T23:26:24.046000+09:00",
     "start_time": "2023-08-23T14:26:22.665Z"
    }
   },
   "outputs": [
    {
     "data": {
      "text/plain": [
       "7"
      ]
     },
     "execution_count": 10,
     "metadata": {},
     "output_type": "execute_result"
    }
   ],
   "source": [
    "a = (b = 2+2) + 3 # b = 2+2가 4로 eval됨."
   ]
  },
  {
   "cell_type": "markdown",
   "id": "8c87a3cc",
   "metadata": {},
   "source": [
    "## Shallow Copy in Assignment"
   ]
  },
  {
   "cell_type": "markdown",
   "id": "fb942942",
   "metadata": {},
   "source": [
    "* Python과 마찬가지로, Julia에서 `varname = value`는 `value`를 저장하기 위한 공간을 만들고, 그 이름을 `varname`으로만 할 뿐으로, Unmutable한 `value`의 경우는 복사하여 새로운 공간에 그 값을 저장하고 이름을 `varname`으로 하지만, Mutable한 `value`의 경우는 복사가 일어나지 않고 이름만 같게 되는 Shallow Copy가 일어나니 주의."
   ]
  },
  {
   "cell_type": "code",
   "execution_count": 13,
   "id": "c60655cd",
   "metadata": {
    "ExecuteTime": {
     "end_time": "2023-08-23T23:28:44.422000+09:00",
     "start_time": "2023-08-23T14:28:43.023Z"
    }
   },
   "outputs": [
    {
     "name": "stdout",
     "output_type": "stream",
     "text": [
      "[1, 2, 3]\n",
      "[1, 2, 3]\n",
      "[42, 2, 3]\n",
      "[42, 2, 3]\n"
     ]
    }
   ],
   "source": [
    "a = [1, 2, 3] # an array of 3 integers\n",
    "b = a # shallow copy. both b and a are names for the same array!\n",
    "println(a)\n",
    "println(b)\n",
    "a[1] = 42\n",
    "println(a)\n",
    "println(b)"
   ]
  },
  {
   "cell_type": "code",
   "execution_count": null,
   "id": "dd3832c3",
   "metadata": {},
   "outputs": [],
   "source": []
  }
 ],
 "metadata": {
  "kernelspec": {
   "display_name": "Julia 1.9.3",
   "language": "julia",
   "name": "julia-1.9"
  },
  "language_info": {
   "file_extension": ".jl",
   "mimetype": "application/julia",
   "name": "julia",
   "version": "1.9.3"
  },
  "toc": {
   "base_numbering": 1,
   "nav_menu": {},
   "number_sections": true,
   "sideBar": true,
   "skip_h1_title": false,
   "title_cell": "Table of Contents",
   "title_sidebar": "Contents",
   "toc_cell": false,
   "toc_position": {},
   "toc_section_display": true,
   "toc_window_display": false
  },
  "varInspector": {
   "cols": {
    "lenName": 16,
    "lenType": 16,
    "lenVar": 40
   },
   "kernels_config": {
    "python": {
     "delete_cmd_postfix": "",
     "delete_cmd_prefix": "del ",
     "library": "var_list.py",
     "varRefreshCmd": "print(var_dic_list())"
    },
    "r": {
     "delete_cmd_postfix": ") ",
     "delete_cmd_prefix": "rm(",
     "library": "var_list.r",
     "varRefreshCmd": "cat(var_dic_list()) "
    }
   },
   "types_to_exclude": [
    "module",
    "function",
    "builtin_function_or_method",
    "instance",
    "_Feature"
   ],
   "window_display": false
  }
 },
 "nbformat": 4,
 "nbformat_minor": 5
}
