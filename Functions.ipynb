{
 "cells": [
  {
   "cell_type": "markdown",
   "id": "ad8e67b1",
   "metadata": {},
   "source": [
    "# Functions in Julia\n",
    "---\n",
    "* Created on 30 Aug 2023\n",
    "* Created by Yooshin Oh (stevenoh0908@snu.ac.kr)\n",
    "---\n",
    "* <span class=\"mark\">Documentation: https://docs.julialang.org/en/v1/manual/functions/</span>"
   ]
  },
  {
   "cell_type": "markdown",
   "id": "acfb7729",
   "metadata": {},
   "source": [
    "## Introduction"
   ]
  },
  {
   "cell_type": "markdown",
   "id": "b0078af5",
   "metadata": {},
   "source": [
    "* Julia에서 Function은 `Tuple` -> `Return Value`로 Mapping해주는 객체로 정의된다.\n",
    "* Julia에서의 함수는 수학적 함수(Mathematical Functions)와는 다른데, 왜냐하면 수학적 함수와는 달리 프로그램 실행 중에 '변경될 수 있고', 따라서 Program의 Global State에 영향을 미칠 수 있기 때문이다."
   ]
  },
  {
   "cell_type": "markdown",
   "id": "e977620d",
   "metadata": {},
   "source": [
    "## Function Definition"
   ]
  },
  {
   "cell_type": "markdown",
   "id": "1e6b18e2",
   "metadata": {},
   "source": [
    "* Julia에서는 다음과 같은 문법으로 함수를 정의한다. (Bash-like style)\n",
    "    ```julia\n",
    "    function f(x, y)\n",
    "        x + y\n",
    "    end\n",
    "    ```\n",
    "* 즉, 다음과 같은 Template으로 함수를 정의한다.\n",
    "    ```julia\n",
    "    function function_name(arg_seperated_by_comma)\n",
    "        expressions\n",
    "    end\n",
    "    ````"
   ]
  },
  {
   "cell_type": "code",
   "execution_count": 1,
   "id": "6cb130b6",
   "metadata": {
    "ExecuteTime": {
     "end_time": "2023-08-30T01:41:55.595000+09:00",
     "start_time": "2023-08-29T16:41:52.351Z"
    }
   },
   "outputs": [
    {
     "data": {
      "text/plain": [
       "f (generic function with 1 method)"
      ]
     },
     "execution_count": 1,
     "metadata": {},
     "output_type": "execute_result"
    }
   ],
   "source": [
    "function f(x,y)\n",
    "    x + y\n",
    "end"
   ]
  },
  {
   "cell_type": "markdown",
   "id": "364bf4e6",
   "metadata": {},
   "source": [
    "* 이상의 함수는 `x`, `y`의 2개의 Argument를 받아서, `x+y`를 return한다."
   ]
  },
  {
   "cell_type": "markdown",
   "id": "54b624f5",
   "metadata": {},
   "source": [
    "* 또는 다음과 같이 대입 연산자를 이용하여 곧바로 함수의 Return 값을 명시하는 식인 **Assignment Form**으로 함수를 정의할 수도 있다."
   ]
  },
  {
   "cell_type": "code",
   "execution_count": 2,
   "id": "7a665fe9",
   "metadata": {
    "ExecuteTime": {
     "end_time": "2023-08-30T01:42:54.044000+09:00",
     "start_time": "2023-08-29T16:42:52.468Z"
    }
   },
   "outputs": [
    {
     "data": {
      "text/plain": [
       "f (generic function with 1 method)"
      ]
     },
     "execution_count": 2,
     "metadata": {},
     "output_type": "execute_result"
    }
   ],
   "source": [
    "f(x,y) = x + y"
   ]
  },
  {
   "cell_type": "markdown",
   "id": "b33b48e4",
   "metadata": {},
   "source": [
    "* 간단하거나 짧은 함수는 Julia에서 위와 같이 Assignment Form으로 정의하는 것이 훨씬 낫다. (수학적으로도 좀 괜찮기도 하고)"
   ]
  },
  {
   "cell_type": "markdown",
   "id": "296804e3",
   "metadata": {},
   "source": [
    "* 함수 자체가 하나의 객체이므로, 함수도 대입 연산자를 사용하여 복사될 수 있다."
   ]
  },
  {
   "cell_type": "code",
   "execution_count": 4,
   "id": "8d330693",
   "metadata": {
    "ExecuteTime": {
     "end_time": "2023-08-30T01:44:26.504000+09:00",
     "start_time": "2023-08-29T16:44:24.936Z"
    },
    "scrolled": true
   },
   "outputs": [
    {
     "data": {
      "text/plain": [
       "5"
      ]
     },
     "execution_count": 4,
     "metadata": {},
     "output_type": "execute_result"
    }
   ],
   "source": [
    "f(x,y) = x + y\n",
    "g = f\n",
    "g(2,3)"
   ]
  },
  {
   "cell_type": "markdown",
   "id": "086d87a4",
   "metadata": {},
   "source": [
    "* Julia는 Identifier로 Unicode 표준을 따르는 문자 체계를 사용하므로, Unicode도 함수 이름으로 사용될 수 있다."
   ]
  },
  {
   "cell_type": "code",
   "execution_count": 6,
   "id": "abfa66ae",
   "metadata": {
    "ExecuteTime": {
     "end_time": "2023-08-30T01:45:06.082000+09:00",
     "start_time": "2023-08-29T16:45:04.515Z"
    }
   },
   "outputs": [
    {
     "data": {
      "text/plain": [
       "5"
      ]
     },
     "execution_count": 6,
     "metadata": {},
     "output_type": "execute_result"
    }
   ],
   "source": [
    "∑(x,y) = x + y\n",
    "∑(2,3)"
   ]
  },
  {
   "cell_type": "markdown",
   "id": "f813137a",
   "metadata": {},
   "source": [
    "## Function Call"
   ]
  },
  {
   "cell_type": "markdown",
   "id": "458ce29d",
   "metadata": {},
   "source": [
    "* Julia에서 함수의 호출 방법은 Python과 동일하다."
   ]
  },
  {
   "cell_type": "code",
   "execution_count": 3,
   "id": "ba235a66",
   "metadata": {
    "ExecuteTime": {
     "end_time": "2023-08-30T01:43:51.414000+09:00",
     "start_time": "2023-08-29T16:43:49.623Z"
    },
    "scrolled": true
   },
   "outputs": [
    {
     "data": {
      "text/plain": [
       "5"
      ]
     },
     "execution_count": 3,
     "metadata": {},
     "output_type": "execute_result"
    }
   ],
   "source": [
    "f(x,y) = x + y\n",
    "f(2,3)"
   ]
  },
  {
   "cell_type": "markdown",
   "id": "05213763",
   "metadata": {},
   "source": [
    "## Function Argument Passing Behaviour"
   ]
  },
  {
   "cell_type": "markdown",
   "id": "8c951dce",
   "metadata": {},
   "source": [
    "* Julia Function에 대해 함수 인자는 Call-by-value가 아닌 Call-by-reference와 같은 형태로 전달된다. (Pass-by-sharing이라 하기도 한다)\n",
    "* 즉, Julia Function에 인자를 전달하는 경우, 이들 인자에 상응하는 변수들에 Function의 매개변수라는 새로운 Identifier가 임시로 부여되는 것이다. (*Function arguments themelves act as new variable bindings -> new \"names\" that can refer to values*)\n",
    "* 따라서 Julia Function 내부에서 변수 값을 수정하면, 그 변경 사항이 외부에 반영된다. (Call-by-reference)\n",
    "* 이러한 동작은 LISP, Python, Ruby, Perl 등등과 정확히 같은 방식이다."
   ]
  },
  {
   "cell_type": "code",
   "execution_count": 7,
   "id": "4fb0bd80",
   "metadata": {
    "ExecuteTime": {
     "end_time": "2023-08-30T01:48:04.909000+09:00",
     "start_time": "2023-08-29T16:48:03.305Z"
    }
   },
   "outputs": [
    {
     "data": {
      "text/plain": [
       "f (generic function with 1 method)"
      ]
     },
     "execution_count": 7,
     "metadata": {},
     "output_type": "execute_result"
    }
   ],
   "source": [
    "function f(x, y)\n",
    "    x[1] = 42 # mutates x\n",
    "    y = 7 + y # new binding for y, no mutation\n",
    "    return y\n",
    "end"
   ]
  },
  {
   "cell_type": "markdown",
   "id": "ac2056ea",
   "metadata": {},
   "source": [
    "* 위 경우 함수에 전달된 `x`는 Mutate되지만, 2번째 line에 의하여 함수에 전달된 `y`는 Mutate되지 않고, Integer가 Immutable Type이므로 새로운 7 + y 값이 assign되어 `y`라는 이름을 새로 부여받게 된다. 따라서 원래 함수에 인자로 전달한 `y` 변수의 값은 변경되지 않는다."
   ]
  },
  {
   "cell_type": "code",
   "execution_count": 8,
   "id": "e90370d9",
   "metadata": {
    "ExecuteTime": {
     "end_time": "2023-08-30T01:49:25.100000+09:00",
     "start_time": "2023-08-29T16:49:23.520Z"
    }
   },
   "outputs": [
    {
     "data": {
      "text/plain": [
       "10"
      ]
     },
     "execution_count": 8,
     "metadata": {},
     "output_type": "execute_result"
    }
   ],
   "source": [
    "a = [4, 5, 6]\n",
    "b = 3\n",
    "f(a, b) # returns 7 + b => 10"
   ]
  },
  {
   "cell_type": "code",
   "execution_count": 9,
   "id": "d1fde68b",
   "metadata": {
    "ExecuteTime": {
     "end_time": "2023-08-30T01:49:35.264000+09:00",
     "start_time": "2023-08-29T16:49:33.110Z"
    }
   },
   "outputs": [
    {
     "data": {
      "text/plain": [
       "3-element Array{Int64,1}:\n",
       " 42\n",
       "  5\n",
       "  6"
      ]
     },
     "execution_count": 9,
     "metadata": {},
     "output_type": "execute_result"
    }
   ],
   "source": [
    "a # a changed, due to function f, mutated a."
   ]
  },
  {
   "cell_type": "code",
   "execution_count": 10,
   "id": "92287287",
   "metadata": {
    "ExecuteTime": {
     "end_time": "2023-08-30T01:49:41.990000+09:00",
     "start_time": "2023-08-29T16:49:40.423Z"
    }
   },
   "outputs": [
    {
     "data": {
      "text/plain": [
       "3"
      ]
     },
     "execution_count": 10,
     "metadata": {},
     "output_type": "execute_result"
    }
   ],
   "source": [
    "b # not changed."
   ]
  },
  {
   "cell_type": "markdown",
   "id": "18e0a22a",
   "metadata": {},
   "source": [
    "* <span class=\"birk\">**Naming Convection**</span> : 보통 함수 안에서 Argument의 Mutation이 일어나는 경우, 함수의 Identifier의 끝을 `!`로 끝내는 것이 Julia에서 권장된다."
   ]
  },
  {
   "cell_type": "markdown",
   "id": "c0345660",
   "metadata": {},
   "source": [
    "## Argument-type Declarations for Functions"
   ]
  },
  {
   "cell_type": "markdown",
   "id": "8e77dcb6",
   "metadata": {},
   "source": [
    "* **Julia에서는 Function Argument 뒤에 `::TypeName`을 붙여 그 변수의 Type을 지정할 수 있다.** 이 문법은 임의의 Variable에 대해서도 적용된다."
   ]
  },
  {
   "cell_type": "code",
   "execution_count": null,
   "id": "bc31dbbd",
   "metadata": {},
   "outputs": [],
   "source": [
    "# Fibonacci Number (Recursively)\n",
    "fib(n::Integer) = n <= 2 ? one(n) : fib(n-1) + fib(n-2)\n",
    "# ::Integer로 n의 Type이 지정되어 있으므로, n은 Integer 또는 그 Sub-type으로만 한정된다."
   ]
  },
  {
   "cell_type": "markdown",
   "id": "47e810a5",
   "metadata": {},
   "source": [
    "* <span class=\"mark\">**Note**</span> **Julia에서 Function에 대한 Argument-type Declaration은 Performance에 보통 영향이 없다.** Julia는 Argument에 대한 Type이 선언되어 있든지 아니든지 간에, 실제로 Function Call에서 Argument로 넘어간 값의 Type에 따라서 Function을 그때그때 Compile하고 Optimmize하기 때문이다.\n",
    "* 따라서 보통 Julia에서는 Performance Issue보다는 다음과 같은 이유로 Argument Type을 명시해주게 된다."
   ]
  },
  {
   "cell_type": "markdown",
   "id": "0fe400df",
   "metadata": {},
   "source": [
    "> **Julia에서 Argument-type Declaration을 하는 이유**\n",
    ">\n",
    "> * **Dispatch**: Argument의 Type에 따라 다른 동작 · 연산을 수행해야 하는 경우가 있기 때문에, 이 경우는 Function Argument의 Type을 특정으로 한정해야 한다. 이 경우를 위해 Argument-type Declaration을 쓴다.\n",
    "> * **Correctness**: Argument Type을 한정하여 항상 올바른 대답을 낼 것을 보장하기 위해 Function Argument-type Declaration을 쓸 수도 있다. 이를테면, 상기 피보나치 함수 예제에서 `fib(n) = n <= 2 ? one(n) : fib(n-1) + fib(n-2)`로 정의하면서 `n`의 Argument-type을 한정하지 않은 경우, `fib(1.5)`를 실행했을 때 Nonsensical한 `1.0`을 돌려줄 수도 있는 문제가 있다.\n",
    "> * **Clarity**: Argument Type을 명시해주면 Function에서 Expect Argument Type을 강제하거나 명시해줄 수 있으므로 도움이 된다."
   ]
  },
  {
   "cell_type": "markdown",
   "id": "bac7924c",
   "metadata": {},
   "source": [
    "* 그러나 함수에서 Argument Type을 지나치게 강하게 제한하지 않도록 주의해야 한다. Function의 Argument Type을 지나치게 제한하면, 유사한 연산을 하는 다른 Type의 연산에 대해서 함수가 재사용될 수 없게 된다.\n",
    "    * 이를테면, 위 피보나치 함수의 예제 같은 경우 `n::Int`와 같이 지나치게 강하게 Argument Type을 제한하는 경우, 피보나치 항이 너무 커져 `Int64`의 범위를 넘어 `BigInt`가 되는 경우 Exception이 던져지는 문제가 난다. `n::Integer`와 같이 적당한 수준으로 Argument Type을 제한해야, `Integer`의 sub-type인 `Int8`, `Int16`, `Int32`, `Int64`, `BigInt` 모두를 Accept하므로 임의의 피보나치 항을 계산할 수 있다.\n",
    "* 앞서 강조했듯, **Julia에서 Type Declaration**은 성능에 영향을 주지 않는다. 따라서 만약 Argument의 Type에 대해 확신이 없다면, Type Declaration을 하지 않는 것이 차라리 낫다. 나중에 Type에 대한 정보가 확실해질 때, Type Specification을 나중에 해도 된다. (Julia가 알아서 Type을 Runtime 중에 보고 Optimization해서 Function-Compile을 한다)"
   ]
  },
  {
   "cell_type": "markdown",
   "id": "2c2f7952",
   "metadata": {},
   "source": [
    "## The `return` Keyword"
   ]
  },
  {
   "cell_type": "markdown",
   "id": "9c4b3464",
   "metadata": {},
   "source": [
    "* **기본적으로 Julia Function에서는 Last Expression의 값이 Evaluate되고 Return되지만,** 다른 프로그래밍 언어에서 그러한 것처럼 `return` 키워드를 사용해 return 값을 그 즉시 돌려주는 것도 가능하다."
   ]
  },
  {
   "cell_type": "code",
   "execution_count": null,
   "id": "3d7639f7",
   "metadata": {},
   "outputs": [],
   "source": [
    "function g_func(x,y)\n",
    "    println(x+y)\n",
    "    x + y # The last expression of the function, will be returned by the default in Julia.\n",
    "end"
   ]
  },
  {
   "cell_type": "code",
   "execution_count": 12,
   "id": "ea0bba5e",
   "metadata": {
    "ExecuteTime": {
     "end_time": "2023-08-30T14:39:25.207000+09:00",
     "start_time": "2023-08-30T05:39:24.793Z"
    }
   },
   "outputs": [
    {
     "data": {
      "text/plain": [
       "g_func (generic function with 1 method)"
      ]
     },
     "execution_count": 12,
     "metadata": {},
     "output_type": "execute_result"
    }
   ],
   "source": [
    "function g_func(x,y)\n",
    "    return x * y # The return keyword return its specified value immediately.\n",
    "    x + y # since in the previous line the function will be terminated at once, therefore this statement will never be evaluated or returned.\n",
    "end"
   ]
  },
  {
   "cell_type": "code",
   "execution_count": 13,
   "id": "1ff53109",
   "metadata": {
    "ExecuteTime": {
     "end_time": "2023-08-30T14:39:31.906000+09:00",
     "start_time": "2023-08-30T05:39:31.583Z"
    }
   },
   "outputs": [
    {
     "data": {
      "text/plain": [
       "6"
      ]
     },
     "execution_count": 13,
     "metadata": {},
     "output_type": "execute_result"
    }
   ],
   "source": [
    "g_func(2,3) # 2 * 3 will be returned."
   ]
  },
  {
   "cell_type": "markdown",
   "id": "11533ac8",
   "metadata": {},
   "source": [
    "* 물론 `return` 키워드 없이 항상 Julia는 Function에서의 Last Expression을 항상 return하므로 굳이 `return` 키워드는 간단한 함수에는 필요하지 않다. 그러나 실행 도중, 즉 함수의 가장 끝이 아니라 특정 조건에 해당할 때 즉시 반환이 일어나야 하는 경우 `return` 키워드가 여타 프로그래밍 언어에서 그러한 것처럼 유용할 수 있다."
   ]
  },
  {
   "cell_type": "markdown",
   "id": "05d0faaf",
   "metadata": {},
   "source": [
    "* 다음의 직각을 낀 두 변의 길이가 `x`, `y`일때, Overflow 없이 직각 삼각형의 빗변 길이를 계산하는 함수 `hypot(x,y)` 정의가 대표적인 예시이다."
   ]
  },
  {
   "cell_type": "code",
   "execution_count": 14,
   "id": "9756d0eb",
   "metadata": {
    "ExecuteTime": {
     "end_time": "2023-08-30T14:43:50.063000+09:00",
     "start_time": "2023-08-30T05:43:49.674Z"
    }
   },
   "outputs": [
    {
     "data": {
      "text/plain": [
       "hypot (generic function with 1 method)"
      ]
     },
     "execution_count": 14,
     "metadata": {},
     "output_type": "execute_result"
    }
   ],
   "source": [
    "function hypot(x,y)\n",
    "    x = abs(x)\n",
    "    y = abs(y)\n",
    "    if x > y\n",
    "        r = y / x\n",
    "        return x * sqrt(1 + r * r)\n",
    "    end\n",
    "    if y == 0\n",
    "        return zero(x)\n",
    "    end\n",
    "    r = x / y\n",
    "    return y * sqrt(1 + r * r) # 여기의 return 키워드는 생략 가능하지만, Clarity를 위해 써주는 것이 좋다.\n",
    "end"
   ]
  },
  {
   "cell_type": "code",
   "execution_count": 15,
   "id": "0b409f98",
   "metadata": {
    "ExecuteTime": {
     "end_time": "2023-08-30T14:43:57.532000+09:00",
     "start_time": "2023-08-30T05:43:56.982Z"
    }
   },
   "outputs": [
    {
     "data": {
      "text/plain": [
       "5.0"
      ]
     },
     "execution_count": 15,
     "metadata": {},
     "output_type": "execute_result"
    }
   ],
   "source": [
    "hypot(3, 4)"
   ]
  },
  {
   "cell_type": "markdown",
   "id": "679edf3e",
   "metadata": {},
   "source": [
    "## Return Type Specification"
   ]
  },
  {
   "cell_type": "markdown",
   "id": "71c13c02",
   "metadata": {},
   "source": [
    "* Julia에서는 Function Signature 뒤에 `::TypeName`, 즉 Julia의 전형적인 Type Specification 문법을 따라 Return Type을 명시해줄 수 있다.\n",
    "    * 이 경우 항상 Return되는 값을 지정된 Type으로 변환하여 반환하게 된다."
   ]
  },
  {
   "cell_type": "code",
   "execution_count": 17,
   "id": "d05aa51c",
   "metadata": {
    "ExecuteTime": {
     "end_time": "2023-08-30T14:45:05.218000+09:00",
     "start_time": "2023-08-30T05:45:04.654Z"
    }
   },
   "outputs": [
    {
     "data": {
      "text/plain": [
       "Int8"
      ]
     },
     "execution_count": 17,
     "metadata": {},
     "output_type": "execute_result"
    }
   ],
   "source": [
    "function g_func(x,y)::Int8\n",
    "    return x * y\n",
    "end\n",
    "typeof(g_func(1,2))"
   ]
  },
  {
   "cell_type": "markdown",
   "id": "8afd2779",
   "metadata": {},
   "source": [
    "* 다만 Return Type Declaration은 Julia에서 잘 쓰지 않는다. 보통은 Return Type Declaration으로 반환값의 Type을 강제하기보다는, Function 자체를 type-stable하게 만들어서 Julia Compiler가 자동으로 Return Type을 일정하게 하게끔 만드는 것이 일반적이다."
   ]
  },
  {
   "cell_type": "markdown",
   "id": "957f9323",
   "metadata": {},
   "source": [
    "## Returning `nothing`\n",
    "* C에서 `void` Return-Type을 가지는 Function처럼, 반환값이 **없는** 함수의 경우, Julia에서는 `Core.Nothing`을 반환하는 것이 Convection이다."
   ]
  },
  {
   "cell_type": "code",
   "execution_count": 18,
   "id": "655a7d6a",
   "metadata": {
    "ExecuteTime": {
     "end_time": "2023-08-30T14:51:21.276000+09:00",
     "start_time": "2023-08-30T05:51:20.836Z"
    }
   },
   "outputs": [
    {
     "data": {
      "text/plain": [
       "printx (generic function with 1 method)"
      ]
     },
     "execution_count": 18,
     "metadata": {},
     "output_type": "execute_result"
    }
   ],
   "source": [
    "function printx(x)\n",
    "    println(\"x = $x\")\n",
    "    return nothing # 그러나 println이 반환값이 이미 없으므로(nothing 반환) 굳이 이 line이 필요하지는 않다. l(Julia Function은 last expression이 evaluate되어 자동 반환됨에 주의)\n",
    "end"
   ]
  },
  {
   "cell_type": "markdown",
   "id": "16c17cbf",
   "metadata": {},
   "source": [
    "* C언어에서처럼, `return` 키워드 자체만 사용하는 경우 자동으로 `nothing`을 return한다. 즉, 아무 return값이 없는 경우 `return`문만 사용해도 된다.\n",
    "* 또한, Julia에서는 항상 Last Expression이 Evaluate되어 Return되므로, `nothing`만을 last expression으로 써도 같은 효과를 낼 수 있다."
   ]
  },
  {
   "cell_type": "markdown",
   "id": "c95fd115",
   "metadata": {},
   "source": [
    "## Operators in Julia (in manner of Functions)"
   ]
  },
  {
   "cell_type": "markdown",
   "id": "af3efb3a",
   "metadata": {},
   "source": [
    "* Julia에서는 대부분의 Operator들은 Special Syntax를 가지는 Function으로 취급할 수 있다.\n",
    "    * 단, Short-Circuit Evaluation이 동반되는 `&&`나 `││` 연산자의 경우는 Operand가 먼저 모두 Evaluate되어서는 안 되므로 예외적으로 안 된다.\n",
    "* 즉, Julia에서는 Function Call을 일반적인 Function Call의 Form으로도 할 수 있고 (`function_name(args)`, Infix Form) 연산자처럼 사용할 수도 있다. (제한이 좀 있긴 하지만)"
   ]
  },
  {
   "cell_type": "code",
   "execution_count": 19,
   "id": "53adee1e",
   "metadata": {
    "ExecuteTime": {
     "end_time": "2023-08-30T14:56:50.377000+09:00",
     "start_time": "2023-08-30T05:56:50.050Z"
    }
   },
   "outputs": [
    {
     "data": {
      "text/plain": [
       "6"
      ]
     },
     "execution_count": 19,
     "metadata": {},
     "output_type": "execute_result"
    }
   ],
   "source": [
    "1 + 2 + 3"
   ]
  },
  {
   "cell_type": "code",
   "execution_count": 20,
   "id": "e8984ea3",
   "metadata": {
    "ExecuteTime": {
     "end_time": "2023-08-30T14:57:06.609000+09:00",
     "start_time": "2023-08-30T05:57:06.281Z"
    }
   },
   "outputs": [
    {
     "data": {
      "text/plain": [
       "6"
      ]
     },
     "execution_count": 20,
     "metadata": {},
     "output_type": "execute_result"
    }
   ],
   "source": [
    "+(1, 2, 3) # since addition function, + is just a function, you can call it with infix notation"
   ]
  },
  {
   "cell_type": "code",
   "execution_count": 24,
   "id": "c15d4995",
   "metadata": {
    "ExecuteTime": {
     "end_time": "2023-08-30T14:57:29.317000+09:00",
     "start_time": "2023-08-30T05:57:28.988Z"
    }
   },
   "outputs": [
    {
     "data": {
      "text/plain": [
       "6"
      ]
     },
     "execution_count": 24,
     "metadata": {},
     "output_type": "execute_result"
    }
   ],
   "source": [
    "add_func = +\n",
    "add_func(1, 2, 3)"
   ]
  },
  {
   "cell_type": "markdown",
   "id": "3e519254",
   "metadata": {},
   "source": [
    "* 즉, Julia Compiler는 `1 + 2 + 3`을 실행하면 자동으로 이를 `+(1, 2, 3)`으로 Parsing하여 Function Call을 한다."
   ]
  },
  {
   "cell_type": "markdown",
   "id": "d4ded4a3",
   "metadata": {},
   "source": [
    "## Operators with Special Corresponding Function Names"
   ]
  },
  {
   "cell_type": "markdown",
   "id": "116a416c",
   "metadata": {},
   "source": [
    "* Julia에서 몇몇 함수나 Expression은 Parsing되었을 때 호출되는 상응 함수(Corresponding Function)의 이름이 비직관적(non-obvious)인 경우가 있다.\n",
    "* 그 예시는 다음과 같다."
   ]
  },
  {
   "cell_type": "markdown",
   "id": "54cca7c2",
   "metadata": {},
   "source": [
    "### hcat (`Base.hcat`): `[ ... ... ]`"
   ]
  },
  {
   "cell_type": "markdown",
   "id": "69065978",
   "metadata": {},
   "source": [
    "* **Usage**: `hcat(arg1, arg2, ...)`\n",
    "* **Desc**: 주어진 배열들이나 숫자들을 수평 방향으로 이어붙인다. `cat(A, ...; dims=2)`와 같고, `[a b c]`와 같다. (Stands for *Horizontal Concatenation*)"
   ]
  },
  {
   "cell_type": "code",
   "execution_count": 27,
   "id": "543e3ddf",
   "metadata": {
    "ExecuteTime": {
     "end_time": "2023-08-30T20:59:38.135000+09:00",
     "start_time": "2023-08-30T11:59:35.671Z"
    }
   },
   "outputs": [
    {
     "data": {
      "text/plain": [
       "2×3 Array{Int64,2}:\n",
       " 1  3  5\n",
       " 2  4  6"
      ]
     },
     "execution_count": 27,
     "metadata": {},
     "output_type": "execute_result"
    }
   ],
   "source": [
    "hcat([1, 2], [3, 4], [5, 6])\n",
    "# 상기 call은 3개의 열벡터를 수평 방향으로 합침.\n",
    "# [1, 2]는 2x1 열벡터이므로 다음의 결과를 돌려줌\n",
    "# 1 3 5\n",
    "# 2 4 6"
   ]
  },
  {
   "cell_type": "code",
   "execution_count": 28,
   "id": "cc2e5b24",
   "metadata": {
    "ExecuteTime": {
     "end_time": "2023-08-30T20:59:53.987000+09:00",
     "start_time": "2023-08-30T11:59:53.404Z"
    }
   },
   "outputs": [
    {
     "data": {
      "text/plain": [
       "2×3 Array{Int64,2}:\n",
       " 1  3  5\n",
       " 2  4  6"
      ]
     },
     "execution_count": 28,
     "metadata": {},
     "output_type": "execute_result"
    }
   ],
   "source": [
    "[[1, 2] [3, 4] [5, 6]] # 위와 같다. Syntax상.\n",
    "# This will be automatically parsed into hcat([1, 2], [3, 4], [5, 6])"
   ]
  },
  {
   "cell_type": "code",
   "execution_count": 30,
   "id": "5fa57003",
   "metadata": {
    "ExecuteTime": {
     "end_time": "2023-08-30T21:00:54.790000+09:00",
     "start_time": "2023-08-30T12:00:54.238Z"
    }
   },
   "outputs": [
    {
     "ename": "ArgumentError",
     "evalue": "\u001b[91mArgumentError: number of rows of each array must match (got (2, 1))\u001b[39m",
     "output_type": "error",
     "traceback": [
      "\u001b[91mArgumentError: number of rows of each array must match (got (2, 1))\u001b[39m",
      "",
      "Stacktrace:",
      " [1] _typed_hcat(::Type{Int64}, ::Tuple{Array{Int64,1},Array{Int64,2}}) at ./abstractarray.jl:1323",
      " [2] typed_hcat at ./abstractarray.jl:1310 [inlined]",
      " [3] hcat(::Array{Int64,1}, ::Array{Int64,2}) at /build/julia-98cBbp/julia-1.4.1+dfsg/usr/share/julia/stdlib/v1.4/SparseArrays/src/sparsevector.jl:1079",
      " [4] top-level scope at In[30]:1"
     ]
    }
   ],
   "source": [
    "hcat([1, 2], [3 4]) # If shape does not match, ArgumentError will be raised."
   ]
  },
  {
   "cell_type": "markdown",
   "id": "35051eb5",
   "metadata": {},
   "source": [
    "### vcat (`Base.vcat`): `[ ... ; ... ]`"
   ]
  },
  {
   "cell_type": "markdown",
   "id": "f8976825",
   "metadata": {},
   "source": [
    "* **Usage**: `vcat(arg1, arg2, ...)`\n",
    "* **Desc**: 주어진 배열들이나 숫자들을 수직 방향으로 이어붙인다. `cat(A, ...; dims=1)`와 같고, (Julia 1.4.1.에서는. 상위 버전에서는 이 다음 표현은 수평 방향으로 이어붙임을 지시하는 것으로 변경됨) `[a;; b;; c]`, 또는 `[a; b; c]`와 같다. (Stands for *Vertical Concatenation*)"
   ]
  },
  {
   "cell_type": "code",
   "execution_count": 35,
   "id": "98462706",
   "metadata": {
    "ExecuteTime": {
     "end_time": "2023-08-30T21:04:56.305000+09:00",
     "start_time": "2023-08-30T12:04:55.737Z"
    }
   },
   "outputs": [
    {
     "data": {
      "text/plain": [
       "4-element Array{Int64,1}:\n",
       " 1\n",
       " 2\n",
       " 3\n",
       " 4"
      ]
     },
     "execution_count": 35,
     "metadata": {},
     "output_type": "execute_result"
    }
   ],
   "source": [
    "vcat([1, 2], [3 ,4])\n",
    "# 상기 call은 두 2x1 열벡터를 수직 방향으로 이어붙이므로, 결과물이 4x1 열벡터이고\n",
    "# 1\n",
    "# 2\n",
    "# 3\n",
    "# 4 를 돌려준다."
   ]
  },
  {
   "cell_type": "code",
   "execution_count": 38,
   "id": "26334ee9",
   "metadata": {
    "ExecuteTime": {
     "end_time": "2023-08-30T21:05:54.847000+09:00",
     "start_time": "2023-08-30T12:05:54.292Z"
    }
   },
   "outputs": [
    {
     "data": {
      "text/plain": [
       "4-element Array{Int64,1}:\n",
       " 1\n",
       " 2\n",
       " 3\n",
       " 4"
      ]
     },
     "execution_count": 38,
     "metadata": {},
     "output_type": "execute_result"
    }
   ],
   "source": [
    "[[1, 2]; [3, 4]] # 이상은 정확히 vcat([1, 2], [3, 4])를 호출하는 것으로 자동 parsing된다."
   ]
  },
  {
   "cell_type": "code",
   "execution_count": 39,
   "id": "110546b0",
   "metadata": {
    "ExecuteTime": {
     "end_time": "2023-08-30T21:06:03.917000+09:00",
     "start_time": "2023-08-30T12:06:03.251Z"
    }
   },
   "outputs": [
    {
     "ename": "ArgumentError",
     "evalue": "\u001b[91mArgumentError: number of columns of each array must match (got (1, 2))\u001b[39m",
     "output_type": "error",
     "traceback": [
      "\u001b[91mArgumentError: number of columns of each array must match (got (1, 2))\u001b[39m",
      "",
      "Stacktrace:",
      " [1] _typed_vcat(::Type{Int64}, ::Tuple{Array{Int64,1},Array{Int64,2}}) at ./abstractarray.jl:1358",
      " [2] typed_vcat at ./abstractarray.jl:1372 [inlined]",
      " [3] vcat(::Array{Int64,1}, ::Array{Int64,2}) at /build/julia-98cBbp/julia-1.4.1+dfsg/usr/share/julia/stdlib/v1.4/SparseArrays/src/sparsevector.jl:1078",
      " [4] top-level scope at In[39]:1"
     ]
    }
   ],
   "source": [
    "vcat([1, 2], [3 4]) # if shapes do not match, an ArgumentError will be raised."
   ]
  },
  {
   "cell_type": "markdown",
   "id": "a6722d78",
   "metadata": {},
   "source": [
    "### hvcat (`Base.hvcat`): `[ ... ... ; ... ... ]`"
   ]
  },
  {
   "cell_type": "markdown",
   "id": "77ec067b",
   "metadata": {},
   "source": [
    "* **Usage**: `hvcat(blocks_per_row_as_tuple, values...)`\n",
    "* **Desc**: 주어진 배열들이나 숫자들을 제시한 `blocks_per_row_as_tuple`의 모양에 따라 수평 · 수직으로 이어붙인다. 반드시 `blocks_per_row_as_tuple`은 각 행에 들어갈 원소의 개수를 순차대로 나열한 Tuple이어야 하고, 넘겨주는 값의 개수와 그 총 합이 같아야 한다. `[a b c; d e f]`는 자동으로 `hvcat((3, 3), a, b, c, d, e, f)`로 Parsing된다."
   ]
  },
  {
   "cell_type": "code",
   "execution_count": 41,
   "id": "bd0657de",
   "metadata": {
    "ExecuteTime": {
     "end_time": "2023-08-30T22:22:51.777000+09:00",
     "start_time": "2023-08-30T13:22:51.100Z"
    }
   },
   "outputs": [
    {
     "data": {
      "text/plain": [
       "2×3 Array{Int64,2}:\n",
       " 1  2  3\n",
       " 4  5  6"
      ]
     },
     "execution_count": 41,
     "metadata": {},
     "output_type": "execute_result"
    }
   ],
   "source": [
    "a1, a2, a3, a4, a5, a6 = 1, 2, 3, 4, 5, 6\n",
    "[a1 a2 a3; a4 a5 a6] # Julia에서는 Matrix를 생성할 때 공백으로 열 구분, ;로 행 구분을 한다.\n",
    "# Comma로 구분하는 경우는 Array가 되고, 열 벡터로 취급된다."
   ]
  },
  {
   "cell_type": "markdown",
   "id": "af267320",
   "metadata": {},
   "source": [
    "* 이상의 코드는 다음과 정확히 같다."
   ]
  },
  {
   "cell_type": "code",
   "execution_count": 42,
   "id": "20182d35",
   "metadata": {
    "ExecuteTime": {
     "end_time": "2023-08-30T22:23:27.659000+09:00",
     "start_time": "2023-08-30T13:23:27.041Z"
    }
   },
   "outputs": [
    {
     "data": {
      "text/plain": [
       "2×3 Array{Int64,2}:\n",
       " 1  2  3\n",
       " 4  5  6"
      ]
     },
     "execution_count": 42,
     "metadata": {},
     "output_type": "execute_result"
    }
   ],
   "source": [
    "hvcat((3, 3), a1, a2, a3, a4, a5, a6) # a1 ~ a6를 제1행에 3개, 제2행에 3개로 2x3 행렬로 reshape"
   ]
  },
  {
   "cell_type": "code",
   "execution_count": 43,
   "id": "a0bb756e",
   "metadata": {
    "ExecuteTime": {
     "end_time": "2023-08-30T22:23:46.574000+09:00",
     "start_time": "2023-08-30T13:23:45.892Z"
    }
   },
   "outputs": [
    {
     "data": {
      "text/plain": [
       "3×2 Array{Int64,2}:\n",
       " 1  2\n",
       " 3  4\n",
       " 5  6"
      ]
     },
     "execution_count": 43,
     "metadata": {},
     "output_type": "execute_result"
    }
   ],
   "source": [
    "[a1 a2; a3 a4; a5 a6] # 3x2 행렬 만들기"
   ]
  },
  {
   "cell_type": "code",
   "execution_count": 44,
   "id": "97ec84ae",
   "metadata": {
    "ExecuteTime": {
     "end_time": "2023-08-30T22:24:13.666000+09:00",
     "start_time": "2023-08-30T13:24:13.045Z"
    }
   },
   "outputs": [
    {
     "data": {
      "text/plain": [
       "3×2 Array{Int64,2}:\n",
       " 1  2\n",
       " 3  4\n",
       " 5  6"
      ]
     },
     "execution_count": 44,
     "metadata": {},
     "output_type": "execute_result"
    }
   ],
   "source": [
    "# 이 코드는 바로 위가 Parsing된 결과이다. 즉, 3x2 행렬을 만든다. (각 행에 2개씩)\n",
    "hvcat((2, 2, 2), a1, a2, a3, a4, a5, a6)"
   ]
  },
  {
   "cell_type": "markdown",
   "id": "a2c8bd01",
   "metadata": {},
   "source": [
    "* 만약 `blocks_per_row_as_tuple`이 `tuple`이 아닌 Single Integer이면, 모든 행에 대하여 각 행에 그 숫자만큼 원소들이 들어간다고 보고, 자동으로 행렬을 만든다."
   ]
  },
  {
   "cell_type": "code",
   "execution_count": 45,
   "id": "cbcfb027",
   "metadata": {
    "ExecuteTime": {
     "end_time": "2023-08-30T22:25:07.453000+09:00",
     "start_time": "2023-08-30T13:25:06.594Z"
    }
   },
   "outputs": [
    {
     "data": {
      "text/plain": [
       "3×2 Array{Int64,2}:\n",
       " 1  2\n",
       " 3  4\n",
       " 5  6"
      ]
     },
     "execution_count": 45,
     "metadata": {},
     "output_type": "execute_result"
    }
   ],
   "source": [
    "hvcat(2, a1, a2, a3, a4, a5, a6) # 각 행에 2개씩 들어가므로 3x2 행렬이 나옴."
   ]
  },
  {
   "cell_type": "markdown",
   "id": "0937f119",
   "metadata": {},
   "source": [
    "### adjoint (`Base.adjoint`): `arr'`"
   ]
  },
  {
   "cell_type": "markdown",
   "id": "47e7ee09",
   "metadata": {},
   "source": [
    "* **Usage**: `adjoint(Matrix or Array)`\n",
    "* **Desc**: 주어진 배열들 또는 행렬의 *수반 행렬 (Adjoint Matrix)* 을 구한다. 복소행렬의 경우 수반행렬은 그 Transpose에 각 원소에 켤례를 취한 것임에 주의. (즉, Conjugate Transposition 행렬을 구한다 -> Julia에서는 행렬 뒤에 연산자 `'`를 사용하면 그 행렬의 Conjugate Transposition을 수행한다. 즉, `arr'`은 자동으로 Julia에 의해 `adjoint(arr)`로 Parsing된다."
   ]
  },
  {
   "cell_type": "code",
   "execution_count": 46,
   "id": "1c956850",
   "metadata": {
    "ExecuteTime": {
     "end_time": "2023-08-30T22:30:19.131000+09:00",
     "start_time": "2023-08-30T13:30:17.403Z"
    }
   },
   "outputs": [
    {
     "data": {
      "text/plain": [
       "2×2 Array{Complex{Int64},2}:\n",
       " 3+2im  9+2im\n",
       " 0+0im  0+0im"
      ]
     },
     "execution_count": 46,
     "metadata": {},
     "output_type": "execute_result"
    }
   ],
   "source": [
    "A = [3+2im 9+2im; 0 0] # 2 x 2 complex matrix"
   ]
  },
  {
   "cell_type": "code",
   "execution_count": 47,
   "id": "13d6c1c8",
   "metadata": {
    "ExecuteTime": {
     "end_time": "2023-08-30T22:30:29.046000+09:00",
     "start_time": "2023-08-30T13:30:27.646Z"
    }
   },
   "outputs": [
    {
     "data": {
      "text/plain": [
       "2×2 LinearAlgebra.Adjoint{Complex{Int64},Array{Complex{Int64},2}}:\n",
       " 3-2im  0+0im\n",
       " 9-2im  0+0im"
      ]
     },
     "execution_count": 47,
     "metadata": {},
     "output_type": "execute_result"
    }
   ],
   "source": [
    "B = A' # <=> B = adjoint(A)"
   ]
  },
  {
   "cell_type": "markdown",
   "id": "540e8a39",
   "metadata": {},
   "source": [
    "* 당연히 Real Matrix들에 대해서는, `adjoint` Operation은 그 전치행렬(Transpose)을 구한 것과 효과가 동일하다."
   ]
  },
  {
   "cell_type": "code",
   "execution_count": 49,
   "id": "d91dc00a",
   "metadata": {
    "ExecuteTime": {
     "end_time": "2023-08-30T22:32:01.005000+09:00",
     "start_time": "2023-08-30T13:32:00.392Z"
    }
   },
   "outputs": [
    {
     "data": {
      "text/plain": [
       "2×2 LinearAlgebra.Adjoint{Int64,Array{Int64,2}}:\n",
       " 1  3\n",
       " 2  4"
      ]
     },
     "execution_count": 49,
     "metadata": {},
     "output_type": "execute_result"
    }
   ],
   "source": [
    "A = [1 2; 3 4]\n",
    "A' # will be parsed as adjoint(A), but since matrix a is a real-matrix, therefore the result will be same with transpose(A)"
   ]
  },
  {
   "cell_type": "markdown",
   "id": "8c92f447",
   "metadata": {},
   "source": [
    "### getindex (`Base.getindex`): `arr[idx]`"
   ]
  },
  {
   "cell_type": "markdown",
   "id": "8cdf0253",
   "metadata": {},
   "source": [
    "* **Usage**: `getindex(collection, index_or_key...)`\n",
    "* **Desc**: 주어진 Collection object에서, 제시한 index 또는 key들에 상응하는 값들을 돌려준다. Collection Indexing Operator `[]`는 자동으로 이 `getindex`로 Parsing된다. 즉, `arr[idx]`는 Julia에서 `getindex(arr, idx)`로 Parsing된다."
   ]
  },
  {
   "cell_type": "code",
   "execution_count": 50,
   "id": "f106cdde",
   "metadata": {
    "ExecuteTime": {
     "end_time": "2023-08-30T22:34:58.658000+09:00",
     "start_time": "2023-08-30T13:34:57.028Z"
    }
   },
   "outputs": [
    {
     "name": "stdout",
     "output_type": "stream",
     "text": [
      "1\n",
      "1\n"
     ]
    }
   ],
   "source": [
    "# Plain Array Indexing\n",
    "arr = [1, 2, 3, 4]\n",
    "println(arr[1]) # <=> getindex(arr, 1)\n",
    "println(getindex(arr, 1))"
   ]
  },
  {
   "cell_type": "code",
   "execution_count": 51,
   "id": "687a8b16",
   "metadata": {
    "ExecuteTime": {
     "end_time": "2023-08-30T22:35:24.819000+09:00",
     "start_time": "2023-08-30T13:35:24.198Z"
    },
    "scrolled": true
   },
   "outputs": [
    {
     "name": "stdout",
     "output_type": "stream",
     "text": [
      "2\n",
      "2\n"
     ]
    }
   ],
   "source": [
    "# Plain Matrix Indexing\n",
    "mat = [1 2 3; 4 5 6]\n",
    "println(mat[1,2]) # <=> getindex(mat, 1, 2)\n",
    "println(getindex(mat, 1, 2))"
   ]
  },
  {
   "cell_type": "code",
   "execution_count": 52,
   "id": "ca813e8d",
   "metadata": {
    "ExecuteTime": {
     "end_time": "2023-08-30T22:37:56.446000+09:00",
     "start_time": "2023-08-30T13:37:55.156Z"
    },
    "scrolled": true
   },
   "outputs": [
    {
     "data": {
      "text/plain": [
       "Dict{String,Int64} with 2 entries:\n",
       "  \"b\" => 2\n",
       "  \"a\" => 1"
      ]
     },
     "execution_count": 52,
     "metadata": {},
     "output_type": "execute_result"
    }
   ],
   "source": [
    "# Dictionary Indexing\n",
    "dic = Dict(\"a\" => 1, \"b\" => 2)"
   ]
  },
  {
   "cell_type": "code",
   "execution_count": 53,
   "id": "b050d385",
   "metadata": {
    "ExecuteTime": {
     "end_time": "2023-08-30T22:38:36.418000+09:00",
     "start_time": "2023-08-30T13:38:35.774Z"
    }
   },
   "outputs": [
    {
     "name": "stdout",
     "output_type": "stream",
     "text": [
      "1\n",
      "1\n"
     ]
    }
   ],
   "source": [
    "println(getindex(dic, \"a\")) # get the value with key \"a\", from the Dictionary dic\n",
    "println(dic[\"a\"]) # Python-like Indexing for Dictionary."
   ]
  },
  {
   "cell_type": "markdown",
   "id": "8982c815",
   "metadata": {},
   "source": [
    "### setindex! (`Base.setindex!`): `arr[idx] = val; val`"
   ]
  },
  {
   "cell_type": "markdown",
   "id": "4964bcc6",
   "metadata": {},
   "source": [
    "* **Usage**: `setindex!(collection, value, key_or_indexes...)`\n",
    "* **Desc**: 주어진 Collection Object에서, 제시한 index 또는 key들에 상응하는 공간을 제시한 value로 set한다. 즉 `arr[idx] = val`은 Julia에서 `setindex!(arr, val, idx); val`로 Parsing된다.\n",
    "* **Note**: Julia는 Function의 Naming Convection상, 이름의 끝이 !라면 내부에서 넘겨준 인자의 Modification이 일어난다는 의미임을 상기하자."
   ]
  },
  {
   "cell_type": "code",
   "execution_count": 54,
   "id": "8ec3354c",
   "metadata": {
    "ExecuteTime": {
     "end_time": "2023-08-30T22:40:30.085000+09:00",
     "start_time": "2023-08-30T13:40:29.370Z"
    }
   },
   "outputs": [
    {
     "name": "stdout",
     "output_type": "stream",
     "text": [
      "[3, 2, 3, 4]\n",
      "[3, 2, 3, 4]\n"
     ]
    }
   ],
   "source": [
    "# Plain Array Indexing\n",
    "arr = [1, 2, 3, 4]\n",
    "arr[1] = 3 # <=> setindex!(arr, 3, 1)\n",
    "println(arr)\n",
    "\n",
    "arr = [1, 2, 3, 4]\n",
    "setindex!(arr, 3, 1)\n",
    "println(arr)"
   ]
  },
  {
   "cell_type": "code",
   "execution_count": 55,
   "id": "a5e8ea1a",
   "metadata": {
    "ExecuteTime": {
     "end_time": "2023-08-30T22:41:34.584000+09:00",
     "start_time": "2023-08-30T13:41:33.808Z"
    }
   },
   "outputs": [
    {
     "name": "stdout",
     "output_type": "stream",
     "text": [
      "[1 10 3; 4 5 6]\n",
      "[1 10 3; 4 5 6]\n"
     ]
    }
   ],
   "source": [
    "# Plain Matrix Indexing\n",
    "mat = [1 2 3; 4 5 6]\n",
    "mat[1, 2] = 10 # <=> setindex!(mat, 10, 1, 2)\n",
    "println(mat)\n",
    "\n",
    "mat = [1 2 3; 4 5 6]\n",
    "setindex!(mat, 10, 1, 2)\n",
    "println(mat)\n"
   ]
  },
  {
   "cell_type": "code",
   "execution_count": 57,
   "id": "8a366290",
   "metadata": {
    "ExecuteTime": {
     "end_time": "2023-08-30T22:42:43.611000+09:00",
     "start_time": "2023-08-30T13:42:42.986Z"
    }
   },
   "outputs": [
    {
     "name": "stdout",
     "output_type": "stream",
     "text": [
      "Dict(\"a\" => 100)\n",
      "Dict(\"a\" => 100)\n"
     ]
    }
   ],
   "source": [
    "# Dictionary Indexing\n",
    "dic = Dict(\"a\" => 1)\n",
    "dic[\"a\"] = 100 # <=> setindex!(dic, 100, \"a\")\n",
    "println(dic)\n",
    "\n",
    "dic = Dict(\"a\" => 1)\n",
    "setindex!(dic, 100, \"a\")\n",
    "println(dic)"
   ]
  },
  {
   "cell_type": "markdown",
   "id": "930ef93b",
   "metadata": {},
   "source": [
    "### getproperty (`Base.getproperty`): `A.n`"
   ]
  },
  {
   "cell_type": "markdown",
   "id": "e0515abe",
   "metadata": {},
   "source": [
    "* **Usage**: `getproperty(value, name::Symbol, (Optional) order::Symbol)`\n",
    "* **Desc**: 주어진 `value`에서 `name`에 해당하는 Property를 return한다. 간접 연산자 `.`가 이 함수로 Parsing되는데, `a.b`는 `getproperty(a, :b)`를 Call한다."
   ]
  },
  {
   "cell_type": "code",
   "execution_count": 58,
   "id": "7916efc6",
   "metadata": {
    "ExecuteTime": {
     "end_time": "2023-08-30T22:48:55.625000+09:00",
     "start_time": "2023-08-30T13:48:54.932Z"
    }
   },
   "outputs": [
    {
     "name": "stdout",
     "output_type": "stream",
     "text": [
      "2\n",
      "1\n"
     ]
    }
   ],
   "source": [
    "struct MyType\n",
    "    x\n",
    "end # Julia는 구조체를 지원하는 것 같다.\n",
    "\n",
    "function Base.getproperty(obj::MyType, sym::Symbol) # Base.getproperty에 대해 function overloading.\n",
    "    # 만약 value가 MyType 또는 그 Sub-type이면 여기서 정의한 Overloading된 함수 Body가 실행될 것.\n",
    "    if sym === :special\n",
    "        return obj.x + 1 # <=> return getproperty(obj, :x) + 1\n",
    "    else\n",
    "        # fallback to getfield\n",
    "        return getfield(obj, sym)\n",
    "    end\n",
    "end\n",
    "\n",
    "obj = MyType(1)\n",
    "println(obj.special)\n",
    "println(obj.x)"
   ]
  },
  {
   "cell_type": "markdown",
   "id": "a2f601ef",
   "metadata": {},
   "source": [
    "### setproperty! (`Base.setproperty!`): `A.n = x`"
   ]
  },
  {
   "cell_type": "markdown",
   "id": "d41a5215",
   "metadata": {},
   "source": [
    "* **Usage**: `setproperty!(value, name::Symbol, x, order::Symbol)`\n",
    "* **Desc**: 주어진 `value`에서 `name`에 해당하는 Property를 `x`로 설정한다. 간접 연산자 `.`를 사용하여 할당 연산을 하는 경우, 즉 `A.n = x`는 Julia가 `setproperty!(A, :n, x); x`로 Parsing한다."
   ]
  },
  {
   "cell_type": "markdown",
   "id": "b42cfbf6",
   "metadata": {},
   "source": [
    "* Module에 대한 `setproperty!`의 Call은 Julia 1.8부터 가능하다. 여기 설치된 Julia는 1.4.1이므로 불능."
   ]
  },
  {
   "cell_type": "code",
   "execution_count": 69,
   "id": "ad1ed9d6",
   "metadata": {
    "ExecuteTime": {
     "end_time": "2023-08-30T23:10:11.607000+09:00",
     "start_time": "2023-08-30T14:10:10.970Z"
    }
   },
   "outputs": [
    {
     "name": "stdout",
     "output_type": "stream",
     "text": [
      "1\n",
      "1\n"
     ]
    }
   ],
   "source": [
    "mutable struct MyMutableType # 기본적으로 Julia에서 struct 구조체는 Immutable이다. 수정 가능하게 하려면 mutable keyword를 사용해야 함.\n",
    "    x\n",
    "end\n",
    "\n",
    "obj = MyMutableType(0)\n",
    "obj.x = 1 # <=> setproperty!(obj, :x, 1)\n",
    "println(obj.x)\n",
    "obj.x = 0\n",
    "setproperty!(obj, :x, 1)\n",
    "println(obj.x)"
   ]
  },
  {
   "cell_type": "markdown",
   "id": "e47e750d",
   "metadata": {},
   "source": [
    "## Anonymous Functions (익명 함수)"
   ]
  },
  {
   "cell_type": "markdown",
   "id": "8dfb5663",
   "metadata": {},
   "source": [
    "* Julia에서 함수는 [First-class Object](https://en.wikipedia.org/wiki/First-class_citizen)들이다. 즉, 다른 여타 Entity들에 대해서도 지원하는 연산들을 모두 지원하는 Entity이다. 따라서 함수를 함수의 인자로 쓸 수도 있고, 함수의 return값으로 함수를 돌려줄 수도 있으며, '익명 함수'를 Python과 마찬가지로 만들 수 있다."
   ]
  },
  {
   "cell_type": "markdown",
   "id": "86935987",
   "metadata": {},
   "source": [
    "* **Julia에서는 함수를 정의할 때 함수의 이름을 생략하여 익명 함수를 만들 수 있다.** 함수를 통상적 문법으로 정의하는 경우에는 `function` 예약어와 Argument List 사이에 이름을 생략하면 되고, 축약형 문법으로 정의하는 경우에는 대입 연산자가 아니라 매개변수 list `->` return값의 형태로 정의할 수 있다."
   ]
  },
  {
   "cell_type": "code",
   "execution_count": 70,
   "id": "5e04e29f",
   "metadata": {
    "ExecuteTime": {
     "end_time": "2023-08-30T23:15:30.432000+09:00",
     "start_time": "2023-08-30T14:15:29.726Z"
    }
   },
   "outputs": [
    {
     "data": {
      "text/plain": [
       "#3 (generic function with 1 method)"
      ]
     },
     "execution_count": 70,
     "metadata": {},
     "output_type": "execute_result"
    }
   ],
   "source": [
    "# 축약형 문법으로 정의하는 익명 함수\n",
    "x -> x^2 + 2x - 1"
   ]
  },
  {
   "cell_type": "code",
   "execution_count": 71,
   "id": "f6c58857",
   "metadata": {
    "ExecuteTime": {
     "end_time": "2023-08-30T23:15:37.967000+09:00",
     "start_time": "2023-08-30T14:15:37.259Z"
    }
   },
   "outputs": [
    {
     "data": {
      "text/plain": [
       "#5 (generic function with 1 method)"
      ]
     },
     "execution_count": 71,
     "metadata": {},
     "output_type": "execute_result"
    }
   ],
   "source": [
    "function(x)\n",
    "    x^2 + 2x - 1\n",
    "end"
   ]
  },
  {
   "cell_type": "markdown",
   "id": "90576939",
   "metadata": {},
   "source": [
    "* Julia에서 익명 함수를 정의하면 'Identifier'는 없지만, Julia Compiler가 자체적으로 번호를 부여, 이름으로 사용하여 (#N 식의 이름을 부여) Generic Function으로 자동으로 정의됨에 주의."
   ]
  },
  {
   "cell_type": "markdown",
   "id": "612dd57e",
   "metadata": {},
   "source": [
    "* Python에서와 동일하게, 익명 함수들은 보통 다른 함수에 인자로 간단한 함수를 넘기는 경우에 종종 사용한다. 대표적인 예시가 `map` 함수인데, Python에서의 `map` 내장함수와 마찬가지로 Julia의 `Base.map(function, collection...) -> collection`은 넘겨준 collection의 각 원소에 function을 적용한 결과값을 각각의 원소 자리에 대체시킨 collection을 return해준다. 다만 Python의 경우 `map`의 return type이 `map` object여서 Casting이 필요했지만, Julia의 경우 `map`은 넘겨준 Collection과 동일 Type이 return된다."
   ]
  },
  {
   "cell_type": "code",
   "execution_count": 72,
   "id": "9924c522",
   "metadata": {
    "ExecuteTime": {
     "end_time": "2023-08-30T23:19:08.176000+09:00",
     "start_time": "2023-08-30T14:19:06.442Z"
    }
   },
   "outputs": [
    {
     "data": {
      "text/plain": [
       "3-element Array{Float64,1}:\n",
       " 1.0\n",
       " 4.0\n",
       " 2.0"
      ]
     },
     "execution_count": 72,
     "metadata": {},
     "output_type": "execute_result"
    }
   ],
   "source": [
    "map(round, [1.2, 3.5, 1.7]) # 1차원 3개 원소 array에 각각 round 함수를 적용한 결과 array를 return"
   ]
  },
  {
   "cell_type": "code",
   "execution_count": 73,
   "id": "f4695ed4",
   "metadata": {
    "ExecuteTime": {
     "end_time": "2023-08-30T23:19:50.775000+09:00",
     "start_time": "2023-08-30T14:19:50.106Z"
    }
   },
   "outputs": [
    {
     "data": {
      "text/plain": [
       "3-element Array{Int64,1}:\n",
       "  2\n",
       " 14\n",
       " -2"
      ]
     },
     "execution_count": 73,
     "metadata": {},
     "output_type": "execute_result"
    }
   ],
   "source": [
    "# 위와 같이 사전에 정의된 함수가 아니라, 익명 함수를 인자로 넘겨주어 map을 사용할 수 있다.\n",
    "map(x -> x^2 + 2x - 1, [1, 3, -1])"
   ]
  },
  {
   "cell_type": "markdown",
   "id": "92858f9a",
   "metadata": {},
   "source": [
    "* 익명함수를 축약형으로 정의하는 경우, 다인자 익명함수를 정의하고자 할 때에는 Arg List 자리를 순서대로 Tuple의 형태로 열거해주면 된다: E.g) `(arg1, arg2, arg3) -> return_val`\n",
    "* 만약 익명함수를 축약형으로 정의할 때, 무인자 익명함수를 정의하고자 할 때는 Arg List를 비우면 된다: E.g) `() -> return_val`"
   ]
  },
  {
   "cell_type": "markdown",
   "id": "80df4d04",
   "metadata": {},
   "source": [
    "## Tuples"
   ]
  },
  {
   "cell_type": "markdown",
   "id": "4470b635",
   "metadata": {},
   "source": [
    "* Python과 유사하게, Julia에도 Built-in Data Structure로 `Tuple`이 있다. Tuple은 Python에서와 마찬가지로, 고정 길이 Container 자료형이고, Immutable이며 다른 Type의 자료를 동시에 들고 있을 수 있다.\n",
    "* Tuple의 구성법은 Python의 문법과 정확히 동일하다."
   ]
  },
  {
   "cell_type": "code",
   "execution_count": 74,
   "id": "3fcf4307",
   "metadata": {
    "ExecuteTime": {
     "end_time": "2023-08-30T23:22:59.771000+09:00",
     "start_time": "2023-08-30T14:22:59.109Z"
    }
   },
   "outputs": [
    {
     "data": {
      "text/plain": [
       "Tuple{Int64,Int64}"
      ]
     },
     "execution_count": 74,
     "metadata": {},
     "output_type": "execute_result"
    }
   ],
   "source": [
    "typeof((1, 1+1))"
   ]
  },
  {
   "cell_type": "code",
   "execution_count": 75,
   "id": "0c1e7b53",
   "metadata": {
    "ExecuteTime": {
     "end_time": "2023-08-30T23:23:03.675000+09:00",
     "start_time": "2023-08-30T14:23:02.817Z"
    }
   },
   "outputs": [
    {
     "data": {
      "text/plain": [
       "(1,)"
      ]
     },
     "execution_count": 75,
     "metadata": {},
     "output_type": "execute_result"
    }
   ],
   "source": [
    "(1,)"
   ]
  },
  {
   "cell_type": "code",
   "execution_count": 76,
   "id": "e0a8b79c",
   "metadata": {
    "ExecuteTime": {
     "end_time": "2023-08-30T23:23:26.396000+09:00",
     "start_time": "2023-08-30T14:23:25.444Z"
    }
   },
   "outputs": [
    {
     "data": {
      "text/plain": [
       "(0.0, \"hello\", 42)"
      ]
     },
     "execution_count": 76,
     "metadata": {},
     "output_type": "execute_result"
    }
   ],
   "source": [
    "x = (0.0, \"hello\", 6*7) # just like in Python, Tuple can hold multiple type at once."
   ]
  },
  {
   "cell_type": "code",
   "execution_count": 77,
   "id": "a5ab1597",
   "metadata": {
    "ExecuteTime": {
     "end_time": "2023-08-30T23:24:08.946000+09:00",
     "start_time": "2023-08-30T14:24:08.128Z"
    }
   },
   "outputs": [
    {
     "data": {
      "text/plain": [
       "\"hello\""
      ]
     },
     "execution_count": 77,
     "metadata": {},
     "output_type": "execute_result"
    }
   ],
   "source": [
    "x[2] # Just like python, Tuple can be indexed. But caution, 'cause indicies in Julia start from 1., not 0."
   ]
  },
  {
   "cell_type": "markdown",
   "id": "e5408128",
   "metadata": {},
   "source": [
    "## Named Tuples"
   ]
  },
  {
   "cell_type": "markdown",
   "id": "5727e055",
   "metadata": {},
   "source": [
    "* Python과는 다르게, Julia는 `NamedTuple`이라는 자료형을 추가로 가지는데, 이는 Tuple의 각 자리의 값에 상응하는 이름(Identifier)를 줄 수 있다. 이는 Tuple의 원소를 열거할 때 각 자리에 `identifier=value`의 형태로 명시해주면 된다.\n",
    "* 이들 Tuple의 각 자리의 이름은 Tuple의 property(field)처럼 작동하여, 간접연산자 `.` 또는 `getproperty()` 내장함수로 그 값을 얻을 수 있다."
   ]
  },
  {
   "cell_type": "code",
   "execution_count": 78,
   "id": "7c56850f",
   "metadata": {
    "ExecuteTime": {
     "end_time": "2023-08-30T23:25:58.025000+09:00",
     "start_time": "2023-08-30T14:25:57.146Z"
    }
   },
   "outputs": [
    {
     "data": {
      "text/plain": [
       "(a = 2, b = 3)"
      ]
     },
     "execution_count": 78,
     "metadata": {},
     "output_type": "execute_result"
    }
   ],
   "source": [
    "x = (a=2, b=1+2) # Constructing Named Tuples in Julia"
   ]
  },
  {
   "cell_type": "code",
   "execution_count": 79,
   "id": "2b593a31",
   "metadata": {
    "ExecuteTime": {
     "end_time": "2023-08-30T23:25:59.721000+09:00",
     "start_time": "2023-08-30T14:25:59.011Z"
    }
   },
   "outputs": [
    {
     "data": {
      "text/plain": [
       "NamedTuple{(:a, :b),Tuple{Int64,Int64}}"
      ]
     },
     "execution_count": 79,
     "metadata": {},
     "output_type": "execute_result"
    }
   ],
   "source": [
    "typeof(x)"
   ]
  },
  {
   "cell_type": "code",
   "execution_count": 80,
   "id": "a81b2a96",
   "metadata": {
    "ExecuteTime": {
     "end_time": "2023-08-30T23:26:23.282000+09:00",
     "start_time": "2023-08-30T14:26:22.642Z"
    }
   },
   "outputs": [
    {
     "data": {
      "text/plain": [
       "2"
      ]
     },
     "execution_count": 80,
     "metadata": {},
     "output_type": "execute_result"
    }
   ],
   "source": [
    "x[1] # NamedTuple can be indexed with traditional indexing operator []"
   ]
  },
  {
   "cell_type": "code",
   "execution_count": 81,
   "id": "53f155fd",
   "metadata": {
    "ExecuteTime": {
     "end_time": "2023-08-30T23:27:11.521000+09:00",
     "start_time": "2023-08-30T14:27:10.880Z"
    }
   },
   "outputs": [
    {
     "data": {
      "text/plain": [
       "2"
      ]
     },
     "execution_count": 81,
     "metadata": {},
     "output_type": "execute_result"
    }
   ],
   "source": [
    "x.a # NamedTuple can be indexed, with dot accesing operator, just like accessing any property in an object."
   ]
  },
  {
   "cell_type": "code",
   "execution_count": 83,
   "id": "f06d286a",
   "metadata": {
    "ExecuteTime": {
     "end_time": "2023-08-30T23:27:27.234000+09:00",
     "start_time": "2023-08-30T14:27:26.595Z"
    }
   },
   "outputs": [
    {
     "data": {
      "text/plain": [
       "2"
      ]
     },
     "execution_count": 83,
     "metadata": {},
     "output_type": "execute_result"
    }
   ],
   "source": [
    "getproperty(x, :a) # <=> x.a"
   ]
  },
  {
   "cell_type": "markdown",
   "id": "52a151a3",
   "metadata": {},
   "source": [
    "## Packing & Unpacking in Julia"
   ]
  },
  {
   "cell_type": "markdown",
   "id": "eb88d889-1352-4ccc-a139-9d9080c2dec8",
   "metadata": {},
   "source": [
    "### Normal Packing & Unpacking (Destructuring)"
   ]
  },
  {
   "cell_type": "markdown",
   "id": "9d564f65",
   "metadata": {},
   "source": [
    "* Python에서의 Packing과 Unpacking을 Julia에서도 동일하게 할 수 있다."
   ]
  },
  {
   "cell_type": "code",
   "execution_count": 84,
   "id": "b1d0226f",
   "metadata": {
    "ExecuteTime": {
     "end_time": "2023-08-30T23:28:53.817000+09:00",
     "start_time": "2023-08-30T14:28:52.953Z"
    }
   },
   "outputs": [
    {
     "data": {
      "text/plain": [
       "1:3"
      ]
     },
     "execution_count": 84,
     "metadata": {},
     "output_type": "execute_result"
    }
   ],
   "source": [
    "# 1:3은 Matlab에서 그러하듯, 1부터 3까지의 값을 순차대로 generating하는 iterator이다.\n",
    "(a, b, c) = 1:3"
   ]
  },
  {
   "cell_type": "code",
   "execution_count": 85,
   "id": "1a23a5dc",
   "metadata": {
    "ExecuteTime": {
     "end_time": "2023-08-30T23:28:55.837000+09:00",
     "start_time": "2023-08-30T14:28:55.198Z"
    }
   },
   "outputs": [
    {
     "data": {
      "text/plain": [
       "2"
      ]
     },
     "execution_count": 85,
     "metadata": {},
     "output_type": "execute_result"
    }
   ],
   "source": [
    "b"
   ]
  },
  {
   "cell_type": "markdown",
   "id": "4ca3402c",
   "metadata": {},
   "source": [
    "* Python에서와 마찬가지로, Julia에서 function이 여러 개의 return value를 넘길 때 Packing을 이용하여 return value들을 합친 tuple을 넘길 수 있고, 외부에서는 이 tuple을 받아서 unpacking하여 사용할 수 있다."
   ]
  },
  {
   "cell_type": "code",
   "execution_count": 86,
   "id": "5f978e7e",
   "metadata": {
    "ExecuteTime": {
     "end_time": "2023-08-30T23:29:56.665000+09:00",
     "start_time": "2023-08-30T14:29:55.786Z"
    }
   },
   "outputs": [
    {
     "data": {
      "text/plain": [
       "(5, 6)"
      ]
     },
     "execution_count": 86,
     "metadata": {},
     "output_type": "execute_result"
    }
   ],
   "source": [
    "function foo(a, b)\n",
    "    a+b, a*b # packing\n",
    "end\n",
    "\n",
    "foo(2,3) # returning packed tuple"
   ]
  },
  {
   "cell_type": "code",
   "execution_count": 87,
   "id": "e53c3707",
   "metadata": {
    "ExecuteTime": {
     "end_time": "2023-08-30T23:30:17.458000+09:00",
     "start_time": "2023-08-30T14:30:16.803Z"
    }
   },
   "outputs": [
    {
     "data": {
      "text/plain": [
       "(5, 6)"
      ]
     },
     "execution_count": 87,
     "metadata": {},
     "output_type": "execute_result"
    }
   ],
   "source": [
    "# unpacking available in Julia, just like Python\n",
    "x , y = foo(2, 3)"
   ]
  },
  {
   "cell_type": "code",
   "execution_count": 88,
   "id": "d5a4c4f1",
   "metadata": {
    "ExecuteTime": {
     "end_time": "2023-08-30T23:30:26.740000+09:00",
     "start_time": "2023-08-30T14:30:26.101Z"
    }
   },
   "outputs": [
    {
     "name": "stdout",
     "output_type": "stream",
     "text": [
      "5\n",
      "6\n"
     ]
    }
   ],
   "source": [
    "println(x); println(y)"
   ]
  },
  {
   "cell_type": "markdown",
   "id": "04c8037f",
   "metadata": {},
   "source": [
    "* Python과 마찬가지로 이 Packing & Unpacking 기능을 이용하여 별도의 변수 없이 Swapping을 구현할 수 있다."
   ]
  },
  {
   "cell_type": "code",
   "execution_count": 89,
   "id": "b9c25a47",
   "metadata": {
    "ExecuteTime": {
     "end_time": "2023-08-30T23:31:05.318000+09:00",
     "start_time": "2023-08-30T14:31:04.678Z"
    }
   },
   "outputs": [
    {
     "name": "stdout",
     "output_type": "stream",
     "text": [
      "6\n",
      "5\n"
     ]
    }
   ],
   "source": [
    "x, y = foo(2,3); y, x = x, y; println(x); println(y)"
   ]
  },
  {
   "cell_type": "markdown",
   "id": "76a96b4d",
   "metadata": {},
   "source": [
    "* Unpacking을 할 때 필요없는 값의 경우, `_`로 필요없는 값을 저장할 Identifier를 명명하면 자동으로 Julia가 Unpacking 이후 그 값들은 즉시 버려버린다. **(`_`는 Invalid Identifier이지만, 이 경우에만 오직 예외적으로 허용된다)**"
   ]
  },
  {
   "cell_type": "code",
   "execution_count": 90,
   "id": "7ac21797",
   "metadata": {
    "ExecuteTime": {
     "end_time": "2023-08-30T23:32:12.729000+09:00",
     "start_time": "2023-08-30T14:32:12.086Z"
    }
   },
   "outputs": [
    {
     "data": {
      "text/plain": [
       "1:10"
      ]
     },
     "execution_count": 90,
     "metadata": {},
     "output_type": "execute_result"
    }
   ],
   "source": [
    "_, _, _, d = 1:10"
   ]
  },
  {
   "cell_type": "code",
   "execution_count": 91,
   "id": "92f1b9db",
   "metadata": {
    "ExecuteTime": {
     "end_time": "2023-08-30T23:32:13.626000+09:00",
     "start_time": "2023-08-30T14:32:12.985Z"
    }
   },
   "outputs": [
    {
     "data": {
      "text/plain": [
       "4"
      ]
     },
     "execution_count": 91,
     "metadata": {},
     "output_type": "execute_result"
    }
   ],
   "source": [
    "d"
   ]
  },
  {
   "cell_type": "code",
   "execution_count": 92,
   "id": "302eec40",
   "metadata": {
    "ExecuteTime": {
     "end_time": "2023-08-30T23:33:22.126000+09:00",
     "start_time": "2023-08-30T14:33:21.287Z"
    }
   },
   "outputs": [
    {
     "name": "stdout",
     "output_type": "stream",
     "text": [
      "[1.0, 0.0, 0.0]\n",
      "2\n",
      "3\n"
     ]
    }
   ],
   "source": [
    "# Example\n",
    "X = zeros(3)\n",
    "\n",
    "X[1], (a,b) = (1, (2, 3)) # X[1] = 1, (a, b) = (2, 3) and unpacking again.\n",
    "println(X)\n",
    "println(a); println(b)"
   ]
  },
  {
   "cell_type": "markdown",
   "id": "2120ed55",
   "metadata": {},
   "source": [
    "* **Julia 1.6 이후부터는** Unpacking을 할 때 마지막 변수 뒤에 `...` (Sluping)을 붙이면 (공백 없이) Unpacking의 자리가 충분하지 않은 경우 뒤쪽 끝까지 마지막 변수에 집어넣어준다."
   ]
  },
  {
   "cell_type": "code",
   "execution_count": 1,
   "id": "5b071860",
   "metadata": {
    "ExecuteTime": {
     "end_time": "2023-08-30T23:52:42.153000+09:00",
     "start_time": "2023-08-30T14:52:40.185Z"
    }
   },
   "outputs": [
    {
     "data": {
      "text/plain": [
       "\"hello\""
      ]
     },
     "execution_count": 1,
     "metadata": {},
     "output_type": "execute_result"
    }
   ],
   "source": [
    "a, b... = \"hello\""
   ]
  },
  {
   "cell_type": "code",
   "execution_count": 2,
   "id": "57f699d0",
   "metadata": {
    "ExecuteTime": {
     "end_time": "2023-08-30T23:52:50.101000+09:00",
     "start_time": "2023-08-30T14:52:49.368Z"
    }
   },
   "outputs": [
    {
     "name": "stdout",
     "output_type": "stream",
     "text": [
      "h\n",
      "ello\n"
     ]
    }
   ],
   "source": [
    "println(a); println(b)"
   ]
  },
  {
   "cell_type": "code",
   "execution_count": 1,
   "id": "13aa4ab5-2eb9-49d9-ab98-e7043c5eb5ca",
   "metadata": {},
   "outputs": [
    {
     "data": {
      "text/plain": [
       "Base.Generator{UnitRange{Int64}, typeof(abs2)}(abs2, 1:4)"
      ]
     },
     "execution_count": 1,
     "metadata": {},
     "output_type": "execute_result"
    }
   ],
   "source": [
    "# Another Example\n",
    "a, b... = Iterators.map(abs2, 1:4) # 1:4 Iterator에 mapping을 적용 -> Generator가 나옴."
   ]
  },
  {
   "cell_type": "code",
   "execution_count": 2,
   "id": "191ac2ce-83ee-4a77-ae27-175eccdd7818",
   "metadata": {},
   "outputs": [
    {
     "data": {
      "text/plain": [
       "1"
      ]
     },
     "execution_count": 2,
     "metadata": {},
     "output_type": "execute_result"
    }
   ],
   "source": [
    "a"
   ]
  },
  {
   "cell_type": "code",
   "execution_count": 3,
   "id": "a905bdcf-4f92-47ee-8d48-e72209188b24",
   "metadata": {},
   "outputs": [
    {
     "data": {
      "text/plain": [
       "Base.Iterators.Rest{Base.Generator{UnitRange{Int64}, typeof(abs2)}, Int64}(Base.Generator{UnitRange{Int64}, typeof(abs2)}(abs2, 1:4), 1)"
      ]
     },
     "execution_count": 3,
     "metadata": {},
     "output_type": "execute_result"
    }
   ],
   "source": [
    "b"
   ]
  },
  {
   "cell_type": "markdown",
   "id": "642088e0-fac1-4a10-a2ec-44efa448e53e",
   "metadata": {},
   "source": [
    "* **Julia 1.9 이후부터는** Unpacking을 할 때 마지막 변수가 아니더라도, 중간 변수에도 `...` (Sluping)을 붙이면 딱 맞게 Unpacking의 개수가 맞지 않더라도 Sluping한 Variable에 최대한 많이 넣어 준다."
   ]
  },
  {
   "cell_type": "code",
   "execution_count": 4,
   "id": "0fb649eb-4576-4a90-b417-8239c1db51af",
   "metadata": {},
   "outputs": [
    {
     "data": {
      "text/plain": [
       "1:5"
      ]
     },
     "execution_count": 4,
     "metadata": {},
     "output_type": "execute_result"
    }
   ],
   "source": [
    "# Availabel from Julia v1.9\n",
    "a, b..., c = 1:5 # a -> 1, b -> 2:4, c -> 5"
   ]
  },
  {
   "cell_type": "code",
   "execution_count": 5,
   "id": "ee4c88be-b810-4ff8-9578-3680a469efa6",
   "metadata": {},
   "outputs": [
    {
     "data": {
      "text/plain": [
       "1"
      ]
     },
     "execution_count": 5,
     "metadata": {},
     "output_type": "execute_result"
    }
   ],
   "source": [
    "a"
   ]
  },
  {
   "cell_type": "code",
   "execution_count": 6,
   "id": "4c9c7ad1-ad5d-4c24-b910-79520162ff87",
   "metadata": {},
   "outputs": [
    {
     "data": {
      "text/plain": [
       "3-element Vector{Int64}:\n",
       " 2\n",
       " 3\n",
       " 4"
      ]
     },
     "execution_count": 6,
     "metadata": {},
     "output_type": "execute_result"
    }
   ],
   "source": [
    "b"
   ]
  },
  {
   "cell_type": "code",
   "execution_count": 7,
   "id": "c2b34e1e-0af0-4f91-a9a5-6262b147ed16",
   "metadata": {},
   "outputs": [
    {
     "data": {
      "text/plain": [
       "5"
      ]
     },
     "execution_count": 7,
     "metadata": {},
     "output_type": "execute_result"
    }
   ],
   "source": [
    "c"
   ]
  },
  {
   "cell_type": "code",
   "execution_count": 8,
   "id": "ce097fcb-0e3c-4840-9783-c848a37dbcda",
   "metadata": {},
   "outputs": [
    {
     "data": {
      "text/plain": [
       "\"Hi!\""
      ]
     },
     "execution_count": 8,
     "metadata": {},
     "output_type": "execute_result"
    }
   ],
   "source": [
    "# Another Example\n",
    "front..., tail = \"Hi!\""
   ]
  },
  {
   "cell_type": "code",
   "execution_count": 9,
   "id": "16e366f3-20d7-4253-b9a0-24bcb635e9a2",
   "metadata": {},
   "outputs": [
    {
     "name": "stdout",
     "output_type": "stream",
     "text": [
      "Hi\n",
      "!\n"
     ]
    }
   ],
   "source": [
    "println(front); println(tail)"
   ]
  },
  {
   "cell_type": "markdown",
   "id": "079b039d-eb67-4272-8f2c-cdcc8d05ee1d",
   "metadata": {},
   "source": [
    "* 한편, 뒤에 소개하겠지만 함수에서 가변 인자를 사용하는 경우, `...` (Slurping) 은 반드시 가장 뒤 Parameter에만 쓸 수 있다. 그러나 인자를 1개 Argument로 받아서 Unpacking(Destructuring)하는 경우에는 적용되지 않고, 중간에 써도 큰 문제가 없다."
   ]
  },
  {
   "cell_type": "code",
   "execution_count": 10,
   "id": "f48d4ea0-13d4-40c3-a840-1d45e225b6f7",
   "metadata": {},
   "outputs": [
    {
     "ename": "LoadError",
     "evalue": "syntax: invalid \"...\" on non-final argument around In[10]:1",
     "output_type": "error",
     "traceback": [
      "syntax: invalid \"...\" on non-final argument around In[10]:1",
      "",
      "Stacktrace:",
      " [1] top-level scope",
      "   @ In[10]:1"
     ]
    }
   ],
   "source": [
    "f(x..., y) = x # Invalid Function Definition, since Slurping is not located at the end of the parameter list of the function."
   ]
  },
  {
   "cell_type": "code",
   "execution_count": 11,
   "id": "9d05e089-f677-4f6e-b542-d194e98fc3bc",
   "metadata": {},
   "outputs": [
    {
     "data": {
      "text/plain": [
       "f (generic function with 1 method)"
      ]
     },
     "execution_count": 11,
     "metadata": {},
     "output_type": "execute_result"
    }
   ],
   "source": [
    "f((x..., y)) = x # Valid Function Definition,\n",
    "# since function f defined in here, is specifying only one argument - a tuple but that might have variaent length."
   ]
  },
  {
   "cell_type": "code",
   "execution_count": 13,
   "id": "af71c7d8-a336-41cc-8249-795ed1328e6f",
   "metadata": {},
   "outputs": [
    {
     "data": {
      "text/plain": [
       "(1, 2)"
      ]
     },
     "execution_count": 13,
     "metadata": {},
     "output_type": "execute_result"
    }
   ],
   "source": [
    "f((1, 2, 3)) # x -> (1, 2), y -> 3, returns x -> therefore (1, 2)"
   ]
  },
  {
   "cell_type": "markdown",
   "id": "a89fd1b7-bbe5-4b8d-b6f2-f5148b63ed54",
   "metadata": {},
   "source": [
    "### Property Unpacking (Destructuring)"
   ]
  },
  {
   "cell_type": "markdown",
   "id": "ca9290a6-6573-463c-ab7a-de57373bc6aa",
   "metadata": {},
   "source": [
    "* Python과 달리 Julia는 `NamedTuple`이 있는데, 이 NamedTuple의 이름과 같은 Identifier들로 Unpacking을 하면, 그 Identifier에 맞게 Unpacking 된다."
   ]
  },
  {
   "cell_type": "code",
   "execution_count": 14,
   "id": "fbc64e99-c2d6-4ff4-bb57-a61cd20e92de",
   "metadata": {},
   "outputs": [
    {
     "data": {
      "text/plain": [
       "(a = 1, b = 2, c = 3)"
      ]
     },
     "execution_count": 14,
     "metadata": {},
     "output_type": "execute_result"
    }
   ],
   "source": [
    "b, a, c = (a=1, b=2, c=3)"
   ]
  },
  {
   "cell_type": "code",
   "execution_count": 15,
   "id": "9103406e-0283-4d82-8e1d-b77092383fad",
   "metadata": {},
   "outputs": [
    {
     "name": "stdout",
     "output_type": "stream",
     "text": [
      "2\n",
      "1\n",
      "3\n"
     ]
    }
   ],
   "source": [
    "println(a); println(b); println(c)"
   ]
  },
  {
   "cell_type": "markdown",
   "id": "7d49d436-ebf3-49b0-93aa-426eb1e79b0a",
   "metadata": {},
   "source": [
    "### Argument Destructuring"
   ]
  },
  {
   "cell_type": "markdown",
   "id": "1c07787b-d44a-476f-b31f-380773c2d9f0",
   "metadata": {},
   "source": [
    "* Python과는 달리 Julia는 Function을 정의할 때, Function Parameter List 자체에서 Unpacking을 수행할 수 있다. 즉, 다인자 함수가 아닌 Tuple의 형태로 Parameter를 정의하더라도, 자동으로 딱 맞게 Unpacking이 일어난다. "
   ]
  },
  {
   "cell_type": "code",
   "execution_count": 16,
   "id": "a1f2fda0-4e9a-402e-8537-39c9a9119b1d",
   "metadata": {},
   "outputs": [
    {
     "data": {
      "text/plain": [
       "8"
      ]
     },
     "execution_count": 16,
     "metadata": {},
     "output_type": "execute_result"
    }
   ],
   "source": [
    "# minmax의 return값은 Tuple임에 주의.\n",
    "minmax(x, y) = (y < x) ? (y, x) : (x, y)\n",
    "gap((min, max)) = max - min # gap 함수의 Parameter List에서 Unpacking을 사용.\n",
    "gap(minmax(10, 2)) # minmax(10, 2)의 반환값 (2, 10)이 gap의 parameter list에서 첫 번째 match인 (min, max) tuple에서 Unpacking 된다."
   ]
  },
  {
   "cell_type": "code",
   "execution_count": 19,
   "id": "586925e1-36d6-4644-9395-6c98004c5a8d",
   "metadata": {},
   "outputs": [
    {
     "data": {
      "text/plain": [
       "3"
      ]
     },
     "execution_count": 19,
     "metadata": {},
     "output_type": "execute_result"
    }
   ],
   "source": [
    "# NamedTuple이나 Structure 등에 정의된 Properties에 대한 Unpacking도 당연히 Argument 안에서 가능.\n",
    "foo((; x,y)) = x + y\n",
    "foo((x=1, y=2)) # Passing NamedTuple"
   ]
  },
  {
   "cell_type": "code",
   "execution_count": 20,
   "id": "fcc8a515-42a3-4247-b0b2-8e6684d0b97c",
   "metadata": {},
   "outputs": [
    {
     "data": {
      "text/plain": [
       "7"
      ]
     },
     "execution_count": 20,
     "metadata": {},
     "output_type": "execute_result"
    }
   ],
   "source": [
    "struct A\n",
    "    x\n",
    "    y\n",
    "end\n",
    "foo(A(3,4)) # Passing a structure"
   ]
  },
  {
   "cell_type": "markdown",
   "id": "bd15b777-f366-4f21-8912-792b41fc356f",
   "metadata": {},
   "source": [
    "* **익명 함수에서 Argument Destructuring을 사용하는 경우, 끝에 Comma(`,`) 한 개를 더 찍어주어야 한다.**"
   ]
  },
  {
   "cell_type": "code",
   "execution_count": 21,
   "id": "cbdefaa6-2a36-46e2-9be7-027a67333266",
   "metadata": {},
   "outputs": [
    {
     "ename": "LoadError",
     "evalue": "MethodError: no method matching (::var\"#3#4\")(::Tuple{Int64, Int64})\n\n\u001b[0mClosest candidates are:\n\u001b[0m  (::var\"#3#4\")(::Any, \u001b[91m::Any\u001b[39m)\n\u001b[0m\u001b[90m   @\u001b[39m \u001b[35mMain\u001b[39m \u001b[90m\u001b[4mIn[21]:3\u001b[24m\u001b[39m\n",
     "output_type": "error",
     "traceback": [
      "MethodError: no method matching (::var\"#3#4\")(::Tuple{Int64, Int64})\n\n\u001b[0mClosest candidates are:\n\u001b[0m  (::var\"#3#4\")(::Any, \u001b[91m::Any\u001b[39m)\n\u001b[0m\u001b[90m   @\u001b[39m \u001b[35mMain\u001b[39m \u001b[90m\u001b[4mIn[21]:3\u001b[24m\u001b[39m\n",
      "",
      "Stacktrace:",
      " [1] iterate",
      "   @ ./generator.jl:47 [inlined]",
      " [2] _collect",
      "   @ ./array.jl:802 [inlined]",
      " [3] collect_similar(cont::Vector{Tuple{Int64, Int64}}, itr::Base.Generator{Vector{Tuple{Int64, Int64}}, var\"#3#4\"})",
      "   @ Base ./array.jl:711",
      " [4] map(f::Function, A::Vector{Tuple{Int64, Int64}})",
      "   @ Base ./abstractarray.jl:3263",
      " [5] top-level scope",
      "   @ In[21]:3"
     ]
    }
   ],
   "source": [
    "# map 내장함수에 익명함수를 넘겨주는데, 이 익명함수는 Container의 Iterator의 Point OBj를 받아서 Unpacking한뒤 그 합으로 대체.\n",
    "# The following is invalid:\n",
    "map(((x, y)) -> x + y, [(1,2), (3,4)])"
   ]
  },
  {
   "cell_type": "code",
   "execution_count": 22,
   "id": "2a1e8b6b-43b9-45b4-bfa5-c2cdd937a35c",
   "metadata": {},
   "outputs": [
    {
     "data": {
      "text/plain": [
       "2-element Vector{Int64}:\n",
       " 3\n",
       " 7"
      ]
     },
     "execution_count": 22,
     "metadata": {},
     "output_type": "execute_result"
    }
   ],
   "source": [
    "# The following is valid (need additional trailing comma for argument unpacking in lambda functions\n",
    "map(((x,y),) -> x + y, [(1,2), (3,4)])"
   ]
  },
  {
   "cell_type": "markdown",
   "id": "a9721c72-4278-4b66-bb86-efeccaba1495",
   "metadata": {},
   "source": [
    "## Varargs Functions (가변인자 함수)"
   ]
  },
  {
   "cell_type": "markdown",
   "id": "a40ebac1-4114-4d26-8361-c9a29c485512",
   "metadata": {},
   "source": [
    "> **Varargs Functions (가변인자 함수)**\n",
    ">\n",
    "> 임의 개수의 인자(Aribitary Number of Arguments)를 받는 함수를 **가변인자 함수 (Varargs Functions)**라 한다. (*Stands for Variable Number of Arguments*)"
   ]
  },
  {
   "cell_type": "markdown",
   "id": "fd9e489d-0d1d-4905-85e5-0365f23a15f3",
   "metadata": {},
   "source": [
    "* Julia에서는 함수를 정의할 때, 함수의 Parameter List 마지막에 `...` (Suprling) 을 공백 없이 달아주면 마지막 Identifier의 Parameter가 가변 인자 Parameter가 되어, 그 이외의 Parameter에 인자를 차례로 넣은 뒤 **남은 인자들을 Tuple의 형태로 받아오게 된다.**"
   ]
  },
  {
   "cell_type": "code",
   "execution_count": 23,
   "id": "756980f3-1e9d-4461-bbde-f8e8b44f88df",
   "metadata": {},
   "outputs": [
    {
     "data": {
      "text/plain": [
       "bar (generic function with 1 method)"
      ]
     },
     "execution_count": 23,
     "metadata": {},
     "output_type": "execute_result"
    }
   ],
   "source": [
    "# Varargs Functions Example\n",
    "bar(a, b, x...) = (a, b, x) # This function has a Variable Args, and its identifier is x"
   ]
  },
  {
   "cell_type": "code",
   "execution_count": 24,
   "id": "abda0f8a-fe59-40d6-b36d-361e2a12ef9a",
   "metadata": {},
   "outputs": [
    {
     "data": {
      "text/plain": [
       "(1, 2, ())"
      ]
     },
     "execution_count": 24,
     "metadata": {},
     "output_type": "execute_result"
    }
   ],
   "source": [
    "bar(1,2) # x will be empty tuple"
   ]
  },
  {
   "cell_type": "code",
   "execution_count": 25,
   "id": "bcbae229-0ddd-494a-9071-e27269b574e0",
   "metadata": {},
   "outputs": [
    {
     "data": {
      "text/plain": [
       "(1, 2, (3,))"
      ]
     },
     "execution_count": 25,
     "metadata": {},
     "output_type": "execute_result"
    }
   ],
   "source": [
    "bar(1, 2, 3) # x is tuple, but only has 3"
   ]
  },
  {
   "cell_type": "code",
   "execution_count": 26,
   "id": "71f64a8e-6a45-47e3-adb6-3da04b403bca",
   "metadata": {},
   "outputs": [
    {
     "data": {
      "text/plain": [
       "(1, 2, (3, 4))"
      ]
     },
     "execution_count": 26,
     "metadata": {},
     "output_type": "execute_result"
    }
   ],
   "source": [
    "bar(1, 2, 3, 4) # x is tuple, but has 3 and 4"
   ]
  },
  {
   "cell_type": "code",
   "execution_count": 27,
   "id": "e9909542-0f60-43e7-8da8-fded08ea4dee",
   "metadata": {},
   "outputs": [
    {
     "data": {
      "text/plain": [
       "(1, 2, (3, 4, 5, 6))"
      ]
     },
     "execution_count": 27,
     "metadata": {},
     "output_type": "execute_result"
    }
   ],
   "source": [
    "bar(1, 2, 3, 4 ,5, 6) # x is tuple, but has 3, 4, 5, 6"
   ]
  },
  {
   "cell_type": "markdown",
   "id": "0708e5fe-fd06-46f8-83ec-e400d4f3d518",
   "metadata": {},
   "source": [
    "* Variable Argument에 들어올 수 있는 가변 인자의 개수를 제한하는 방법도 있지만, 이는 [Parametrically-constrained Varargs methods](https://docs.julialang.org/en/v1/manual/methods/#Parametrically-constrained-Varargs-methods)에서 다룸."
   ]
  },
  {
   "cell_type": "markdown",
   "id": "b1dab374-b352-4770-b3e9-c0a9cae88470",
   "metadata": {},
   "source": [
    "## Iteratable Object Splatting"
   ]
  },
  {
   "cell_type": "markdown",
   "id": "33d15ea6-dcba-484f-ba04-fcf7be650ceb",
   "metadata": {},
   "source": [
    "* Python의 Asterisk(`*`)를 이용한 Tuple Splatting과 같이, **Julia에서도 Container 자료형 (정확히는 Iteratable 자료형) 뒤에 `...` (Suprling) 을 공백 없이 달아서 이들을 Splatting 할 수 있다.**"
   ]
  },
  {
   "cell_type": "code",
   "execution_count": 29,
   "id": "1ed175a5-9f9d-4fc2-a951-f7eaf77e6581",
   "metadata": {},
   "outputs": [
    {
     "data": {
      "text/plain": [
       "(1, 2, (3, 4))"
      ]
     },
     "execution_count": 29,
     "metadata": {},
     "output_type": "execute_result"
    }
   ],
   "source": [
    "x = (3,4)\n",
    "bar(1, 2, x...) # <=> bar(1, 2, 3, 4)\n",
    "# same as bar(1, 2, *x) in python"
   ]
  },
  {
   "cell_type": "code",
   "execution_count": 30,
   "id": "4955534c-cf71-4e49-b2bd-ad22f76a6ece",
   "metadata": {},
   "outputs": [
    {
     "data": {
      "text/plain": [
       "(1, 2, (3, 4))"
      ]
     },
     "execution_count": 30,
     "metadata": {},
     "output_type": "execute_result"
    }
   ],
   "source": [
    "x = (2, 3, 4)\n",
    "bar(1, x...) # <=> bar(1, 2, 3, 4)"
   ]
  },
  {
   "cell_type": "code",
   "execution_count": 31,
   "id": "ff27e9ac-5bc0-4e76-840d-bab1063e86f6",
   "metadata": {},
   "outputs": [
    {
     "data": {
      "text/plain": [
       "(1, 2, (3, 4))"
      ]
     },
     "execution_count": 31,
     "metadata": {},
     "output_type": "execute_result"
    }
   ],
   "source": [
    "x = (1, 2, 3, 4)\n",
    "bar(x...) # <=> bar(1, 2, 3, 4)"
   ]
  },
  {
   "cell_type": "code",
   "execution_count": 32,
   "id": "a49ddbda-7e81-48ba-a58b-b8097da064ba",
   "metadata": {},
   "outputs": [
    {
     "data": {
      "text/plain": [
       "(1, 2, (3, 4))"
      ]
     },
     "execution_count": 32,
     "metadata": {},
     "output_type": "execute_result"
    }
   ],
   "source": [
    "# Just like python, splatting can be applied into any ITERATABLE OBJECT\n",
    "x = [3, 4] # Vector is also iteratable object.\n",
    "bar(1, 2, x...)"
   ]
  },
  {
   "cell_type": "code",
   "execution_count": 33,
   "id": "e5d488b4-c9b9-4baf-968a-65f08553e005",
   "metadata": {},
   "outputs": [
    {
     "data": {
      "text/plain": [
       "(1, 2, (3, 4))"
      ]
     },
     "execution_count": 33,
     "metadata": {},
     "output_type": "execute_result"
    }
   ],
   "source": [
    "x = [1, 2, 3, 4]\n",
    "bar(x...)"
   ]
  },
  {
   "cell_type": "markdown",
   "id": "c1115197-6d3c-4302-ba69-848e7c946ea9",
   "metadata": {},
   "source": [
    "* 아주 당연하게도, Iteratable Object의 Splatting은 굳이 가변인자 함수가 아닌 임의의 Function Call에서도 가능하다."
   ]
  },
  {
   "cell_type": "code",
   "execution_count": 34,
   "id": "0a391f4f-a24c-4245-839d-69d7ddd75106",
   "metadata": {},
   "outputs": [
    {
     "data": {
      "text/plain": [
       "2-element Vector{Int64}:\n",
       " 1\n",
       " 2"
      ]
     },
     "execution_count": 34,
     "metadata": {},
     "output_type": "execute_result"
    }
   ],
   "source": [
    "baz(a, b) = a + b\n",
    "args = [1, 2]"
   ]
  },
  {
   "cell_type": "code",
   "execution_count": 35,
   "id": "76f71ee1-97ec-4acb-ab01-adcf73e2e9eb",
   "metadata": {},
   "outputs": [
    {
     "data": {
      "text/plain": [
       "3"
      ]
     },
     "execution_count": 35,
     "metadata": {},
     "output_type": "execute_result"
    }
   ],
   "source": [
    "baz(args...) # Note that function 'baz' is not varargs function"
   ]
  },
  {
   "cell_type": "code",
   "execution_count": 36,
   "id": "e4035ec7-d733-4dae-b53d-2c8ff890487a",
   "metadata": {},
   "outputs": [
    {
     "ename": "LoadError",
     "evalue": "MethodError: no method matching baz(::Int64, ::Int64, ::Int64)\n\n\u001b[0mClosest candidates are:\n\u001b[0m  baz(::Any, ::Any)\n\u001b[0m\u001b[90m   @\u001b[39m \u001b[35mMain\u001b[39m \u001b[90m\u001b[4mIn[34]:1\u001b[24m\u001b[39m\n",
     "output_type": "error",
     "traceback": [
      "MethodError: no method matching baz(::Int64, ::Int64, ::Int64)\n\n\u001b[0mClosest candidates are:\n\u001b[0m  baz(::Any, ::Any)\n\u001b[0m\u001b[90m   @\u001b[39m \u001b[35mMain\u001b[39m \u001b[90m\u001b[4mIn[34]:1\u001b[24m\u001b[39m\n",
      "",
      "Stacktrace:",
      " [1] top-level scope",
      "   @ In[36]:2"
     ]
    }
   ],
   "source": [
    "args = [1, 2, 3]\n",
    "baz(args...) # Note that the function 'baz' does not accept three args, therefore this will yield an error"
   ]
  },
  {
   "cell_type": "markdown",
   "id": "6bb0a0c9-64c8-4243-b105-72ef33d6a616",
   "metadata": {},
   "source": [
    "## Optional Arguments (Default Value for Argument)"
   ]
  },
  {
   "cell_type": "markdown",
   "id": "bfe5d7ff-24d0-4941-b1ad-12c907c98b0c",
   "metadata": {},
   "source": [
    "* Julia에서도 Python과 마찬가지로 Parameter List를 열거할 때, Identifier 뒤에 `=value`의 형태로 Default Value를 지정하여, 해당 Argument를 Optional Argument로 지정할 수 있다.\n",
    "* Python, C++와 정확히 같은 이유로 이러한 Optional Argument는 함수 Parameter List의 뒤쪽에 모두 연속되어 있어야 한다. (앞에 이러한 Optional Argument를 허용하면, Optional Argument가 생략된 것인지 아니면 생략되지 않은 것인지 알기 어려워진다)"
   ]
  },
  {
   "cell_type": "code",
   "execution_count": 40,
   "id": "29048ad5-d756-42e2-a85b-f4af3c59a754",
   "metadata": {},
   "outputs": [
    {
     "data": {
      "text/plain": [
       "date (generic function with 3 methods)"
      ]
     },
     "execution_count": 40,
     "metadata": {},
     "output_type": "execute_result"
    }
   ],
   "source": [
    "using Dates\n",
    "function date(y::Int64, m::Int64=1, d::Int64=1) # Set default value for parameter m and d to 1\n",
    "    err = Dates.validargs(Date, y, m, d)\n",
    "    err === nothing || throw(err) # Short-circuit evaluation을 이용한 short-handed if conditional\n",
    "    return Date(Dates.UTD(Dates.totaldays(y,m,d)))\n",
    "end\n",
    "# 이상의 함수는 Date function에서 UTInstant{Day}를 만들어줌."
   ]
  },
  {
   "cell_type": "code",
   "execution_count": 41,
   "id": "da718c31-7405-47d5-89df-67fe30eed72e",
   "metadata": {},
   "outputs": [
    {
     "data": {
      "text/plain": [
       "2000-12-12"
      ]
     },
     "execution_count": 41,
     "metadata": {},
     "output_type": "execute_result"
    }
   ],
   "source": [
    "date(2000, 12, 12)"
   ]
  },
  {
   "cell_type": "code",
   "execution_count": 42,
   "id": "bafe73a7-562c-4189-92b8-75ef8f217b73",
   "metadata": {},
   "outputs": [
    {
     "data": {
      "text/plain": [
       "2000-12-01"
      ]
     },
     "execution_count": 42,
     "metadata": {},
     "output_type": "execute_result"
    }
   ],
   "source": [
    "date(2000, 12) # d omitted, therefore using 1, specified as the default value of d"
   ]
  },
  {
   "cell_type": "code",
   "execution_count": 43,
   "id": "8f7e87ab-7728-46e6-946a-b9cbd0e627dc",
   "metadata": {},
   "outputs": [
    {
     "data": {
      "text/plain": [
       "2000-01-01"
      ]
     },
     "execution_count": 43,
     "metadata": {},
     "output_type": "execute_result"
    }
   ],
   "source": [
    "date(2000) # m and d omitted, therefore using 1, each specifed as the default values of m and d"
   ]
  },
  {
   "cell_type": "code",
   "execution_count": 44,
   "id": "4ce5a979-a42e-4ff7-a90d-7c446a3eee6d",
   "metadata": {},
   "outputs": [
    {
     "data": {
      "text/html": [
       "# 3 methods for generic function <b>date</b> from \u001b[35mMain\u001b[39m:<ul><li> date(y::<b>Int64</b>) in Main at In[40]:2</li> <li> date(y::<b>Int64</b>, m::<b>Int64</b>) in Main at In[40]:2</li> <li> date(y::<b>Int64</b>, m::<b>Int64</b>, d::<b>Int64</b>) in Main at In[40]:2</li> </ul>"
      ],
      "text/plain": [
       "# 3 methods for generic function \"date\" from \u001b[35mMain\u001b[39m:\n",
       " [1] date(\u001b[90my\u001b[39m::\u001b[1mInt64\u001b[22m)\n",
       "\u001b[90m     @\u001b[39m \u001b[90m\u001b[4mIn[40]:2\u001b[24m\u001b[39m\n",
       " [2] date(\u001b[90my\u001b[39m::\u001b[1mInt64\u001b[22m, \u001b[90mm\u001b[39m::\u001b[1mInt64\u001b[22m)\n",
       "\u001b[90m     @\u001b[39m \u001b[90m\u001b[4mIn[40]:2\u001b[24m\u001b[39m\n",
       " [3] date(\u001b[90my\u001b[39m::\u001b[1mInt64\u001b[22m, \u001b[90mm\u001b[39m::\u001b[1mInt64\u001b[22m, \u001b[90md\u001b[39m::\u001b[1mInt64\u001b[22m)\n",
       "\u001b[90m     @\u001b[39m \u001b[90m\u001b[4mIn[40]:2\u001b[24m\u001b[39m"
      ]
     },
     "execution_count": 44,
     "metadata": {},
     "output_type": "execute_result"
    }
   ],
   "source": [
    "methods(date)"
   ]
  },
  {
   "cell_type": "markdown",
   "id": "610dcc7a-d1e2-4033-87a3-60d01956f872",
   "metadata": {},
   "source": [
    "* Optional Argument를 활용하면 굳이 Function Overloading 없이도 다른 개수의 인자를 받는 같은 이름의 함수를 쉽게 정의할 수 있다."
   ]
  },
  {
   "cell_type": "markdown",
   "id": "5816e3ec-7dfd-4c21-9b4d-bfb7545c2113",
   "metadata": {},
   "source": [
    "## Keyword Arguments"
   ]
  },
  {
   "cell_type": "markdown",
   "id": "49946659-78c2-4710-9579-f78998cb2f18",
   "metadata": {},
   "source": [
    "* Python과 마찬가지로, Julia에서도 Function에 대한 Keyword Argument를 지원한다.\n",
    "* 그러나 Python의 경우는 일반적인 Argument와 구분 없이, 곧바로 keyword argument들은 `key=value`의 형태와 같이 Parameter List 안에 열거해주면 되었지만, Julia의 경우는 일반 Argument (Vaargs Argument 포함)와 Keyword Argument들을 구분한다.\n",
    "* Julia Function에서는 Parameter List에서 반드시 Keyword Arguments들이 가장 뒤에 연속적으로 열거되어 있어야 하며, 열거의 형식은 다른 종류의 Argument를 모두 열거한 뒤, **세미콜론 (`;`)** 을 쓴 뒤 Python에서 하는 것처럼 Keyword Argument들을 열거해주는 것이다."
   ]
  },
  {
   "cell_type": "code",
   "execution_count": 46,
   "id": "bbc8fd24-8347-4574-8646-4df3fbee31c0",
   "metadata": {},
   "outputs": [
    {
     "data": {
      "text/plain": [
       "plot (generic function with 1 method)"
      ]
     },
     "execution_count": 46,
     "metadata": {},
     "output_type": "execute_result"
    }
   ],
   "source": [
    "# Example of Keyword Arguments\n",
    "function plot(x, y; style=\"solid\", width=1, color=\"black\")\n",
    "    ### Note that after a semi-colon(;), the keyword arguments are listed.\n",
    "end"
   ]
  },
  {
   "cell_type": "markdown",
   "id": "cb1a178d-8489-437d-8857-b7b105376653",
   "metadata": {},
   "source": [
    "* 단, Keyword Argument들은 Function Call에서는 Python과 같은 형태로 Call이 가능하다. 즉, Julia의 경우 Function Definition에서만 세미콜론(`;`)이 Keyword Argument들을 구분하는데 필요하지, Function Call에서는 불필요하다.\n",
    "* 그러나 Function Definition Style과 마찬가지의 Style로 Function Call에서도 세미콜론(`;`)으로 Keyword Argument들을 구분해주어도 된다.\n",
    "  "
   ]
  },
  {
   "cell_type": "code",
   "execution_count": 47,
   "id": "2f6fbc7a-8b93-4cc9-a0a0-cea41222825d",
   "metadata": {},
   "outputs": [],
   "source": [
    "plot(1, 2, style=\"solid\")"
   ]
  },
  {
   "cell_type": "code",
   "execution_count": 48,
   "id": "46c7c998-414c-4dcc-a57f-2c6af470f540",
   "metadata": {},
   "outputs": [],
   "source": [
    "plot(1, 2; style=\"solid\") # The keyword argument seperator, ; is optional for function call in Julia."
   ]
  },
  {
   "cell_type": "markdown",
   "id": "433fdf32-4b8e-4e20-8b6c-14e54cc68258",
   "metadata": {},
   "source": [
    "* Keyword Argument는 Varargs Functions에도 사용 가능하고, Python에서의 `**kargs`와 마찬가지로, 추가적인 Keyword Argument도 `...` (Suprling)을 keyword arg identifier 뒤에 공백 없이 붙여 받을 수 있다."
   ]
  },
  {
   "cell_type": "code",
   "execution_count": 50,
   "id": "2c1c5079-0a41-409b-96c9-ce4a785505b0",
   "metadata": {},
   "outputs": [
    {
     "data": {
      "text/plain": [
       "func1 (generic function with 1 method)"
      ]
     },
     "execution_count": 50,
     "metadata": {},
     "output_type": "execute_result"
    }
   ],
   "source": [
    "function func1(x...; style=\"solid\")\n",
    "    ###\n",
    "end"
   ]
  },
  {
   "cell_type": "code",
   "execution_count": 51,
   "id": "7dda346a-5874-4604-9e76-3a6c0dbe7a9b",
   "metadata": {},
   "outputs": [
    {
     "data": {
      "text/plain": [
       "func2 (generic function with 1 method)"
      ]
     },
     "execution_count": 51,
     "metadata": {},
     "output_type": "execute_result"
    }
   ],
   "source": [
    "function func2(x; y=0, kargs...) # Note that y is keyword argument in here.\n",
    "    ###\n",
    "end"
   ]
  },
  {
   "cell_type": "markdown",
   "id": "18e1eee0-55dc-4217-9779-741376ad4ed5",
   "metadata": {},
   "source": [
    "* 함수 내부에서 Keyword Argument는 **Immutable Key-Value Iterator over a named tuple**로 저장된다.\n",
    "* NamedTuple도 Keyword Arguments로, Function Call에서 Unpacking되어 넣어줄 수 있다."
   ]
  },
  {
   "cell_type": "code",
   "execution_count": 54,
   "id": "a6568374-178a-45d1-bc90-8676cefb6e90",
   "metadata": {},
   "outputs": [
    {
     "name": "stdout",
     "output_type": "stream",
     "text": [
      "1\n",
      "6\n"
     ]
    }
   ],
   "source": [
    "function func3(x; arg1=0, arg2=0, arg3=0)\n",
    "    println(x)\n",
    "    println(arg1 + arg2 + arg3)\n",
    "    return\n",
    "end\n",
    "\n",
    "keywords = (arg1=1, arg2=2, arg3=3) # NamedTuple\n",
    "func3(1; keywords...) # Unpacking Available for NamedTuple, passing key-value pairs as normal keyword arguments."
   ]
  },
  {
   "cell_type": "markdown",
   "id": "c83dd297-f506-4e97-802b-295351ac6c86",
   "metadata": {},
   "source": [
    "* 다만 위와 같이 Keyword Arguments Unpacking을 사용하는 경우, 세미콜론(`;`)을 사용하여 일반 Argument와 구분해주어야만 `keywords...`와 같이 Unpacking이 일반적인 Arguments Unpacking이 아닌 Keyword Arguments Unpacking으로 처리됨에 주의."
   ]
  },
  {
   "cell_type": "markdown",
   "id": "5fd2d7c3-e572-4863-8596-5dac918638ee",
   "metadata": {},
   "source": [
    "* **Julia에서는 Keyword Argument에 대한 Default Value를 지정하지 않는 것이 허용된다.** 이 때, Default Value가 없는 Keyword Argument에 대해 함수 Call에서 그 값을 넘기지 않는 경우, `UndefKeywordError`가 raise된다."
   ]
  },
  {
   "cell_type": "code",
   "execution_count": 55,
   "id": "f31b900d-1a93-4f33-ad58-7c4027630758",
   "metadata": {},
   "outputs": [
    {
     "ename": "LoadError",
     "evalue": "UndefKeywordError: keyword argument `y` not assigned",
     "output_type": "error",
     "traceback": [
      "UndefKeywordError: keyword argument `y` not assigned",
      "",
      "Stacktrace:",
      " [1] f(x::Int64)",
      "   @ Main ./In[55]:1",
      " [2] top-level scope",
      "   @ In[55]:6"
     ]
    }
   ],
   "source": [
    "function f(x;y) # y is keyword argument here.\n",
    "    ###\n",
    "end\n",
    "\n",
    "f(3, y=5) # ok, y is assigned\n",
    "f(3) # throws UndefKeywordError(:y), since y is non-default valued keyword argument"
   ]
  },
  {
   "cell_type": "markdown",
   "id": "6a2883c2-0f55-4405-bcca-35b19720fed0",
   "metadata": {},
   "source": [
    "* Julia의 경우 Meta Programming을 지원하기 때문에, Function Call에서 Keyword Argument를 넘길 때 `key=value`의 형태가 아니라 `:key => value`의 형태로 넘겨도 된다. 이 때 `:` Operator가 뒤에 오는 변수의 값 자체를 Symbol로 해석하라는 의미를 가지고 있기 때문에, keyword 이름이 runtime에 변할 수 있는 경우 그 이름을 변수에 담아두고 Symbol로 만들어서(`:`) keyword argument를 넘겨줄 수 있다."
   ]
  },
  {
   "cell_type": "code",
   "execution_count": 59,
   "id": "f5a36820-7b9b-4975-9583-3b523be17511",
   "metadata": {},
   "outputs": [],
   "source": [
    "function plot(x, y; style=\"solid\", width=1, color=\"black\")\n",
    "    ### Note that after a semi-colon(;), the keyword arguments are listed.\n",
    "end\n",
    "\n",
    "plot(1, 2; :width => 2) # <=> equivalent to plot(x, y, width=2)"
   ]
  },
  {
   "cell_type": "markdown",
   "id": "fb6729b2-d35d-4159-9a67-6601970844f2",
   "metadata": {},
   "source": [
    "* Keyword Argument는 Argument를 Key들로 구분하므로, 일반적인 Argument들과는 달리 중간에서 Unpacking하여 Call이 가능하다."
   ]
  },
  {
   "cell_type": "code",
   "execution_count": 61,
   "id": "f3fbaf50-c6a5-4e17-b06d-1b0c3d09fa27",
   "metadata": {},
   "outputs": [],
   "source": [
    "function plot(x, y; style=\"solid\", width=1, color=\"black\")\n",
    "    ### Note that after a semi-colon(;), the keyword arguments are listed.\n",
    "end\n",
    "options = (style=\"solid\", color=\"black\")\n",
    "plot(1, 2; options..., width=1)"
   ]
  },
  {
   "cell_type": "markdown",
   "id": "0ed467aa-e3b3-4178-b6ca-39e81a307b79",
   "metadata": {},
   "source": [
    "* 위와 같이 중간에서 Kargs Unpacking으로 Function Call을 하는 경우, Unpacking한 `options...`에 `width`가 명시되어 있더라도, **가장 오른쪽 (Right-most)** 의 karg가 우선 적용된다.\n",
    "* 그러나 명시적으로 Function Call에서 동일 Identifier를 가지는 Keyword Argument를 중복 명시하는 경우는 허용되지 않는다. (Syntax Error)"
   ]
  },
  {
   "cell_type": "code",
   "execution_count": 64,
   "id": "1dfe0063-ef66-4a58-9ab2-0af68503100d",
   "metadata": {},
   "outputs": [
    {
     "name": "stdout",
     "output_type": "stream",
     "text": [
      "width: 3\n"
     ]
    }
   ],
   "source": [
    "function plot(x, y; style=\"solid\", width=1, color=\"black\")\n",
    "    ### Note that after a semi-colon(;), the keyword arguments are listed.\n",
    "    print(\"width: \")\n",
    "    println(width)\n",
    "end\n",
    "\n",
    "options = (style=\"solid\", width=1, color=\"black\")\n",
    "plot(1, 2; options..., width=3) # right most will be applied firstly."
   ]
  },
  {
   "cell_type": "code",
   "execution_count": 65,
   "id": "664968d2-6b06-48f3-b1d0-c8e4532560ed",
   "metadata": {},
   "outputs": [
    {
     "ename": "LoadError",
     "evalue": "syntax: keyword argument \"width\" repeated in call to \"plot\" around In[65]:1",
     "output_type": "error",
     "traceback": [
      "syntax: keyword argument \"width\" repeated in call to \"plot\" around In[65]:1",
      "",
      "Stacktrace:",
      " [1] top-level scope",
      "   @ In[65]:1"
     ]
    }
   ],
   "source": [
    "plot(1, 2; width=3, width=1) # Not Allowed"
   ]
  },
  {
   "cell_type": "markdown",
   "id": "a12e20c4-73cd-4946-bd52-7298d1aec3d0",
   "metadata": {},
   "source": [
    "## Function Default Value의 Evaluation Scope"
   ]
  },
  {
   "cell_type": "markdown",
   "id": "7e6abc6a-8c51-4331-8839-13ab89e85ea0",
   "metadata": {},
   "source": [
    "* Julia에서 Function Parameter List에서, 각각의 Parameter는 열거된 이후 (오른쪽과 아래) 에서 Known하다. (The scope of the function parameter, is from the just right after it is specified to the end of the function.)"
   ]
  },
  {
   "cell_type": "code",
   "execution_count": 70,
   "id": "e08bc207-6c8f-4b1c-ba75-0ef4b10775f1",
   "metadata": {},
   "outputs": [
    {
     "name": "stdout",
     "output_type": "stream",
     "text": [
      "5\n"
     ]
    }
   ],
   "source": [
    "b = 5\n",
    "function func_def(x; a=b, b=1) # b is unknown, when evaluating parameter list a=b, b does not refering to b=1, but b in outer scope.\n",
    "    println(a)\n",
    "end\n",
    "func_def(1)"
   ]
  },
  {
   "cell_type": "markdown",
   "id": "4a9cab42-3b60-43bc-bb0c-42e6f3a3abd0",
   "metadata": {},
   "source": [
    "## Do-Block Syntax for Function Arguments"
   ]
  },
  {
   "cell_type": "markdown",
   "id": "7d80da3c-a375-4b1f-ace3-643b50dbd9b9",
   "metadata": {},
   "source": [
    "* 함수를 Argument로 넘겨야 하는 함수의 경우, 함수가 간단하지 않은 함수일 경우 익명 함수의 형태로 이러한 함수를 인자로 넘기면 코드가 복잡해져 가독성이 떨어지는 문제가 있었다. 이를테면:"
   ]
  },
  {
   "cell_type": "code",
   "execution_count": 73,
   "id": "bc94306b-38f2-4e28-b13d-d4c4e4974594",
   "metadata": {},
   "outputs": [
    {
     "data": {
      "text/plain": [
       "3-element Vector{Int64}:\n",
       " 0\n",
       " 1\n",
       " 1"
      ]
     },
     "execution_count": 73,
     "metadata": {},
     "output_type": "execute_result"
    }
   ],
   "source": [
    "# 복잡한 함수를 map 함수를 이용해 1차원 Array에 적용하는 경우\n",
    "map(x -> begin\n",
    "        if x < 0 && iseven(x)\n",
    "            return 0\n",
    "        elseif x == 0\n",
    "            return 1\n",
    "        else\n",
    "            return x\n",
    "        end\n",
    "    end,\n",
    "    [-2, 0, 1]) # 너무 복잡하다."
   ]
  },
  {
   "cell_type": "markdown",
   "id": "eb955f80-3e5b-4aaa-aca5-f5d096d80b22",
   "metadata": {},
   "source": [
    "* 따라서 Julia에서는 `do` 키워드를 이용해서, 함수가 '함수를 인자로 받는 경우', **인자로 넘겨줄 함수를 `do` 키워드 뒤로, 즉 함수 Call 밖으로 빼 주는 기능을 제공한다. 정확하게는 `do` 키워드 뒤에 익명 함수의 Parameter와 그 정의를 써 주고 `end`로 닫으면, 익명 함수를 만들어서 `do` 키워드 앞의 함수의 첫 번째 인자로 넘겨준다.**\n",
    "    * 즉, Function f에 대해 `f(x -> begin ... end)`는 `f do ...`와 같다."
   ]
  },
  {
   "cell_type": "code",
   "execution_count": 74,
   "id": "a66a9dec-d369-4bae-a528-95a5c157a800",
   "metadata": {},
   "outputs": [
    {
     "data": {
      "text/plain": [
       "3-element Vector{Int64}:\n",
       " 0\n",
       " 1\n",
       " 1"
      ]
     },
     "execution_count": 74,
     "metadata": {},
     "output_type": "execute_result"
    }
   ],
   "source": [
    "# 상기 예시는 다음과 정확히 같다. do-block 문법을 사용하면 anonymous function을 조금 더 가독성 좋게 넘겨줄 수 있다.\n",
    "map([-2, 0, 1]) do x # x specified here, acts as the parameter of the anonymous function\n",
    "    if x < 0 && iseven(x)\n",
    "        return 0\n",
    "    elseif x == 0\n",
    "        return 1\n",
    "    else\n",
    "        return x\n",
    "    end\n",
    "end"
   ]
  },
  {
   "cell_type": "markdown",
   "id": "0e8927b9-b1ac-44a0-918a-5a8076a2ced3",
   "metadata": {},
   "source": [
    "* 즉, 상기 예제에서 `do x ...` Syntax는 `x`를 Parameter로 하는 익명 함수를 만들고, map 내장함수의 첫 번째 인자로 던져준다."
   ]
  },
  {
   "cell_type": "markdown",
   "id": "4655036c-ca80-4182-8761-a43ba1cfa624",
   "metadata": {},
   "source": [
    "* `do-block`을 사용하여 익명함수를 전달하고자 하는 경우, 익명함수를 다인자 함수로 하고자 한다면 `do (a,b)`와 같이 `do` 키워드 다음에 인자들을 열거한 Tuple을 써 주면 된다.\n",
    "* `do-block`을 사용하여 익명함수를 전달할 때, 인자가 없는 익명함수를 만들어 넣어주고 싶다면 `do` 키워드만 쓰면 된다. (즉, Single `do`는 `() -> ...` 꼴의 익명함수와 같은 효과를 낸다)"
   ]
  },
  {
   "cell_type": "markdown",
   "id": "ce3e763f-98a6-484d-b3d6-a67ca5ba37b4",
   "metadata": {},
   "source": [
    "* 이와 같은 Julia에서의 Function Application의 `do-block` Syntax는 함수 안에 익명 함수의 복잡한 정의를 넣는 것보다도 가독성이 좋으므로 다음과 같이 구체적으로 활용될 수 있다."
   ]
  },
  {
   "cell_type": "code",
   "execution_count": null,
   "id": "c320eadf-0d9d-43af-8808-4f7262be4a10",
   "metadata": {},
   "outputs": [],
   "source": [
    "open(\"outfile\", \"w\") do io\n",
    "    write(io, data)\n",
    "end\n",
    "# <=> open(io -> write(io, data), \"outfile\", \"w\")"
   ]
  },
  {
   "cell_type": "markdown",
   "id": "29a4451c-c73a-4540-be8f-b750ee903ff8",
   "metadata": {},
   "source": [
    "* 이상의 코드는 `open` 내장함수의 여러 Overloading Version 중 하나가 다음과 같은 정의를 가지기 때문에 자연스럽게 실행된다."
   ]
  },
  {
   "cell_type": "markdown",
   "id": "75131a2d-86dc-4e6a-9aea-6ae8d2c9c61c",
   "metadata": {},
   "source": [
    "```julia\n",
    "function open(f::Function, args...)\n",
    "    io = open(args...)\n",
    "    try\n",
    "        f(io)\n",
    "    finally\n",
    "        close(io)\n",
    "    end\n",
    "end\n",
    "```"
   ]
  },
  {
   "cell_type": "markdown",
   "id": "39b798b6-344f-476e-9154-8fc7788d9b5c",
   "metadata": {},
   "source": [
    "## Function Composition (함수 합성) & Piping (함수 연쇄 실행)"
   ]
  },
  {
   "cell_type": "markdown",
   "id": "06635f8e-b9f8-4909-9048-583eaf809412",
   "metadata": {},
   "source": [
    "* Julia에서는 함수를 합성하거나 연쇄적 실행이 가능하다."
   ]
  },
  {
   "cell_type": "markdown",
   "id": "e28ac4e5-1daa-4619-8ef4-27f8ca66a2ba",
   "metadata": {},
   "source": [
    "### 함수 합성 (Function Composition)"
   ]
  },
  {
   "cell_type": "markdown",
   "id": "8701fbd7-110b-4e6d-8672-799bb9a3f6a3",
   "metadata": {},
   "source": [
    "* Julia에서는 함수 합성 Operator (Function Composition Operator) `∘`를 사용하여 두 함수를 합성할 수 있다. (통상적인 수학에서의 함수 합성 기호로!)\n",
    "    * 이 기호는 Julia REPL에서 `\\circ` + `Tab`으로 입력이 가능하다.\n",
    "* **E.g.)** `(f ∘ g)(args...)` <=> `f(g(args...))`"
   ]
  },
  {
   "cell_type": "code",
   "execution_count": 75,
   "id": "5ae91ff2-419a-402d-9860-975e56f1603f",
   "metadata": {},
   "outputs": [
    {
     "data": {
      "text/plain": [
       "3.0"
      ]
     },
     "execution_count": 75,
     "metadata": {},
     "output_type": "execute_result"
    }
   ],
   "source": [
    "# Example\n",
    "(sqrt ∘ +)(3,6) # <=> sqrt(+(3,6)) <=> sqrt(3 + 6)"
   ]
  },
  {
   "cell_type": "code",
   "execution_count": 76,
   "id": "0a2691c6-88f1-4462-aabd-df1757fa4f38",
   "metadata": {},
   "outputs": [
    {
     "data": {
      "text/plain": [
       "6-element Vector{Char}:\n",
       " 'U': ASCII/Unicode U+0055 (category Lu: Letter, uppercase)\n",
       " 'N': ASCII/Unicode U+004E (category Lu: Letter, uppercase)\n",
       " 'E': ASCII/Unicode U+0045 (category Lu: Letter, uppercase)\n",
       " 'S': ASCII/Unicode U+0053 (category Lu: Letter, uppercase)\n",
       " 'E': ASCII/Unicode U+0045 (category Lu: Letter, uppercase)\n",
       " 'S': ASCII/Unicode U+0053 (category Lu: Letter, uppercase)"
      ]
     },
     "execution_count": 76,
     "metadata": {},
     "output_type": "execute_result"
    }
   ],
   "source": [
    "# Another Example, using map\n",
    "map(first ∘ reverse ∘ uppercase, split(\"you can compile functions like this\"))\n",
    "# 문자열을 공백 기준으로 분리, 모두 대문자화(uppercase) -> 뒤집고(reverse) -> 그 첫글자 가져오기(first)"
   ]
  },
  {
   "cell_type": "markdown",
   "id": "9ca7c9d8-0f35-4472-8419-e4c2cd1b2492",
   "metadata": {},
   "source": [
    "### 함수 연쇄 실행 (Function Chaining or Piping)"
   ]
  },
  {
   "cell_type": "markdown",
   "id": "04dbac02-e776-45a0-ac0a-396c1ca7004e",
   "metadata": {},
   "source": [
    "* Julia에서는 함수 Chaining Operator (Piping Operator) `|>` 를 이용하여 함수의 출력을 다른 함수의 입력으로 이어줄 수 있다.\n",
    "    * **E.g.)** `x |> f |> g` <=> `g(f(x))`"
   ]
  },
  {
   "cell_type": "markdown",
   "id": "74a9bbb2-59f0-432d-87d4-51c9dd5cb2bb",
   "metadata": {},
   "source": [
    "* 함수의 합성은 합성 연산자 뒤에 오는 함수를 먼저 적용하지만, 함수의 연쇄 실행은 연산자 뒤에 오는 함수를 나중에 적용하는 차이가 있음에 주의하자."
   ]
  },
  {
   "cell_type": "code",
   "execution_count": 77,
   "id": "a8fed3a3-1d86-42b8-8762-8b9df55a6aab",
   "metadata": {},
   "outputs": [
    {
     "data": {
      "text/plain": [
       "7.416198487095663"
      ]
     },
     "execution_count": 77,
     "metadata": {},
     "output_type": "execute_result"
    }
   ],
   "source": [
    "# Example\n",
    "1:10 |> sum |> sqrt # <=> sqrt(sum(1:10))"
   ]
  },
  {
   "cell_type": "markdown",
   "id": "56661f09-8f99-43a3-8fa8-4e6e7f259b57",
   "metadata": {},
   "source": [
    "* Pipe Operator는 Element-wise하게 적용될 수도 있다. 즉, `.|>` 연산이 지원된다."
   ]
  },
  {
   "cell_type": "code",
   "execution_count": 78,
   "id": "66b447a3-a603-4705-b690-d74e0971df2e",
   "metadata": {},
   "outputs": [
    {
     "data": {
      "text/plain": [
       "4-element Vector{Any}:\n",
       "  \"A\"\n",
       "  \"tsil\"\n",
       "  \"Of\"\n",
       " 7"
      ]
     },
     "execution_count": 78,
     "metadata": {},
     "output_type": "execute_result"
    }
   ],
   "source": [
    "# Example for Vectorized Chaining\n",
    "[\"a\", \"list\", \"of\", \"strings\"] .|> [uppercase, reverse, titlecase, length]\n",
    "# <=>\n",
    "# [uppsercase(\"a\"), reverse(\"list\"), titlecase(\"of\"), length(\"strings\")]"
   ]
  },
  {
   "cell_type": "markdown",
   "id": "5b7664a1-97aa-4923-bca7-272123aae31e",
   "metadata": {},
   "source": [
    "* Piping Operator와 익명 함수를 동시에 사용할 때는 익명함수와 Piping을 구분하기 위해 괄호를 쳐 주어서 구분되게 해야 한다."
   ]
  },
  {
   "cell_type": "code",
   "execution_count": 79,
   "id": "a98afbb9-e3a6-44a4-a53b-a81f11ccb194",
   "metadata": {},
   "outputs": [
    {
     "data": {
      "text/plain": [
       "3.7416573867739413"
      ]
     },
     "execution_count": 79,
     "metadata": {},
     "output_type": "execute_result"
    }
   ],
   "source": [
    "1:3 .|> (x -> x^2) |> sum |> sqrt\n",
    "# sqrt(sum((1:3) .^ 2))"
   ]
  },
  {
   "cell_type": "code",
   "execution_count": 80,
   "id": "e246653a-5097-4e1c-b2b3-bc07db52695f",
   "metadata": {},
   "outputs": [
    {
     "data": {
      "text/plain": [
       "3-element Vector{Float64}:\n",
       " 1.0\n",
       " 2.0\n",
       " 3.0"
      ]
     },
     "execution_count": 80,
     "metadata": {},
     "output_type": "execute_result"
    }
   ],
   "source": [
    "1:3 .|> x -> x^2 |> sum |> sqrt\n",
    "# <=> 1:3 .|> (x -> x^2 |> sum \\> sqrt)"
   ]
  },
  {
   "cell_type": "markdown",
   "id": "26161ca1-446e-4c3c-967c-4cb7b64d6d56",
   "metadata": {},
   "source": [
    "## Dot Syntax for Vectorizing Functions"
   ]
  },
  {
   "cell_type": "markdown",
   "id": "922fd5e9-e63b-4b96-bc97-6d36c0ea5bd9",
   "metadata": {},
   "source": [
    "* 많은 Data Science 언어에서, for-loop에서 일일이 Function을 call하는 것보다는 Function을 Vectorized Version으로 만들어 Container 각각의 Value에 대해 전체적으로 빠르게 적용해주는 것이 성능 면에서 훨씬 좋다. Julia는 이러한 Function Vectorization을 별도의 함수 호출 없이, '연산자'를 사용하여 곧바로 할 수 있도록 해준다."
   ]
  },
  {
   "cell_type": "markdown",
   "id": "22541a81-302d-4819-9ed7-f2594d604907",
   "metadata": {},
   "source": [
    "* **Julia는 임의의 함수를 선언한 경우, 그 함수 이름 뒤에 곧바로 Dot Operator `.`를 붙여 그 함수를 Vectorization할 수 있다.**"
   ]
  },
  {
   "cell_type": "code",
   "execution_count": 82,
   "id": "977c8400-7de3-450c-a7c1-8b8acb231b5b",
   "metadata": {},
   "outputs": [
    {
     "data": {
      "text/plain": [
       "3-element Vector{Float64}:\n",
       " 0.8414709848078965\n",
       " 0.9092974268256817\n",
       " 0.1411200080598672"
      ]
     },
     "execution_count": 82,
     "metadata": {},
     "output_type": "execute_result"
    }
   ],
   "source": [
    "arr = [1.0, 2.0, 3.0]\n",
    "sin.(arr)"
   ]
  },
  {
   "cell_type": "markdown",
   "id": "1929adcb-1b94-4fff-b7fc-7f40cc2445dd",
   "metadata": {},
   "source": [
    "* 물론 함수 자체를 Vectorizative하게 선언해서, 이를테면 `f(A::AbstractArray) = map(f, A)`와 같이 정의한 경우는 `f(A)`로 곧바로 실행이 가능하고, 이 역시 `f.(A)`만큼이나 효율적이다. 그러나 Julia는 이러한 Dot Operator를 통한 Function Vectorization을 지원하기 때문에, 함수 설계 단계에서부터 Vectorization을 크게 고려하지 않아도 된다는 장점이 있다."
   ]
  },
  {
   "cell_type": "markdown",
   "id": "171a7119-59db-4d5e-aa2c-0e8ff7c369b7",
   "metadata": {},
   "source": [
    "* **조금 더 정확하게는,** Julia는 `f.(args...)`를 `broadcast(f, args...)`로 Parsing하여 처리한다. 즉, Julia의 Dot Operator를 통한 Function Vectorization은 Broadcasting까지 알아서 해 준다."
   ]
  },
  {
   "cell_type": "code",
   "execution_count": 83,
   "id": "3d9a32c0-0bb6-433f-a2c0-af6d6809e588",
   "metadata": {},
   "outputs": [
    {
     "data": {
      "text/plain": [
       "3-element Vector{Float64}:\n",
       " 13.42477796076938\n",
       " 17.42477796076938\n",
       " 21.42477796076938"
      ]
     },
     "execution_count": 83,
     "metadata": {},
     "output_type": "execute_result"
    }
   ],
   "source": [
    "# Example\n",
    "f(x, y) = 3x + 4y\n",
    "f.(pi, [1, 2, 3]) # pi - a single value will be expanded to [pi, pi, pi] during the broadcasting"
   ]
  },
  {
   "cell_type": "code",
   "execution_count": 85,
   "id": "384fd013-f43a-459c-8198-5903bef5ffe8",
   "metadata": {},
   "outputs": [
    {
     "data": {
      "text/plain": [
       "3-element Vector{Int64}:\n",
       " 5\n",
       " 7\n",
       " 9"
      ]
     },
     "execution_count": 85,
     "metadata": {},
     "output_type": "execute_result"
    }
   ],
   "source": [
    "# Another Example\n",
    "hap(x1, x2) = x1 + x2\n",
    "hap.([1, 2, 3], [4, 5, 6]) # returns [1 + 4, 2 + 5, 3 + 6]"
   ]
  },
  {
   "cell_type": "markdown",
   "id": "1056fa75-b62f-4222-bcf2-cf7d7bbd40a6",
   "metadata": {},
   "source": [
    "* Dot Operator를 통한 Function Vectorization에서, Keyword Argument들은 Broadcasting되지는 않는다. 대신, Each Function Call에서 Passing된다.\n",
    "    * **E.g.)** `round.(x, digits=3)` <=> `broadcast(x -> round(x, digits=3), x)`"
   ]
  },
  {
   "cell_type": "markdown",
   "id": "853b458a-088d-4288-82e5-7629651a728d",
   "metadata": {},
   "source": [
    "* Julia는 Performance를 위해서, Nested Dot Operator를 통한 Function Vectorization Call은 Single Broadcast Loop으로 합쳐서 해 준다.\n",
    "* 즉, 이를테면 `sin.(cos.(X))`는 `broadcast(x -> sin(cos(x)), X)` 또는 `[sin(cos(x)) for x in X]`와 같다.\n",
    "* 이러한 Nested Dot Operator에서 Single Broadcast Loop으로의 Fusion은 Compiler 수준에서 최적화를 위해 할 수도 있고 하지 않을 수도 있는 것이 아니다. 반드시 일어난다. (*Syntactic Guarantee*)\n",
    "* 기술적으로 Nested Function Call에서 Dot Fusion은 Non-Dot Function을 만나면 거기서 종료된다. 이를테면, `sin.(sort(cos.(X)))`의 경우 sin 함수 계산용 loop와 cos 함수 계산용 loop는 sort 함수 때문에 fusion되지 않는다."
   ]
  },
  {
   "cell_type": "markdown",
   "id": "c3a0c5f8-46b2-4d1b-a630-def59e8f8a19",
   "metadata": {},
   "source": [
    "* 성능을 위해서는 보통 Output Array를 미리 Allocate해 두는 경우가 Python에서 종종 있는데, Julia에서는 `X .= ...`와 같은 형태로 미리 Allocate한 Array에 대해 Element-wise하게 계산이 가능하다. `.=` 또한 Nested Loop에 자동으로 Fusion된다.\n",
    "    * **E.g.)** `X .= ...` <=> `broadcast!(identity, X, ..._` (Except, the `broadcast!` loop is fused with any nested \"dot\" calls.)\n",
    "    * **E.g.)** `X .= sin.(Y)` <=> `broadcast!(sin, X, Y)` (Overwriting `X` with `sin.(Y)` IN-PLACE)\n",
    "* 이러한 Pre-Allocated Array에 대한 Fusion은 Element-wise 대입 연산자 `.=`의 좌변이 Array-Indexing Expr인 경우에도 일어난다.\n",
    "    * 이를테면, `X[begin+1:end] .= sin.(Y)`의 경우 `broadcast!(sin, view(X, firstindex(X)+1:lastindex(X)), Y)`로 자동으로 Parsing되어 In-place로 X가 Update된다."
   ]
  },
  {
   "cell_type": "markdown",
   "id": "4a8bc1a6-a4b9-4a85-9206-2c3a3e4515ac",
   "metadata": {},
   "source": [
    "### Macro `@.`를 이용한 전체 식 Vectorization"
   ]
  },
  {
   "cell_type": "markdown",
   "id": "082edb22-3ae1-449b-8bf0-eb26d9f96818",
   "metadata": {},
   "source": [
    "* 각각의 함수 또는 Operator에 대해 Dot을 붙이는 것은 가독성이 떨어지고, 또한 귀찮다. Julia는 식에서 모든 함수와 Operator를 Vectorization해 주는 Macro `@.`를 지원한다.\n",
    "* **이 Macro `@.`를 Expression 앞에 공백으로 분리하여 붙이면, Julia는 이 Expression에 등장하는 모든 함수와 연산자를 Vectorization하여 실행한다.**"
   ]
  },
  {
   "cell_type": "code",
   "execution_count": 87,
   "id": "f9615439-1e0e-414b-bbf6-081088273882",
   "metadata": {},
   "outputs": [
    {
     "data": {
      "text/plain": [
       "4-element Vector{Float64}:\n",
       "  0.5143952585235492\n",
       " -0.4042391538522658\n",
       " -0.8360218615377305\n",
       " -0.6080830096407656"
      ]
     },
     "execution_count": 87,
     "metadata": {},
     "output_type": "execute_result"
    }
   ],
   "source": [
    "arr1 = [1.0, 2.0, 3.0, 4.0]\n",
    "arr2 = similar(arr1) # pre-allocate output array\n",
    "@. arr2 = sin(cos(arr1)) # <=> arr2 .= sin.(cos.(arr1))"
   ]
  },
  {
   "cell_type": "markdown",
   "id": "58335d6e-529d-4523-a979-9ceaa4512252",
   "metadata": {},
   "source": [
    "* 축약 대입 연산자의 경우도 \"dot\" version의 경우는 대입 연산자까지도 \"dot\"된 것으로 취급한다."
   ]
  },
  {
   "cell_type": "code",
   "execution_count": 88,
   "id": "dafad981-6a4c-43b5-ac62-1a143e56ed1e",
   "metadata": {},
   "outputs": [
    {
     "data": {
      "text/plain": [
       "4-element Vector{Float64}:\n",
       " 3.0\n",
       " 5.0\n",
       " 7.0\n",
       " 9.0"
      ]
     },
     "execution_count": 88,
     "metadata": {},
     "output_type": "execute_result"
    }
   ],
   "source": [
    "arr1 = [1.0, 2.0, 3.0, 4.0]\n",
    "arr2 = [2.0, 3.0, 4.0, 5.0]\n",
    "arr2 .+= arr1 # <=> arr2 .= arr1 .+ arr2"
   ]
  },
  {
   "cell_type": "markdown",
   "id": "53bc80a4-8879-4511-a499-934496346afc",
   "metadata": {},
   "source": [
    "* Function Chaining도 \"dot\"화 가능함에 언제나 주의!"
   ]
  },
  {
   "cell_type": "code",
   "execution_count": 89,
   "id": "d5f7c33c-d835-4f8c-b56c-0ae7e8aeb64d",
   "metadata": {},
   "outputs": [
    {
     "data": {
      "text/plain": [
       "5-element Vector{Real}:\n",
       "    1\n",
       "    0.5\n",
       "    6\n",
       "   -4\n",
       " true"
      ]
     },
     "execution_count": 89,
     "metadata": {},
     "output_type": "execute_result"
    }
   ],
   "source": [
    "1:5 .|> [x -> x^2, inv, x -> 2*x, -, isodd]\n",
    "# <=>\n",
    "# [1^2, inv(2), 2*3, -4, isodd(5)]"
   ]
  },
  {
   "cell_type": "code",
   "execution_count": null,
   "id": "887f0097-5517-48cf-8f42-aa2cf3ab1588",
   "metadata": {},
   "outputs": [],
   "source": []
  }
 ],
 "metadata": {
  "kernelspec": {
   "display_name": "Julia 1.9.3",
   "language": "julia",
   "name": "julia-1.9"
  },
  "language_info": {
   "file_extension": ".jl",
   "mimetype": "application/julia",
   "name": "julia",
   "version": "1.9.3"
  },
  "toc": {
   "base_numbering": 1,
   "nav_menu": {},
   "number_sections": true,
   "sideBar": true,
   "skip_h1_title": false,
   "title_cell": "Table of Contents",
   "title_sidebar": "Contents",
   "toc_cell": false,
   "toc_position": {},
   "toc_section_display": true,
   "toc_window_display": false
  },
  "varInspector": {
   "cols": {
    "lenName": 16,
    "lenType": 16,
    "lenVar": 40
   },
   "kernels_config": {
    "python": {
     "delete_cmd_postfix": "",
     "delete_cmd_prefix": "del ",
     "library": "var_list.py",
     "varRefreshCmd": "print(var_dic_list())"
    },
    "r": {
     "delete_cmd_postfix": ") ",
     "delete_cmd_prefix": "rm(",
     "library": "var_list.r",
     "varRefreshCmd": "cat(var_dic_list()) "
    }
   },
   "types_to_exclude": [
    "module",
    "function",
    "builtin_function_or_method",
    "instance",
    "_Feature"
   ],
   "window_display": false
  }
 },
 "nbformat": 4,
 "nbformat_minor": 5
}
