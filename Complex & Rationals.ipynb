{
 "cells": [
  {
   "cell_type": "markdown",
   "id": "99b145bd",
   "metadata": {},
   "source": [
    "# Complex and Rational Numbers in Julia\n",
    "---\n",
    "* Created on 28 Aug 2023\n",
    "* Created by Yooshin Oh (stevenoh0908@snu.ac.kr)\n",
    "---\n",
    "* <span class=\"mark\">Documentation: https://docs.julialang.org/en/v1/manual/strings/</span>"
   ]
  },
  {
   "cell_type": "markdown",
   "id": "29e998c8",
   "metadata": {},
   "source": [
    "## Introduction"
   ]
  },
  {
   "cell_type": "markdown",
   "id": "c858d255",
   "metadata": {},
   "source": [
    "* Julia는 Python과 마찬가지로 **복소수(Complex Numbers)**와 **분수(Rational Numbers)**에 대한 Pre-defined Type들을 지원하며, 이들에 대한 기초적인 Mathematical Operations과 Elementary Functions를 지원한다.\n",
    "* 당연히 이들 Type과 기초 Numeric Type 사이의 형변환과 자동 형변환 모두 지원된다."
   ]
  },
  {
   "cell_type": "markdown",
   "id": "e7ca2d18",
   "metadata": {},
   "source": [
    "## Complex Numbers"
   ]
  },
  {
   "cell_type": "markdown",
   "id": "c8fc7872",
   "metadata": {},
   "source": [
    "* 여타 언어들과는 달리 **Julia에서는 허수를 표현할 때 `im`을 사용한다**.\n",
    "* `i`, `j`와 같이 다른 언어들에서 허수 단위를 표현할 때 쓰는 단위들은 프로그래밍의 반복문에서 자주 쓰이는 변수인데다가, Julia는 Numeric Literal Coef 문법을 채택했기에 복소수 표기에 부적절하여 `im`이 채택되었다."
   ]
  },
  {
   "cell_type": "markdown",
   "id": "67003ee3",
   "metadata": {},
   "source": [
    "* Julia는 Numeric Literal Coef 문법을 채택하므로, 별도의 곱하기 기호 없이 곧바로 `1 + 2im`과 같은 식으로 복소수를 표현할 수 있다."
   ]
  },
  {
   "cell_type": "code",
   "execution_count": 1,
   "id": "47ce6f0c",
   "metadata": {
    "ExecuteTime": {
     "end_time": "2023-08-28T21:38:21.088000+09:00",
     "start_time": "2023-08-28T12:38:18.494Z"
    }
   },
   "outputs": [
    {
     "data": {
      "text/plain": [
       "1 + 2im"
      ]
     },
     "execution_count": 1,
     "metadata": {},
     "output_type": "execute_result"
    }
   ],
   "source": [
    "1 + 2im"
   ]
  },
  {
   "cell_type": "markdown",
   "id": "a5544cdc",
   "metadata": {},
   "source": [
    "* 복소수에 대한 Mathematical Operation들은 그대로 지원된다."
   ]
  },
  {
   "cell_type": "code",
   "execution_count": 2,
   "id": "bfee79a2",
   "metadata": {
    "ExecuteTime": {
     "end_time": "2023-08-28T21:39:15.696000+09:00",
     "start_time": "2023-08-28T12:39:15.084Z"
    }
   },
   "outputs": [
    {
     "data": {
      "text/plain": [
       "8 + 1im"
      ]
     },
     "execution_count": 2,
     "metadata": {},
     "output_type": "execute_result"
    }
   ],
   "source": [
    "(1 + 2im) * (2 - 3im)"
   ]
  },
  {
   "cell_type": "code",
   "execution_count": 3,
   "id": "585d89ed",
   "metadata": {
    "ExecuteTime": {
     "end_time": "2023-08-28T21:39:26.698000+09:00",
     "start_time": "2023-08-28T12:39:25.856Z"
    }
   },
   "outputs": [
    {
     "data": {
      "text/plain": [
       "-0.6 + 0.8im"
      ]
     },
     "execution_count": 3,
     "metadata": {},
     "output_type": "execute_result"
    }
   ],
   "source": [
    "(1 + 2im) / (1 - 2im)"
   ]
  },
  {
   "cell_type": "code",
   "execution_count": 4,
   "id": "0f2b77ee",
   "metadata": {
    "ExecuteTime": {
     "end_time": "2023-08-28T21:39:36.676000+09:00",
     "start_time": "2023-08-28T12:39:35.864Z"
    }
   },
   "outputs": [
    {
     "data": {
      "text/plain": [
       "Complex{Int64}"
      ]
     },
     "execution_count": 4,
     "metadata": {},
     "output_type": "execute_result"
    }
   ],
   "source": [
    "typeof((1 + 2im) + (1 - 2im))"
   ]
  },
  {
   "cell_type": "code",
   "execution_count": 5,
   "id": "00e5f72c",
   "metadata": {
    "ExecuteTime": {
     "end_time": "2023-08-28T21:39:49.373000+09:00",
     "start_time": "2023-08-28T12:39:48.775Z"
    }
   },
   "outputs": [
    {
     "data": {
      "text/plain": [
       "-8 + 3im"
      ]
     },
     "execution_count": 5,
     "metadata": {},
     "output_type": "execute_result"
    }
   ],
   "source": [
    "(-3 + 2im) - (5 - im) # 허수 단위 앞에 1을 생략해도 아무런 문제가 없다"
   ]
  },
  {
   "cell_type": "code",
   "execution_count": 6,
   "id": "774df2a5",
   "metadata": {
    "ExecuteTime": {
     "end_time": "2023-08-28T21:40:12.631000+09:00",
     "start_time": "2023-08-28T12:40:12.053Z"
    }
   },
   "outputs": [
    {
     "data": {
      "text/plain": [
       "-3 - 4im"
      ]
     },
     "execution_count": 6,
     "metadata": {},
     "output_type": "execute_result"
    }
   ],
   "source": [
    "(-1 + 2im) ^ 2 # 승수 연산도 지원된다."
   ]
  },
  {
   "cell_type": "code",
   "execution_count": 7,
   "id": "b487888b",
   "metadata": {
    "ExecuteTime": {
     "end_time": "2023-08-28T21:40:19.339000+09:00",
     "start_time": "2023-08-28T12:40:18.561Z"
    }
   },
   "outputs": [
    {
     "data": {
      "text/plain": [
       "2.729624464784009 - 6.9606644595719im"
      ]
     },
     "execution_count": 7,
     "metadata": {},
     "output_type": "execute_result"
    }
   ],
   "source": [
    "(-1 + 2im) ^ 2.5"
   ]
  },
  {
   "cell_type": "code",
   "execution_count": 8,
   "id": "8360e97a",
   "metadata": {
    "ExecuteTime": {
     "end_time": "2023-08-28T21:40:29.854000+09:00",
     "start_time": "2023-08-28T12:40:29.232Z"
    }
   },
   "outputs": [
    {
     "data": {
      "text/plain": [
       "-0.27910381075826657 + 0.08708053414102428im"
      ]
     },
     "execution_count": 8,
     "metadata": {},
     "output_type": "execute_result"
    }
   ],
   "source": [
    "(-1 + 2im) ^ (1 + 1im)"
   ]
  },
  {
   "cell_type": "code",
   "execution_count": 9,
   "id": "5409d947",
   "metadata": {
    "ExecuteTime": {
     "end_time": "2023-08-28T21:40:36.094000+09:00",
     "start_time": "2023-08-28T12:40:35.514Z"
    }
   },
   "outputs": [
    {
     "data": {
      "text/plain": [
       "6 - 15im"
      ]
     },
     "execution_count": 9,
     "metadata": {},
     "output_type": "execute_result"
    }
   ],
   "source": [
    "3(2-5im)"
   ]
  },
  {
   "cell_type": "code",
   "execution_count": 10,
   "id": "18c0d77c",
   "metadata": {
    "ExecuteTime": {
     "end_time": "2023-08-28T21:40:46.813000+09:00",
     "start_time": "2023-08-28T12:40:46.234Z"
    }
   },
   "outputs": [
    {
     "data": {
      "text/plain": [
       "0.20689655172413796 + 0.5172413793103449im"
      ]
     },
     "execution_count": 10,
     "metadata": {},
     "output_type": "execute_result"
    }
   ],
   "source": [
    "3(2 - 5im) ^ -1.0"
   ]
  },
  {
   "cell_type": "markdown",
   "id": "6692d702",
   "metadata": {},
   "source": [
    "* Julia의 Type Promotion Mechanism에 의해 다른 Type과 복소수 사이에도 연산이 잘 수행된다. (알아서 다른 Type을 Complex 자료형으로 바꾸어 연산함)"
   ]
  },
  {
   "cell_type": "code",
   "execution_count": 11,
   "id": "9ba456ec",
   "metadata": {
    "ExecuteTime": {
     "end_time": "2023-08-28T21:42:09.385000+09:00",
     "start_time": "2023-08-28T12:42:08.808Z"
    }
   },
   "outputs": [
    {
     "data": {
      "text/plain": [
       "2 - 2im"
      ]
     },
     "execution_count": 11,
     "metadata": {},
     "output_type": "execute_result"
    }
   ],
   "source": [
    "2(1- 1im)"
   ]
  },
  {
   "cell_type": "code",
   "execution_count": 12,
   "id": "680b3063",
   "metadata": {
    "ExecuteTime": {
     "end_time": "2023-08-28T21:42:13.755000+09:00",
     "start_time": "2023-08-28T12:42:13.176Z"
    }
   },
   "outputs": [
    {
     "data": {
      "text/plain": [
       "1 + 3im"
      ]
     },
     "execution_count": 12,
     "metadata": {},
     "output_type": "execute_result"
    }
   ],
   "source": [
    "(2 + 3im) - 1 # Int64 -> Complex{Int64} 로 Promotion되어 연산됨."
   ]
  },
  {
   "cell_type": "code",
   "execution_count": null,
   "id": "193800a8",
   "metadata": {},
   "outputs": [],
   "source": [
    "(2 + 3im) - 0.5im # Complex{Int64} -> Complex{Float64}로 Promotion되어 연산됨."
   ]
  },
  {
   "cell_type": "markdown",
   "id": "6a3e41ee",
   "metadata": {},
   "source": [
    "* <span class=\"mark\">**주의**</span>: 복소수 허수단위 `im`은 Division보다 우선순위가 높다. 따라서 `3 / 4im`은 `3 / (4*im)`으로 처리되지, `(3/4) * im`으로 처리되지 않는다."
   ]
  },
  {
   "cell_type": "markdown",
   "id": "d8d3d7c0",
   "metadata": {},
   "source": [
    "### Complex 관련 내장함수들"
   ]
  },
  {
   "cell_type": "markdown",
   "id": "916e9a78",
   "metadata": {},
   "source": [
    "* Julia는 복소수 처리와 관련하여 다음과 같은 내장함수들을 지원한다."
   ]
  },
  {
   "cell_type": "markdown",
   "id": "0c1f0a91",
   "metadata": {},
   "source": [
    "|Function|Description|\n",
    "|:----:|:--------------:|\n",
    "|`real(z)`|Returns the Real Part of Complex `z`|\n",
    "|`imag(z)`|Returns the Imaginary Part of Complex `z`|\n",
    "|`conj(z)`|Returns the Complex Conjugate of `z`|\n",
    "|`abs(z)`|Returns the Absolute Value of `z`|\n",
    "|`abs2(z)`|Returns the Squared Absolute Value of `z`|\n",
    "|`angle(z)`|Returns Phase Angle of `z`, in Radians|"
   ]
  },
  {
   "cell_type": "code",
   "execution_count": 13,
   "id": "992d6e30",
   "metadata": {
    "ExecuteTime": {
     "end_time": "2023-08-28T21:47:39.627000+09:00",
     "start_time": "2023-08-28T12:47:38.893Z"
    }
   },
   "outputs": [
    {
     "name": "stdout",
     "output_type": "stream",
     "text": [
      "1\n",
      "2\n",
      "1 - 2im\n",
      "2.23606797749979\n",
      "5\n",
      "1.1071487177940904\n"
     ]
    }
   ],
   "source": [
    "z = 1+2im\n",
    "println(real(z)) # real part of complex z\n",
    "println(imag(z)) # imaginary part of complex z\n",
    "println(conj(z)) # complex conjugate of z\n",
    "println(abs(z)) # absolute value of z\n",
    "println(abs2(z)) # squared absolute value of z\n",
    "println(angle(z)) # pahse angle of complex z, in radians\n"
   ]
  },
  {
   "cell_type": "markdown",
   "id": "2acfb5fa",
   "metadata": {},
   "source": [
    "* Elementary Function들은 Complex를 지원하도록 설계되어 있다."
   ]
  },
  {
   "cell_type": "code",
   "execution_count": 14,
   "id": "cd3a1cbd",
   "metadata": {
    "ExecuteTime": {
     "end_time": "2023-08-28T21:48:09.320000+09:00",
     "start_time": "2023-08-28T12:48:08.716Z"
    }
   },
   "outputs": [
    {
     "data": {
      "text/plain": [
       "0.7071067811865476 + 0.7071067811865475im"
      ]
     },
     "execution_count": 14,
     "metadata": {},
     "output_type": "execute_result"
    }
   ],
   "source": [
    "sqrt(1im)"
   ]
  },
  {
   "cell_type": "code",
   "execution_count": 15,
   "id": "7a9c25f9",
   "metadata": {
    "ExecuteTime": {
     "end_time": "2023-08-28T21:48:17.348000+09:00",
     "start_time": "2023-08-28T12:48:16.674Z"
    }
   },
   "outputs": [
    {
     "data": {
      "text/plain": [
       "2.0327230070196656 - 3.0518977991518im"
      ]
     },
     "execution_count": 15,
     "metadata": {},
     "output_type": "execute_result"
    }
   ],
   "source": [
    "cos(1 + 2im)"
   ]
  },
  {
   "cell_type": "code",
   "execution_count": 16,
   "id": "6abf2b90",
   "metadata": {
    "ExecuteTime": {
     "end_time": "2023-08-28T21:48:28.787000+09:00",
     "start_time": "2023-08-28T12:48:28.203Z"
    }
   },
   "outputs": [
    {
     "data": {
      "text/plain": [
       "-1.1312043837568135 + 2.4717266720048188im"
      ]
     },
     "execution_count": 16,
     "metadata": {},
     "output_type": "execute_result"
    }
   ],
   "source": [
    "exp(1+2im)"
   ]
  },
  {
   "cell_type": "code",
   "execution_count": 17,
   "id": "1b5391f6",
   "metadata": {
    "ExecuteTime": {
     "end_time": "2023-08-28T21:48:37.993000+09:00",
     "start_time": "2023-08-28T12:48:37.408Z"
    }
   },
   "outputs": [
    {
     "data": {
      "text/plain": [
       "-0.4890562590412937 + 1.4031192506220405im"
      ]
     },
     "execution_count": 17,
     "metadata": {},
     "output_type": "execute_result"
    }
   ],
   "source": [
    "sinh(1+2im)"
   ]
  },
  {
   "cell_type": "markdown",
   "id": "94f8a505",
   "metadata": {},
   "source": [
    "* 다만 Mathematical Function들은 입력으로 real number가 주어지면 real number를 return하고, complex number가 주어져야 complex number를 return함에 주의해야 한다,\n",
    "    * 이를테면, 만약 제곱근 함수 `sqrt`를 인자를 `Int64`형인 `-1`로 해서 실행하면 `DomainError`가 raise되나, 인자를 `Complex{Int64}`형인 `-1 + 0im`으로 하여 실행하면 정상적으로 나온다."
   ]
  },
  {
   "cell_type": "code",
   "execution_count": 18,
   "id": "52ba7895",
   "metadata": {
    "ExecuteTime": {
     "end_time": "2023-08-28T21:50:13.585000+09:00",
     "start_time": "2023-08-28T12:50:12.700Z"
    }
   },
   "outputs": [
    {
     "ename": "DomainError",
     "evalue": "\u001b[91mDomainError with -1.0:\u001b[39m\n\u001b[91msqrt will only return a complex result if called with a complex argument. Try sqrt(Complex(x)).\u001b[39m",
     "output_type": "error",
     "traceback": [
      "\u001b[91mDomainError with -1.0:\u001b[39m\n\u001b[91msqrt will only return a complex result if called with a complex argument. Try sqrt(Complex(x)).\u001b[39m",
      "",
      "Stacktrace:",
      " [1] throw_complex_domainerror(::Symbol, ::Float64) at ./math.jl:33",
      " [2] sqrt at ./math.jl:557 [inlined]",
      " [3] sqrt(::Int64) at ./math.jl:583",
      " [4] top-level scope at In[18]:1"
     ]
    }
   ],
   "source": [
    "sqrt(-1)"
   ]
  },
  {
   "cell_type": "code",
   "execution_count": 19,
   "id": "f70584d3",
   "metadata": {
    "ExecuteTime": {
     "end_time": "2023-08-28T21:50:17.874000+09:00",
     "start_time": "2023-08-28T12:50:17.295Z"
    }
   },
   "outputs": [
    {
     "data": {
      "text/plain": [
       "0.0 + 1.0im"
      ]
     },
     "execution_count": 19,
     "metadata": {},
     "output_type": "execute_result"
    }
   ],
   "source": [
    "sqrt(-1 + 0im)"
   ]
  },
  {
   "cell_type": "markdown",
   "id": "1893e944",
   "metadata": {},
   "source": [
    "* Literal Numeric Coef Notation은 변수들을 이용해서 Complex를 만들 때는 적용되지 않는다. (변수 이름일 수도 있으므로) 이 경우는 Multiplication을 명시적으로 사용해야 한다."
   ]
  },
  {
   "cell_type": "code",
   "execution_count": 20,
   "id": "79acbcb8",
   "metadata": {
    "ExecuteTime": {
     "end_time": "2023-08-28T21:51:32.841000+09:00",
     "start_time": "2023-08-28T12:51:32.237Z"
    }
   },
   "outputs": [
    {
     "data": {
      "text/plain": [
       "1 + 2im"
      ]
     },
     "execution_count": 20,
     "metadata": {},
     "output_type": "execute_result"
    }
   ],
   "source": [
    "a = 1; b = 2; a + b * im # Not a + bim (이는 bim이 identifier인지, b * im인지 compiler가 구분할 수 없기 때문))"
   ]
  },
  {
   "cell_type": "markdown",
   "id": "4ae86c8d",
   "metadata": {},
   "source": [
    "* `Inf`나 `NaN`은 Complex Number에서 `Floating-point` IEEE 754 표준에 따라 그 연산에서 Propagate된다."
   ]
  },
  {
   "cell_type": "code",
   "execution_count": 21,
   "id": "a21a92b5",
   "metadata": {
    "ExecuteTime": {
     "end_time": "2023-08-28T21:52:15.882000+09:00",
     "start_time": "2023-08-28T12:52:15.295Z"
    }
   },
   "outputs": [
    {
     "data": {
      "text/plain": [
       "1.0 + Inf*im"
      ]
     },
     "execution_count": 21,
     "metadata": {},
     "output_type": "execute_result"
    }
   ],
   "source": [
    "1 + Inf * im"
   ]
  },
  {
   "cell_type": "code",
   "execution_count": 22,
   "id": "ecb7010b",
   "metadata": {
    "ExecuteTime": {
     "end_time": "2023-08-28T21:52:20.675000+09:00",
     "start_time": "2023-08-28T12:52:20.094Z"
    }
   },
   "outputs": [
    {
     "data": {
      "text/plain": [
       "1.0 + NaN*im"
      ]
     },
     "execution_count": 22,
     "metadata": {},
     "output_type": "execute_result"
    }
   ],
   "source": [
    "1 + NaN * im"
   ]
  },
  {
   "cell_type": "markdown",
   "id": "2860413c",
   "metadata": {},
   "source": [
    "## Rational Numbers"
   ]
  },
  {
   "cell_type": "markdown",
   "id": "f2fd2d03",
   "metadata": {},
   "source": [
    "* Julia는 Python이나 여타 언어와 달리, Exact한 분수를 표현하기 위한 자료형인 Rational Number 자료형을 지원한다. **분수(Rational)** 자료형은 `//` Operator를 사용하여 Construct 가능하다."
   ]
  },
  {
   "cell_type": "code",
   "execution_count": 23,
   "id": "5b6dd758",
   "metadata": {
    "ExecuteTime": {
     "end_time": "2023-08-28T21:53:18.524000+09:00",
     "start_time": "2023-08-28T12:53:17.921Z"
    }
   },
   "outputs": [
    {
     "data": {
      "text/plain": [
       "Rational{Int64}"
      ]
     },
     "execution_count": 23,
     "metadata": {},
     "output_type": "execute_result"
    }
   ],
   "source": [
    "typeof(2//3)"
   ]
  },
  {
   "cell_type": "code",
   "execution_count": 24,
   "id": "9c861355",
   "metadata": {
    "ExecuteTime": {
     "end_time": "2023-08-28T21:53:24.317000+09:00",
     "start_time": "2023-08-28T12:53:23.554Z"
    }
   },
   "outputs": [
    {
     "data": {
      "text/plain": [
       "-1//2"
      ]
     },
     "execution_count": 24,
     "metadata": {},
     "output_type": "execute_result"
    }
   ],
   "source": [
    "-4 // 8 # 기약분수 꼴로 항상 표기된다."
   ]
  },
  {
   "cell_type": "markdown",
   "id": "925963ae",
   "metadata": {},
   "source": [
    "* 분수 자료형의 경우, 기약분수 형태로 표기되어 비교된다. 이 때, 분수 자료형에서 분자(Numerator)와 분모(Denominator)는 내장함수 `numerator(f)`와 `denominator(f)`를 사용하여 확인할 수 있다."
   ]
  },
  {
   "cell_type": "code",
   "execution_count": 25,
   "id": "0d8f3e65",
   "metadata": {
    "ExecuteTime": {
     "end_time": "2023-08-28T21:54:24.367000+09:00",
     "start_time": "2023-08-28T12:54:23.647Z"
    }
   },
   "outputs": [
    {
     "data": {
      "text/plain": [
       "2"
      ]
     },
     "execution_count": 25,
     "metadata": {},
     "output_type": "execute_result"
    }
   ],
   "source": [
    "numerator(2//3)"
   ]
  },
  {
   "cell_type": "code",
   "execution_count": 26,
   "id": "26a919ab",
   "metadata": {
    "ExecuteTime": {
     "end_time": "2023-08-28T21:54:27.598000+09:00",
     "start_time": "2023-08-28T12:54:27.011Z"
    }
   },
   "outputs": [
    {
     "data": {
      "text/plain": [
       "3"
      ]
     },
     "execution_count": 26,
     "metadata": {},
     "output_type": "execute_result"
    }
   ],
   "source": [
    "denominator(2//3)"
   ]
  },
  {
   "cell_type": "code",
   "execution_count": 27,
   "id": "490956e0",
   "metadata": {
    "ExecuteTime": {
     "end_time": "2023-08-28T21:55:18.023000+09:00",
     "start_time": "2023-08-28T12:55:17.349Z"
    }
   },
   "outputs": [
    {
     "name": "stdout",
     "output_type": "stream",
     "text": [
      "true\n",
      "false\n",
      "true\n",
      "true\n",
      "2//3\n",
      "1//6\n",
      "5//32\n",
      "21//25\n"
     ]
    }
   ],
   "source": [
    "println(2//3 == 6//9)\n",
    "println(2//3 == 9//27)\n",
    "println(3//7 < 1//2)\n",
    "println(3//4 > 2//3)\n",
    "println(2//4 + 1//6)\n",
    "println(5//12 - 1//4)\n",
    "println(5//8 * 3//12)\n",
    "println(6//5 / 10//7)"
   ]
  },
  {
   "cell_type": "markdown",
   "id": "e9211d82",
   "metadata": {},
   "source": [
    "* Julia는 분수 자료형에 대한 수학 연산들을 지원하며, 항상 그 결과를 기약 분수로 표기한다."
   ]
  },
  {
   "cell_type": "markdown",
   "id": "510d35b2",
   "metadata": {},
   "source": [
    "### Type Conversion between Floating-Point Numbers and Rationals"
   ]
  },
  {
   "cell_type": "markdown",
   "id": "024e3ce3",
   "metadata": {},
   "source": [
    "* 당연히 Julia에서 분수(Rational)는 Casting을 통해 Floating-Point Number로 변환될 수 있다.\n",
    "* 자명히 Valid한 Rational Type은 분모와 분자 모두가 Integer여야 한다."
   ]
  },
  {
   "cell_type": "code",
   "execution_count": 28,
   "id": "e4975860",
   "metadata": {
    "ExecuteTime": {
     "end_time": "2023-08-28T21:56:22.668000+09:00",
     "start_time": "2023-08-28T12:56:21.940Z"
    }
   },
   "outputs": [
    {
     "data": {
      "text/plain": [
       "0.75"
      ]
     },
     "execution_count": 28,
     "metadata": {},
     "output_type": "execute_result"
    }
   ],
   "source": [
    "float(3//4) # float 함수 이용 가능"
   ]
  },
  {
   "cell_type": "code",
   "execution_count": 30,
   "id": "173f3e93",
   "metadata": {
    "ExecuteTime": {
     "end_time": "2023-08-28T21:56:32.664000+09:00",
     "start_time": "2023-08-28T12:56:32.077Z"
    }
   },
   "outputs": [
    {
     "data": {
      "text/plain": [
       "0.75"
      ]
     },
     "execution_count": 30,
     "metadata": {},
     "output_type": "execute_result"
    }
   ],
   "source": [
    "Float64(3//4)"
   ]
  },
  {
   "cell_type": "markdown",
   "id": "0c8f0326",
   "metadata": {},
   "source": [
    "* Rational -> Floating-point Number Casting의 Conversion은 분모가 0이거나, 분자가 0인데 분모가 음수인 경우를 제외하면 일반 상식과 동일하게 된다. 즉:"
   ]
  },
  {
   "cell_type": "code",
   "execution_count": 31,
   "id": "68c27c5e",
   "metadata": {
    "ExecuteTime": {
     "end_time": "2023-08-28T21:58:11.766000+09:00",
     "start_time": "2023-08-28T12:58:11.033Z"
    }
   },
   "outputs": [
    {
     "data": {
      "text/plain": [
       "true"
      ]
     },
     "execution_count": 31,
     "metadata": {},
     "output_type": "execute_result"
    }
   ],
   "source": [
    "a = 1; b = 2;\n",
    "isequal(float(a//b), a/b)"
   ]
  },
  {
   "cell_type": "markdown",
   "id": "e092452a",
   "metadata": {},
   "source": [
    "* Rational을 정의할 때 Infnite Rational도 정의할 수 있다."
   ]
  },
  {
   "cell_type": "code",
   "execution_count": 32,
   "id": "284a16d6",
   "metadata": {
    "ExecuteTime": {
     "end_time": "2023-08-28T21:58:16.391000+09:00",
     "start_time": "2023-08-28T12:58:15.808Z"
    }
   },
   "outputs": [
    {
     "data": {
      "text/plain": [
       "1//0"
      ]
     },
     "execution_count": 32,
     "metadata": {},
     "output_type": "execute_result"
    }
   ],
   "source": [
    "5//0"
   ]
  },
  {
   "cell_type": "code",
   "execution_count": 33,
   "id": "86f9cfe0",
   "metadata": {
    "ExecuteTime": {
     "end_time": "2023-08-28T21:58:41.996000+09:00",
     "start_time": "2023-08-28T12:58:41.410Z"
    }
   },
   "outputs": [
    {
     "data": {
      "text/plain": [
       "Rational{Int64}"
      ]
     },
     "execution_count": 33,
     "metadata": {},
     "output_type": "execute_result"
    }
   ],
   "source": [
    "x = -3//0\n",
    "typeof(x)"
   ]
  },
  {
   "cell_type": "markdown",
   "id": "2ab1e261",
   "metadata": {},
   "source": [
    "* 단, NaN Rational은 정의할 수 없다."
   ]
  },
  {
   "cell_type": "code",
   "execution_count": 34,
   "id": "dcd5677e",
   "metadata": {
    "ExecuteTime": {
     "end_time": "2023-08-28T21:58:56.751000+09:00",
     "start_time": "2023-08-28T12:58:56.066Z"
    }
   },
   "outputs": [
    {
     "ename": "ArgumentError",
     "evalue": "\u001b[91mArgumentError: invalid rational: zero(Int64)//zero(Int64)\u001b[39m",
     "output_type": "error",
     "traceback": [
      "\u001b[91mArgumentError: invalid rational: zero(Int64)//zero(Int64)\u001b[39m",
      "",
      "Stacktrace:",
      " [1] __throw_rational_argerror_zero(::Type{T} where T) at ./rational.jl:24",
      " [2] Rational at ./rational.jl:14 [inlined]",
      " [3] Rational at ./rational.jl:27 [inlined]",
      " [4] //(::Int64, ::Int64) at ./rational.jl:50",
      " [5] top-level scope at In[34]:1"
     ]
    }
   ],
   "source": [
    "0 // 0"
   ]
  },
  {
   "cell_type": "markdown",
   "id": "1fd9fe99",
   "metadata": {},
   "source": [
    "* Promotion System에 의하여 다른 Type과의 연산도 자연스럽게 된다. Numeric Type들이 알아서 Rational Type으로 Casting된 후 연산이 수행되기 때문이다."
   ]
  },
  {
   "cell_type": "code",
   "execution_count": 35,
   "id": "521f96dc",
   "metadata": {
    "ExecuteTime": {
     "end_time": "2023-08-28T21:59:43.689000+09:00",
     "start_time": "2023-08-28T12:59:43.095Z"
    }
   },
   "outputs": [
    {
     "data": {
      "text/plain": [
       "8//5"
      ]
     },
     "execution_count": 35,
     "metadata": {},
     "output_type": "execute_result"
    }
   ],
   "source": [
    "3 // 5 + 1 # Int64 -> Rational{Int64} Promotion"
   ]
  },
  {
   "cell_type": "code",
   "execution_count": 38,
   "id": "1af4e3e9",
   "metadata": {
    "ExecuteTime": {
     "end_time": "2023-08-28T22:00:27.477000+09:00",
     "start_time": "2023-08-28T13:00:26.730Z"
    }
   },
   "outputs": [
    {
     "name": "stdout",
     "output_type": "stream",
     "text": [
      "Float64\n",
      "0.09999999999999998\n"
     ]
    }
   ],
   "source": [
    "println(typeof(3//5 - 0.5)) # Rational{Int64} -> Float64 Promotion\n",
    "println(3//5 - 0.5)"
   ]
  },
  {
   "cell_type": "code",
   "execution_count": 40,
   "id": "fa909064",
   "metadata": {
    "ExecuteTime": {
     "end_time": "2023-08-28T22:01:26.329000+09:00",
     "start_time": "2023-08-28T13:01:25.701Z"
    }
   },
   "outputs": [
    {
     "name": "stdout",
     "output_type": "stream",
     "text": [
      "Complex{Rational{Int64}}\n",
      "2//7 + 4//7*im\n"
     ]
    }
   ],
   "source": [
    "println(typeof(2 // 7 * (1 + 2im))) # Rational{Int64} -> Complex{Rational{Int64}} Promotion\n",
    "println(2 // 7 * (1 + 2im))"
   ]
  },
  {
   "cell_type": "code",
   "execution_count": 41,
   "id": "1235fd96",
   "metadata": {
    "ExecuteTime": {
     "end_time": "2023-08-28T22:01:48.010000+09:00",
     "start_time": "2023-08-28T13:01:47.391Z"
    }
   },
   "outputs": [
    {
     "data": {
      "text/plain": [
       "true"
      ]
     },
     "execution_count": 41,
     "metadata": {},
     "output_type": "execute_result"
    }
   ],
   "source": [
    "0.5 == 1//2 # Rational{Int64} -> Float64 Promotion"
   ]
  },
  {
   "cell_type": "code",
   "execution_count": 42,
   "id": "9be50966",
   "metadata": {
    "ExecuteTime": {
     "end_time": "2023-08-28T22:02:02.664000+09:00",
     "start_time": "2023-08-28T13:02:02.078Z"
    }
   },
   "outputs": [
    {
     "data": {
      "text/plain": [
       "false"
      ]
     },
     "execution_count": 42,
     "metadata": {},
     "output_type": "execute_result"
    }
   ],
   "source": [
    "0.33 == 1//3 # Rational{Int64} -> Float64 Promotion"
   ]
  },
  {
   "cell_type": "code",
   "execution_count": 43,
   "id": "122302af",
   "metadata": {
    "ExecuteTime": {
     "end_time": "2023-08-28T22:02:14.651000+09:00",
     "start_time": "2023-08-28T13:02:14.048Z"
    }
   },
   "outputs": [
    {
     "data": {
      "text/plain": [
       "true"
      ]
     },
     "execution_count": 43,
     "metadata": {},
     "output_type": "execute_result"
    }
   ],
   "source": [
    "0.33 < 1//3 # Rational{Int64} -> Float64 Promotion"
   ]
  },
  {
   "cell_type": "code",
   "execution_count": 45,
   "id": "54a431c2",
   "metadata": {
    "ExecuteTime": {
     "end_time": "2023-08-28T22:02:26.066000+09:00",
     "start_time": "2023-08-28T13:02:25.479Z"
    }
   },
   "outputs": [
    {
     "data": {
      "text/plain": [
       "0.0033333333333332993"
      ]
     },
     "execution_count": 45,
     "metadata": {},
     "output_type": "execute_result"
    }
   ],
   "source": [
    "1//3 - 0.33 # Rational{Int64} -> Float64 Promotion"
   ]
  },
  {
   "cell_type": "code",
   "execution_count": null,
   "id": "44fd4f22",
   "metadata": {},
   "outputs": [],
   "source": []
  }
 ],
 "metadata": {
  "kernelspec": {
   "display_name": "Julia 1.9.3",
   "language": "julia",
   "name": "julia-1.9"
  },
  "language_info": {
   "file_extension": ".jl",
   "mimetype": "application/julia",
   "name": "julia",
   "version": "1.9.3"
  },
  "toc": {
   "base_numbering": 1,
   "nav_menu": {},
   "number_sections": true,
   "sideBar": true,
   "skip_h1_title": false,
   "title_cell": "Table of Contents",
   "title_sidebar": "Contents",
   "toc_cell": false,
   "toc_position": {},
   "toc_section_display": true,
   "toc_window_display": false
  },
  "varInspector": {
   "cols": {
    "lenName": 16,
    "lenType": 16,
    "lenVar": 40
   },
   "kernels_config": {
    "python": {
     "delete_cmd_postfix": "",
     "delete_cmd_prefix": "del ",
     "library": "var_list.py",
     "varRefreshCmd": "print(var_dic_list())"
    },
    "r": {
     "delete_cmd_postfix": ") ",
     "delete_cmd_prefix": "rm(",
     "library": "var_list.r",
     "varRefreshCmd": "cat(var_dic_list()) "
    }
   },
   "types_to_exclude": [
    "module",
    "function",
    "builtin_function_or_method",
    "instance",
    "_Feature"
   ],
   "window_display": false
  }
 },
 "nbformat": 4,
 "nbformat_minor": 5
}
