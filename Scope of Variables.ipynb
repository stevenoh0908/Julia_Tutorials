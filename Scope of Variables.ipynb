{
 "cells": [
  {
   "cell_type": "markdown",
   "id": "fceb188a-f5e9-4aac-af1e-39dcf4426263",
   "metadata": {},
   "source": [
    "# Scope of Variables in Julia\n",
    "---\n",
    "* Created on 22 Dec 2023\n",
    "* Created by Yooshin Oh (stevenoh0908@snu.ac.kr)\n",
    "---\n",
    "* <span class=\"mark\">Documentation: https://docs.julialang.org/en/v1/manual/variables-and-scoping/</span>"
   ]
  },
  {
   "cell_type": "markdown",
   "id": "f098d66c-fd00-4fb5-8ed8-b2cb9541a900",
   "metadata": {},
   "source": [
    "## Julia Scope of Variables Rules"
   ]
  },
  {
   "cell_type": "markdown",
   "id": "05a0792d-fabe-40ac-b4ae-9ec23b08e5c3",
   "metadata": {},
   "source": [
    "|Construct|Scope Type|Allowed Within|\n",
    "|:-----:|:---:|:---:|\n",
    "|module, baremodule|global|global|\n",
    "|struct|local (soft)|global|\n",
    "|for, while, try|local (soft)|global, local|\n",
    "|macro|local (hard)|global|\n",
    "|functions, do-blocks, let-blocks, comprehensions, generators|local (hard)|global, local|"
   ]
  },
  {
   "cell_type": "markdown",
   "id": "b2eb5082-e0b3-417e-9dc6-84fb6dca6385",
   "metadata": {},
   "source": [
    "* `begin`-block, `if`-block은 new scope를 introduce하는 대신 후술할 Specific Rule을 따른다."
   ]
  },
  {
   "cell_type": "markdown",
   "id": "d96e22f6-7c13-49e2-a2ff-17670a8d8fc3",
   "metadata": {},
   "source": [
    "### Lexical Scoping in Julia"
   ]
  },
  {
   "cell_type": "markdown",
   "id": "3d9e8435-5940-459e-a788-b56aa869c3a6",
   "metadata": {},
   "source": [
    "* Julia는 Lexical Scoping을 채택한다. 즉, Function의 Scope는 그 Caller's Scope를 따르지 않고, 그 Function이 정의된 Scope를 물려받는 구조이다. (*meaning that a function's scope does not inherit from its caller's scope, but from the scope in which the function was defined.*)"
   ]
  },
  {
   "cell_type": "code",
   "execution_count": 5,
   "id": "e4cae6a4-5fde-40b0-a219-1d3e37452cfe",
   "metadata": {},
   "outputs": [
    {
     "name": "stderr",
     "output_type": "stream",
     "text": [
      "WARNING: replacing module Bar.\n"
     ]
    }
   ],
   "source": [
    "module Bar\n",
    "    x = 1\n",
    "    foo() = x\n",
    "end; # x inside foo, refers to the x in the global scope of its module bar, therefore 1."
   ]
  },
  {
   "cell_type": "code",
   "execution_count": 6,
   "id": "7a1340f3-3e8b-4b22-a06b-62022e3770d6",
   "metadata": {},
   "outputs": [
    {
     "data": {
      "text/plain": [
       "1"
      ]
     },
     "execution_count": 6,
     "metadata": {},
     "output_type": "execute_result"
    }
   ],
   "source": [
    "import .Bar\n",
    "x = -1;\n",
    "Bar.foo() # not caller's scope!"
   ]
  },
  {
   "cell_type": "markdown",
   "id": "9287a116-6059-4a06-a971-29dbcdad1613",
   "metadata": {},
   "source": [
    "## Various Scope in Julia"
   ]
  },
  {
   "cell_type": "markdown",
   "id": "8a8e6c53-edb4-400a-aa68-91d8a91382fe",
   "metadata": {},
   "source": [
    "### Global Scope"
   ]
  },
  {
   "cell_type": "markdown",
   "id": "41e5055f-66e8-4525-83b0-3f1344b5b2a3",
   "metadata": {},
   "source": [
    "* 각각의 Module은 다른 Module과는 분리되는 Global Scope를 가진다. Julia에서는 C 등과는 달리, 모든 Module에서 공유되는 Top-level Global Scope는 존재하지 않는다. (***i.e.** each module is a so-called namespace as well as first-class data structure associating names with values.*)\n",
    "* 따라서 다른 Module의 Scope를 현재의 Module로 가져오고 싶다면, Python과 유사하게 `import`나 `using` statement로 scope를 가져오거나, `dot-notation`으로 Python에서나 Java에서 그러한 것과 같이 특정 Module 내부의 Scope를 참조할 수 있다."
   ]
  },
  {
   "cell_type": "code",
   "execution_count": 7,
   "id": "58970b0d-490f-4850-8181-35c1b60020b9",
   "metadata": {},
   "outputs": [],
   "source": [
    "module A # module A introduces its own global scope.\n",
    "    a = 1 # a, the global variable in A's scope\n",
    "end;\n",
    "\n",
    "module B\n",
    "    module C # Julia supports nested modules\n",
    "        c = 2 # c, the global variable in C's scope, but also in B's scope.\n",
    "    end\n",
    "    b = C.c # can access the namespace of a nested global scope\n",
    "            # through a qualified access\n",
    "    import ..A # this makes module A available\n",
    "    d = A.a\n",
    "end;"
   ]
  },
  {
   "cell_type": "code",
   "execution_count": 8,
   "id": "16eb1b7d-3327-4167-ab6a-a2bb4cf8d9e6",
   "metadata": {},
   "outputs": [
    {
     "ename": "LoadError",
     "evalue": "UndefVarError: `a` not defined",
     "output_type": "error",
     "traceback": [
      "UndefVarError: `a` not defined",
      "",
      "Stacktrace:",
      " [1] top-level scope",
      "   @ In[8]:2"
     ]
    }
   ],
   "source": [
    "module D\n",
    "    b = a # this will throw an error, since there's no variable named a, in D's global scope.\n",
    "end"
   ]
  },
  {
   "cell_type": "markdown",
   "id": "e0088883-080a-446a-be93-58fd3e65d6f8",
   "metadata": {},
   "source": [
    "#### `local` 키워드"
   ]
  },
  {
   "cell_type": "markdown",
   "id": "9bfbcca6-a42f-4288-b83a-b2b6c801c163",
   "metadata": {},
   "source": [
    "* Julia에서 `local` 키워드는 C에서의 `static` 키워드와 동일한 역할을 수행한다.\n",
    "* 즉, `local` 키워드로 선언된 variable은 그 block 내부에서만 known이고 쓸 수 있다. 그 block 바깥의 scope에서는 unknown이 된다."
   ]
  },
  {
   "cell_type": "code",
   "execution_count": 9,
   "id": "1e58c09c-359e-4f80-991f-bd7b9dbbf8ab",
   "metadata": {},
   "outputs": [
    {
     "name": "stdout",
     "output_type": "stream",
     "text": [
      "x = 0\n",
      "x = 1\n"
     ]
    }
   ],
   "source": [
    "x = 1\n",
    "begin\n",
    "    local x = 0 # overrides x (=1) defined in outer scope, makes this local variable x as local (static)\n",
    "    @show x # same as print('x = ', x)\n",
    "end\n",
    "@show x;\n",
    "    "
   ]
  },
  {
   "cell_type": "markdown",
   "id": "739e9384-f07f-4eb9-9333-817cd33cc47e",
   "metadata": {},
   "source": [
    "### Local Scope"
   ]
  },
  {
   "cell_type": "markdown",
   "id": "3b56af48-1ace-408e-a9f3-cfa11fbcaf25",
   "metadata": {},
   "source": [
    "* Julia에서는 거의 대부분의 code block이 시작될 때 새로운 Local Scope가 Introduce된다.\n",
    "* Local Scope가 다른 Scope 내부에서 만들어지면, 이 Local Scope는 당연히 그 위쪽의 모든 Scope들을 '물려받는다'. 즉, outer scope들은 known이다. (*Variables in outer scopes are visible from any scope they contain - meaning that they can be read and written in inner scopes - unless there's a local variable with the same name that \"shadows\" the outer variable of the same name.*)\n",
    "* Java, Python 등과 마찬가지로 Local Scope 내부에서는 그 outer scope에 해당하는 symbol을 다시 정의할 수 있다. 이는 outer scope의 symbol을 일시적으로 가리고, local scope 내부에서 정의된 symbol을 우선적으로 찾는 효과를 가져온다."
   ]
  },
  {
   "cell_type": "markdown",
   "id": "09e5bd6f-b7cd-47ae-b9b5-1f0078b6138d",
   "metadata": {},
   "source": [
    "#### Explicitly Declaring in Local Scope"
   ]
  },
  {
   "cell_type": "markdown",
   "id": "46806cd6-e1ea-4125-8193-2c384dfee1b6",
   "metadata": {},
   "source": [
    "* 몇몇 프로그램 언어(C 등)에서 변수를 사용하기 이전에 명시적으로 선언해주어야 하는 것처럼, Julia도 Local Scope에서 변수를 '선언'할 수 있다. Python은 이전에 변수가 할당되지 않으면 local로 선언해줄 수 없지만, Julia는 이전에 할당된 바 없는 변수도 Local Scope 내부에서 local 키워드로 local로 선언해줄 수 있다. (*Explicit declaration works in Julia too: in any local scope, writing `local x` declares a new local variable in that scope, regardless of whether there's already a variable named `x` in an outer scope or not.*)"
   ]
  },
  {
   "cell_type": "markdown",
   "id": "029c74b8-b785-4da2-bd87-9e5c2748edb8",
   "metadata": {},
   "source": [
    "#### Implicitly Declaring in Scope"
   ]
  },
  {
   "cell_type": "markdown",
   "id": "59fab1d9-78a6-4e4d-b5d8-3d9fca89578f",
   "metadata": {},
   "source": [
    "* 단, Julia도 Python처럼 '선언된 적 없는 변수에 대한 assignment`는 Implicit Declaration of that variable을 포함하고 있다고 간주한다. (*However, so Julia, like many other languages, considers assignment to a variable name that doesn't already exist to implicitly declare that variable.*)\n",
    "    * 이 Implicitly Declaring이 Global Scope에서 일어나면 이 선언된 변수는 Global Scope를 가지는 것으로 간주된다.\n",
    "    * 이 Implicitly Declaring이 Local Scope에서 일어나면 이 선언된 변수는 현재 위치한 가장 안쪽의(Most Inner) Local Scope에서 선언된 것으로 간주한다."
   ]
  },
  {
   "cell_type": "markdown",
   "id": "e95dea3e-6eda-415d-9004-02637b022464",
   "metadata": {},
   "source": [
    "* Python의 경우 `inner local scope`에서 assignment를 하면 그 변수가 `global` 키워드 등이 붙어서 non-local로 명시적으로 선언되지 않은 이상 항상 그 inner local scope 내부에서 새로운 local variable을 만들어 assign을 했지만, Julia의 경우는 보다 유연한 셈이다."
   ]
  },
  {
   "cell_type": "markdown",
   "id": "c485b54a-646f-4121-b152-e9b882a726ab",
   "metadata": {},
   "source": [
    "#### Hard Local Scope & Soft Local Scope"
   ]
  },
  {
   "cell_type": "markdown",
   "id": "7b1b29e3-56d1-4ed1-ae53-0a941a9cdce6",
   "metadata": {},
   "source": [
    "* `x = value`와 같은 statement를 만나면, Julia는 다음과 같은 순서로 이 expression을 평가한다."
   ]
  },
  {
   "cell_type": "markdown",
   "id": "bc96acaf-4ac2-409a-acbc-a9a21b50618f",
   "metadata": {},
   "source": [
    "1. **Existing local**: If `x` is *already a local variable*, then the existing local `x` is assigned.\n",
    "2. **Hard scope**: If `x` is *not already a local variable* and assignment occurs inside of any hard scope construct (*i.e. within a `let` block, function or macro body, comprehension or generator), a new local named `x` is created in the scope of the assignment.\n",
    "3. **Soft scope**: If `x` is *not already a local variable* and all of the scope constructs containing the assignment are soft scopes (loops, `try/catch` blocks, or `struct` blocks), the behaviour depends on whether the global variable `x` is defined or not:\n",
    "    * if global `x` is *undefined*, a new local named `x` is created in the scope of the assignment.\n",
    "    * if global `x` is *defined*, then the assignment is considered ambiguous.\n",
    "        * in *non-interactive* contexts (files, eval) an ambiguity warning is printed and new local is created.\n",
    "        * in *interactive* contexts (REPL, notebooks), the global variable `x` is assigned."
   ]
  },
  {
   "cell_type": "code",
   "execution_count": null,
   "id": "2bb14271-e965-4808-b2e5-d1bf7e7577db",
   "metadata": {},
   "outputs": [],
   "source": []
  }
 ],
 "metadata": {
  "kernelspec": {
   "display_name": "Julia 1.9.3",
   "language": "julia",
   "name": "julia-1.9"
  },
  "language_info": {
   "file_extension": ".jl",
   "mimetype": "application/julia",
   "name": "julia",
   "version": "1.9.3"
  }
 },
 "nbformat": 4,
 "nbformat_minor": 5
}
